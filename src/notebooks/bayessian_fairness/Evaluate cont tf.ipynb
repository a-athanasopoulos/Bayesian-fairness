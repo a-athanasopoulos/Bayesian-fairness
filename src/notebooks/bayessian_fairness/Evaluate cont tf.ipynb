{
 "cells": [
  {
   "cell_type": "code",
   "execution_count": 1,
   "metadata": {},
   "outputs": [],
   "source": [
    "import pandas as pd\n",
    "import numpy as np\n",
    "import matplotlib.pyplot as plt"
   ]
  },
  {
   "cell_type": "code",
   "execution_count": 2,
   "metadata": {},
   "outputs": [],
   "source": [
    "exp_name = \"exp_compass\"\n",
    "exp_number = \"exp_debug\"\n",
    "base_path = \"/Users/andreasathanasopoulos/Phd/projects/bayesian_fairness/\"\n",
    "data_path = base_path + \"/my_code/Bayesian-fairness/data\"\n",
    "save_path = base_path + f\"/my_code/Bayesian-fairness/results/continuous/{exp_name}/{exp_number}\""
   ]
  },
  {
   "cell_type": "markdown",
   "metadata": {},
   "source": [
    "# load data\n"
   ]
  },
  {
   "cell_type": "code",
   "execution_count": 3,
   "metadata": {},
   "outputs": [],
   "source": [
    "def encode_data(data,unique_values):\n",
    "    encoded_value = np.array([])\n",
    "    for i, d in data.iterrows():\n",
    "        # encode feature to an index represents the unique value.\n",
    "        index = np.argmax((d.values == unique_values).all(axis=1))\n",
    "        encoded_value = np.append(encoded_value, index)\n",
    "    return encoded_value.astype(int)"
   ]
  },
  {
   "cell_type": "code",
   "execution_count": 4,
   "metadata": {},
   "outputs": [],
   "source": [
    "# set atributes\n",
    "Z_atr = [\"sex\", \"race\"]\n",
    "X_atr = ['age_cat', 'juv_fel_count', 'juv_misd_count', 'juv_other_count', 'priors_count', 'c_charge_degree']\n",
    "Y_atr = 'two_year_recid'\n",
    "\n",
    "# clip_features = [\"juv_fel_count\", \"juv_misd_count\", \"juv_other_count\", \"priors_count\"]"
   ]
  },
  {
   "cell_type": "code",
   "execution_count": 5,
   "metadata": {},
   "outputs": [],
   "source": [
    "dataset = pd.read_csv(data_path + \"/compas.csv\")"
   ]
  },
  {
   "cell_type": "code",
   "execution_count": 6,
   "metadata": {},
   "outputs": [],
   "source": [
    "# get distinct values\n",
    "unique_z = np.unique(dataset[Z_atr].values, axis=0)\n",
    "n_z = len(unique_z)\n",
    "\n",
    "unique_y = np.unique(dataset[Y_atr].values, axis=0)\n",
    "n_y = len(unique_y)\n",
    "\n",
    "unique_x = np.unique(dataset[X_atr].values, axis=0)\n",
    "n_x = len(unique_x)"
   ]
  },
  {
   "cell_type": "code",
   "execution_count": 7,
   "metadata": {},
   "outputs": [
    {
     "name": "stdout",
     "output_type": "stream",
     "text": [
      "Unique Z values: 12\n",
      "Unique X values: 604\n",
      "Unique Y values: 2\n"
     ]
    }
   ],
   "source": [
    "print(\"Unique Z values:\", n_z)\n",
    "print(\"Unique X values:\", n_x)\n",
    "print(\"Unique Y values:\", n_y)"
   ]
  },
  {
   "cell_type": "code",
   "execution_count": 8,
   "metadata": {},
   "outputs": [],
   "source": [
    "# # encode z for convenience\n",
    "dataset[\"z\"] = encode_data(dataset[Z_atr], unique_values=unique_z)\n",
    "Z_atr = \"z\"\n",
    "# # # drop under represented index\n",
    "# n_z = n_z - 1\n",
    "# mask = np.logical_not(dataset[Z_atr] == 10)\n",
    "# dataset = dataset[mask]"
   ]
  },
  {
   "cell_type": "code",
   "execution_count": 9,
   "metadata": {},
   "outputs": [],
   "source": [
    "dataset = dataset.astype(\"float32\")"
   ]
  },
  {
   "cell_type": "code",
   "execution_count": 10,
   "metadata": {},
   "outputs": [],
   "source": [
    "# maks_11 = dataset[Z_atr] == 11\n",
    "# dataset.loc[maks_11,Z_atr] = 10 "
   ]
  },
  {
   "cell_type": "code",
   "execution_count": 11,
   "metadata": {},
   "outputs": [],
   "source": [
    "# dataset.reset_index(inplace=True)"
   ]
  },
  {
   "cell_type": "code",
   "execution_count": 12,
   "metadata": {},
   "outputs": [],
   "source": [
    "# unique_z = dataset[\"z\"].unique()\n",
    "# unique_z"
   ]
  },
  {
   "cell_type": "code",
   "execution_count": 13,
   "metadata": {},
   "outputs": [],
   "source": [
    "# from sklearn.model_selection import StratifiedShuffleSplit\n",
    "# train_size = 6000/dataset.shape[0]\n",
    "# spliter = StratifiedShuffleSplit(n_splits=1, test_size=1-train_size, random_state=0)"
   ]
  },
  {
   "cell_type": "code",
   "execution_count": 14,
   "metadata": {},
   "outputs": [],
   "source": [
    "# dataset = dataset.sample(frac=1,replace=False,ignore_index=True)"
   ]
  },
  {
   "cell_type": "code",
   "execution_count": 15,
   "metadata": {},
   "outputs": [],
   "source": [
    "train_data = dataset.iloc[0:6000]\n",
    "test_data = dataset.iloc[6000:]"
   ]
  },
  {
   "cell_type": "code",
   "execution_count": 16,
   "metadata": {},
   "outputs": [],
   "source": [
    "# tmp = train_data.copy()\n",
    "# train_data = test_data.copy()\n",
    "# test_data = tmp"
   ]
  },
  {
   "cell_type": "code",
   "execution_count": 17,
   "metadata": {},
   "outputs": [
    {
     "name": "stdout",
     "output_type": "stream",
     "text": [
      "training size: (6000, 10)\n",
      "testing size: (1214, 10)\n"
     ]
    }
   ],
   "source": [
    "print(\"training size:\", train_data.shape)\n",
    "print(\"testing size:\", test_data.shape)"
   ]
  },
  {
   "cell_type": "markdown",
   "metadata": {},
   "source": [
    "# model"
   ]
  },
  {
   "cell_type": "code",
   "execution_count": 18,
   "metadata": {},
   "outputs": [],
   "source": [
    "def calc_freq(data, n):\n",
    "    \"\"\" calculate frequency of 1D array\"\"\"\n",
    "    P = np.zeros(n)\n",
    "    for value in range(n):\n",
    "        mask =  data == value\n",
    "        P[value] = mask.mean()\n",
    "    return P\n",
    "\n",
    "def get_models(data):\n",
    "    # Py, Pz_y\n",
    "    N_y = np.zeros(n_y) + 0.001# 0.5\n",
    "    N_z_y = np.zeros((n_z,n_y)) + 0.001 #0.5\n",
    "    for i, datum in data.iterrows():\n",
    "        N_y[int(datum[Y_atr])] += 1\n",
    "        N_z_y[int(datum[Z_atr]),int(datum[Y_atr])] += 1\n",
    "    Py = N_y / np.sum(N_y)\n",
    "    Pz_y = N_z_y/ np.sum(N_z_y, axis=0)\n",
    "    \n",
    "    # Py_x\n",
    "    from sklearn.linear_model import LogisticRegression\n",
    "    model_y_x = LogisticRegression(max_iter=1000)\n",
    "    model_y_x.fit(X = data[X_atr], y = data[Y_atr])\n",
    "    \n",
    "    #Pz_yx\n",
    "\n",
    "    unique_z_values = data[Z_atr].unique()\n",
    "    missing_z = [z for z in range(n_z) if z not in unique_z_values]\n",
    "    if missing_z:\n",
    "        fake_df = data.sample(len(missing_z), replace=True)\n",
    "        fake_df[Z_atr] = missing_z\n",
    "        data = pd.concat([data, fake_df], ignore_index=True)\n",
    "        # print(missing_z)\n",
    "\n",
    "    input_features = [Y_atr] + X_atr\n",
    "    model_z_yx = LogisticRegression(max_iter=1000)\n",
    "    model_z_yx.fit(X = data[input_features], y = data[Z_atr])\n",
    "    \n",
    "    return Py, Pz_y, model_y_x, model_z_yx"
   ]
  },
  {
   "cell_type": "code",
   "execution_count": 19,
   "metadata": {},
   "outputs": [
    {
     "data": {
      "text/plain": [
       "array([ 1.,  0.,  2.,  3.,  8.,  7.,  9.,  5.,  6., 11.,  4.],\n",
       "      dtype=float32)"
      ]
     },
     "execution_count": 19,
     "metadata": {},
     "output_type": "execute_result"
    }
   ],
   "source": [
    "test_data[Z_atr].unique()"
   ]
  },
  {
   "cell_type": "code",
   "execution_count": 20,
   "metadata": {},
   "outputs": [],
   "source": [
    "test_model = get_models(test_data)"
   ]
  },
  {
   "cell_type": "markdown",
   "metadata": {},
   "source": [
    "# Train policy"
   ]
  },
  {
   "cell_type": "code",
   "execution_count": 21,
   "metadata": {},
   "outputs": [],
   "source": [
    "num_X = n_x # number of features\n",
    "num_Y = n_y # number of outcomes\n",
    "num_Z = n_z # number of sensitive features\n",
    "num_A = 2 # number of actions"
   ]
  },
  {
   "cell_type": "code",
   "execution_count": 22,
   "metadata": {},
   "outputs": [],
   "source": [
    "# parameters\n",
    "n_iter = 400 # number of itteration for SGD\n",
    "lr = 1.0 # learning rate\n",
    "l = 0.5 # lambda"
   ]
  },
  {
   "cell_type": "markdown",
   "metadata": {},
   "source": [
    "# Functions"
   ]
  },
  {
   "cell_type": "code",
   "execution_count": 23,
   "metadata": {},
   "outputs": [],
   "source": [
    "def get_eye_utility(size):\n",
    "    return np.eye(size)\n",
    "\n",
    "utility = get_eye_utility(size=2)"
   ]
  },
  {
   "attachments": {
    "Screenshot%202023-01-20%20at%203.01.34%20PM.png": {
     "image/png": "[encoded data removed]"
    }
   },
   "cell_type": "markdown",
   "metadata": {},
   "source": [
    "# Algorithm\n",
    "![Screenshot%202023-01-20%20at%203.01.34%20PM.png](attachment:Screenshot%202023-01-20%20at%203.01.34%20PM.png)"
   ]
  },
  {
   "cell_type": "code",
   "execution_count": 24,
   "metadata": {},
   "outputs": [],
   "source": [
    "def get_fairness_loss(Pa_x, Py, Pz_y, Py_x, Pz_yx):\n",
    "    # compute delta\n",
    "    term_1 = Pz_yx  - tf.expand_dims(Pz_y, axis=-1) # ok\n",
    "    term_2 = Py_x / tf.expand_dims(Py,axis=-1) # ok\n",
    "    delta = term_1 * tf.expand_dims(term_2, axis=0) # ok\n",
    "    \n",
    "    # compute c\n",
    "    exp_Pa_x = tf.expand_dims(tf.expand_dims(Pa_x, axis=0),axis=0)\n",
    "    exp_delta = tf.expand_dims(delta, axis=-1)\n",
    "    c = tf.linalg.matmul(exp_Pa_x,\n",
    "                         exp_delta)\n",
    "    \n",
    "    # compute fairness\n",
    "    fairness = tf.norm(c, ord=1) / Py_x.shape[1]\n",
    "    return fairness\n",
    "\n",
    "# def get_fairness_loss(Pa_x, Py, Pz_y, Py_x, Pz_yx):\n",
    "#     # compute delta\n",
    "#     term_1 = Pz_yx  - tf.expand_dims(Pz_y, axis=-1) # ok\n",
    "#     term_2 = Py_x / tf.expand_dims(Py,axis=-1) # ok\n",
    "#     delta = term_1 * tf.expand_dims(term_2, axis=0) # ok\n",
    "    \n",
    "#     # compute c\n",
    "#     exp_Pa_x = tf.expand_dims(tf.expand_dims(Pa_x, axis=0),axis=0)\n",
    "#     exp_delta = tf.expand_dims(delta, axis=-1)\n",
    "#     c = tf.linalg.matmul(exp_Pa_x,\n",
    "#                          exp_delta)\n",
    "    \n",
    "#     # compute fairness\n",
    "#     fairness = tf.norm(c, ord=1) / Py_x.shape[1]\n",
    "#     return fairness"
   ]
  },
  {
   "cell_type": "code",
   "execution_count": 25,
   "metadata": {},
   "outputs": [],
   "source": [
    "def get_utility_loss(y_true, y_pred):\n",
    "    utility = y_true * y_pred + (1 - y_true) * (1 - y_pred)\n",
    "    neg_utility = - utility\n",
    "    return tf.math.reduce_mean(neg_utility)"
   ]
  },
  {
   "cell_type": "code",
   "execution_count": 26,
   "metadata": {},
   "outputs": [],
   "source": [
    "def get_utility_metric(y_true, y_pred):\n",
    "    utility = y_true * y_pred + (1 - y_true) * (1 - y_pred)\n",
    "    return tf.math.reduce_mean(utility)"
   ]
  },
  {
   "cell_type": "code",
   "execution_count": 27,
   "metadata": {},
   "outputs": [],
   "source": [
    "import tensorflow as tf\n",
    "from tensorflow.python.keras.engine import data_adapter\n",
    "\n",
    "utility_tracker = tf.keras.metrics.Mean(name=\"utility\")\n",
    "fairness_tracker = tf.keras.metrics.Mean(name=\"fairness\")\n",
    "loss_tracker = tf.keras.metrics.Mean(name=\"loss\")\n",
    "\n",
    "eval_utility_tracker = tf.keras.metrics.Mean(name=\"eval_utility\")\n",
    "eval_fairness_tracker = tf.keras.metrics.Mean(name=\"eval_fairness\")\n",
    "eval_loss_tracker = tf.keras.metrics.Mean(name=\"eval_loss\")\n",
    "\n",
    "\n",
    "class LogisticRegresionTF(tf.keras.Model):\n",
    "    \"\"\"\n",
    "    logistic regresion model , tensorflow\n",
    "    \"\"\"\n",
    "    def __init__(self, input_dim, l):\n",
    "        super(LogisticRegresionTF, self).__init__()\n",
    "        self.l = l\n",
    "        \n",
    "        w_init = tf.random_normal_initializer()\n",
    "        self.w = tf.Variable(\n",
    "            initial_value=w_init(shape=(input_dim, 1), dtype=\"float32\"),\n",
    "            trainable=True,\n",
    "        )\n",
    "        \n",
    "        b_init = tf.zeros_initializer()\n",
    "        self.b = tf.Variable(\n",
    "            initial_value=b_init(shape=(), dtype=\"float32\"),\n",
    "            trainable=True\n",
    "        )\n",
    "\n",
    "    def call(self, inputs):\n",
    "        return tf.nn.sigmoid(tf.matmul(inputs,self.w) + self.b)"
   ]
  },
  {
   "cell_type": "code",
   "execution_count": 28,
   "metadata": {},
   "outputs": [],
   "source": [
    "def get_models_from_data(data):\n",
    "    # get Py, Pz_y and models for Py_x & Pz_yx\n",
    "    Py, Pz_y, model_y_x, model_z_yx = get_models(data)\n",
    "    \n",
    "    # get Py_x from data\n",
    "    Py_x = model_y_x.predict_proba(data[X_atr]).T\n",
    "    \n",
    "    # get Pz_yx from data\n",
    "    Pz_yx = np.zeros((n_z, n_y, data.shape[0]))\n",
    "    for y in range(n_y):\n",
    "        tmp_data = data[[Y_atr] + X_atr].copy()\n",
    "        tmp_data[Y_atr] = y\n",
    "        Pz_yx[:,y,:] = model_z_yx.predict_proba(tmp_data[[Y_atr] + X_atr]).T\n",
    "    return Py, Pz_y, Py_x, Pz_yx"
   ]
  },
  {
   "cell_type": "code",
   "execution_count": 29,
   "metadata": {},
   "outputs": [],
   "source": [
    "policy_model = LogisticRegresionTF(input_dim=len(X_atr), l = 0.0)\n",
    "optimizer = tf.keras.optimizers.SGD(learning_rate = 0.1)"
   ]
  },
  {
   "cell_type": "code",
   "execution_count": 30,
   "metadata": {},
   "outputs": [],
   "source": [
    "train_model = get_models_from_data(train_data)\n",
    "Py, Pz_y, Py_x, Pz_yx = train_model"
   ]
  },
  {
   "cell_type": "code",
   "execution_count": 31,
   "metadata": {},
   "outputs": [],
   "source": [
    "epochs = 400"
   ]
  },
  {
   "cell_type": "code",
   "execution_count": 32,
   "metadata": {},
   "outputs": [],
   "source": [
    "@tf.function\n",
    "def train_step(policy, data, lamba_parameter, optimizer):\n",
    "    x, y, Py, Pz_y, Py_x, Pz_yx = data\n",
    "    # Run forward pass.\n",
    "    with tf.GradientTape() as tape:\n",
    "        y_pred = policy(x, training=True)\n",
    "        utility = get_utility_loss(y_true = y, y_pred = y_pred)\n",
    "        Pa_x = tf.stack([1 - y_pred, y_pred])\n",
    "        Pa_x = tf.squeeze(Pa_x, axis=-1, name=None)\n",
    "        fairness = get_fairness_loss(Pa_x, Py, Pz_y, Py_x, Pz_yx)\n",
    "        loss = (1-lamba_parameter) * utility + lamba_parameter * fairness \n",
    "\n",
    "    # Run backwards pass.\n",
    "    optimizer.minimize(loss, policy.trainable_variables, tape=tape)\n",
    "    # update metrics\n",
    "    loss_tracker.update_state(loss)\n",
    "    utility_tracker.update_state(get_utility_metric(y_true = y, y_pred = y_pred))\n",
    "    fairness_tracker.update_state(fairness)\n",
    "\n",
    "    metrics = {}\n",
    "    metrics[\"fairness_loss\"] = fairness_tracker.result()\n",
    "    metrics[\"utility\"] = utility_tracker.result()\n",
    "    metrics[\"loss\"] = loss_tracker.result()\n",
    "    return metrics"
   ]
  },
  {
   "cell_type": "code",
   "execution_count": 33,
   "metadata": {},
   "outputs": [],
   "source": [
    "@tf.function\n",
    "def eval_step(policy, data, lamba_parameter):\n",
    "    x, y, Py, Pz_y, Py_x, Pz_yx = data\n",
    "    \n",
    "    y_pred = policy(x, training=False)\n",
    "    utility = get_utility_metric(y_true = y, y_pred = y_pred)\n",
    "    Pa_x = tf.stack([1 - y_pred, y_pred])\n",
    "    Pa_x = tf.squeeze(Pa_x, axis=-1, name=None)\n",
    "    fairness = get_fairness_loss(Pa_x, Py, Pz_y, Py_x, Pz_yx)\n",
    "    loss = (1-lamba_parameter) * utility - lamba_parameter * fairness \n",
    "\n",
    "    # update metrics\n",
    "    eval_loss_tracker.update_state(loss)\n",
    "    eval_utility_tracker.update_state(get_utility_metric(y_true = y, y_pred = y_pred))\n",
    "    eval_fairness_tracker.update_state(fairness)\n",
    "\n",
    "    metrics = {}\n",
    "    metrics[\"fairness_loss\"] = eval_fairness_tracker.result()\n",
    "    metrics[\"utility\"] = eval_utility_tracker.result()\n",
    "    metrics[\"loss\"] = eval_loss_tracker.result()\n",
    "    return metrics"
   ]
  },
  {
   "cell_type": "code",
   "execution_count": 34,
   "metadata": {},
   "outputs": [],
   "source": [
    "def reset_trackers(trackers):\n",
    "    for tracker in trackers:\n",
    "        tracker.reset_states()"
   ]
  },
  {
   "cell_type": "code",
   "execution_count": 35,
   "metadata": {},
   "outputs": [
    {
     "data": {
      "text/plain": [
       "[array([[ 3.5295816e-05],\n",
       "        [-7.6640509e-02],\n",
       "        [ 4.8645284e-02],\n",
       "        [ 5.4496806e-02],\n",
       "        [ 2.2514923e-02],\n",
       "        [-4.7113236e-02]], dtype=float32),\n",
       " 0.0]"
      ]
     },
     "execution_count": 35,
     "metadata": {},
     "output_type": "execute_result"
    }
   ],
   "source": [
    "policy_model.get_weights()"
   ]
  },
  {
   "cell_type": "code",
   "execution_count": 36,
   "metadata": {},
   "outputs": [
    {
     "name": "stderr",
     "output_type": "stream",
     "text": [
      "2023-01-30 15:10:49.632338: W tensorflow/tsl/platform/profile_utils/cpu_utils.cc:128] Failed to get CPU frequency: 0 Hz\n"
     ]
    },
    {
     "name": "stdout",
     "output_type": "stream",
     "text": [
      "--- Step : 1 \n",
      "  ------- {'fairness_loss': 0.021751035, 'utility': 0.5060897, 'loss': -0.4533056}\n",
      "--- Step : 2 \n",
      "  ------- {'fairness_loss': 0.032652505, 'utility': 0.5092502, 'loss': -0.45505992}\n",
      "--- Step : 3 \n",
      "  ------- {'fairness_loss': 0.04260525, 'utility': 0.51216096, 'loss': -0.45668435}\n",
      "--- Step : 4 \n",
      "  ------- {'fairness_loss': 0.05142435, 'utility': 0.5147819, 'loss': -0.45816126}\n",
      "--- Step : 5 \n",
      "  ------- {'fairness_loss': 0.059300516, 'utility': 0.5171221, 'loss': -0.4594798}\n",
      "--- Step : 6 \n",
      "  ------- {'fairness_loss': 0.06613177, 'utility': 0.51919675, 'loss': -0.46066388}\n",
      "--- Step : 7 \n",
      "  ------- {'fairness_loss': 0.072141215, 'utility': 0.5210663, 'loss': -0.46174553}\n",
      "--- Step : 8 \n",
      "  ------- {'fairness_loss': 0.07745129, 'utility': 0.52275985, 'loss': -0.46273875}\n",
      "--- Step : 9 \n",
      "  ------- {'fairness_loss': 0.08217192, 'utility': 0.5243032, 'loss': -0.46365568}\n",
      "--- Step : 10 \n",
      "  ------- {'fairness_loss': 0.0863973, 'utility': 0.5257196, 'loss': -0.46450788}\n",
      "--- Step : 11 \n",
      "  ------- {'fairness_loss': 0.09020626, 'utility': 0.52702826, 'loss': -0.4653048}\n",
      "--- Step : 12 \n",
      "  ------- {'fairness_loss': 0.09366419, 'utility': 0.5282455, 'loss': -0.46605453}\n",
      "--- Step : 13 \n",
      "  ------- {'fairness_loss': 0.09682489, 'utility': 0.5293846, 'loss': -0.46676368}\n",
      "--- Step : 14 \n",
      "  ------- {'fairness_loss': 0.09973262, 'utility': 0.530457, 'loss': -0.46743804}\n",
      "--- Step : 15 \n",
      "  ------- {'fairness_loss': 0.10242389, 'utility': 0.5314719, 'loss': -0.4680823}\n",
      "--- Step : 16 \n",
      "  ------- {'fairness_loss': 0.10492875, 'utility': 0.532437, 'loss': -0.46870044}\n",
      "--- Step : 17 \n",
      "  ------- {'fairness_loss': 0.10727263, 'utility': 0.533359, 'loss': -0.46929583}\n",
      "--- Step : 18 \n",
      "  ------- {'fairness_loss': 0.1094763, 'utility': 0.5342428, 'loss': -0.46987087}\n",
      "--- Step : 19 \n",
      "  ------- {'fairness_loss': 0.1115572, 'utility': 0.5350937, 'loss': -0.47042862}\n",
      "--- Step : 20 \n",
      "  ------- {'fairness_loss': 0.11353066, 'utility': 0.53591526, 'loss': -0.47097063}\n",
      "--- Step : 21 \n",
      "  ------- {'fairness_loss': 0.11540867, 'utility': 0.5367106, 'loss': -0.4714987}\n",
      "--- Step : 22 \n",
      "  ------- {'fairness_loss': 0.117202654, 'utility': 0.537483, 'loss': -0.4720144}\n",
      "--- Step : 23 \n",
      "  ------- {'fairness_loss': 0.11892138, 'utility': 0.5382344, 'loss': -0.47251883}\n",
      "--- Step : 24 \n",
      "  ------- {'fairness_loss': 0.120573, 'utility': 0.5389673, 'loss': -0.47301325}\n",
      "--- Step : 25 \n",
      "  ------- {'fairness_loss': 0.122164205, 'utility': 0.5396833, 'loss': -0.47349852}\n",
      "--- Step : 26 \n",
      "  ------- {'fairness_loss': 0.123700984, 'utility': 0.5403841, 'loss': -0.47397557}\n",
      "--- Step : 27 \n",
      "  ------- {'fairness_loss': 0.12518844, 'utility': 0.54107106, 'loss': -0.47444507}\n",
      "--- Step : 28 \n",
      "  ------- {'fairness_loss': 0.12663132, 'utility': 0.5417454, 'loss': -0.47490776}\n",
      "--- Step : 29 \n",
      "  ------- {'fairness_loss': 0.12803343, 'utility': 0.5424081, 'loss': -0.47536394}\n",
      "--- Step : 30 \n",
      "  ------- {'fairness_loss': 0.12939839, 'utility': 0.54306, 'loss': -0.47581416}\n",
      "--- Step : 31 \n",
      "  ------- {'fairness_loss': 0.13072924, 'utility': 0.5437023, 'loss': -0.4762591}\n",
      "--- Step : 32 \n",
      "  ------- {'fairness_loss': 0.13202874, 'utility': 0.5443354, 'loss': -0.476699}\n",
      "--- Step : 33 \n",
      "  ------- {'fairness_loss': 0.13329904, 'utility': 0.5449599, 'loss': -0.47713402}\n",
      "--- Step : 34 \n",
      "  ------- {'fairness_loss': 0.13454266, 'utility': 0.54557663, 'loss': -0.4775647}\n",
      "--- Step : 35 \n",
      "  ------- {'fairness_loss': 0.13576174, 'utility': 0.5461859, 'loss': -0.47799113}\n",
      "--- Step : 36 \n",
      "  ------- {'fairness_loss': 0.13695736, 'utility': 0.54678833, 'loss': -0.47841373}\n",
      "--- Step : 37 \n",
      "  ------- {'fairness_loss': 0.13813153, 'utility': 0.54738414, 'loss': -0.47883254}\n",
      "--- Step : 38 \n",
      "  ------- {'fairness_loss': 0.13928567, 'utility': 0.5479739, 'loss': -0.4792479}\n",
      "--- Step : 39 \n",
      "  ------- {'fairness_loss': 0.14042073, 'utility': 0.5485579, 'loss': -0.47966}\n",
      "--- Step : 40 \n",
      "  ------- {'fairness_loss': 0.14153796, 'utility': 0.54913616, 'loss': -0.4800687}\n",
      "--- Step : 41 \n",
      "  ------- {'fairness_loss': 0.14263876, 'utility': 0.5497092, 'loss': -0.4804744}\n",
      "--- Step : 42 \n",
      "  ------- {'fairness_loss': 0.14372367, 'utility': 0.55027723, 'loss': -0.48087713}\n",
      "--- Step : 43 \n",
      "  ------- {'fairness_loss': 0.14479364, 'utility': 0.55084056, 'loss': -0.4812771}\n",
      "--- Step : 44 \n",
      "  ------- {'fairness_loss': 0.14584945, 'utility': 0.5513991, 'loss': -0.48167422}\n",
      "--- Step : 45 \n",
      "  ------- {'fairness_loss': 0.14689179, 'utility': 0.5519533, 'loss': -0.4820688}\n",
      "--- Step : 46 \n",
      "  ------- {'fairness_loss': 0.1479428, 'utility': 0.5525031, 'loss': -0.4824585}\n",
      "--- Step : 47 \n",
      "  ------- {'fairness_loss': 0.14897932, 'utility': 0.5530458, 'loss': -0.48284328}\n",
      "--- Step : 48 \n",
      "  ------- {'fairness_loss': 0.1500041, 'utility': 0.5535845, 'loss': -0.48322564}\n",
      "--- Step : 49 \n",
      "  ------- {'fairness_loss': 0.15101734, 'utility': 0.55411905, 'loss': -0.4836054}\n",
      "--- Step : 50 \n",
      "  ------- {'fairness_loss': 0.15201947, 'utility': 0.55465, 'loss': -0.48398304}\n",
      "--- Step : 51 \n",
      "  ------- {'fairness_loss': 0.15301126, 'utility': 0.55517715, 'loss': -0.48435828}\n",
      "--- Step : 52 \n",
      "  ------- {'fairness_loss': 0.1539928, 'utility': 0.5557007, 'loss': -0.48473138}\n",
      "--- Step : 53 \n",
      "  ------- {'fairness_loss': 0.15496452, 'utility': 0.55622053, 'loss': -0.48510203}\n",
      "--- Step : 54 \n",
      "  ------- {'fairness_loss': 0.15592676, 'utility': 0.5567369, 'loss': -0.4854705}\n",
      "--- Step : 55 \n",
      "  ------- {'fairness_loss': 0.1568799, 'utility': 0.5572499, 'loss': -0.48583692}\n",
      "--- Step : 56 \n",
      "  ------- {'fairness_loss': 0.15782411, 'utility': 0.5577595, 'loss': -0.48620117}\n",
      "--- Step : 57 \n",
      "  ------- {'fairness_loss': 0.15876797, 'utility': 0.5582659, 'loss': -0.48656252}\n",
      "--- Step : 58 \n",
      "  ------- {'fairness_loss': 0.15971278, 'utility': 0.558766, 'loss': -0.48691812}\n",
      "--- Step : 59 \n",
      "  ------- {'fairness_loss': 0.1606489, 'utility': 0.55926293, 'loss': -0.48727173}\n",
      "--- Step : 60 \n",
      "  ------- {'fairness_loss': 0.16157717, 'utility': 0.5597567, 'loss': -0.4876233}\n",
      "--- Step : 61 \n",
      "  ------- {'fairness_loss': 0.16249724, 'utility': 0.56024724, 'loss': -0.4879728}\n",
      "--- Step : 62 \n",
      "  ------- {'fairness_loss': 0.16340964, 'utility': 0.56073475, 'loss': -0.4883203}\n",
      "--- Step : 63 \n",
      "  ------- {'fairness_loss': 0.16431472, 'utility': 0.56121916, 'loss': -0.48866573}\n",
      "--- Step : 64 \n",
      "  ------- {'fairness_loss': 0.16521186, 'utility': 0.56170046, 'loss': -0.48900923}\n",
      "--- Step : 65 \n",
      "  ------- {'fairness_loss': 0.16610196, 'utility': 0.562179, 'loss': -0.48935091}\n",
      "--- Step : 66 \n",
      "  ------- {'fairness_loss': 0.16698475, 'utility': 0.56265426, 'loss': -0.48969036}\n",
      "--- Step : 67 \n",
      "  ------- {'fairness_loss': 0.16786067, 'utility': 0.5631268, 'loss': -0.49002805}\n",
      "--- Step : 68 \n",
      "  ------- {'fairness_loss': 0.16872953, 'utility': 0.5635963, 'loss': -0.49036372}\n",
      "--- Step : 69 \n",
      "  ------- {'fairness_loss': 0.16959147, 'utility': 0.564063, 'loss': -0.49069753}\n",
      "--- Step : 70 \n",
      "  ------- {'fairness_loss': 0.17044689, 'utility': 0.5645267, 'loss': -0.4910293}\n",
      "--- Step : 71 \n",
      "  ------- {'fairness_loss': 0.1712955, 'utility': 0.5649875, 'loss': -0.49135917}\n",
      "--- Step : 72 \n",
      "  ------- {'fairness_loss': 0.17213771, 'utility': 0.56544566, 'loss': -0.4916873}\n",
      "--- Step : 73 \n",
      "  ------- {'fairness_loss': 0.17297335, 'utility': 0.5659007, 'loss': -0.49201328}\n",
      "--- Step : 74 \n",
      "  ------- {'fairness_loss': 0.17380261, 'utility': 0.5663531, 'loss': -0.4923375}\n",
      "--- Step : 75 \n",
      "  ------- {'fairness_loss': 0.17462577, 'utility': 0.56680256, 'loss': -0.49265972}\n",
      "--- Step : 76 \n",
      "  ------- {'fairness_loss': 0.17544246, 'utility': 0.56724924, 'loss': -0.49298003}\n",
      "--- Step : 77 \n",
      "  ------- {'fairness_loss': 0.17625313, 'utility': 0.56769335, 'loss': -0.49329868}\n",
      "--- Step : 78 \n",
      "  ------- {'fairness_loss': 0.1770578, 'utility': 0.5681346, 'loss': -0.49361536}\n",
      "--- Step : 79 \n",
      "  ------- {'fairness_loss': 0.17785628, 'utility': 0.56857294, 'loss': -0.49393}\n",
      "--- Step : 80 \n",
      "  ------- {'fairness_loss': 0.1786488, 'utility': 0.56900865, 'loss': -0.4942429}\n",
      "--- Step : 81 \n",
      "  ------- {'fairness_loss': 0.17943525, 'utility': 0.5694415, 'loss': -0.49455377}\n",
      "--- Step : 82 \n",
      "  ------- {'fairness_loss': 0.18021615, 'utility': 0.56987166, 'loss': -0.49486288}\n",
      "--- Step : 83 \n",
      "  ------- {'fairness_loss': 0.18099105, 'utility': 0.5702992, 'loss': -0.49517015}\n",
      "--- Step : 84 \n",
      "  ------- {'fairness_loss': 0.18176018, 'utility': 0.57072395, 'loss': -0.49547553}\n",
      "--- Step : 85 \n",
      "  ------- {'fairness_loss': 0.1825236, 'utility': 0.57114595, 'loss': -0.49577898}\n",
      "--- Step : 86 \n",
      "  ------- {'fairness_loss': 0.18328153, 'utility': 0.5715653, 'loss': -0.49608055}\n",
      "--- Step : 87 \n",
      "  ------- {'fairness_loss': 0.18403357, 'utility': 0.57198185, 'loss': -0.49638027}\n",
      "--- Step : 88 \n",
      "  ------- {'fairness_loss': 0.1847802, 'utility': 0.572396, 'loss': -0.49667838}\n",
      "--- Step : 89 \n",
      "  ------- {'fairness_loss': 0.18552108, 'utility': 0.5728072, 'loss': -0.49697438}\n",
      "--- Step : 90 \n",
      "  ------- {'fairness_loss': 0.18625665, 'utility': 0.5732158, 'loss': -0.4972685}\n",
      "--- Step : 91 \n",
      "  ------- {'fairness_loss': 0.18698673, 'utility': 0.57362175, 'loss': -0.4975609}\n",
      "--- Step : 92 \n",
      "  ------- {'fairness_loss': 0.18771125, 'utility': 0.5740251, 'loss': -0.49785143}\n",
      "--- Step : 93 \n",
      "  ------- {'fairness_loss': 0.18843058, 'utility': 0.5744257, 'loss': -0.49814004}\n",
      "--- Step : 94 \n",
      "  ------- {'fairness_loss': 0.18914449, 'utility': 0.5748238, 'loss': -0.4984269}\n",
      "--- Step : 95 \n",
      "  ------- {'fairness_loss': 0.18985309, 'utility': 0.5752192, 'loss': -0.49871197}\n",
      "--- Step : 96 \n",
      "  ------- {'fairness_loss': 0.19055638, 'utility': 0.57561225, 'loss': -0.4989954}\n",
      "--- Step : 97 \n",
      "  ------- {'fairness_loss': 0.19125457, 'utility': 0.5760023, 'loss': -0.49927658}\n",
      "--- Step : 98 \n",
      "  ------- {'fairness_loss': 0.19194731, 'utility': 0.5763899, 'loss': -0.49955618}\n",
      "--- Step : 99 \n",
      "  ------- {'fairness_loss': 0.19263507, 'utility': 0.5767751, 'loss': -0.49983406}\n",
      "--- Step : 100 \n",
      "  ------- {'fairness_loss': 0.19331767, 'utility': 0.5771575, 'loss': -0.50011}\n",
      "--- Step : 101 \n",
      "  ------- {'fairness_loss': 0.19399536, 'utility': 0.57753754, 'loss': -0.5003843}\n",
      "--- Step : 102 \n",
      "  ------- {'fairness_loss': 0.19466731, 'utility': 0.5779147, 'loss': -0.5006565}\n",
      "--- Step : 103 \n",
      "  ------- {'fairness_loss': 0.19533479, 'utility': 0.57828957, 'loss': -0.50092715}\n",
      "--- Step : 104 \n",
      "  ------- {'fairness_loss': 0.19599727, 'utility': 0.5786618, 'loss': -0.50119585}\n",
      "--- Step : 105 \n",
      "  ------- {'fairness_loss': 0.19665465, 'utility': 0.57903147, 'loss': -0.5014628}\n",
      "--- Step : 106 \n",
      "  ------- {'fairness_loss': 0.19730718, 'utility': 0.5793988, 'loss': -0.5017282}\n",
      "--- Step : 107 \n",
      "  ------- {'fairness_loss': 0.19795473, 'utility': 0.57976353, 'loss': -0.5019917}\n",
      "--- Step : 108 \n",
      "  ------- {'fairness_loss': 0.19859728, 'utility': 0.58012575, 'loss': -0.5022534}\n",
      "--- Step : 109 \n",
      "  ------- {'fairness_loss': 0.19923535, 'utility': 0.5804856, 'loss': -0.5025135}\n",
      "--- Step : 110 \n",
      "  ------- {'fairness_loss': 0.19986841, 'utility': 0.58084285, 'loss': -0.5027717}\n",
      "--- Step : 111 \n",
      "  ------- {'fairness_loss': 0.20049675, 'utility': 0.5811976, 'loss': -0.50302815}\n",
      "--- Step : 112 \n",
      "  ------- {'fairness_loss': 0.20112036, 'utility': 0.58155006, 'loss': -0.503283}\n",
      "--- Step : 113 \n",
      "  ------- {'fairness_loss': 0.2017393, 'utility': 0.5819, 'loss': -0.5035361}\n",
      "--- Step : 114 \n",
      "  ------- {'fairness_loss': 0.20235334, 'utility': 0.5822476, 'loss': -0.50378746}\n",
      "--- Step : 115 \n",
      "  ------- {'fairness_loss': 0.20296301, 'utility': 0.5825928, 'loss': -0.5040372}\n"
     ]
    },
    {
     "name": "stdout",
     "output_type": "stream",
     "text": [
      "--- Step : 116 \n",
      "  ------- {'fairness_loss': 0.2035678, 'utility': 0.58293563, 'loss': -0.5042853}\n",
      "--- Step : 117 \n",
      "  ------- {'fairness_loss': 0.20416845, 'utility': 0.583276, 'loss': -0.5045315}\n",
      "--- Step : 118 \n",
      "  ------- {'fairness_loss': 0.20476417, 'utility': 0.58361393, 'loss': -0.5047761}\n",
      "--- Step : 119 \n",
      "  ------- {'fairness_loss': 0.20535564, 'utility': 0.5839497, 'loss': -0.5050191}\n",
      "--- Step : 120 \n",
      "  ------- {'fairness_loss': 0.20594236, 'utility': 0.5842829, 'loss': -0.50526035}\n",
      "--- Step : 121 \n",
      "  ------- {'fairness_loss': 0.20652494, 'utility': 0.58461386, 'loss': -0.50549996}\n",
      "--- Step : 122 \n",
      "  ------- {'fairness_loss': 0.20710282, 'utility': 0.5849424, 'loss': -0.50573784}\n",
      "--- Step : 123 \n",
      "  ------- {'fairness_loss': 0.20767651, 'utility': 0.58526886, 'loss': -0.50597435}\n",
      "--- Step : 124 \n",
      "  ------- {'fairness_loss': 0.20824596, 'utility': 0.5855931, 'loss': -0.5062092}\n",
      "--- Step : 125 \n",
      "  ------- {'fairness_loss': 0.20881084, 'utility': 0.58591485, 'loss': -0.5064423}\n",
      "--- Step : 126 \n",
      "  ------- {'fairness_loss': 0.20937137, 'utility': 0.58623445, 'loss': -0.5066739}\n",
      "--- Step : 127 \n",
      "  ------- {'fairness_loss': 0.20992792, 'utility': 0.58655167, 'loss': -0.50690365}\n",
      "--- Step : 128 \n",
      "  ------- {'fairness_loss': 0.21048017, 'utility': 0.58686674, 'loss': -0.50713205}\n",
      "--- Step : 129 \n",
      "  ------- {'fairness_loss': 0.21102832, 'utility': 0.58717954, 'loss': -0.50735873}\n",
      "--- Step : 130 \n",
      "  ------- {'fairness_loss': 0.21157216, 'utility': 0.5874901, 'loss': -0.50758386}\n",
      "--- Step : 131 \n",
      "  ------- {'fairness_loss': 0.21211177, 'utility': 0.5877986, 'loss': -0.5078075}\n",
      "--- Step : 132 \n",
      "  ------- {'fairness_loss': 0.2126477, 'utility': 0.5881049, 'loss': -0.5080296}\n",
      "--- Step : 133 \n",
      "  ------- {'fairness_loss': 0.21317916, 'utility': 0.58840895, 'loss': -0.5082501}\n",
      "--- Step : 134 \n",
      "  ------- {'fairness_loss': 0.21370687, 'utility': 0.58871084, 'loss': -0.50846905}\n",
      "--- Step : 135 \n",
      "  ------- {'fairness_loss': 0.2142303, 'utility': 0.5890107, 'loss': -0.5086866}\n",
      "--- Step : 136 \n",
      "  ------- {'fairness_loss': 0.2147497, 'utility': 0.5893083, 'loss': -0.5089025}\n",
      "--- Step : 137 \n",
      "  ------- {'fairness_loss': 0.2152654, 'utility': 0.58960384, 'loss': -0.50911695}\n",
      "--- Step : 138 \n",
      "  ------- {'fairness_loss': 0.21577731, 'utility': 0.5898975, 'loss': -0.50933003}\n",
      "--- Step : 139 \n",
      "  ------- {'fairness_loss': 0.21628521, 'utility': 0.59018904, 'loss': -0.50954163}\n",
      "--- Step : 140 \n",
      "  ------- {'fairness_loss': 0.21678914, 'utility': 0.5904783, 'loss': -0.50975156}\n",
      "--- Step : 141 \n",
      "  ------- {'fairness_loss': 0.21728927, 'utility': 0.5907656, 'loss': -0.5099601}\n",
      "--- Step : 142 \n",
      "  ------- {'fairness_loss': 0.21778575, 'utility': 0.5910509, 'loss': -0.51016724}\n",
      "--- Step : 143 \n",
      "  ------- {'fairness_loss': 0.21827862, 'utility': 0.59133416, 'loss': -0.5103729}\n",
      "--- Step : 144 \n",
      "  ------- {'fairness_loss': 0.21876742, 'utility': 0.5916153, 'loss': -0.510577}\n",
      "--- Step : 145 \n",
      "  ------- {'fairness_loss': 0.21925272, 'utility': 0.5918947, 'loss': -0.5107799}\n",
      "--- Step : 146 \n",
      "  ------- {'fairness_loss': 0.21973446, 'utility': 0.59217185, 'loss': -0.5109812}\n",
      "--- Step : 147 \n",
      "  ------- {'fairness_loss': 0.22021203, 'utility': 0.5924473, 'loss': -0.51118135}\n",
      "--- Step : 148 \n",
      "  ------- {'fairness_loss': 0.22068669, 'utility': 0.5927206, 'loss': -0.5113799}\n",
      "--- Step : 149 \n",
      "  ------- {'fairness_loss': 0.22115771, 'utility': 0.5929921, 'loss': -0.5115771}\n",
      "--- Step : 150 \n",
      "  ------- {'fairness_loss': 0.22162463, 'utility': 0.5932616, 'loss': -0.511773}\n",
      "--- Step : 151 \n",
      "  ------- {'fairness_loss': 0.22208829, 'utility': 0.5935293, 'loss': -0.51196754}\n",
      "--- Step : 152 \n",
      "  ------- {'fairness_loss': 0.22254866, 'utility': 0.593795, 'loss': -0.5121606}\n",
      "--- Step : 153 \n",
      "  ------- {'fairness_loss': 0.22300565, 'utility': 0.59405893, 'loss': -0.51235247}\n",
      "--- Step : 154 \n",
      "  ------- {'fairness_loss': 0.2234589, 'utility': 0.5943211, 'loss': -0.512543}\n",
      "--- Step : 155 \n",
      "  ------- {'fairness_loss': 0.22390887, 'utility': 0.59458107, 'loss': -0.512732}\n",
      "--- Step : 156 \n",
      "  ------- {'fairness_loss': 0.22435571, 'utility': 0.59483945, 'loss': -0.51291996}\n",
      "--- Step : 157 \n",
      "  ------- {'fairness_loss': 0.22479887, 'utility': 0.5950959, 'loss': -0.5131064}\n",
      "--- Step : 158 \n",
      "  ------- {'fairness_loss': 0.22523896, 'utility': 0.5953506, 'loss': -0.51329166}\n",
      "--- Step : 159 \n",
      "  ------- {'fairness_loss': 0.22567539, 'utility': 0.59560347, 'loss': -0.5134756}\n",
      "--- Step : 160 \n",
      "  ------- {'fairness_loss': 0.22610909, 'utility': 0.5958548, 'loss': -0.5136584}\n",
      "--- Step : 161 \n",
      "  ------- {'fairness_loss': 0.22653955, 'utility': 0.5961041, 'loss': -0.5138397}\n",
      "--- Step : 162 \n",
      "  ------- {'fairness_loss': 0.22696643, 'utility': 0.5963517, 'loss': -0.5140199}\n",
      "--- Step : 163 \n",
      "  ------- {'fairness_loss': 0.2273902, 'utility': 0.5965977, 'loss': -0.5141989}\n",
      "--- Step : 164 \n",
      "  ------- {'fairness_loss': 0.22781079, 'utility': 0.5968419, 'loss': -0.5143766}\n",
      "--- Step : 165 \n",
      "  ------- {'fairness_loss': 0.2282286, 'utility': 0.5970843, 'loss': -0.514553}\n",
      "--- Step : 166 \n",
      "  ------- {'fairness_loss': 0.22864333, 'utility': 0.5973251, 'loss': -0.51472825}\n",
      "--- Step : 167 \n",
      "  ------- {'fairness_loss': 0.22905469, 'utility': 0.59756446, 'loss': -0.51490253}\n",
      "--- Step : 168 \n",
      "  ------- {'fairness_loss': 0.22946309, 'utility': 0.59780186, 'loss': -0.5150754}\n",
      "--- Step : 169 \n",
      "  ------- {'fairness_loss': 0.22986844, 'utility': 0.5980376, 'loss': -0.515247}\n",
      "--- Step : 170 \n",
      "  ------- {'fairness_loss': 0.23027101, 'utility': 0.5982718, 'loss': -0.51541746}\n",
      "--- Step : 171 \n",
      "  ------- {'fairness_loss': 0.23067047, 'utility': 0.5985044, 'loss': -0.5155869}\n",
      "--- Step : 172 \n",
      "  ------- {'fairness_loss': 0.23106706, 'utility': 0.59873533, 'loss': -0.5157551}\n",
      "--- Step : 173 \n",
      "  ------- {'fairness_loss': 0.23146093, 'utility': 0.59896475, 'loss': -0.5159222}\n",
      "--- Step : 174 \n",
      "  ------- {'fairness_loss': 0.23185167, 'utility': 0.59919244, 'loss': -0.516088}\n",
      "--- Step : 175 \n",
      "  ------- {'fairness_loss': 0.23223935, 'utility': 0.5994187, 'loss': -0.5162529}\n",
      "--- Step : 176 \n",
      "  ------- {'fairness_loss': 0.23262452, 'utility': 0.5996434, 'loss': -0.5164166}\n",
      "--- Step : 177 \n",
      "  ------- {'fairness_loss': 0.23300694, 'utility': 0.5998665, 'loss': -0.51657915}\n",
      "--- Step : 178 \n",
      "  ------- {'fairness_loss': 0.23338643, 'utility': 0.60008824, 'loss': -0.5167408}\n",
      "--- Step : 179 \n",
      "  ------- {'fairness_loss': 0.23376326, 'utility': 0.6003081, 'loss': -0.51690096}\n",
      "--- Step : 180 \n",
      "  ------- {'fairness_loss': 0.2341375, 'utility': 0.60052675, 'loss': -0.5170603}\n",
      "--- Step : 181 \n",
      "  ------- {'fairness_loss': 0.23450871, 'utility': 0.6007439, 'loss': -0.51721865}\n",
      "--- Step : 182 \n",
      "  ------- {'fairness_loss': 0.23487748, 'utility': 0.60095936, 'loss': -0.51737565}\n",
      "--- Step : 183 \n",
      "  ------- {'fairness_loss': 0.23524354, 'utility': 0.6011736, 'loss': -0.5175319}\n",
      "--- Step : 184 \n",
      "  ------- {'fairness_loss': 0.23560669, 'utility': 0.60138613, 'loss': -0.51768684}\n",
      "--- Step : 185 \n",
      "  ------- {'fairness_loss': 0.23596779, 'utility': 0.6015974, 'loss': -0.5178409}\n",
      "--- Step : 186 \n",
      "  ------- {'fairness_loss': 0.23632596, 'utility': 0.6018073, 'loss': -0.517994}\n",
      "--- Step : 187 \n",
      "  ------- {'fairness_loss': 0.23668154, 'utility': 0.60201555, 'loss': -0.5181458}\n",
      "--- Step : 188 \n",
      "  ------- {'fairness_loss': 0.23703459, 'utility': 0.6022227, 'loss': -0.51829696}\n",
      "--- Step : 189 \n",
      "  ------- {'fairness_loss': 0.23738539, 'utility': 0.6024281, 'loss': -0.5184467}\n",
      "--- Step : 190 \n",
      "  ------- {'fairness_loss': 0.23773356, 'utility': 0.60263234, 'loss': -0.5185957}\n",
      "--- Step : 191 \n",
      "  ------- {'fairness_loss': 0.2380791, 'utility': 0.6028353, 'loss': -0.5187439}\n",
      "--- Step : 192 \n",
      "  ------- {'fairness_loss': 0.23842254, 'utility': 0.6030365, 'loss': -0.51889056}\n",
      "--- Step : 193 \n",
      "  ------- {'fairness_loss': 0.23876306, 'utility': 0.6032369, 'loss': -0.5190369}\n",
      "--- Step : 194 \n",
      "  ------- {'fairness_loss': 0.23910154, 'utility': 0.6034356, 'loss': -0.51918185}\n",
      "--- Step : 195 \n",
      "  ------- {'fairness_loss': 0.23943746, 'utility': 0.60363305, 'loss': -0.51932603}\n",
      "--- Step : 196 \n",
      "  ------- {'fairness_loss': 0.2397712, 'utility': 0.6038292, 'loss': -0.51946914}\n",
      "--- Step : 197 \n",
      "  ------- {'fairness_loss': 0.24010217, 'utility': 0.6040241, 'loss': -0.5196114}\n",
      "--- Step : 198 \n",
      "  ------- {'fairness_loss': 0.24043134, 'utility': 0.6042176, 'loss': -0.5197527}\n",
      "--- Step : 199 \n",
      "  ------- {'fairness_loss': 0.24075809, 'utility': 0.60440993, 'loss': -0.5198931}\n",
      "--- Step : 200 \n",
      "  ------- {'fairness_loss': 0.24108247, 'utility': 0.60460097, 'loss': -0.52003264}\n",
      "--- Step : 201 \n",
      "  ------- {'fairness_loss': 0.24140479, 'utility': 0.60479075, 'loss': -0.52017117}\n",
      "--- Step : 202 \n",
      "  ------- {'fairness_loss': 0.24172457, 'utility': 0.60497916, 'loss': -0.52030873}\n",
      "--- Step : 203 \n",
      "  ------- {'fairness_loss': 0.24204236, 'utility': 0.60516644, 'loss': -0.5204455}\n",
      "--- Step : 204 \n",
      "  ------- {'fairness_loss': 0.2423582, 'utility': 0.60535246, 'loss': -0.52058136}\n",
      "--- Step : 205 \n",
      "  ------- {'fairness_loss': 0.24267124, 'utility': 0.6055373, 'loss': -0.5207164}\n",
      "--- Step : 206 \n",
      "  ------- {'fairness_loss': 0.24298234, 'utility': 0.6057209, 'loss': -0.52085054}\n",
      "--- Step : 207 \n",
      "  ------- {'fairness_loss': 0.24329148, 'utility': 0.60590357, 'loss': -0.52098405}\n",
      "--- Step : 208 \n",
      "  ------- {'fairness_loss': 0.24359834, 'utility': 0.60608464, 'loss': -0.5211163}\n",
      "--- Step : 209 \n",
      "  ------- {'fairness_loss': 0.24390332, 'utility': 0.6062646, 'loss': -0.5212478}\n",
      "--- Step : 210 \n",
      "  ------- {'fairness_loss': 0.24420613, 'utility': 0.60644364, 'loss': -0.52137864}\n",
      "--- Step : 211 \n",
      "  ------- {'fairness_loss': 0.24450657, 'utility': 0.60662144, 'loss': -0.52150863}\n",
      "--- Step : 212 \n",
      "  ------- {'fairness_loss': 0.24480538, 'utility': 0.60679793, 'loss': -0.5216376}\n",
      "--- Step : 213 \n",
      "  ------- {'fairness_loss': 0.24510172, 'utility': 0.6069734, 'loss': -0.5217659}\n",
      "--- Step : 214 \n",
      "  ------- {'fairness_loss': 0.24539652, 'utility': 0.6071478, 'loss': -0.5218934}\n",
      "--- Step : 215 \n",
      "  ------- {'fairness_loss': 0.24568886, 'utility': 0.607321, 'loss': -0.52202}\n",
      "--- Step : 216 \n",
      "  ------- {'fairness_loss': 0.24597965, 'utility': 0.60749316, 'loss': -0.52214587}\n",
      "--- Step : 217 \n",
      "  ------- {'fairness_loss': 0.24626869, 'utility': 0.60766417, 'loss': -0.52227086}\n",
      "--- Step : 218 \n",
      "  ------- {'fairness_loss': 0.24655531, 'utility': 0.60783416, 'loss': -0.5223952}\n",
      "--- Step : 219 \n",
      "  ------- {'fairness_loss': 0.24684028, 'utility': 0.60800314, 'loss': -0.5225188}\n",
      "--- Step : 220 \n",
      "  ------- {'fairness_loss': 0.24712317, 'utility': 0.6081708, 'loss': -0.52264136}\n",
      "--- Step : 221 \n",
      "  ------- {'fairness_loss': 0.24740441, 'utility': 0.6083377, 'loss': -0.52276343}\n",
      "--- Step : 222 \n",
      "  ------- {'fairness_loss': 0.24768305, 'utility': 0.6085034, 'loss': -0.5228847}\n",
      "--- Step : 223 \n",
      "  ------- {'fairness_loss': 0.24796072, 'utility': 0.608668, 'loss': -0.5230051}\n",
      "--- Step : 224 \n",
      "  ------- {'fairness_loss': 0.24823616, 'utility': 0.60883164, 'loss': -0.5231249}\n",
      "--- Step : 225 \n",
      "  ------- {'fairness_loss': 0.24850993, 'utility': 0.6089943, 'loss': -0.5232439}\n",
      "--- Step : 226 \n",
      "  ------- {'fairness_loss': 0.24878198, 'utility': 0.6091558, 'loss': -0.523362}\n",
      "--- Step : 227 \n",
      "  ------- {'fairness_loss': 0.24905212, 'utility': 0.60931635, 'loss': -0.5234795}\n",
      "--- Step : 228 \n",
      "  ------- {'fairness_loss': 0.24932016, 'utility': 0.60947585, 'loss': -0.5235962}\n",
      "--- Step : 229 \n",
      "  ------- {'fairness_loss': 0.24958712, 'utility': 0.60963434, 'loss': -0.52371216}\n",
      "--- Step : 230 \n",
      "  ------- {'fairness_loss': 0.24985197, 'utility': 0.6097922, 'loss': -0.52382773}\n",
      "--- Step : 231 \n",
      "  ------- {'fairness_loss': 0.25011507, 'utility': 0.6099489, 'loss': -0.5239425}\n",
      "--- Step : 232 \n",
      "  ------- {'fairness_loss': 0.25037637, 'utility': 0.6101044, 'loss': -0.52405626}\n",
      "--- Step : 233 \n",
      "  ------- {'fairness_loss': 0.25063595, 'utility': 0.6102591, 'loss': -0.5241696}\n"
     ]
    },
    {
     "name": "stdout",
     "output_type": "stream",
     "text": [
      "--- Step : 234 \n",
      "  ------- {'fairness_loss': 0.25089395, 'utility': 0.61041313, 'loss': -0.5242824}\n",
      "--- Step : 235 \n",
      "  ------- {'fairness_loss': 0.25115034, 'utility': 0.6105659, 'loss': -0.5243943}\n",
      "--- Step : 236 \n",
      "  ------- {'fairness_loss': 0.25140536, 'utility': 0.61071765, 'loss': -0.5245054}\n",
      "--- Step : 237 \n",
      "  ------- {'fairness_loss': 0.25165823, 'utility': 0.6108686, 'loss': -0.5246159}\n",
      "--- Step : 238 \n",
      "  ------- {'fairness_loss': 0.25191, 'utility': 0.6110189, 'loss': -0.524726}\n",
      "--- Step : 239 \n",
      "  ------- {'fairness_loss': 0.2521597, 'utility': 0.6111679, 'loss': -0.5248351}\n",
      "--- Step : 240 \n",
      "  ------- {'fairness_loss': 0.25240824, 'utility': 0.61131614, 'loss': -0.52494365}\n",
      "--- Step : 241 \n",
      "  ------- {'fairness_loss': 0.25265473, 'utility': 0.6114635, 'loss': -0.52505165}\n",
      "--- Step : 242 \n",
      "  ------- {'fairness_loss': 0.25289974, 'utility': 0.6116101, 'loss': -0.5251591}\n",
      "--- Step : 243 \n",
      "  ------- {'fairness_loss': 0.25314352, 'utility': 0.6117556, 'loss': -0.5252657}\n",
      "--- Step : 244 \n",
      "  ------- {'fairness_loss': 0.25338545, 'utility': 0.6119002, 'loss': -0.5253717}\n",
      "--- Step : 245 \n",
      "  ------- {'fairness_loss': 0.25362596, 'utility': 0.61204416, 'loss': -0.5254771}\n",
      "--- Step : 246 \n",
      "  ------- {'fairness_loss': 0.25386497, 'utility': 0.612187, 'loss': -0.5255818}\n",
      "--- Step : 247 \n",
      "  ------- {'fairness_loss': 0.25410268, 'utility': 0.61232936, 'loss': -0.52568614}\n",
      "--- Step : 248 \n",
      "  ------- {'fairness_loss': 0.2543387, 'utility': 0.61247057, 'loss': -0.5257896}\n",
      "--- Step : 249 \n",
      "  ------- {'fairness_loss': 0.25457305, 'utility': 0.6126112, 'loss': -0.52589273}\n",
      "--- Step : 250 \n",
      "  ------- {'fairness_loss': 0.2548063, 'utility': 0.6127508, 'loss': -0.5259951}\n",
      "--- Step : 251 \n",
      "  ------- {'fairness_loss': 0.25503796, 'utility': 0.6128896, 'loss': -0.5260968}\n",
      "--- Step : 252 \n",
      "  ------- {'fairness_loss': 0.25526813, 'utility': 0.61302763, 'loss': -0.526198}\n",
      "--- Step : 253 \n",
      "  ------- {'fairness_loss': 0.25549665, 'utility': 0.6131649, 'loss': -0.52629876}\n",
      "--- Step : 254 \n",
      "  ------- {'fairness_loss': 0.25572452, 'utility': 0.6133013, 'loss': -0.52639866}\n",
      "--- Step : 255 \n",
      "  ------- {'fairness_loss': 0.2559504, 'utility': 0.61343676, 'loss': -0.5264981}\n",
      "--- Step : 256 \n",
      "  ------- {'fairness_loss': 0.25617498, 'utility': 0.61357164, 'loss': -0.52659696}\n",
      "--- Step : 257 \n",
      "  ------- {'fairness_loss': 0.25639826, 'utility': 0.61370575, 'loss': -0.5266953}\n",
      "--- Step : 258 \n",
      "  ------- {'fairness_loss': 0.25662, 'utility': 0.6138389, 'loss': -0.526793}\n",
      "--- Step : 259 \n",
      "  ------- {'fairness_loss': 0.2568402, 'utility': 0.61397135, 'loss': -0.5268902}\n",
      "--- Step : 260 \n",
      "  ------- {'fairness_loss': 0.25705993, 'utility': 0.6141034, 'loss': -0.526987}\n",
      "--- Step : 261 \n",
      "  ------- {'fairness_loss': 0.2572778, 'utility': 0.61423415, 'loss': -0.5270829}\n",
      "--- Step : 262 \n",
      "  ------- {'fairness_loss': 0.25749418, 'utility': 0.6143643, 'loss': -0.5271784}\n",
      "--- Step : 263 \n",
      "  ------- {'fairness_loss': 0.25770938, 'utility': 0.61449397, 'loss': -0.5272736}\n",
      "--- Step : 264 \n",
      "  ------- {'fairness_loss': 0.25792325, 'utility': 0.61462253, 'loss': -0.52736795}\n",
      "--- Step : 265 \n",
      "  ------- {'fairness_loss': 0.25813612, 'utility': 0.6147505, 'loss': -0.5274618}\n",
      "--- Step : 266 \n",
      "  ------- {'fairness_loss': 0.25834715, 'utility': 0.6148778, 'loss': -0.5275553}\n",
      "--- Step : 267 \n",
      "  ------- {'fairness_loss': 0.2585576, 'utility': 0.6150043, 'loss': -0.5276481}\n",
      "--- Step : 268 \n",
      "  ------- {'fairness_loss': 0.2587665, 'utility': 0.61513025, 'loss': -0.52774054}\n",
      "--- Step : 269 \n",
      "  ------- {'fairness_loss': 0.25897384, 'utility': 0.6152555, 'loss': -0.5278325}\n",
      "--- Step : 270 \n",
      "  ------- {'fairness_loss': 0.2591804, 'utility': 0.6153797, 'loss': -0.52792364}\n",
      "--- Step : 271 \n",
      "  ------- {'fairness_loss': 0.25938535, 'utility': 0.6155035, 'loss': -0.5280146}\n",
      "--- Step : 272 \n",
      "  ------- {'fairness_loss': 0.25958934, 'utility': 0.6156266, 'loss': -0.52810496}\n",
      "--- Step : 273 \n",
      "  ------- {'fairness_loss': 0.25979227, 'utility': 0.615749, 'loss': -0.52819484}\n",
      "--- Step : 274 \n",
      "  ------- {'fairness_loss': 0.2599937, 'utility': 0.61587065, 'loss': -0.5282842}\n",
      "--- Step : 275 \n",
      "  ------- {'fairness_loss': 0.26019436, 'utility': 0.6159916, 'loss': -0.52837294}\n",
      "--- Step : 276 \n",
      "  ------- {'fairness_loss': 0.26039332, 'utility': 0.61611193, 'loss': -0.52846134}\n",
      "--- Step : 277 \n",
      "  ------- {'fairness_loss': 0.2605917, 'utility': 0.6162316, 'loss': -0.5285493}\n",
      "--- Step : 278 \n",
      "  ------- {'fairness_loss': 0.26078805, 'utility': 0.61635065, 'loss': -0.52863675}\n",
      "--- Step : 279 \n",
      "  ------- {'fairness_loss': 0.2609842, 'utility': 0.61646897, 'loss': -0.5287236}\n",
      "--- Step : 280 \n",
      "  ------- {'fairness_loss': 0.2611788, 'utility': 0.6165866, 'loss': -0.5288101}\n",
      "--- Step : 281 \n",
      "  ------- {'fairness_loss': 0.2613725, 'utility': 0.6167037, 'loss': -0.5288961}\n",
      "--- Step : 282 \n",
      "  ------- {'fairness_loss': 0.26156482, 'utility': 0.6168201, 'loss': -0.52898157}\n",
      "--- Step : 283 \n",
      "  ------- {'fairness_loss': 0.26175597, 'utility': 0.61693585, 'loss': -0.5290666}\n",
      "--- Step : 284 \n",
      "  ------- {'fairness_loss': 0.26194614, 'utility': 0.6170509, 'loss': -0.52915114}\n",
      "--- Step : 285 \n",
      "  ------- {'fairness_loss': 0.26213545, 'utility': 0.6171656, 'loss': -0.52923554}\n",
      "--- Step : 286 \n",
      "  ------- {'fairness_loss': 0.26232344, 'utility': 0.61727935, 'loss': -0.52931905}\n",
      "--- Step : 287 \n",
      "  ------- {'fairness_loss': 0.2625103, 'utility': 0.6173927, 'loss': -0.52940243}\n",
      "--- Step : 288 \n",
      "  ------- {'fairness_loss': 0.26269618, 'utility': 0.61750543, 'loss': -0.5294853}\n",
      "--- Step : 289 \n",
      "  ------- {'fairness_loss': 0.2628811, 'utility': 0.6176176, 'loss': -0.5295677}\n",
      "--- Step : 290 \n",
      "  ------- {'fairness_loss': 0.26306465, 'utility': 0.617729, 'loss': -0.5296496}\n",
      "--- Step : 291 \n",
      "  ------- {'fairness_loss': 0.2632476, 'utility': 0.6178399, 'loss': -0.5297311}\n",
      "--- Step : 292 \n",
      "  ------- {'fairness_loss': 0.26342955, 'utility': 0.61795014, 'loss': -0.52981216}\n",
      "--- Step : 293 \n",
      "  ------- {'fairness_loss': 0.26361018, 'utility': 0.6180599, 'loss': -0.5298928}\n",
      "--- Step : 294 \n",
      "  ------- {'fairness_loss': 0.2637899, 'utility': 0.618169, 'loss': -0.5299731}\n",
      "--- Step : 295 \n",
      "  ------- {'fairness_loss': 0.2639684, 'utility': 0.6182776, 'loss': -0.530053}\n",
      "--- Step : 296 \n",
      "  ------- {'fairness_loss': 0.26414627, 'utility': 0.61838555, 'loss': -0.53013235}\n",
      "--- Step : 297 \n",
      "  ------- {'fairness_loss': 0.264323, 'utility': 0.6184929, 'loss': -0.5302113}\n",
      "--- Step : 298 \n",
      "  ------- {'fairness_loss': 0.2644989, 'utility': 0.6185998, 'loss': -0.5302899}\n",
      "--- Step : 299 \n",
      "  ------- {'fairness_loss': 0.26467356, 'utility': 0.6187061, 'loss': -0.5303681}\n",
      "--- Step : 300 \n",
      "  ------- {'fairness_loss': 0.26484767, 'utility': 0.6188118, 'loss': -0.5304458}\n",
      "--- Step : 301 \n",
      "  ------- {'fairness_loss': 0.26502046, 'utility': 0.6189169, 'loss': -0.5305231}\n",
      "--- Step : 302 \n",
      "  ------- {'fairness_loss': 0.26519227, 'utility': 0.6190217, 'loss': -0.5306003}\n",
      "--- Step : 303 \n",
      "  ------- {'fairness_loss': 0.26536337, 'utility': 0.61912566, 'loss': -0.5306767}\n",
      "--- Step : 304 \n",
      "  ------- {'fairness_loss': 0.26553312, 'utility': 0.6192293, 'loss': -0.530753}\n",
      "--- Step : 305 \n",
      "  ------- {'fairness_loss': 0.26570252, 'utility': 0.6193322, 'loss': -0.5308287}\n",
      "--- Step : 306 \n",
      "  ------- {'fairness_loss': 0.26587048, 'utility': 0.6194347, 'loss': -0.5309042}\n",
      "--- Step : 307 \n",
      "  ------- {'fairness_loss': 0.26603767, 'utility': 0.61953664, 'loss': -0.5309792}\n",
      "--- Step : 308 \n",
      "  ------- {'fairness_loss': 0.26620442, 'utility': 0.6196381, 'loss': -0.53105384}\n",
      "--- Step : 309 \n",
      "  ------- {'fairness_loss': 0.26636982, 'utility': 0.6197391, 'loss': -0.5311282}\n",
      "--- Step : 310 \n",
      "  ------- {'fairness_loss': 0.26653445, 'utility': 0.6198395, 'loss': -0.5312021}\n",
      "--- Step : 311 \n",
      "  ------- {'fairness_loss': 0.26669806, 'utility': 0.61993945, 'loss': -0.5312757}\n",
      "--- Step : 312 \n",
      "  ------- {'fairness_loss': 0.26686066, 'utility': 0.6200386, 'loss': -0.5313487}\n",
      "--- Step : 313 \n",
      "  ------- {'fairness_loss': 0.2670229, 'utility': 0.62013775, 'loss': -0.53142166}\n",
      "--- Step : 314 \n",
      "  ------- {'fairness_loss': 0.26718408, 'utility': 0.62023604, 'loss': -0.531494}\n",
      "--- Step : 315 \n",
      "  ------- {'fairness_loss': 0.2673441, 'utility': 0.6203339, 'loss': -0.5315661}\n",
      "--- Step : 316 \n",
      "  ------- {'fairness_loss': 0.2675036, 'utility': 0.62043136, 'loss': -0.53163785}\n",
      "--- Step : 317 \n",
      "  ------- {'fairness_loss': 0.2676622, 'utility': 0.62052816, 'loss': -0.5317091}\n",
      "--- Step : 318 \n",
      "  ------- {'fairness_loss': 0.26782012, 'utility': 0.6206245, 'loss': -0.53178}\n",
      "--- Step : 319 \n",
      "  ------- {'fairness_loss': 0.2679771, 'utility': 0.62072057, 'loss': -0.53185076}\n",
      "--- Step : 320 \n",
      "  ------- {'fairness_loss': 0.26813304, 'utility': 0.62081593, 'loss': -0.53192097}\n",
      "--- Step : 321 \n",
      "  ------- {'fairness_loss': 0.26828805, 'utility': 0.62091106, 'loss': -0.5319911}\n",
      "--- Step : 322 \n",
      "  ------- {'fairness_loss': 0.26844266, 'utility': 0.6210056, 'loss': -0.53206074}\n",
      "--- Step : 323 \n",
      "  ------- {'fairness_loss': 0.2685964, 'utility': 0.6210995, 'loss': -0.5321299}\n",
      "--- Step : 324 \n",
      "  ------- {'fairness_loss': 0.26874873, 'utility': 0.6211932, 'loss': -0.53219897}\n",
      "--- Step : 325 \n",
      "  ------- {'fairness_loss': 0.26890108, 'utility': 0.6212863, 'loss': -0.5322675}\n",
      "--- Step : 326 \n",
      "  ------- {'fairness_loss': 0.26905245, 'utility': 0.6213789, 'loss': -0.53233576}\n",
      "--- Step : 327 \n",
      "  ------- {'fairness_loss': 0.26920292, 'utility': 0.6214711, 'loss': -0.53240365}\n",
      "--- Step : 328 \n",
      "  ------- {'fairness_loss': 0.2693528, 'utility': 0.62156284, 'loss': -0.53247124}\n",
      "--- Step : 329 \n",
      "  ------- {'fairness_loss': 0.26950127, 'utility': 0.62165403, 'loss': -0.5325385}\n",
      "--- Step : 330 \n",
      "  ------- {'fairness_loss': 0.26964962, 'utility': 0.62174517, 'loss': -0.53260565}\n",
      "--- Step : 331 \n",
      "  ------- {'fairness_loss': 0.26979703, 'utility': 0.62183553, 'loss': -0.5326723}\n",
      "--- Step : 332 \n",
      "  ------- {'fairness_loss': 0.26994377, 'utility': 0.62192553, 'loss': -0.53273857}\n",
      "--- Step : 333 \n",
      "  ------- {'fairness_loss': 0.27008975, 'utility': 0.62201506, 'loss': -0.5328046}\n",
      "--- Step : 334 \n",
      "  ------- {'fairness_loss': 0.27023497, 'utility': 0.6221042, 'loss': -0.5328703}\n",
      "--- Step : 335 \n",
      "  ------- {'fairness_loss': 0.27037916, 'utility': 0.6221929, 'loss': -0.5329357}\n",
      "--- Step : 336 \n",
      "  ------- {'fairness_loss': 0.27052292, 'utility': 0.62228125, 'loss': -0.5330008}\n",
      "--- Step : 337 \n",
      "  ------- {'fairness_loss': 0.27066565, 'utility': 0.62236905, 'loss': -0.53306556}\n",
      "--- Step : 338 \n",
      "  ------- {'fairness_loss': 0.27080807, 'utility': 0.6224565, 'loss': -0.53313}\n",
      "--- Step : 339 \n",
      "  ------- {'fairness_loss': 0.27094996, 'utility': 0.62254363, 'loss': -0.53319424}\n",
      "--- Step : 340 \n",
      "  ------- {'fairness_loss': 0.27109057, 'utility': 0.6226301, 'loss': -0.5332581}\n",
      "--- Step : 341 \n",
      "  ------- {'fairness_loss': 0.27123082, 'utility': 0.6227163, 'loss': -0.53332156}\n",
      "--- Step : 342 \n",
      "  ------- {'fairness_loss': 0.27137056, 'utility': 0.62280214, 'loss': -0.53338486}\n",
      "--- Step : 343 \n",
      "  ------- {'fairness_loss': 0.27150902, 'utility': 0.62288755, 'loss': -0.53344786}\n",
      "--- Step : 344 \n",
      "  ------- {'fairness_loss': 0.27164719, 'utility': 0.6229724, 'loss': -0.53351045}\n",
      "--- Step : 345 \n",
      "  ------- {'fairness_loss': 0.27178445, 'utility': 0.623057, 'loss': -0.53357285}\n",
      "--- Step : 346 \n",
      "  ------- {'fairness_loss': 0.27192134, 'utility': 0.62314117, 'loss': -0.5336349}\n",
      "--- Step : 347 \n",
      "  ------- {'fairness_loss': 0.27205744, 'utility': 0.62322503, 'loss': -0.5336968}\n",
      "--- Step : 348 \n",
      "  ------- {'fairness_loss': 0.2721926, 'utility': 0.62330854, 'loss': -0.53375846}\n",
      "--- Step : 349 \n",
      "  ------- {'fairness_loss': 0.2723271, 'utility': 0.62339145, 'loss': -0.53381956}\n",
      "--- Step : 350 \n",
      "  ------- {'fairness_loss': 0.27246147, 'utility': 0.6234742, 'loss': -0.5338806}\n",
      "--- Step : 351 \n",
      "  ------- {'fairness_loss': 0.27259493, 'utility': 0.6235564, 'loss': -0.53394127}\n",
      "--- Step : 352 \n",
      "  ------- {'fairness_loss': 0.27272734, 'utility': 0.6236382, 'loss': -0.5340016}\n",
      "--- Step : 353 \n",
      "  ------- {'fairness_loss': 0.2728594, 'utility': 0.62371963, 'loss': -0.53406173}\n",
      "--- Step : 354 \n",
      "  ------- {'fairness_loss': 0.272991, 'utility': 0.6238007, 'loss': -0.5341215}\n",
      "--- Step : 355 \n",
      "  ------- {'fairness_loss': 0.27312154, 'utility': 0.62388164, 'loss': -0.5341813}\n",
      "--- Step : 356 \n",
      "  ------- {'fairness_loss': 0.27325192, 'utility': 0.6239619, 'loss': -0.5342405}\n",
      "--- Step : 357 \n",
      "  ------- {'fairness_loss': 0.27338138, 'utility': 0.6240421, 'loss': -0.53429973}\n",
      "--- Step : 358 \n",
      "  ------- {'fairness_loss': 0.27351046, 'utility': 0.6241215, 'loss': -0.5343583}\n",
      "--- Step : 359 \n",
      "  ------- {'fairness_loss': 0.27363884, 'utility': 0.62420094, 'loss': -0.5344169}\n"
     ]
    },
    {
     "name": "stdout",
     "output_type": "stream",
     "text": [
      "--- Step : 360 \n",
      "  ------- {'fairness_loss': 0.27376655, 'utility': 0.6242798, 'loss': -0.53447515}\n",
      "--- Step : 361 \n",
      "  ------- {'fairness_loss': 0.27389374, 'utility': 0.62435836, 'loss': -0.53453314}\n",
      "--- Step : 362 \n",
      "  ------- {'fairness_loss': 0.27402017, 'utility': 0.6244366, 'loss': -0.5345909}\n",
      "--- Step : 363 \n",
      "  ------- {'fairness_loss': 0.2741462, 'utility': 0.62451446, 'loss': -0.53464836}\n",
      "--- Step : 364 \n",
      "  ------- {'fairness_loss': 0.27427134, 'utility': 0.6245919, 'loss': -0.5347055}\n",
      "--- Step : 365 \n",
      "  ------- {'fairness_loss': 0.27439624, 'utility': 0.624669, 'loss': -0.5347625}\n",
      "--- Step : 366 \n",
      "  ------- {'fairness_loss': 0.27452, 'utility': 0.62474614, 'loss': -0.53481954}\n",
      "--- Step : 367 \n",
      "  ------- {'fairness_loss': 0.27464342, 'utility': 0.6248223, 'loss': -0.53487575}\n",
      "--- Step : 368 \n",
      "  ------- {'fairness_loss': 0.27476642, 'utility': 0.6248986, 'loss': -0.5349321}\n",
      "--- Step : 369 \n",
      "  ------- {'fairness_loss': 0.27488884, 'utility': 0.62497425, 'loss': -0.5349879}\n",
      "--- Step : 370 \n",
      "  ------- {'fairness_loss': 0.27501082, 'utility': 0.6250499, 'loss': -0.5350438}\n",
      "--- Step : 371 \n",
      "  ------- {'fairness_loss': 0.27513203, 'utility': 0.62512493, 'loss': -0.5350992}\n",
      "--- Step : 372 \n",
      "  ------- {'fairness_loss': 0.27525288, 'utility': 0.6251996, 'loss': -0.53515434}\n",
      "--- Step : 373 \n",
      "  ------- {'fairness_loss': 0.27537292, 'utility': 0.6252741, 'loss': -0.5352094}\n",
      "--- Step : 374 \n",
      "  ------- {'fairness_loss': 0.27549267, 'utility': 0.6253482, 'loss': -0.53526413}\n",
      "--- Step : 375 \n",
      "  ------- {'fairness_loss': 0.27561164, 'utility': 0.6254222, 'loss': -0.53531873}\n",
      "--- Step : 376 \n",
      "  ------- {'fairness_loss': 0.27573, 'utility': 0.6254957, 'loss': -0.5353731}\n",
      "--- Step : 377 \n",
      "  ------- {'fairness_loss': 0.27584812, 'utility': 0.6255688, 'loss': -0.5354271}\n",
      "--- Step : 378 \n",
      "  ------- {'fairness_loss': 0.2759656, 'utility': 0.6256416, 'loss': -0.53548086}\n",
      "--- Step : 379 \n",
      "  ------- {'fairness_loss': 0.27608234, 'utility': 0.6257141, 'loss': -0.5355345}\n",
      "--- Step : 380 \n",
      "  ------- {'fairness_loss': 0.2761984, 'utility': 0.62578636, 'loss': -0.53558785}\n",
      "--- Step : 381 \n",
      "  ------- {'fairness_loss': 0.27631417, 'utility': 0.62585825, 'loss': -0.535641}\n",
      "--- Step : 382 \n",
      "  ------- {'fairness_loss': 0.27642953, 'utility': 0.62593, 'loss': -0.535694}\n",
      "--- Step : 383 \n",
      "  ------- {'fairness_loss': 0.2765444, 'utility': 0.62600124, 'loss': -0.5357467}\n",
      "--- Step : 384 \n",
      "  ------- {'fairness_loss': 0.2766586, 'utility': 0.6260723, 'loss': -0.5357992}\n",
      "--- Step : 385 \n",
      "  ------- {'fairness_loss': 0.27677217, 'utility': 0.6261428, 'loss': -0.53585124}\n",
      "--- Step : 386 \n",
      "  ------- {'fairness_loss': 0.27688536, 'utility': 0.6262132, 'loss': -0.5359033}\n",
      "--- Step : 387 \n",
      "  ------- {'fairness_loss': 0.27699783, 'utility': 0.6262834, 'loss': -0.5359553}\n",
      "--- Step : 388 \n",
      "  ------- {'fairness_loss': 0.27711028, 'utility': 0.62635314, 'loss': -0.5360068}\n",
      "--- Step : 389 \n",
      "  ------- {'fairness_loss': 0.27722204, 'utility': 0.6264226, 'loss': -0.5360581}\n",
      "--- Step : 390 \n",
      "  ------- {'fairness_loss': 0.27733296, 'utility': 0.6264918, 'loss': -0.5361093}\n",
      "--- Step : 391 \n",
      "  ------- {'fairness_loss': 0.27744418, 'utility': 0.6265608, 'loss': -0.5361603}\n",
      "--- Step : 392 \n",
      "  ------- {'fairness_loss': 0.2775541, 'utility': 0.6266295, 'loss': -0.53621113}\n",
      "--- Step : 393 \n",
      "  ------- {'fairness_loss': 0.27766362, 'utility': 0.6266976, 'loss': -0.5362615}\n",
      "--- Step : 394 \n",
      "  ------- {'fairness_loss': 0.2777728, 'utility': 0.6267656, 'loss': -0.5363118}\n",
      "--- Step : 395 \n",
      "  ------- {'fairness_loss': 0.2778814, 'utility': 0.62683344, 'loss': -0.53636193}\n",
      "--- Step : 396 \n",
      "  ------- {'fairness_loss': 0.27799016, 'utility': 0.62690103, 'loss': -0.5364119}\n",
      "--- Step : 397 \n",
      "  ------- {'fairness_loss': 0.27809745, 'utility': 0.626968, 'loss': -0.5364615}\n",
      "--- Step : 398 \n",
      "  ------- {'fairness_loss': 0.27820492, 'utility': 0.627035, 'loss': -0.53651106}\n",
      "--- Step : 399 \n",
      "  ------- {'fairness_loss': 0.27831182, 'utility': 0.62710166, 'loss': -0.5365603}\n",
      "--- Step : 400 \n",
      "  ------- {'fairness_loss': 0.2784183, 'utility': 0.627168, 'loss': -0.53660935}\n"
     ]
    }
   ],
   "source": [
    "loss_tracker = tf.keras.metrics.Mean(name=\"loss\")\n",
    "utility_tracker = tf.keras.metrics.Mean(name=\"utility\")\n",
    "fairness_tracker = tf.keras.metrics.Mean(name=\"fairness\")\n",
    "\n",
    "# train data\n",
    "train_model = get_models_from_data(train_data)\n",
    "Py, Pz_y, Py_x, Pz_yx = train_model\n",
    "\n",
    "x = tf.convert_to_tensor(train_data[X_atr].values)\n",
    "y = tf.reshape(tf.convert_to_tensor(train_data[Y_atr].values),(-1,1))\n",
    "\n",
    "# test data\n",
    "test_model = get_models_from_data(test_data)\n",
    "test_tf_Py, test_tf_Pz_y, test_tf_Py_x, test_tf_Pz_yx = (tf.convert_to_tensor(p, dtype=\"float32\") for p in test_model)\n",
    "test_x = tf.convert_to_tensor(test_data[X_atr].values)\n",
    "test_y = tf.reshape(tf.convert_to_tensor(test_data[Y_atr].values),(-1,1))\n",
    "test_data_list = (test_x, test_y, test_tf_Py, test_tf_Pz_y, test_tf_Py_x, test_tf_Pz_yx)\n",
    "\n",
    "\n",
    "# loop\n",
    "history = []\n",
    "eval_history = []\n",
    "for epoch in range(epochs):\n",
    "    tf_Py, tf_Pz_y, tf_Py_x, tf_Pz_yx = (tf.convert_to_tensor(p, dtype=\"float32\") for p in train_model)\n",
    "    \n",
    "    # training step\n",
    "    step_results = train_step(policy = policy_model,\n",
    "                              data = (x, y, tf_Py, tf_Pz_y, tf_Py_x, tf_Pz_yx),\n",
    "                              lamba_parameter = 0.1,\n",
    "                              optimizer = optimizer)\n",
    "    step_results = {key:step_results[key].numpy() for key in step_results.keys()}\n",
    "    history += [step_results]\n",
    "    \n",
    "    # evaluation step\n",
    "    \n",
    "    eval_results = eval_step(policy = policy_model,\n",
    "                             data = test_data_list,\n",
    "                             lamba_parameter = 0.1)\n",
    "    \n",
    "    eval_history +=[eval_results]\n",
    "    \n",
    "    \n",
    "    reset_trackers([loss_tracker, utility_tracker, fairness_tracker,\n",
    "                    eval_loss_tracker, eval_utility_tracker, eval_fairness_tracker])\n",
    "    print(f\"--- Step : {epoch + 1} \\n  ------- {step_results}\")"
   ]
  },
  {
   "cell_type": "code",
   "execution_count": 37,
   "metadata": {},
   "outputs": [
    {
     "data": {
      "text/plain": [
       "[array([[-1.2336928 ],\n",
       "        [ 0.00591706],\n",
       "        [ 0.12678933],\n",
       "        [ 0.17658944],\n",
       "        [ 0.6579044 ],\n",
       "        [-0.37780654]], dtype=float32),\n",
       " -0.79333895]"
      ]
     },
     "execution_count": 37,
     "metadata": {},
     "output_type": "execute_result"
    }
   ],
   "source": [
    "policy_model.get_weights()"
   ]
  },
  {
   "cell_type": "code",
   "execution_count": 38,
   "metadata": {},
   "outputs": [],
   "source": [
    "history_df = pd.DataFrame(history)\n",
    "eval_history_df = pd.DataFrame(eval_history)"
   ]
  },
  {
   "cell_type": "code",
   "execution_count": 39,
   "metadata": {},
   "outputs": [
    {
     "data": {
      "image/png": "[encoded data removed]",
      "text/plain": [
       "<Figure size 640x480 with 1 Axes>"
      ]
     },
     "metadata": {},
     "output_type": "display_data"
    },
    {
     "data": {
      "image/png": "[encoded data removed]",
      "text/plain": [
       "<Figure size 640x480 with 1 Axes>"
      ]
     },
     "metadata": {},
     "output_type": "display_data"
    }
   ],
   "source": [
    "plt.figure()\n",
    "plt.plot(history_df[\"utility\"],label=\"utility\")\n",
    "plt.plot(eval_history_df[\"utility\"],label=\"eval utility\")\n",
    "plt.legend()\n",
    "plt.show()\n",
    "\n",
    "plt.figure()\n",
    "plt.plot(history_df[\"fairness_loss\"],label=\"fairness_loss\")\n",
    "plt.plot(eval_history_df[\"fairness_loss\"],label=\"eval_fairness_loss\")\n",
    "plt.legend()\n",
    "plt.show()"
   ]
  },
  {
   "cell_type": "code",
   "execution_count": 40,
   "metadata": {},
   "outputs": [
    {
     "data": {
      "image/png": "[encoded data removed]",
      "text/plain": [
       "<Figure size 640x480 with 1 Axes>"
      ]
     },
     "metadata": {},
     "output_type": "display_data"
    }
   ],
   "source": [
    "plt.figure()\n",
    "plt.plot(eval_history_df[\"loss\"],label=\"eval_fairness_loss\")\n",
    "plt.legend()\n",
    "plt.show()"
   ]
  },
  {
   "cell_type": "markdown",
   "metadata": {},
   "source": [
    "# empirical fairness"
   ]
  },
  {
   "cell_type": "code",
   "execution_count": 41,
   "metadata": {},
   "outputs": [],
   "source": [
    "def empirical_fairness_cont_v11(datas, p_a_x, Pz_y, Py, model_y_x, model_z_yx):\n",
    "    Z = n_z\n",
    "\n",
    "    Py_x = model_y_x.predict_proba(datas[X_atr]).T\n",
    "    EF = 0\n",
    "    for y in range(2):\n",
    "        tmp_data = datas[[Y_atr] + X_atr].copy()\n",
    "        tmp_data[Y_atr] = y\n",
    "        Pz_yx = model_z_yx.predict_proba(tmp_data[[Y_atr] + X_atr]).T\n",
    "        print(Pz_yx.shape)\n",
    "        for z in range(Z):\n",
    "            c = 0\n",
    "            for i in range(tmp_data.shape[0]):\n",
    "                delta = (Pz_yx[z, i] - Pz_y[z, y] ) * (Py_x[y, i]/Py[y])\n",
    "                c += p_a_x[:, i] * delta\n",
    "            c = c/tmp_data.shape[0]\n",
    "            c = np.linalg.norm(c, 1)\n",
    "            EF += c\n",
    "    return EF\n",
    "\n",
    "\n",
    "def empirical_fairness_cont_v12(datas, p_a_x, Pz_y, Py,model_y_x, model_z_yx):\n",
    "    Z = n_z\n",
    "\n",
    "    Py_x = model_y_x.predict_proba(datas[X_atr]).T\n",
    "    EF = 0\n",
    "    for y in range(2):\n",
    "        tmp_data = datas[[Y_atr] + X_atr].copy()\n",
    "        tmp_data[Y_atr] = y\n",
    "        Pz_yx = model_z_yx.predict_proba(tmp_data[[Y_atr] + X_atr]).T\n",
    "        for z in range(Z):\n",
    "            c = 0\n",
    "            j= 0 \n",
    "            for i in range(tmp_data.shape[0]):\n",
    "                j = j + 1\n",
    "                delta = (Pz_yx[z, i] / Pz_y[z, y] - 1 ) * (Py_x[y, i] / (Py[y]) )\n",
    "                c += p_a_x[:, i] * delta\n",
    "            c = c/datas.shape[0]\n",
    "            c = np.linalg.norm(c, 1)\n",
    "            EF += c\n",
    "    return EF"
   ]
  },
  {
   "cell_type": "code",
   "execution_count": 42,
   "metadata": {},
   "outputs": [],
   "source": [
    "datas= test_data"
   ]
  },
  {
   "cell_type": "code",
   "execution_count": 43,
   "metadata": {},
   "outputs": [
    {
     "name": "stdout",
     "output_type": "stream",
     "text": [
      "38/38 [==============================] - 0s 471us/step\n"
     ]
    }
   ],
   "source": [
    "p_a1 = policy_model.predict(datas[X_atr].astype(\"float32\"))\n",
    "p_a0 = 1 - p_a1\n",
    "p_a_x = np.concatenate([p_a0, p_a1],axis=1).T"
   ]
  },
  {
   "cell_type": "code",
   "execution_count": 44,
   "metadata": {},
   "outputs": [
    {
     "name": "stdout",
     "output_type": "stream",
     "text": [
      "(12, 1214)\n",
      "(12, 1214)\n"
     ]
    },
    {
     "data": {
      "text/plain": [
       "0.32023943842796143"
      ]
     },
     "execution_count": 44,
     "metadata": {},
     "output_type": "execute_result"
    }
   ],
   "source": [
    "Py, Pz_y, model_y_x, model_z_yx = get_models(datas)\n",
    "empirical_fairness_cont_v11(datas = datas,\n",
    "                            p_a_x = p_a_x,\n",
    "                            Pz_y=Pz_y,\n",
    "                            Py=Py,\n",
    "                            model_y_x = model_y_x,\n",
    "                            model_z_yx = model_z_yx )"
   ]
  },
  {
   "cell_type": "code",
   "execution_count": 45,
   "metadata": {},
   "outputs": [
    {
     "data": {
      "text/plain": [
       "1477.363548591733"
      ]
     },
     "execution_count": 45,
     "metadata": {},
     "output_type": "execute_result"
    }
   ],
   "source": [
    "Py, Pz_y, model_y_x, model_z_yx = get_models(datas)\n",
    "empirical_fairness_cont_v12(datas = datas,\n",
    "                            p_a_x = p_a_x,\n",
    "                            Pz_y = Pz_y,\n",
    "                            Py = Py,\n",
    "                            model_y_x = model_y_x, \n",
    "                            model_z_yx = model_z_yx )"
   ]
  },
  {
   "cell_type": "markdown",
   "metadata": {},
   "source": [
    "# Evaluate"
   ]
  },
  {
   "cell_type": "code",
   "execution_count": 46,
   "metadata": {},
   "outputs": [],
   "source": [
    "def get_delta(Py, Pz_y, Py_x, Pz_yx):\n",
    "    # compute delta\n",
    "    term_1 = Pz_yx  - np.expand_dims(Pz_y, axis=-1) # ok\n",
    "    term_2 = Py_x / np.expand_dims(Py,axis=-1) # ok\n",
    "    delta = term_1 * np.expand_dims(term_2, axis=0) # ok\n",
    "\n",
    "    return delta"
   ]
  },
  {
   "cell_type": "code",
   "execution_count": 47,
   "metadata": {},
   "outputs": [],
   "source": [
    "def get_fairness_loss(Pa_x, Py, Pz_y, Py_x, Pz_yx):\n",
    "    # compute delta\n",
    "    term_1 = Pz_yx  - tf.expand_dims(Pz_y, axis=-1) # ok\n",
    "    term_2 = Py_x / tf.expand_dims(Py,axis=-1) # ok\n",
    "    delta = term_1 * tf.expand_dims(term_2, axis=0) # ok\n",
    "    \n",
    "    # compute c\n",
    "    exp_Pa_x = tf.expand_dims(tf.expand_dims(Pa_x, axis=0),axis=0)\n",
    "    exp_delta = tf.expand_dims(delta, axis=-1)\n",
    "    c = tf.linalg.matmul(exp_Pa_x,\n",
    "                         exp_delta)\n",
    "    \n",
    "    # compute fairness\n",
    "    fairness = tf.norm(c, ord=1) / Py_x.shape[1]\n",
    "    return fairness"
   ]
  },
  {
   "cell_type": "code",
   "execution_count": 48,
   "metadata": {},
   "outputs": [],
   "source": [
    "def get_fairness(Pa_x, Py, Pz_y, Py_x, Pz_yx):\n",
    "    # compute delta\n",
    "    term_1 = Pz_yx  - np.expand_dims(Pz_y, axis=-1) # ok\n",
    "    term_2 = Py_x / np.expand_dims(Py,axis=-1) # ok\n",
    "    delta = term_1 * np.expand_dims(term_2, axis=0) # ok\n",
    "    \n",
    "    exp_Pa_x = np.expand_dims(np.expand_dims(Pa_x, axis=0),axis=0)\n",
    "    exp_delta = np.expand_dims(delta, axis=-1)\n",
    "    c = np.matmul(exp_Pa_x , exp_delta)\n",
    "    \n",
    "    # compute fairness\n",
    "#     fairness = np.linalg.norm(c, ord=1) / Py_x.shape[1]\n",
    "    return c"
   ]
  },
  {
   "cell_type": "code",
   "execution_count": 89,
   "metadata": {},
   "outputs": [],
   "source": [
    "def get_fairness(policy, model_delta):\n",
    "    (Z, Y, X) = model_delta.shape\n",
    "    fairness = 0\n",
    "    for y in range(Y):\n",
    "        for z in range(Z):\n",
    "            c = np.matmul(policy, model_delta[z, y, :])\n",
    "            fairness += np.linalg.norm(c, 1) / X\n",
    "    return fairness"
   ]
  },
  {
   "cell_type": "code",
   "execution_count": null,
   "metadata": {},
   "outputs": [],
   "source": []
  },
  {
   "cell_type": "code",
   "execution_count": 103,
   "metadata": {},
   "outputs": [],
   "source": [
    "test_models = []\n",
    "deltas = []\n",
    "for i in range(16):\n",
    "    tmp_data = test_data.sample(frac=1.0, replace=True)\n",
    "    tmp_test_model = get_models_from_data(tmp_data)\n",
    "    Py, Pz_y, Py_x, Pz_yx = tmp_test_model\n",
    "    deltas += [get_delta(Py, Pz_y, Py_x, Pz_yx)]"
   ]
  },
  {
   "cell_type": "code",
   "execution_count": 104,
   "metadata": {},
   "outputs": [
    {
     "data": {
      "text/plain": [
       "(16, 12, 2, 1214)"
      ]
     },
     "execution_count": 104,
     "metadata": {},
     "output_type": "execute_result"
    }
   ],
   "source": [
    "deltas = np.array(deltas)\n",
    "deltas.shape"
   ]
  },
  {
   "cell_type": "code",
   "execution_count": 105,
   "metadata": {},
   "outputs": [],
   "source": [
    "delta_std = np.std(deltas,axis=0)\n",
    "mean_std = np.sum(delta_std, axis= (0,1))\n",
    "sorted_indexies = np.argsort(mean_std)"
   ]
  },
  {
   "cell_type": "code",
   "execution_count": 106,
   "metadata": {},
   "outputs": [],
   "source": [
    "random_indexies = np.random.choice(a = range(test_data.shape[0]), size = test_data.shape[0], replace=False)"
   ]
  },
  {
   "cell_type": "code",
   "execution_count": 152,
   "metadata": {},
   "outputs": [
    {
     "data": {
      "text/plain": [
       "-1.0680204550611583e-15"
      ]
     },
     "execution_count": 152,
     "metadata": {},
     "output_type": "execute_result"
    }
   ],
   "source": [
    "sum(sum(deltas[3,:,:,1]))"
   ]
  },
  {
   "cell_type": "code",
   "execution_count": 159,
   "metadata": {},
   "outputs": [
    {
     "data": {
      "text/plain": [
       "[<matplotlib.lines.Line2D at 0x290414700>]"
      ]
     },
     "execution_count": 159,
     "metadata": {},
     "output_type": "execute_result"
    },
    {
     "data": {
      "image/png": "[encoded data removed]",
      "text/plain": [
       "<Figure size 640x480 with 1 Axes>"
      ]
     },
     "metadata": {},
     "output_type": "display_data"
    }
   ],
   "source": [
    "plt.plot(np.sum(deltas[3,:,:,:],axis = (0,1)))"
   ]
  },
  {
   "cell_type": "code",
   "execution_count": 132,
   "metadata": {},
   "outputs": [
    {
     "name": "stdout",
     "output_type": "stream",
     "text": [
      "38/38 [==============================] - 0s 267us/step\n"
     ]
    }
   ],
   "source": [
    "this_indexies = random_indexies\n",
    "\n",
    "test_model = get_models_from_data(test_data)\n",
    "test_delta = get_delta(*test_model)\n",
    "\n",
    "p_a1 = policy_model.predict(test_data[X_atr].astype(\"float32\"))\n",
    "p_a0 = 1 - p_a1\n",
    "p_a_x = np.concatenate([p_a0, p_a1],axis=1).T\n",
    "\n",
    "p_a_x = p_a_x[:, this_indexies]\n",
    "test_delta = test_delta[:, :, this_indexies] \n",
    "\n",
    "fairness_ind = []\n",
    "for ind in range(test_data.shape[0]):\n",
    "    tmp_delta = test_delta.copy()\n",
    "    tmp_delta[:, :, ind:] = 0 \n",
    "    tmp_fairness = get_fairness(p_a_x,\n",
    "                                tmp_delta)\n",
    "#     print(tmp_fairness)\n",
    "    fairness_ind += [tmp_fairness]\n",
    "fairness = pd.DataFrame(fairness_ind)"
   ]
  },
  {
   "cell_type": "code",
   "execution_count": 131,
   "metadata": {},
   "outputs": [],
   "source": [
    "fairness_sorted = fairness/ 0.31"
   ]
  },
  {
   "cell_type": "code",
   "execution_count": 133,
   "metadata": {},
   "outputs": [],
   "source": [
    "fairness_random_ordering = fairness"
   ]
  },
  {
   "cell_type": "code",
   "execution_count": 137,
   "metadata": {},
   "outputs": [
    {
     "data": {
      "text/plain": [
       "<matplotlib.legend.Legend at 0x177264d90>"
      ]
     },
     "execution_count": 137,
     "metadata": {},
     "output_type": "execute_result"
    },
    {
     "data": {
      "image/png": "[encoded data removed]",
      "text/plain": [
       "<Figure size 640x480 with 1 Axes>"
      ]
     },
     "metadata": {},
     "output_type": "display_data"
    }
   ],
   "source": [
    "plt.plot(fairness_sorted/ 0.320028, label = \"sorted\")\n",
    "plt.plot(fairness_random_ordering/ 0.320028, label = \"random\")\n",
    "plt.legend()"
   ]
  },
  {
   "cell_type": "code",
   "execution_count": 138,
   "metadata": {},
   "outputs": [
    {
     "data": {
      "text/plain": [
       "<matplotlib.legend.Legend at 0x1774d0af0>"
      ]
     },
     "execution_count": 138,
     "metadata": {},
     "output_type": "execute_result"
    },
    {
     "data": {
      "image/png": "[encoded data removed]",
      "text/plain": [
       "<Figure size 640x480 with 1 Axes>"
      ]
     },
     "metadata": {},
     "output_type": "display_data"
    }
   ],
   "source": [
    "plt.plot(fairness_sorted, label = \"sorted\")\n",
    "plt.plot(fairness_random_ordering, label = \"random\")\n",
    "plt.legend()"
   ]
  },
  {
   "cell_type": "code",
   "execution_count": 136,
   "metadata": {},
   "outputs": [
    {
     "data": {
      "text/html": [
       "<div>\n",
       "<style scoped>\n",
       "    .dataframe tbody tr th:only-of-type {\n",
       "        vertical-align: middle;\n",
       "    }\n",
       "\n",
       "    .dataframe tbody tr th {\n",
       "        vertical-align: top;\n",
       "    }\n",
       "\n",
       "    .dataframe thead th {\n",
       "        text-align: right;\n",
       "    }\n",
       "</style>\n",
       "<table border=\"1\" class=\"dataframe\">\n",
       "  <thead>\n",
       "    <tr style=\"text-align: right;\">\n",
       "      <th></th>\n",
       "      <th>0</th>\n",
       "    </tr>\n",
       "  </thead>\n",
       "  <tbody>\n",
       "    <tr>\n",
       "      <th>0</th>\n",
       "      <td>0.000000</td>\n",
       "    </tr>\n",
       "    <tr>\n",
       "      <th>1</th>\n",
       "      <td>0.000664</td>\n",
       "    </tr>\n",
       "    <tr>\n",
       "      <th>2</th>\n",
       "      <td>0.001379</td>\n",
       "    </tr>\n",
       "    <tr>\n",
       "      <th>3</th>\n",
       "      <td>0.001536</td>\n",
       "    </tr>\n",
       "    <tr>\n",
       "      <th>4</th>\n",
       "      <td>0.001596</td>\n",
       "    </tr>\n",
       "    <tr>\n",
       "      <th>...</th>\n",
       "      <td>...</td>\n",
       "    </tr>\n",
       "    <tr>\n",
       "      <th>1209</th>\n",
       "      <td>0.319762</td>\n",
       "    </tr>\n",
       "    <tr>\n",
       "      <th>1210</th>\n",
       "      <td>0.319700</td>\n",
       "    </tr>\n",
       "    <tr>\n",
       "      <th>1211</th>\n",
       "      <td>0.319779</td>\n",
       "    </tr>\n",
       "    <tr>\n",
       "      <th>1212</th>\n",
       "      <td>0.319949</td>\n",
       "    </tr>\n",
       "    <tr>\n",
       "      <th>1213</th>\n",
       "      <td>0.320028</td>\n",
       "    </tr>\n",
       "  </tbody>\n",
       "</table>\n",
       "<p>1214 rows × 1 columns</p>\n",
       "</div>"
      ],
      "text/plain": [
       "             0\n",
       "0     0.000000\n",
       "1     0.000664\n",
       "2     0.001379\n",
       "3     0.001536\n",
       "4     0.001596\n",
       "...        ...\n",
       "1209  0.319762\n",
       "1210  0.319700\n",
       "1211  0.319779\n",
       "1212  0.319949\n",
       "1213  0.320028\n",
       "\n",
       "[1214 rows x 1 columns]"
      ]
     },
     "execution_count": 136,
     "metadata": {},
     "output_type": "execute_result"
    }
   ],
   "source": [
    "fairness_random_ordering"
   ]
  },
  {
   "cell_type": "code",
   "execution_count": null,
   "metadata": {},
   "outputs": [],
   "source": []
  }
 ],
 "metadata": {
  "kernelspec": {
   "display_name": "Python 3 (ipykernel)",
   "language": "python",
   "name": "python3"
  },
  "language_info": {
   "codemirror_mode": {
    "name": "ipython",
    "version": 3
   },
   "file_extension": ".py",
   "mimetype": "text/x-python",
   "name": "python",
   "nbconvert_exporter": "python",
   "pygments_lexer": "ipython3",
   "version": "3.9.12"
  }
 },
 "nbformat": 4,
 "nbformat_minor": 1
}
