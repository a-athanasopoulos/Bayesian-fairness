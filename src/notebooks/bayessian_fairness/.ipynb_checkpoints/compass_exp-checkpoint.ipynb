{
 "cells": [
  {
   "cell_type": "code",
   "execution_count": 1,
   "metadata": {
    "pycharm": {
     "is_executing": true
    }
   },
   "outputs": [],
   "source": [
    "import pandas as pd\n",
    "import numpy as np"
   ]
  },
  {
   "cell_type": "code",
   "execution_count": 2,
   "metadata": {},
   "outputs": [],
   "source": [
    "exp_name = \"exp_compass\"\n",
    "exp_number = \"exp_1\"\n",
    "base_path = \"/Users/andreasathanasopoulos/Phd/projects/bayesian_fairness/\"\n",
    "data_path = base_path + \"/my_code/Bayesian-fairness/data\"\n",
    "save_path = base_path + f\"/my_code/Bayesian-fairness/results/{exp_name}/{exp_number}\""
   ]
  },
  {
   "cell_type": "markdown",
   "metadata": {},
   "source": [
    "# load data\n"
   ]
  },
  {
   "cell_type": "code",
   "execution_count": 3,
   "metadata": {},
   "outputs": [],
   "source": [
    "# set atributes\n",
    "Z_atr = [\"sex\", \"race\"]\n",
    "X_atr = ['age_cat', 'juv_fel_count', 'juv_misd_count', 'juv_other_count', 'priors_count', 'c_charge_degree']\n",
    "Y_atr = ['two_year_recid']"
   ]
  },
  {
   "cell_type": "code",
   "execution_count": 4,
   "metadata": {},
   "outputs": [],
   "source": [
    "def load_compas_dataset(path, clip_features, clip_value):\n",
    "    raw_data = pd.read_csv(path + \"/compas.csv\")\n",
    "    raw_data[raw_data[clip_features] > 2] = 2\n",
    "    return raw_data"
   ]
  },
  {
   "cell_type": "code",
   "execution_count": 5,
   "metadata": {},
   "outputs": [],
   "source": [
    "clip_features = [\"juv_fel_count\", \"juv_misd_count\", \"juv_other_count\", \"priors_count\"]\n",
    "data = load_compas_dataset(path = data_path, clip_features = clip_features, clip_value = 2)"
   ]
  },
  {
   "cell_type": "code",
   "execution_count": 6,
   "metadata": {},
   "outputs": [],
   "source": [
    "# get distinct values\n",
    "unique_z = np.unique(data[Z_atr].values, axis=0)\n",
    "n_z = len(unique_z)\n",
    "\n",
    "unique_x = np.unique(data[X_atr].values, axis=0)\n",
    "n_x = len(unique_x)\n",
    "\n",
    "unique_y = np.unique(data[Y_atr].values, axis=0)\n",
    "n_y = len(unique_y)"
   ]
  },
  {
   "cell_type": "code",
   "execution_count": 7,
   "metadata": {},
   "outputs": [
    {
     "name": "stdout",
     "output_type": "stream",
     "text": [
      "Unique Z values: 12\n",
      "Unique X values: 141\n",
      "Unique Y values: 2\n"
     ]
    }
   ],
   "source": [
    "print(\"Unique Z values:\", n_z)\n",
    "print(\"Unique X values:\", n_x)\n",
    "print(\"Unique Y values:\", n_y)"
   ]
  },
  {
   "cell_type": "code",
   "execution_count": 8,
   "metadata": {},
   "outputs": [],
   "source": [
    "def encode_data(data,unique_values):\n",
    "    encoded_value = np.array([])\n",
    "    for i, d in data.iterrows():\n",
    "        # encode feature to an index represents the unique value.\n",
    "        index = np.argmax((d.values == unique_values).all(axis=1))\n",
    "        encoded_value = np.append(encoded_value, index)\n",
    "    return encoded_value.astype(int)"
   ]
  },
  {
   "cell_type": "code",
   "execution_count": 9,
   "metadata": {},
   "outputs": [],
   "source": [
    "def create_compact_dataset():\n",
    "    # encode z\n",
    "    encoded_z = encode_data(data[Z_atr], unique_z)\n",
    "    assert (int(max(encoded_z))+1) == len(unique_z)\n",
    "    \n",
    "    # encode x\n",
    "    encoded_x = encode_data(data[X_atr], unique_x)\n",
    "    assert (int(max(encoded_x))+1) == len(unique_x)\n",
    "    \n",
    "    # encode y\n",
    "    encoded_y = encode_data(data[Y_atr], unique_y)\n",
    "    assert (int(max(encoded_y))+1) == len(unique_y)\n",
    "\n",
    "    return np.stack([encoded_x, encoded_z, encoded_y],axis=1)"
   ]
  },
  {
   "cell_type": "code",
   "execution_count": 10,
   "metadata": {},
   "outputs": [],
   "source": [
    "dataset = create_compact_dataset()\n",
    "dataset = pd.DataFrame(dataset,columns = [\"x\",\"z\", \"y\"])"
   ]
  },
  {
   "cell_type": "code",
   "execution_count": 11,
   "metadata": {},
   "outputs": [
    {
     "data": {
      "text/html": [
       "<div>\n",
       "<style scoped>\n",
       "    .dataframe tbody tr th:only-of-type {\n",
       "        vertical-align: middle;\n",
       "    }\n",
       "\n",
       "    .dataframe tbody tr th {\n",
       "        vertical-align: top;\n",
       "    }\n",
       "\n",
       "    .dataframe thead th {\n",
       "        text-align: right;\n",
       "    }\n",
       "</style>\n",
       "<table border=\"1\" class=\"dataframe\">\n",
       "  <thead>\n",
       "    <tr style=\"text-align: right;\">\n",
       "      <th></th>\n",
       "      <th>x</th>\n",
       "      <th>z</th>\n",
       "      <th>y</th>\n",
       "    </tr>\n",
       "  </thead>\n",
       "  <tbody>\n",
       "    <tr>\n",
       "      <th>0</th>\n",
       "      <td>124</td>\n",
       "      <td>0</td>\n",
       "      <td>0</td>\n",
       "    </tr>\n",
       "    <tr>\n",
       "      <th>1</th>\n",
       "      <td>64</td>\n",
       "      <td>1</td>\n",
       "      <td>1</td>\n",
       "    </tr>\n",
       "    <tr>\n",
       "      <th>2</th>\n",
       "      <td>11</td>\n",
       "      <td>1</td>\n",
       "      <td>1</td>\n",
       "    </tr>\n",
       "    <tr>\n",
       "      <th>3</th>\n",
       "      <td>20</td>\n",
       "      <td>1</td>\n",
       "      <td>0</td>\n",
       "    </tr>\n",
       "    <tr>\n",
       "      <th>4</th>\n",
       "      <td>68</td>\n",
       "      <td>0</td>\n",
       "      <td>0</td>\n",
       "    </tr>\n",
       "  </tbody>\n",
       "</table>\n",
       "</div>"
      ],
      "text/plain": [
       "     x  z  y\n",
       "0  124  0  0\n",
       "1   64  1  1\n",
       "2   11  1  1\n",
       "3   20  1  0\n",
       "4   68  0  0"
      ]
     },
     "execution_count": 11,
     "metadata": {},
     "output_type": "execute_result"
    }
   ],
   "source": [
    "dataset.head()"
   ]
  },
  {
   "cell_type": "code",
   "execution_count": 12,
   "metadata": {},
   "outputs": [],
   "source": [
    "train_data = dataset.iloc[0:6000]\n",
    "test_data = dataset.iloc[6000:]"
   ]
  },
  {
   "cell_type": "code",
   "execution_count": 13,
   "metadata": {},
   "outputs": [
    {
     "name": "stdout",
     "output_type": "stream",
     "text": [
      "training size: (6000, 3)\n",
      "testing size: (1214, 3)\n"
     ]
    }
   ],
   "source": [
    "print(\"training size:\", train_data.shape)\n",
    "print(\"testing size:\", test_data.shape)"
   ]
  },
  {
   "cell_type": "markdown",
   "metadata": {},
   "source": [
    "# model"
   ]
  },
  {
   "cell_type": "code",
   "execution_count": 14,
   "metadata": {},
   "outputs": [],
   "source": [
    "class DirichletModel:\n",
    "    def __init__(self, n_x, n_z, n_y, prior):\n",
    "        self.X = n_x\n",
    "        self.Y = n_y\n",
    "        self.Z = n_z\n",
    "        \n",
    "        # why we have this fractoriazation?\n",
    "        self.N_x = prior + np.zeros(shape = (n_x, 1) )\n",
    "        self.N_y_x = prior + np.zeros(shape = (n_y, n_x) )\n",
    "        self.N_z_yx = prior + np.zeros(shape = (n_z, n_y, n_x) )\n",
    "        \n",
    "        # prop\n",
    "        self.Px = np.zeros(shape = (n_x, 1) )\n",
    "        self.Py_x = np.zeros(shape = (n_y, n_x) )\n",
    "        self.Pz_yx = np.zeros(shape = (n_z, n_y, n_x) )\n",
    "    \n",
    "    def update_posterior_belief(self, data):\n",
    "        for i , datum in data.iterrows():\n",
    "            self.N_x[datum[\"x\"]] += 1\n",
    "            self.N_y_x[datum[\"y\"], datum[\"x\"]] += 1\n",
    "            self.N_z_yx[datum[\"z\"], datum[\"y\"], datum[\"x\"]] += 1\n",
    "        \n",
    "    def calculate_marginal_propabilities(self):\n",
    "        # calculate Prop\n",
    "        self.Pxyz =  np.zeros(shape = (self.X, self.Y, self.Z) )\n",
    "        self.Pxy = np.zeros(shape = (self.X, self.Y) )\n",
    "        self.Pyz = np.zeros(shape = (self.Y, self.Z) )\n",
    "        self.Px_yz = np.zeros(shape = (self.X, self.Y, self.Z) )\n",
    "        \n",
    "        # calculate Pxyz\n",
    "        for x in range(self.X):\n",
    "            for y in range(self.Y):\n",
    "                for z in range(self.Z):\n",
    "                    # calculate Pxyz\n",
    "                    self.Pxyz[x, y, z] = self.Pz_yx[z, y, x] * self.Py_x[y, x] * self.Px[x]\n",
    "        \n",
    "        # calculate Px_yz \n",
    "        for y in range(self.Y):\n",
    "            for z in range(self.Z):\n",
    "                self.Pyz[y, z] = np.sum(self.Pxyz[:, y, z])    \n",
    "                for x in range(self.X):\n",
    "                    self.Pxy[x, y] = np.sum(self.Pxyz[x, y, :])\n",
    "                    self.Px_yz[x, y, z] = self.Pxyz[x, y, z] / self.Pyz[y, z]\n",
    "        \n",
    "        # calculate Px_y\n",
    "        self.Py = np.zeros(shape = (self.Y, 1) )\n",
    "        self.Px_y = np.zeros(shape = (self.X, self.Y) )\n",
    "        for y in range(self.Y):\n",
    "            self.Py[y] = np.sum(self.Pxyz[:, y, :])\n",
    "            for x in range(self.X):\n",
    "                self.Px_y[x,y] = self.Pxy[x,y] / self.Py[y]\n",
    "                \n",
    "    def get_marginal_model(self):\n",
    "        self.Px = self.N_x / np.sum(self.N_x)\n",
    "        self.Py_x = self.N_y_x / np.sum(self.N_y_x, axis=0)\n",
    "        self.Pz_yx = self.N_z_yx / np.sum(self.N_z_yx, axis=0)\n",
    "        self.calculate_marginal_propabilities()\n",
    "        \n",
    "    def sample_model(self):\n",
    "        self.Px = np.random.dirichlet( np.ravel(dirichlet_model.N_x) ).reshape((-1,1))\n",
    "        \n",
    "        for y in range(self.Y):\n",
    "            self.Py_x[y, :] = np.random.dirichlet(self.N_y_x[y,:])\n",
    "        \n",
    "        for y in range(self.Y):\n",
    "            for z in range(self.Z):\n",
    "                self.Pz_yx[z, y, :] = np.random.dirichlet(self.N_z_yx[z, y, :])\n",
    "        \n",
    "        self.calculate_marginal_propabilities()"
   ]
  },
  {
   "cell_type": "code",
   "execution_count": 15,
   "metadata": {},
   "outputs": [],
   "source": [
    "dirichlet_prior = 0.5\n",
    "true_dirichlet_model = DirichletModel(n_x = n_x, n_z = n_z, n_y = n_y, prior = dirichlet_prior)"
   ]
  },
  {
   "cell_type": "code",
   "execution_count": 16,
   "metadata": {},
   "outputs": [],
   "source": [
    "true_dirichlet_model.update_posterior_belief(data=test_data)\n",
    "true_dirichlet_model.get_marginal_model()"
   ]
  },
  {
   "cell_type": "code",
   "execution_count": 18,
   "metadata": {},
   "outputs": [
    {
     "ename": "AttributeError",
     "evalue": "'DirichletModel' object has no attribute 'Pz_y'",
     "output_type": "error",
     "traceback": [
      "\u001b[0;31m---------------------------------------------------------------------------\u001b[0m",
      "\u001b[0;31mAttributeError\u001b[0m                            Traceback (most recent call last)",
      "Cell \u001b[0;32mIn[18], line 1\u001b[0m\n\u001b[0;32m----> 1\u001b[0m \u001b[43mtrue_dirichlet_model\u001b[49m\u001b[38;5;241;43m.\u001b[39;49m\u001b[43mPz_y\u001b[49m\n",
      "\u001b[0;31mAttributeError\u001b[0m: 'DirichletModel' object has no attribute 'Pz_y'"
     ]
    }
   ],
   "source": [
    "true_dirichlet_model.Pz_y"
   ]
  },
  {
   "cell_type": "markdown",
   "metadata": {},
   "source": [
    "# Functions"
   ]
  },
  {
   "cell_type": "markdown",
   "metadata": {},
   "source": [
    "#### policy"
   ]
  },
  {
   "cell_type": "code",
   "execution_count": 17,
   "metadata": {},
   "outputs": [],
   "source": [
    "def get_random_policy(size):\n",
    "    a = np.ones(shape=size[0])\n",
    "    policy = np.random.dirichlet(a, size= size[1])\n",
    "    return np.transpose(policy)\n",
    "\n",
    "def get_random_policy_2(size):\n",
    "    policy = np.random.random(size = size)\n",
    "    return policy"
   ]
  },
  {
   "cell_type": "code",
   "execution_count": 18,
   "metadata": {},
   "outputs": [],
   "source": [
    "policy = get_random_policy(size = (2,2))"
   ]
  },
  {
   "cell_type": "code",
   "execution_count": 19,
   "metadata": {},
   "outputs": [],
   "source": [
    "def normilize_policy(policy):\n",
    "    policy[policy < 0] = 0\n",
    "    policy[policy > 1] = 1\n",
    "    for x in range(policy.shape[-1]):\n",
    "        policy[:, x] /= np.sum(policy[:, x])\n",
    "    return policy"
   ]
  },
  {
   "cell_type": "markdown",
   "metadata": {},
   "source": [
    "#### delta"
   ]
  },
  {
   "cell_type": "code",
   "execution_count": 20,
   "metadata": {},
   "outputs": [],
   "source": [
    "def get_delta(Px_y, Px_yz):\n",
    "    delta = np.zeros(Px_yz.shape)\n",
    "    for z in range(Px_yz.shape[-1]):\n",
    "        delta[:, :, z] = Px_y - Px_yz[:,:,z]\n",
    "    return delta"
   ]
  },
  {
   "cell_type": "markdown",
   "metadata": {},
   "source": [
    "#### utility"
   ]
  },
  {
   "cell_type": "code",
   "execution_count": 21,
   "metadata": {},
   "outputs": [],
   "source": [
    "def get_eye_utility(size):\n",
    "    return np.eye(size)"
   ]
  },
  {
   "cell_type": "markdown",
   "metadata": {},
   "source": [
    "# Algorithm"
   ]
  },
  {
   "cell_type": "markdown",
   "metadata": {},
   "source": [
    "### 1. set parameters"
   ]
  },
  {
   "cell_type": "code",
   "execution_count": 22,
   "metadata": {},
   "outputs": [],
   "source": [
    "# --- data parameters\n",
    "horizon = train_data.shape[0]\n",
    "\n",
    "num_X = n_x # number of features\n",
    "num_Y = n_y # number of outcomes\n",
    "num_Z = n_z # number of sensitive features\n",
    "num_A = 2 # number of actions\n",
    "\n",
    "# --- SGD parameters\n",
    "n_iter = 400 # number of itteration for SGD\n",
    "lr = 1.0 # learning rate\n",
    "\n",
    "# --- Algorithm parameters\n",
    "update_policy_period = 100 # period to update policy\n",
    "l = 0.0 # lambda\n",
    "n_samples = 16 # number of sample for bayssian policy\n",
    "\n",
    "# --- Utility\n",
    "utility = get_eye_utility(size=num_A)"
   ]
  },
  {
   "cell_type": "markdown",
   "metadata": {},
   "source": [
    "### 2. initializition"
   ]
  },
  {
   "cell_type": "code",
   "execution_count": 23,
   "metadata": {},
   "outputs": [],
   "source": [
    "# initialize belief\n",
    "belief = DirichletModel(n_x = num_X, n_y=num_Y, n_z=num_Z, prior = 0.5)\n",
    "\n",
    "# initialize policy\n",
    "policy = get_random_policy(size = (num_A, num_X))"
   ]
  },
  {
   "cell_type": "code",
   "execution_count": 24,
   "metadata": {},
   "outputs": [],
   "source": [
    "# get true model delta to avoid computations\n",
    "true_model_delta = get_delta(true_dirichlet_model.Px_y,\n",
    "                             true_dirichlet_model.Px_yz)"
   ]
  },
  {
   "cell_type": "markdown",
   "metadata": {},
   "source": [
    "### 3.  main loop"
   ]
  },
  {
   "cell_type": "markdown",
   "metadata": {},
   "source": [
    "#### fairness functions"
   ]
  },
  {
   "cell_type": "code",
   "execution_count": 25,
   "metadata": {},
   "outputs": [],
   "source": [
    "def get_fairness(policy, model_delta):\n",
    "    (X, Y, Z) = model_delta.shape\n",
    "    fairness = 0\n",
    "    for y in range(Y):\n",
    "        for z in range(Z):\n",
    "            delta = np.matmul(policy, model_delta[:, y , z ])\n",
    "            fairness += np.linalg.norm(delta, 1)\n",
    "    return fairness"
   ]
  },
  {
   "cell_type": "code",
   "execution_count": 26,
   "metadata": {},
   "outputs": [],
   "source": [
    "def get_fairness_gradient(policy, model_delta):\n",
    "    \"\"\"\n",
    "    Todo: vectorize operation\n",
    "    \"\"\"\n",
    "    fairness_gradient = np.zeros(policy.shape)\n",
    "    \n",
    "    (X, Y, Z) = model_delta.shape\n",
    "    for y in range(Y):\n",
    "        for z in range(Z):\n",
    "            dyz = model_delta[:,y,z].reshape((-1,1))\n",
    "            c = np.matmul(policy, dyz)\n",
    "            fairness_gradient -= np.matmul(c, dyz.T)\n",
    "    \n",
    "    return fairness_gradient"
   ]
  },
  {
   "cell_type": "markdown",
   "metadata": {},
   "source": [
    "#### utility functions"
   ]
  },
  {
   "cell_type": "code",
   "execution_count": 27,
   "metadata": {},
   "outputs": [],
   "source": [
    "def get_utility(policy, model, utility):\n",
    "    \"\"\"\n",
    "    Calculate expected utility\n",
    "    Todo: vectorize operation - minor\n",
    "    \"\"\"\n",
    "    A, X = policy.shape\n",
    "    Y = A\n",
    "    Eu = 0\n",
    "    for x in range(X):\n",
    "        for y in range(Y):\n",
    "            for a in range(A):\n",
    "                Eu += utility[a,y] * policy[a,x] * model.Pxy[x,y]\n",
    "                \n",
    "    return Eu"
   ]
  },
  {
   "cell_type": "code",
   "execution_count": 28,
   "metadata": {},
   "outputs": [],
   "source": [
    "def get_utility_gradient(policy, model, utility):\n",
    "    \"\"\"\n",
    "    Todo: vectorize operation\n",
    "    \"\"\"\n",
    "    utility_gradient = np.matmul(utility, model.Pxy.T )\n",
    "    \n",
    "    \n",
    "    return utility_gradient"
   ]
  },
  {
   "cell_type": "markdown",
   "metadata": {},
   "source": [
    "#### gradient fun"
   ]
  },
  {
   "cell_type": "code",
   "execution_count": 29,
   "metadata": {},
   "outputs": [],
   "source": [
    "def project_gradient(grad):\n",
    "    proj_grad = grad - np.mean(grad,axis=0)\n",
    "    return proj_grad"
   ]
  },
  {
   "cell_type": "markdown",
   "metadata": {},
   "source": [
    "#### opt functions"
   ]
  },
  {
   "cell_type": "code",
   "execution_count": 30,
   "metadata": {},
   "outputs": [],
   "source": [
    "def evaluate(true_model, true_model_delta, policy, utility, l):\n",
    "    \"\"\"\n",
    "    Evaluate policy on true model\n",
    "    \"\"\"\n",
    "    results = {}\n",
    "    results[\"fairness\"] = np.round(get_fairness(policy, true_model_delta),4)\n",
    "    results[\"utility\"] = get_utility(policy, true_model, utility)\n",
    "    results[\"total\"] = (1 - l) * results[\"utility\"] - l * results[\"fairness\"]\n",
    "    return results"
   ]
  },
  {
   "cell_type": "code",
   "execution_count": 31,
   "metadata": {},
   "outputs": [],
   "source": [
    "def update_policy(policy, model, utility, l, lr, n_iter):\n",
    "    \"\"\"\n",
    "    Marginal Policy Dirichlet\n",
    "    \"\"\"\n",
    "    model.get_marginal_model()\n",
    "    model_delta = get_delta(model.Px_y, model.Px_yz)\n",
    "    \n",
    "    for i in range(n_iter):\n",
    "        fairness_gradient = get_fairness_gradient(policy, model_delta)\n",
    "        utility_gradient = get_utility_gradient(policy, model, utility)\n",
    "        gradient = (1 - l) * utility_gradient #+ l * fairness_gradient # minus on the gradient calc.\n",
    "        gradient = project_gradient(gradient)\n",
    "        policy = policy + lr * gradient # maximize Utility & minimize fairness constrain.\n",
    "        policy = normilize_policy(policy)\n",
    "    \n",
    "    return policy"
   ]
  },
  {
   "cell_type": "code",
   "execution_count": 32,
   "metadata": {},
   "outputs": [
    {
     "ename": "NameError",
     "evalue": "name 'stop' is not defined",
     "output_type": "error",
     "traceback": [
      "\u001b[0;31m---------------------------------------------------------------------------\u001b[0m",
      "\u001b[0;31mNameError\u001b[0m                                 Traceback (most recent call last)",
      "Cell \u001b[0;32mIn[32], line 2\u001b[0m\n\u001b[1;32m      1\u001b[0m \u001b[38;5;66;03m# reproduce results\u001b[39;00m\n\u001b[0;32m----> 2\u001b[0m \u001b[43mstop\u001b[49m\n",
      "\u001b[0;31mNameError\u001b[0m: name 'stop' is not defined"
     ]
    }
   ],
   "source": [
    "# reproduce results\n",
    "stop"
   ]
  },
  {
   "cell_type": "code",
   "execution_count": 33,
   "metadata": {},
   "outputs": [],
   "source": [
    "def load_org_policy(org_path_results):\n",
    "    file = pd.read_csv(org_path_results + \"/policy.csv\")\n",
    "    p_1 = file.iloc[4].values\n",
    "    p_2 = file.iloc[5].values\n",
    "    p_1 = [float(x) for x in p_1[0].split(\" \")[1:]]\n",
    "    p_2 = [float(x) for x in p_2[0].split(\" \")[1:]]\n",
    "    return np.array([p_1, p_2])\n",
    "# [float(x) for x in p_1[0].split(\" \")[1:]]"
   ]
  },
  {
   "cell_type": "code",
   "execution_count": 34,
   "metadata": {},
   "outputs": [
    {
     "data": {
      "text/plain": [
       "(2, 141)"
      ]
     },
     "execution_count": 34,
     "metadata": {},
     "output_type": "execute_result"
    }
   ],
   "source": [
    "org_path_results = \"/Users/andreasathanasopoulos/Phd/projects/bayesian_fairness/org_code/bayesian-fairness/src/octave\"\n",
    "policy = load_org_policy(org_path_results)\n",
    "policy.shape"
   ]
  },
  {
   "cell_type": "code",
   "execution_count": 35,
   "metadata": {},
   "outputs": [
    {
     "name": "stdout",
     "output_type": "stream",
     "text": [
      "--- Step : 1 \n",
      "  ------- {'fairness': 1.1328, 'utility': 0.5050240490474278, 'total': 0.5050240490474278}\n",
      "--- Step : 101 \n",
      "  ------- {'fairness': 3.3365, 'utility': 0.5938041040480013, 'total': 0.5938041040480013}\n",
      "--- Step : 201 \n",
      "  ------- {'fairness': 3.5245, 'utility': 0.6206253673034527, 'total': 0.6206253673034527}\n",
      "--- Step : 301 \n",
      "  ------- {'fairness': 3.5052, 'utility': 0.624201910685571, 'total': 0.624201910685571}\n",
      "--- Step : 401 \n",
      "  ------- {'fairness': 3.4325, 'utility': 0.6293839295501689, 'total': 0.6293839295501689}\n",
      "--- Step : 501 \n",
      "  ------- {'fairness': 3.4111, 'utility': 0.6320653248569688, 'total': 0.6320653248569688}\n",
      "--- Step : 601 \n",
      "  ------- {'fairness': 3.4083, 'utility': 0.6330624157818358, 'total': 0.6330624157818358}\n",
      "--- Step : 701 \n",
      "  ------- {'fairness': 3.3596, 'utility': 0.6352212586541315, 'total': 0.6352212586541315}\n",
      "--- Step : 801 \n",
      "  ------- {'fairness': 3.3703, 'utility': 0.6341229655754912, 'total': 0.6341229655754912}\n",
      "--- Step : 901 \n",
      "  ------- {'fairness': 3.3312, 'utility': 0.6354249338287329, 'total': 0.6354249338287329}\n",
      "--- Step : 1001 \n",
      "  ------- {'fairness': 3.31, 'utility': 0.6363866169053415, 'total': 0.6363866169053415}\n",
      "--- Step : 1101 \n",
      "  ------- {'fairness': 3.304, 'utility': 0.6365487378395772, 'total': 0.6365487378395772}\n",
      "--- Step : 1201 \n",
      "  ------- {'fairness': 3.3014, 'utility': 0.637094103208541, 'total': 0.637094103208541}\n",
      "--- Step : 1301 \n",
      "  ------- {'fairness': 3.3046, 'utility': 0.6372611749598409, 'total': 0.6372611749598409}\n",
      "--- Step : 1401 \n",
      "  ------- {'fairness': 3.3209, 'utility': 0.6365970124118698, 'total': 0.6365970124118698}\n",
      "--- Step : 1501 \n",
      "  ------- {'fairness': 3.3195, 'utility': 0.63645420285457, 'total': 0.63645420285457}\n",
      "--- Step : 1601 \n",
      "  ------- {'fairness': 3.3185, 'utility': 0.6360905678571561, 'total': 0.6360905678571561}\n",
      "--- Step : 1701 \n",
      "  ------- {'fairness': 3.3363, 'utility': 0.6354104996843744, 'total': 0.6354104996843744}\n",
      "--- Step : 1801 \n",
      "  ------- {'fairness': 3.2709, 'utility': 0.6340591072193348, 'total': 0.6340591072193348}\n",
      "--- Step : 1901 \n",
      "  ------- {'fairness': 3.2225, 'utility': 0.6327031004075032, 'total': 0.6327031004075032}\n",
      "--- Step : 2001 \n",
      "  ------- {'fairness': 3.4585, 'utility': 0.63087940303516, 'total': 0.63087940303516}\n",
      "--- Step : 2101 \n",
      "  ------- {'fairness': 3.4451, 'utility': 0.6305296330908743, 'total': 0.6305296330908743}\n",
      "--- Step : 2201 \n",
      "  ------- {'fairness': 3.4372, 'utility': 0.630229472176836, 'total': 0.630229472176836}\n",
      "--- Step : 2301 \n",
      "  ------- {'fairness': 3.3608, 'utility': 0.6300622436666972, 'total': 0.6300622436666972}\n",
      "--- Step : 2401 \n",
      "  ------- {'fairness': 3.4266, 'utility': 0.6296429585758103, 'total': 0.6296429585758103}\n",
      "--- Step : 2501 \n",
      "  ------- {'fairness': 3.4263, 'utility': 0.6293722436118923, 'total': 0.6293722436118923}\n",
      "--- Step : 2601 \n",
      "  ------- {'fairness': 3.4228, 'utility': 0.6290049810932763, 'total': 0.6290049810932763}\n",
      "--- Step : 2701 \n",
      "  ------- {'fairness': 3.4337, 'utility': 0.6289768242385114, 'total': 0.6289768242385114}\n",
      "--- Step : 2801 \n",
      "  ------- {'fairness': 3.4434, 'utility': 0.6289591672300759, 'total': 0.6289591672300759}\n",
      "--- Step : 2901 \n",
      "  ------- {'fairness': 3.4325, 'utility': 0.6292425974320006, 'total': 0.6292425974320006}\n",
      "--- Step : 3001 \n",
      "  ------- {'fairness': 3.446, 'utility': 0.6293903408080214, 'total': 0.6293903408080214}\n",
      "--- Step : 3101 \n",
      "  ------- {'fairness': 3.4346, 'utility': 0.6299559679347597, 'total': 0.6299559679347597}\n",
      "--- Step : 3201 \n",
      "  ------- {'fairness': 3.4202, 'utility': 0.6300643686819373, 'total': 0.6300643686819373}\n",
      "--- Step : 3301 \n",
      "  ------- {'fairness': 3.4149, 'utility': 0.6302724926883795, 'total': 0.6302724926883795}\n",
      "--- Step : 3401 \n",
      "  ------- {'fairness': 3.3849, 'utility': 0.6308703685171849, 'total': 0.6308703685171849}\n",
      "--- Step : 3501 \n",
      "  ------- {'fairness': 3.3276, 'utility': 0.6315618823921088, 'total': 0.6315618823921088}\n",
      "--- Step : 3601 \n",
      "  ------- {'fairness': 3.1792, 'utility': 0.6318831255130208, 'total': 0.6318831255130208}\n",
      "--- Step : 3701 \n",
      "  ------- {'fairness': 3.1693, 'utility': 0.6322866062355946, 'total': 0.6322866062355946}\n",
      "--- Step : 3801 \n",
      "  ------- {'fairness': 3.1808, 'utility': 0.632758866600419, 'total': 0.632758866600419}\n",
      "--- Step : 3901 \n",
      "  ------- {'fairness': 3.1904, 'utility': 0.6328932591990584, 'total': 0.6328932591990584}\n",
      "--- Step : 4001 \n",
      "  ------- {'fairness': 3.2055, 'utility': 0.6331315140573498, 'total': 0.6331315140573498}\n",
      "--- Step : 4101 \n",
      "  ------- {'fairness': 3.225, 'utility': 0.6334959607827112, 'total': 0.6334959607827112}\n",
      "--- Step : 4201 \n",
      "  ------- {'fairness': 3.2577, 'utility': 0.6342561043522098, 'total': 0.6342561043522098}\n",
      "--- Step : 4301 \n",
      "  ------- {'fairness': 3.2997, 'utility': 0.6352915707076315, 'total': 0.6352915707076315}\n",
      "--- Step : 4401 \n",
      "  ------- {'fairness': 3.3416, 'utility': 0.6369131710827008, 'total': 0.6369131710827008}\n",
      "--- Step : 4501 \n",
      "  ------- {'fairness': 3.3662, 'utility': 0.63801954957218, 'total': 0.63801954957218}\n",
      "--- Step : 4601 \n",
      "  ------- {'fairness': 3.3932, 'utility': 0.6391046018820318, 'total': 0.6391046018820318}\n",
      "--- Step : 4701 \n",
      "  ------- {'fairness': 3.4173, 'utility': 0.6396472941347259, 'total': 0.6396472941347259}\n",
      "--- Step : 4801 \n",
      "  ------- {'fairness': 3.4596, 'utility': 0.6406886809005525, 'total': 0.6406886809005525}\n",
      "--- Step : 4901 \n",
      "  ------- {'fairness': 3.4978, 'utility': 0.6415947455267113, 'total': 0.6415947455267113}\n",
      "--- Step : 5001 \n",
      "  ------- {'fairness': 3.5086, 'utility': 0.6417379015068891, 'total': 0.6417379015068891}\n",
      "--- Step : 5101 \n",
      "  ------- {'fairness': 3.4353, 'utility': 0.642135968874257, 'total': 0.642135968874257}\n",
      "--- Step : 5201 \n",
      "  ------- {'fairness': 3.2964, 'utility': 0.643046700631235, 'total': 0.643046700631235}\n",
      "--- Step : 5301 \n",
      "  ------- {'fairness': 3.2354, 'utility': 0.6439067202163967, 'total': 0.6439067202163967}\n",
      "--- Step : 5401 \n",
      "  ------- {'fairness': 3.267, 'utility': 0.6443725542025508, 'total': 0.6443725542025508}\n",
      "--- Step : 5501 \n",
      "  ------- {'fairness': 3.3044, 'utility': 0.6448158311713359, 'total': 0.6448158311713359}\n",
      "--- Step : 5601 \n",
      "  ------- {'fairness': 3.3198, 'utility': 0.6450073576052083, 'total': 0.6450073576052083}\n",
      "--- Step : 5701 \n",
      "  ------- {'fairness': 3.3387, 'utility': 0.6452107426429486, 'total': 0.6452107426429486}\n",
      "--- Step : 5801 \n",
      "  ------- {'fairness': 3.3691, 'utility': 0.6454288976388255, 'total': 0.6454288976388255}\n",
      "--- Step : 5901 \n",
      "  ------- {'fairness': 3.4048, 'utility': 0.6455469067738172, 'total': 0.6455469067738172}\n"
     ]
    }
   ],
   "source": [
    "steps = horizon // update_policy_period\n",
    "\n",
    "results = []\n",
    "for step in range(steps):    \n",
    "    # update policy step\n",
    "    policy = update_policy(policy, belief, utility, l, lr, n_iter) # SDG to update policy\n",
    "    \n",
    "    # evaluation step\n",
    "    step_results = evaluate(true_dirichlet_model, true_model_delta, policy, utility, l)\n",
    "    results += [step_results]\n",
    "    \n",
    "    # update belief step\n",
    "    data_start_index = step * update_policy_period\n",
    "    data_stop_index = min(data_start_index + update_policy_period, horizon)\n",
    "    belief.update_posterior_belief(train_data.iloc[data_start_index : data_stop_index])\n",
    "    \n",
    "    print(f\"--- Step : {data_start_index + 1} \\n  ------- {step_results}\")\n",
    "    "
   ]
  },
  {
   "cell_type": "code",
   "execution_count": 36,
   "metadata": {},
   "outputs": [
    {
     "data": {
      "text/html": [
       "<div>\n",
       "<style scoped>\n",
       "    .dataframe tbody tr th:only-of-type {\n",
       "        vertical-align: middle;\n",
       "    }\n",
       "\n",
       "    .dataframe tbody tr th {\n",
       "        vertical-align: top;\n",
       "    }\n",
       "\n",
       "    .dataframe thead th {\n",
       "        text-align: right;\n",
       "    }\n",
       "</style>\n",
       "<table border=\"1\" class=\"dataframe\">\n",
       "  <thead>\n",
       "    <tr style=\"text-align: right;\">\n",
       "      <th></th>\n",
       "      <th>x</th>\n",
       "      <th>z</th>\n",
       "      <th>y</th>\n",
       "    </tr>\n",
       "  </thead>\n",
       "  <tbody>\n",
       "    <tr>\n",
       "      <th>5900</th>\n",
       "      <td>126</td>\n",
       "      <td>1</td>\n",
       "      <td>0</td>\n",
       "    </tr>\n",
       "    <tr>\n",
       "      <th>5901</th>\n",
       "      <td>64</td>\n",
       "      <td>8</td>\n",
       "      <td>1</td>\n",
       "    </tr>\n",
       "    <tr>\n",
       "      <th>5902</th>\n",
       "      <td>13</td>\n",
       "      <td>1</td>\n",
       "      <td>1</td>\n",
       "    </tr>\n",
       "    <tr>\n",
       "      <th>5903</th>\n",
       "      <td>97</td>\n",
       "      <td>1</td>\n",
       "      <td>0</td>\n",
       "    </tr>\n",
       "    <tr>\n",
       "      <th>5904</th>\n",
       "      <td>1</td>\n",
       "      <td>1</td>\n",
       "      <td>0</td>\n",
       "    </tr>\n",
       "    <tr>\n",
       "      <th>...</th>\n",
       "      <td>...</td>\n",
       "      <td>...</td>\n",
       "      <td>...</td>\n",
       "    </tr>\n",
       "    <tr>\n",
       "      <th>5995</th>\n",
       "      <td>68</td>\n",
       "      <td>1</td>\n",
       "      <td>1</td>\n",
       "    </tr>\n",
       "    <tr>\n",
       "      <th>5996</th>\n",
       "      <td>64</td>\n",
       "      <td>6</td>\n",
       "      <td>1</td>\n",
       "    </tr>\n",
       "    <tr>\n",
       "      <th>5997</th>\n",
       "      <td>128</td>\n",
       "      <td>2</td>\n",
       "      <td>1</td>\n",
       "    </tr>\n",
       "    <tr>\n",
       "      <th>5998</th>\n",
       "      <td>67</td>\n",
       "      <td>1</td>\n",
       "      <td>0</td>\n",
       "    </tr>\n",
       "    <tr>\n",
       "      <th>5999</th>\n",
       "      <td>126</td>\n",
       "      <td>8</td>\n",
       "      <td>0</td>\n",
       "    </tr>\n",
       "  </tbody>\n",
       "</table>\n",
       "<p>100 rows × 3 columns</p>\n",
       "</div>"
      ],
      "text/plain": [
       "        x  z  y\n",
       "5900  126  1  0\n",
       "5901   64  8  1\n",
       "5902   13  1  1\n",
       "5903   97  1  0\n",
       "5904    1  1  0\n",
       "...   ... .. ..\n",
       "5995   68  1  1\n",
       "5996   64  6  1\n",
       "5997  128  2  1\n",
       "5998   67  1  0\n",
       "5999  126  8  0\n",
       "\n",
       "[100 rows x 3 columns]"
      ]
     },
     "execution_count": 36,
     "metadata": {},
     "output_type": "execute_result"
    }
   ],
   "source": [
    "train_data.iloc[data_start_index : data_stop_index]"
   ]
  },
  {
   "cell_type": "code",
   "execution_count": 37,
   "metadata": {},
   "outputs": [],
   "source": [
    "pd_resutls = pd.DataFrame(results)"
   ]
  },
  {
   "cell_type": "markdown",
   "metadata": {},
   "source": [
    "# plots"
   ]
  },
  {
   "cell_type": "code",
   "execution_count": 54,
   "metadata": {},
   "outputs": [
    {
     "data": {
      "text/plain": [
       "<AxesSubplot: >"
      ]
     },
     "execution_count": 54,
     "metadata": {},
     "output_type": "execute_result"
    },
    {
     "data": {
      "image/png": "[encoded data removed]",
      "text/plain": [
       "<Figure size 640x480 with 1 Axes>"
      ]
     },
     "metadata": {},
     "output_type": "display_data"
    }
   ],
   "source": [
    "pd_resutls[[\"utility\"]].plot()"
   ]
  },
  {
   "cell_type": "code",
   "execution_count": 55,
   "metadata": {},
   "outputs": [
    {
     "ename": "ValueError",
     "evalue": "the number of columns changed from 2 to 1 at row 185; use `usecols` to select a subset and avoid this error",
     "output_type": "error",
     "traceback": [
      "\u001b[0;31m---------------------------------------------------------------------------\u001b[0m",
      "\u001b[0;31mValueError\u001b[0m                                Traceback (most recent call last)",
      "Cell \u001b[0;32mIn[55], line 2\u001b[0m\n\u001b[1;32m      1\u001b[0m \u001b[38;5;66;03m# load org resutls\u001b[39;00m\n\u001b[0;32m----> 2\u001b[0m org \u001b[38;5;241m=\u001b[39m \u001b[43mnp\u001b[49m\u001b[38;5;241;43m.\u001b[39;49m\u001b[43mloadtxt\u001b[49m\u001b[43m(\u001b[49m\u001b[43morg_path_results\u001b[49m\u001b[43m \u001b[49m\u001b[38;5;241;43m+\u001b[39;49m\u001b[43m \u001b[49m\u001b[38;5;124;43m\"\u001b[39;49m\u001b[38;5;124;43m/results.csv\u001b[39;49m\u001b[38;5;124;43m\"\u001b[39;49m\u001b[43m)\u001b[49m\n\u001b[1;32m      3\u001b[0m org \u001b[38;5;241m=\u001b[39m org[:,\u001b[38;5;241m1\u001b[39m][\u001b[38;5;241m1\u001b[39m:]\u001b[38;5;241m.\u001b[39mreshape((\u001b[38;5;241m4\u001b[39m,\u001b[38;5;241m-\u001b[39m\u001b[38;5;241m1\u001b[39m))\n\u001b[1;32m      5\u001b[0m org_pd \u001b[38;5;241m=\u001b[39m pd\u001b[38;5;241m.\u001b[39mDataFrame( columns\u001b[38;5;241m=\u001b[39m [\u001b[38;5;124m\"\u001b[39m\u001b[38;5;124mutility\u001b[39m\u001b[38;5;124m\"\u001b[39m,\u001b[38;5;124m\"\u001b[39m\u001b[38;5;124mfairness\u001b[39m\u001b[38;5;124m\"\u001b[39m,\u001b[38;5;124m\"\u001b[39m\u001b[38;5;124mtotal\u001b[39m\u001b[38;5;124m\"\u001b[39m])\n",
      "File \u001b[0;32m~/Phd/projects/bayesian_fairness/envs/bayesian-fairness/lib/python3.9/site-packages/numpy/lib/npyio.py:1348\u001b[0m, in \u001b[0;36mloadtxt\u001b[0;34m(fname, dtype, comments, delimiter, converters, skiprows, usecols, unpack, ndmin, encoding, max_rows, quotechar, like)\u001b[0m\n\u001b[1;32m   1345\u001b[0m \u001b[38;5;28;01mif\u001b[39;00m \u001b[38;5;28misinstance\u001b[39m(delimiter, \u001b[38;5;28mbytes\u001b[39m):\n\u001b[1;32m   1346\u001b[0m     delimiter \u001b[38;5;241m=\u001b[39m delimiter\u001b[38;5;241m.\u001b[39mdecode(\u001b[38;5;124m'\u001b[39m\u001b[38;5;124mlatin1\u001b[39m\u001b[38;5;124m'\u001b[39m)\n\u001b[0;32m-> 1348\u001b[0m arr \u001b[38;5;241m=\u001b[39m \u001b[43m_read\u001b[49m\u001b[43m(\u001b[49m\u001b[43mfname\u001b[49m\u001b[43m,\u001b[49m\u001b[43m \u001b[49m\u001b[43mdtype\u001b[49m\u001b[38;5;241;43m=\u001b[39;49m\u001b[43mdtype\u001b[49m\u001b[43m,\u001b[49m\u001b[43m \u001b[49m\u001b[43mcomment\u001b[49m\u001b[38;5;241;43m=\u001b[39;49m\u001b[43mcomment\u001b[49m\u001b[43m,\u001b[49m\u001b[43m \u001b[49m\u001b[43mdelimiter\u001b[49m\u001b[38;5;241;43m=\u001b[39;49m\u001b[43mdelimiter\u001b[49m\u001b[43m,\u001b[49m\n\u001b[1;32m   1349\u001b[0m \u001b[43m            \u001b[49m\u001b[43mconverters\u001b[49m\u001b[38;5;241;43m=\u001b[39;49m\u001b[43mconverters\u001b[49m\u001b[43m,\u001b[49m\u001b[43m \u001b[49m\u001b[43mskiplines\u001b[49m\u001b[38;5;241;43m=\u001b[39;49m\u001b[43mskiprows\u001b[49m\u001b[43m,\u001b[49m\u001b[43m \u001b[49m\u001b[43musecols\u001b[49m\u001b[38;5;241;43m=\u001b[39;49m\u001b[43musecols\u001b[49m\u001b[43m,\u001b[49m\n\u001b[1;32m   1350\u001b[0m \u001b[43m            \u001b[49m\u001b[43munpack\u001b[49m\u001b[38;5;241;43m=\u001b[39;49m\u001b[43munpack\u001b[49m\u001b[43m,\u001b[49m\u001b[43m \u001b[49m\u001b[43mndmin\u001b[49m\u001b[38;5;241;43m=\u001b[39;49m\u001b[43mndmin\u001b[49m\u001b[43m,\u001b[49m\u001b[43m \u001b[49m\u001b[43mencoding\u001b[49m\u001b[38;5;241;43m=\u001b[39;49m\u001b[43mencoding\u001b[49m\u001b[43m,\u001b[49m\n\u001b[1;32m   1351\u001b[0m \u001b[43m            \u001b[49m\u001b[43mmax_rows\u001b[49m\u001b[38;5;241;43m=\u001b[39;49m\u001b[43mmax_rows\u001b[49m\u001b[43m,\u001b[49m\u001b[43m \u001b[49m\u001b[43mquote\u001b[49m\u001b[38;5;241;43m=\u001b[39;49m\u001b[43mquotechar\u001b[49m\u001b[43m)\u001b[49m\n\u001b[1;32m   1353\u001b[0m \u001b[38;5;28;01mreturn\u001b[39;00m arr\n",
      "File \u001b[0;32m~/Phd/projects/bayesian_fairness/envs/bayesian-fairness/lib/python3.9/site-packages/numpy/lib/npyio.py:999\u001b[0m, in \u001b[0;36m_read\u001b[0;34m(fname, delimiter, comment, quote, imaginary_unit, usecols, skiplines, max_rows, converters, ndmin, unpack, dtype, encoding)\u001b[0m\n\u001b[1;32m    996\u001b[0m     data \u001b[38;5;241m=\u001b[39m _preprocess_comments(data, comments, encoding)\n\u001b[1;32m    998\u001b[0m \u001b[38;5;28;01mif\u001b[39;00m read_dtype_via_object_chunks \u001b[38;5;129;01mis\u001b[39;00m \u001b[38;5;28;01mNone\u001b[39;00m:\n\u001b[0;32m--> 999\u001b[0m     arr \u001b[38;5;241m=\u001b[39m \u001b[43m_load_from_filelike\u001b[49m\u001b[43m(\u001b[49m\n\u001b[1;32m   1000\u001b[0m \u001b[43m        \u001b[49m\u001b[43mdata\u001b[49m\u001b[43m,\u001b[49m\u001b[43m \u001b[49m\u001b[43mdelimiter\u001b[49m\u001b[38;5;241;43m=\u001b[39;49m\u001b[43mdelimiter\u001b[49m\u001b[43m,\u001b[49m\u001b[43m \u001b[49m\u001b[43mcomment\u001b[49m\u001b[38;5;241;43m=\u001b[39;49m\u001b[43mcomment\u001b[49m\u001b[43m,\u001b[49m\u001b[43m \u001b[49m\u001b[43mquote\u001b[49m\u001b[38;5;241;43m=\u001b[39;49m\u001b[43mquote\u001b[49m\u001b[43m,\u001b[49m\n\u001b[1;32m   1001\u001b[0m \u001b[43m        \u001b[49m\u001b[43mimaginary_unit\u001b[49m\u001b[38;5;241;43m=\u001b[39;49m\u001b[43mimaginary_unit\u001b[49m\u001b[43m,\u001b[49m\n\u001b[1;32m   1002\u001b[0m \u001b[43m        \u001b[49m\u001b[43musecols\u001b[49m\u001b[38;5;241;43m=\u001b[39;49m\u001b[43musecols\u001b[49m\u001b[43m,\u001b[49m\u001b[43m \u001b[49m\u001b[43mskiplines\u001b[49m\u001b[38;5;241;43m=\u001b[39;49m\u001b[43mskiplines\u001b[49m\u001b[43m,\u001b[49m\u001b[43m \u001b[49m\u001b[43mmax_rows\u001b[49m\u001b[38;5;241;43m=\u001b[39;49m\u001b[43mmax_rows\u001b[49m\u001b[43m,\u001b[49m\n\u001b[1;32m   1003\u001b[0m \u001b[43m        \u001b[49m\u001b[43mconverters\u001b[49m\u001b[38;5;241;43m=\u001b[39;49m\u001b[43mconverters\u001b[49m\u001b[43m,\u001b[49m\u001b[43m \u001b[49m\u001b[43mdtype\u001b[49m\u001b[38;5;241;43m=\u001b[39;49m\u001b[43mdtype\u001b[49m\u001b[43m,\u001b[49m\n\u001b[1;32m   1004\u001b[0m \u001b[43m        \u001b[49m\u001b[43mencoding\u001b[49m\u001b[38;5;241;43m=\u001b[39;49m\u001b[43mencoding\u001b[49m\u001b[43m,\u001b[49m\u001b[43m \u001b[49m\u001b[43mfilelike\u001b[49m\u001b[38;5;241;43m=\u001b[39;49m\u001b[43mfilelike\u001b[49m\u001b[43m,\u001b[49m\n\u001b[1;32m   1005\u001b[0m \u001b[43m        \u001b[49m\u001b[43mbyte_converters\u001b[49m\u001b[38;5;241;43m=\u001b[39;49m\u001b[43mbyte_converters\u001b[49m\u001b[43m)\u001b[49m\n\u001b[1;32m   1007\u001b[0m \u001b[38;5;28;01melse\u001b[39;00m:\n\u001b[1;32m   1008\u001b[0m     \u001b[38;5;66;03m# This branch reads the file into chunks of object arrays and then\u001b[39;00m\n\u001b[1;32m   1009\u001b[0m     \u001b[38;5;66;03m# casts them to the desired actual dtype.  This ensures correct\u001b[39;00m\n\u001b[1;32m   1010\u001b[0m     \u001b[38;5;66;03m# string-length and datetime-unit discovery (like `arr.astype()`).\u001b[39;00m\n\u001b[1;32m   1011\u001b[0m     \u001b[38;5;66;03m# Due to chunking, certain error reports are less clear, currently.\u001b[39;00m\n\u001b[1;32m   1012\u001b[0m     \u001b[38;5;28;01mif\u001b[39;00m filelike:\n",
      "\u001b[0;31mValueError\u001b[0m: the number of columns changed from 2 to 1 at row 185; use `usecols` to select a subset and avoid this error"
     ]
    }
   ],
   "source": [
    "# load org resutls\n",
    "org = np.loadtxt(org_path_results + \"/results.csv\")\n",
    "org = org[:,1][1:].reshape((4,-1))\n",
    "\n",
    "org_pd = pd.DataFrame( columns= [\"utility\",\"fairness\",\"total\"])\n",
    "org_pd[\"utility\"] = org[0]\n",
    "org_pd[\"fairness\"] = org[2]\n",
    "org_pd[\"total\"] = org[1]"
   ]
  },
  {
   "cell_type": "code",
   "execution_count": 53,
   "metadata": {},
   "outputs": [
    {
     "data": {
      "text/plain": [
       "<AxesSubplot: >"
      ]
     },
     "execution_count": 53,
     "metadata": {},
     "output_type": "execute_result"
    },
    {
     "data": {
      "image/png": "[encoded data removed]",
      "text/plain": [
       "<Figure size 640x480 with 1 Axes>"
      ]
     },
     "metadata": {},
     "output_type": "display_data"
    }
   ],
   "source": [
    "org_pd[\"utility\"].plot()\n",
    "pd_resutls[\"utility\"].plot()"
   ]
  },
  {
   "cell_type": "code",
   "execution_count": 51,
   "metadata": {},
   "outputs": [
    {
     "data": {
      "image/png": "[encoded data removed]",
      "text/plain": [
       "<Figure size 640x480 with 1 Axes>"
      ]
     },
     "metadata": {},
     "output_type": "display_data"
    },
    {
     "data": {
      "image/png": "[encoded data removed]",
      "text/plain": [
       "<Figure size 640x480 with 1 Axes>"
      ]
     },
     "metadata": {},
     "output_type": "display_data"
    }
   ],
   "source": [
    "import matplotlib.pyplot as plt\n",
    "\n",
    "plt.figure()\n",
    "plt.plot(org_pd[\"utility\"], label = \"original code results\")\n",
    "plt.plot(pd_resutls[\"utility\"], label = \"new code results\")\n",
    "plt.title(\"Utility\")\n",
    "plt.legend()\n",
    "plt.show()\n",
    "\n",
    "plt.figure()\n",
    "plt.plot(org_pd[\"fairness\"], label = \"original code results\")\n",
    "plt.plot(pd_resutls[\"fairness\"], label = \"new code results\")\n",
    "plt.title(\"Fairness\")\n",
    "plt.legend()\n",
    "plt.show()\n"
   ]
  },
  {
   "cell_type": "code",
   "execution_count": null,
   "metadata": {},
   "outputs": [],
   "source": [
    "org_pd[\"fairness\"].plot()\n",
    "pd_resutls[\"fairness\"].plot()"
   ]
  },
  {
   "cell_type": "markdown",
   "metadata": {},
   "source": [
    "# Questions"
   ]
  },
  {
   "cell_type": "code",
   "execution_count": null,
   "metadata": {},
   "outputs": [],
   "source": [
    "1. ProjectPolicyGradient ???"
   ]
  },
  {
   "cell_type": "code",
   "execution_count": null,
   "metadata": {},
   "outputs": [],
   "source": []
  }
 ],
 "metadata": {
  "kernelspec": {
   "display_name": "Python 3 (ipykernel)",
   "language": "python",
   "name": "python3"
  },
  "language_info": {
   "codemirror_mode": {
    "name": "ipython",
    "version": 3
   },
   "file_extension": ".py",
   "mimetype": "text/x-python",
   "name": "python",
   "nbconvert_exporter": "python",
   "pygments_lexer": "ipython3",
   "version": "3.9.12"
  }
 },
 "nbformat": 4,
 "nbformat_minor": 1
}
