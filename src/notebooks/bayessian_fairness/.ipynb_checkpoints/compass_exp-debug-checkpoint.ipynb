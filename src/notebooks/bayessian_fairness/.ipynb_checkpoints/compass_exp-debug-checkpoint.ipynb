{
 "cells": [
  {
   "cell_type": "code",
   "execution_count": 1,
   "metadata": {},
   "outputs": [],
   "source": [
    "import pandas as pd\n",
    "import numpy as np"
   ]
  },
  {
   "cell_type": "code",
   "execution_count": 2,
   "metadata": {},
   "outputs": [],
   "source": [
    "exp_name = \"exp_compass\"\n",
    "exp_number = \"exp_1\"\n",
    "base_path = \"/Users/andreasathanasopoulos/Phd/projects/bayesian_fairness/\"\n",
    "data_path = base_path + \"/my_code/Bayesian-fairness/data\"\n",
    "save_path = base_path + f\"/my_code/Bayesian-fairness/results/{exp_name}/{exp_number}\""
   ]
  },
  {
   "cell_type": "markdown",
   "metadata": {},
   "source": [
    "# load data\n"
   ]
  },
  {
   "cell_type": "code",
   "execution_count": 3,
   "metadata": {},
   "outputs": [],
   "source": [
    "# set atributes\n",
    "Z_atr = [\"sex\", \"race\"]\n",
    "X_atr = ['age_cat', 'juv_fel_count', 'juv_misd_count', 'juv_other_count', 'priors_count', 'c_charge_degree']\n",
    "Y_atr = ['two_year_recid']"
   ]
  },
  {
   "cell_type": "code",
   "execution_count": 4,
   "metadata": {},
   "outputs": [],
   "source": [
    "def load_compas_dataset(path, clip_features, clip_value):\n",
    "    raw_data = pd.read_csv(path + \"/compas.csv\")\n",
    "    raw_data[raw_data[clip_features] > 2] = 2\n",
    "    return raw_data"
   ]
  },
  {
   "cell_type": "code",
   "execution_count": 5,
   "metadata": {},
   "outputs": [],
   "source": [
    "clip_features = [\"juv_fel_count\", \"juv_misd_count\", \"juv_other_count\", \"priors_count\"]\n",
    "data = load_compas_dataset(path = data_path, clip_features = clip_features, clip_value = 2)"
   ]
  },
  {
   "cell_type": "code",
   "execution_count": 6,
   "metadata": {},
   "outputs": [],
   "source": [
    "# get distinct values\n",
    "unique_z = np.unique(data[Z_atr].values, axis=0)\n",
    "n_z = len(unique_z)\n",
    "\n",
    "unique_x = np.unique(data[X_atr].values, axis=0)\n",
    "n_x = len(unique_x)\n",
    "\n",
    "unique_y = np.unique(data[Y_atr].values, axis=0)\n",
    "n_y = len(unique_y)"
   ]
  },
  {
   "cell_type": "code",
   "execution_count": 7,
   "metadata": {},
   "outputs": [
    {
     "name": "stdout",
     "output_type": "stream",
     "text": [
      "Unique Z values: 12\n",
      "Unique X values: 141\n",
      "Unique Y values: 2\n"
     ]
    }
   ],
   "source": [
    "print(\"Unique Z values:\", n_z)\n",
    "print(\"Unique X values:\", n_x)\n",
    "print(\"Unique Y values:\", n_y)"
   ]
  },
  {
   "cell_type": "code",
   "execution_count": 8,
   "metadata": {},
   "outputs": [],
   "source": [
    "def encode_data(data,unique_values):\n",
    "    encoded_value = np.array([])\n",
    "    for i, d in data.iterrows():\n",
    "        # encode feature to an index represents the unique value.\n",
    "        index = np.argmax((d.values == unique_values).all(axis=1))\n",
    "        encoded_value = np.append(encoded_value, index)\n",
    "    return encoded_value.astype(int)"
   ]
  },
  {
   "cell_type": "code",
   "execution_count": 9,
   "metadata": {},
   "outputs": [],
   "source": [
    "def create_compact_dataset():\n",
    "    # encode z\n",
    "    encoded_z = encode_data(data[Z_atr], unique_z)\n",
    "    assert (int(max(encoded_z))+1) == len(unique_z)\n",
    "    \n",
    "    # encode x\n",
    "    encoded_x = encode_data(data[X_atr], unique_x)\n",
    "    assert (int(max(encoded_x))+1) == len(unique_x)\n",
    "    \n",
    "    # encode y\n",
    "    encoded_y = encode_data(data[Y_atr], unique_y)\n",
    "    assert (int(max(encoded_y))+1) == len(unique_y)\n",
    "\n",
    "    return np.stack([encoded_x, encoded_z, encoded_y],axis=1)"
   ]
  },
  {
   "cell_type": "code",
   "execution_count": 10,
   "metadata": {},
   "outputs": [],
   "source": [
    "dataset = create_compact_dataset()\n",
    "dataset = pd.DataFrame(dataset,columns = [\"x\",\"z\", \"y\"])"
   ]
  },
  {
   "cell_type": "code",
   "execution_count": 11,
   "metadata": {},
   "outputs": [
    {
     "data": {
      "text/html": [
       "<div>\n",
       "<style scoped>\n",
       "    .dataframe tbody tr th:only-of-type {\n",
       "        vertical-align: middle;\n",
       "    }\n",
       "\n",
       "    .dataframe tbody tr th {\n",
       "        vertical-align: top;\n",
       "    }\n",
       "\n",
       "    .dataframe thead th {\n",
       "        text-align: right;\n",
       "    }\n",
       "</style>\n",
       "<table border=\"1\" class=\"dataframe\">\n",
       "  <thead>\n",
       "    <tr style=\"text-align: right;\">\n",
       "      <th></th>\n",
       "      <th>x</th>\n",
       "      <th>z</th>\n",
       "      <th>y</th>\n",
       "    </tr>\n",
       "  </thead>\n",
       "  <tbody>\n",
       "    <tr>\n",
       "      <th>0</th>\n",
       "      <td>124</td>\n",
       "      <td>0</td>\n",
       "      <td>0</td>\n",
       "    </tr>\n",
       "    <tr>\n",
       "      <th>1</th>\n",
       "      <td>64</td>\n",
       "      <td>1</td>\n",
       "      <td>1</td>\n",
       "    </tr>\n",
       "    <tr>\n",
       "      <th>2</th>\n",
       "      <td>11</td>\n",
       "      <td>1</td>\n",
       "      <td>1</td>\n",
       "    </tr>\n",
       "    <tr>\n",
       "      <th>3</th>\n",
       "      <td>20</td>\n",
       "      <td>1</td>\n",
       "      <td>0</td>\n",
       "    </tr>\n",
       "    <tr>\n",
       "      <th>4</th>\n",
       "      <td>68</td>\n",
       "      <td>0</td>\n",
       "      <td>0</td>\n",
       "    </tr>\n",
       "  </tbody>\n",
       "</table>\n",
       "</div>"
      ],
      "text/plain": [
       "     x  z  y\n",
       "0  124  0  0\n",
       "1   64  1  1\n",
       "2   11  1  1\n",
       "3   20  1  0\n",
       "4   68  0  0"
      ]
     },
     "execution_count": 11,
     "metadata": {},
     "output_type": "execute_result"
    }
   ],
   "source": [
    "dataset.head()"
   ]
  },
  {
   "cell_type": "code",
   "execution_count": 12,
   "metadata": {},
   "outputs": [],
   "source": [
    "train_data = dataset.iloc[0:6000]\n",
    "test_data = dataset.iloc[6000:]"
   ]
  },
  {
   "cell_type": "code",
   "execution_count": 13,
   "metadata": {},
   "outputs": [
    {
     "name": "stdout",
     "output_type": "stream",
     "text": [
      "training size: (6000, 3)\n",
      "testing size: (1214, 3)\n"
     ]
    }
   ],
   "source": [
    "print(\"training size:\", train_data.shape)\n",
    "print(\"testing size:\", test_data.shape)"
   ]
  },
  {
   "cell_type": "markdown",
   "metadata": {},
   "source": [
    "# model"
   ]
  },
  {
   "cell_type": "code",
   "execution_count": 14,
   "metadata": {},
   "outputs": [],
   "source": [
    "class DirichletModel:\n",
    "    def __init__(self, n_x, n_z, n_y, prior):\n",
    "        self.X = n_x\n",
    "        self.Y = n_y\n",
    "        self.Z = n_z\n",
    "        \n",
    "        # why we have this fractoriazation?\n",
    "        self.N_x = prior + np.zeros(shape = (n_x, 1) )\n",
    "        self.N_y_x = prior + np.zeros(shape = (n_y, n_x) )\n",
    "        self.N_z_yx = prior + np.zeros(shape = (n_z, n_y, n_x) )\n",
    "        \n",
    "        # prop\n",
    "        self.Px = np.zeros(shape = (n_x, 1) )\n",
    "        self.Py_x = np.zeros(shape = (n_y, n_x) )\n",
    "        self.Pz_yx = np.zeros(shape = (n_z, n_y, n_x) )\n",
    "    \n",
    "    def update_posterior_belief(self, data):\n",
    "        for i , datum in data.iterrows():\n",
    "            self.N_x[datum[\"x\"]] += 1\n",
    "            self.N_y_x[datum[\"y\"], datum[\"x\"]] += 1\n",
    "            self.N_z_yx[datum[\"z\"], datum[\"y\"], datum[\"x\"]] += 1\n",
    "        \n",
    "    def calculate_marginal_propabilities(self):\n",
    "        # calculate Prop\n",
    "        self.Pxyz =  np.zeros(shape = (self.X, self.Y, self.Z) )\n",
    "        self.Pxy = np.zeros(shape = (self.X, self.Y) )\n",
    "        self.Pyz = np.zeros(shape = (self.Y, self.Z) )\n",
    "        self.Px_yz = np.zeros(shape = (self.X, self.Y, self.Z) )\n",
    "        \n",
    "        # calculate Pxyz\n",
    "        for x in range(self.X):\n",
    "            for y in range(self.Y):\n",
    "                for z in range(self.Z):\n",
    "                    # calculate Pxyz\n",
    "                    self.Pxyz[x, y, z] = self.Pz_yx[z, y, x] * self.Py_x[y, x] * self.Px[x]\n",
    "        \n",
    "        # calculate Px_yz \n",
    "        for y in range(self.Y):\n",
    "            for z in range(self.Z):\n",
    "                self.Pyz[y, z] = np.sum(self.Pxyz[:, y, z])    \n",
    "                for x in range(self.X):\n",
    "                    self.Pxy[x, y] = np.sum(self.Pxyz[x, y, :])\n",
    "                    self.Px_yz[x, y, z] = self.Pxyz[x, y, z] / self.Pyz[y, z]\n",
    "        \n",
    "        # calculate Px_y\n",
    "        self.Py = np.zeros(shape = (self.Y, 1) )\n",
    "        self.Px_y = np.zeros(shape = (self.X, self.Y) )\n",
    "        for y in range(self.Y):\n",
    "            self.Py[y] = np.sum(self.Pxyz[:, y, :])\n",
    "            for x in range(self.X):\n",
    "                self.Px_y[x,y] = self.Pxy[x,y] / self.Py[y]\n",
    "                \n",
    "    def get_marginal_model(self):\n",
    "        self.Px = self.N_x / np.sum(self.N_x)\n",
    "        self.Py_x = self.N_y_x / np.sum(self.N_y_x, axis=0)\n",
    "        self.Pz_yx = self.N_z_yx / np.sum(self.N_z_yx, axis=0)\n",
    "        self.calculate_marginal_propabilities()\n",
    "        \n",
    "    def sample_model(self):\n",
    "        self.Px = np.random.dirichlet( np.ravel(dirichlet_model.N_x) ).reshape((-1,1))\n",
    "        \n",
    "        for y in range(self.Y):\n",
    "            self.Py_x[y, :] = np.random.dirichlet(self.N_y_x[y,:])\n",
    "        \n",
    "        for y in range(self.Y):\n",
    "            for z in range(self.Z):\n",
    "                self.Pz_yx[z, y, :] = np.random.dirichlet(self.N_z_yx[z, y, :])\n",
    "        \n",
    "        self.calculate_marginal_propabilities()"
   ]
  },
  {
   "cell_type": "code",
   "execution_count": 15,
   "metadata": {},
   "outputs": [],
   "source": [
    "dirichlet_prior = 0.5\n",
    "true_dirichlet_model = DirichletModel(n_x = n_x, n_z = n_z, n_y = n_y, prior = dirichlet_prior)"
   ]
  },
  {
   "cell_type": "code",
   "execution_count": 16,
   "metadata": {},
   "outputs": [],
   "source": [
    "true_dirichlet_model.update_posterior_belief(data=test_data)\n",
    "true_dirichlet_model.get_marginal_model()"
   ]
  },
  {
   "cell_type": "markdown",
   "metadata": {},
   "source": [
    "# Functions"
   ]
  },
  {
   "cell_type": "markdown",
   "metadata": {},
   "source": [
    "#### policy"
   ]
  },
  {
   "cell_type": "code",
   "execution_count": 17,
   "metadata": {},
   "outputs": [],
   "source": [
    "def get_random_policy(size):\n",
    "    a = np.ones(shape=size[0])\n",
    "    policy = np.random.dirichlet(a, size= size[1])\n",
    "    return np.transpose(policy)\n",
    "\n",
    "def get_random_policy_2(size):\n",
    "    policy = np.random.random(size = size)\n",
    "    return policy"
   ]
  },
  {
   "cell_type": "code",
   "execution_count": 18,
   "metadata": {},
   "outputs": [],
   "source": [
    "policy = get_random_policy(size = (2,2))"
   ]
  },
  {
   "cell_type": "code",
   "execution_count": 19,
   "metadata": {},
   "outputs": [],
   "source": [
    "def normilize_policy(policy):\n",
    "    policy[policy < 0] = 0\n",
    "    policy[policy > 1] = 1\n",
    "    for x in range(policy.shape[-1]):\n",
    "        policy[:, x] /= np.sum(policy[:, x])\n",
    "    return policy"
   ]
  },
  {
   "cell_type": "markdown",
   "metadata": {},
   "source": [
    "#### delta"
   ]
  },
  {
   "cell_type": "code",
   "execution_count": 20,
   "metadata": {},
   "outputs": [],
   "source": [
    "def get_delta(Px_y, Px_yz):\n",
    "    delta = np.zeros(Px_yz.shape)\n",
    "    for z in range(Px_yz.shape[-1]):\n",
    "        delta[:, :, z] = Px_y - Px_yz[:,:,z]\n",
    "    return delta"
   ]
  },
  {
   "cell_type": "markdown",
   "metadata": {},
   "source": [
    "#### utility"
   ]
  },
  {
   "cell_type": "code",
   "execution_count": 21,
   "metadata": {},
   "outputs": [],
   "source": [
    "def get_eye_utility(size):\n",
    "    return np.eye(size)"
   ]
  },
  {
   "cell_type": "markdown",
   "metadata": {},
   "source": [
    "# Algorithm"
   ]
  },
  {
   "cell_type": "markdown",
   "metadata": {},
   "source": [
    "### 1. set parameters"
   ]
  },
  {
   "cell_type": "code",
   "execution_count": 22,
   "metadata": {},
   "outputs": [],
   "source": [
    "# --- data parameters\n",
    "horizon = train_data.shape[0]\n",
    "\n",
    "num_X = n_x # number of features\n",
    "num_Y = n_y # number of outcomes\n",
    "num_Z = n_z # number of sensitive features\n",
    "num_A = 2 # number of actions\n",
    "\n",
    "# --- SGD parameters\n",
    "n_iter = 400 # number of itteration for SGD\n",
    "lr = 1.0 # learning rate\n",
    "\n",
    "# --- Algorithm parameters\n",
    "update_policy_period = 100 # period to update policy\n",
    "l = 0.0 # lambda\n",
    "n_samples = 16 # number of sample for bayssian policy\n",
    "\n",
    "# --- Utility\n",
    "utility = get_eye_utility(size=num_A)"
   ]
  },
  {
   "cell_type": "markdown",
   "metadata": {},
   "source": [
    "### 2. initializition"
   ]
  },
  {
   "cell_type": "code",
   "execution_count": 23,
   "metadata": {},
   "outputs": [],
   "source": [
    "# initialize belief\n",
    "belief = DirichletModel(n_x = num_X, n_y=num_Y, n_z=num_Z, prior = 0.5)\n",
    "\n",
    "# initialize policy\n",
    "policy = get_random_policy(size = (num_A, num_X))"
   ]
  },
  {
   "cell_type": "code",
   "execution_count": 24,
   "metadata": {},
   "outputs": [],
   "source": [
    "# get true model delta to avoid computations\n",
    "true_model_delta = get_delta(true_dirichlet_model.Px_y,\n",
    "                             true_dirichlet_model.Px_yz)"
   ]
  },
  {
   "cell_type": "markdown",
   "metadata": {},
   "source": [
    "### 3.  main loop"
   ]
  },
  {
   "cell_type": "markdown",
   "metadata": {},
   "source": [
    "#### fairness functions"
   ]
  },
  {
   "cell_type": "code",
   "execution_count": 25,
   "metadata": {},
   "outputs": [],
   "source": [
    "def get_fairness(policy, model_delta):\n",
    "    (X, Y, Z) = model_delta.shape\n",
    "    fairness = 0\n",
    "    for y in range(Y):\n",
    "        for z in range(Z):\n",
    "            delta = np.matmul(policy, model_delta[:, y , z ])\n",
    "            fairness += np.linalg.norm(delta, 1)\n",
    "    return fairness"
   ]
  },
  {
   "cell_type": "code",
   "execution_count": 26,
   "metadata": {},
   "outputs": [],
   "source": [
    "def get_fairness_gradient(policy, model_delta):\n",
    "    \"\"\"\n",
    "    Todo: vectorize operation\n",
    "    \"\"\"\n",
    "    fairness_gradient = np.zeros(policy.shape)\n",
    "    \n",
    "    (X, Y, Z) = model_delta.shape\n",
    "    for y in range(Y):\n",
    "        for z in range(Z):\n",
    "            dyz = model_delta[:,y,z].reshape((-1,1))\n",
    "            c = np.matmul(policy, dyz)\n",
    "            fairness_gradient -= np.matmul(c, dyz.T)\n",
    "    \n",
    "    return fairness_gradient"
   ]
  },
  {
   "cell_type": "markdown",
   "metadata": {},
   "source": [
    "#### utility functions"
   ]
  },
  {
   "cell_type": "code",
   "execution_count": 27,
   "metadata": {},
   "outputs": [],
   "source": [
    "def get_utility(policy, model, utility):\n",
    "    \"\"\"\n",
    "    Calculate expected utility\n",
    "    Todo: vectorize operation - minor\n",
    "    \"\"\"\n",
    "    A, X = policy.shape\n",
    "    Y = A\n",
    "    Eu = 0\n",
    "    for x in range(X):\n",
    "        for y in range(Y):\n",
    "            for a in range(A):\n",
    "                Eu += utility[a,y] * policy[a,x] * model.Pxy[x,y]\n",
    "                \n",
    "    return Eu"
   ]
  },
  {
   "cell_type": "code",
   "execution_count": 28,
   "metadata": {},
   "outputs": [],
   "source": [
    "def get_utility_gradient(policy, model, utility):\n",
    "    \"\"\"\n",
    "    Todo: vectorize operation\n",
    "    \"\"\"\n",
    "    utility_gradient = np.matmul(utility, model.Pxy.T )\n",
    "    \n",
    "    \n",
    "    return utility_gradient"
   ]
  },
  {
   "cell_type": "markdown",
   "metadata": {},
   "source": [
    "#### gradient fun"
   ]
  },
  {
   "cell_type": "code",
   "execution_count": 29,
   "metadata": {},
   "outputs": [],
   "source": [
    "def project_gradient(grad):\n",
    "    proj_grad = grad - np.mean(grad,axis=0)\n",
    "    return proj_grad"
   ]
  },
  {
   "cell_type": "markdown",
   "metadata": {},
   "source": [
    "#### opt functions"
   ]
  },
  {
   "cell_type": "code",
   "execution_count": 30,
   "metadata": {},
   "outputs": [],
   "source": [
    "def evaluate(true_model, true_model_delta, policy, utility, l):\n",
    "    \"\"\"\n",
    "    Evaluate policy on true model\n",
    "    \"\"\"\n",
    "    results = {}\n",
    "    results[\"fairness\"] = np.round(get_fairness(policy, true_model_delta),4)\n",
    "    results[\"utility\"] = get_utility(policy, true_model, utility)\n",
    "    results[\"total\"] = (1 - l) * results[\"utility\"] - l * results[\"fairness\"]\n",
    "    return results"
   ]
  },
  {
   "cell_type": "code",
   "execution_count": 31,
   "metadata": {},
   "outputs": [],
   "source": [
    "def update_policy(policy, model, utility, l, lr, n_iter):\n",
    "    \"\"\"\n",
    "    Marginal Policy Dirichlet\n",
    "    \"\"\"\n",
    "    model.get_marginal_model()\n",
    "    model_delta = get_delta(model.Px_y, model.Px_yz)\n",
    "    \n",
    "    for i in range(n_iter):\n",
    "        fairness_gradient = get_fairness_gradient(policy, model_delta)\n",
    "        utility_gradient = get_utility_gradient(policy, model, utility)\n",
    "        gradient = (1 - l) * utility_gradient #+ l * fairness_gradient # minus on the gradient calc.\n",
    "        gradient = project_gradient(gradient)\n",
    "        policy = policy + lr * gradient # maximize Utility & minimize fairness constrain.\n",
    "        policy = normilize_policy(policy)\n",
    "    \n",
    "    return policy"
   ]
  },
  {
   "cell_type": "code",
   "execution_count": 32,
   "metadata": {},
   "outputs": [
    {
     "ename": "NameError",
     "evalue": "name 'stop' is not defined",
     "output_type": "error",
     "traceback": [
      "\u001b[0;31m---------------------------------------------------------------------------\u001b[0m",
      "\u001b[0;31mNameError\u001b[0m                                 Traceback (most recent call last)",
      "Cell \u001b[0;32mIn[32], line 2\u001b[0m\n\u001b[1;32m      1\u001b[0m \u001b[38;5;66;03m# reproduce results\u001b[39;00m\n\u001b[0;32m----> 2\u001b[0m \u001b[43mstop\u001b[49m\n",
      "\u001b[0;31mNameError\u001b[0m: name 'stop' is not defined"
     ]
    }
   ],
   "source": [
    "# reproduce results\n",
    "stop"
   ]
  },
  {
   "cell_type": "code",
   "execution_count": 33,
   "metadata": {},
   "outputs": [],
   "source": [
    "def load_org_policy(org_path_results):\n",
    "    file = pd.read_csv(org_path_results + \"/policy.csv\")\n",
    "    p_1 = file.iloc[4].values\n",
    "    p_2 = file.iloc[5].values\n",
    "    p_1 = [float(x) for x in p_1[0].split(\" \")[1:]]\n",
    "    p_2 = [float(x) for x in p_2[0].split(\" \")[1:]]\n",
    "    return np.array([p_1, p_2])\n",
    "# [float(x) for x in p_1[0].split(\" \")[1:]]"
   ]
  },
  {
   "cell_type": "code",
   "execution_count": 34,
   "metadata": {},
   "outputs": [
    {
     "data": {
      "text/plain": [
       "(2, 141)"
      ]
     },
     "execution_count": 34,
     "metadata": {},
     "output_type": "execute_result"
    }
   ],
   "source": [
    "org_path_results = \"/Users/andreasathanasopoulos/Phd/projects/bayesian_fairness/org_code/bayesian-fairness/src/octave\"\n",
    "policy = load_org_policy(org_path_results)\n",
    "policy.shape"
   ]
  },
  {
   "cell_type": "code",
   "execution_count": 35,
   "metadata": {},
   "outputs": [
    {
     "name": "stdout",
     "output_type": "stream",
     "text": [
      "--- Step : 1 \n",
      "  ------- {'fairness': 2.4964, 'utility': 0.4804503987963803, 'total': 0.4804503987963803}\n",
      "--- Step : 101 \n",
      "  ------- {'fairness': 3.0544, 'utility': 0.593558238915516, 'total': 0.593558238915516}\n",
      "--- Step : 201 \n",
      "  ------- {'fairness': 3.421, 'utility': 0.6268056744835391, 'total': 0.6268056744835391}\n",
      "--- Step : 301 \n",
      "  ------- {'fairness': 3.4055, 'utility': 0.632643747289617, 'total': 0.632643747289617}\n",
      "--- Step : 401 \n",
      "  ------- {'fairness': 3.3421, 'utility': 0.6329126421540926, 'total': 0.6329126421540926}\n",
      "--- Step : 501 \n",
      "  ------- {'fairness': 3.3171, 'utility': 0.635558470900539, 'total': 0.635558470900539}\n",
      "--- Step : 601 \n",
      "  ------- {'fairness': 3.3283, 'utility': 0.6355650355262692, 'total': 0.6355650355262692}\n",
      "--- Step : 701 \n",
      "  ------- {'fairness': 3.2618, 'utility': 0.639169321035949, 'total': 0.639169321035949}\n",
      "--- Step : 801 \n",
      "  ------- {'fairness': 3.2889, 'utility': 0.6366605185622436, 'total': 0.6366605185622436}\n",
      "--- Step : 901 \n",
      "  ------- {'fairness': 3.2509, 'utility': 0.6383588222582414, 'total': 0.6383588222582414}\n",
      "--- Step : 1001 \n",
      "  ------- {'fairness': 3.2358, 'utility': 0.6391595486195141, 'total': 0.6391595486195141}\n",
      "--- Step : 1101 \n",
      "  ------- {'fairness': 3.2367, 'utility': 0.6391844903017042, 'total': 0.6391844903017042}\n",
      "--- Step : 1201 \n",
      "  ------- {'fairness': 3.2593, 'utility': 0.6387632170116103, 'total': 0.6387632170116103}\n",
      "--- Step : 1301 \n",
      "  ------- {'fairness': 3.2701, 'utility': 0.638572216379104, 'total': 0.638572216379104}\n",
      "--- Step : 1401 \n",
      "  ------- {'fairness': 3.2891, 'utility': 0.6375172654561084, 'total': 0.6375172654561084}\n",
      "--- Step : 1501 \n",
      "  ------- {'fairness': 3.3062, 'utility': 0.6372878319349068, 'total': 0.6372878319349068}\n",
      "--- Step : 1601 \n",
      "  ------- {'fairness': 3.3313, 'utility': 0.6361552376968943, 'total': 0.6361552376968943}\n",
      "--- Step : 1701 \n",
      "  ------- {'fairness': 3.3371, 'utility': 0.6355341503450056, 'total': 0.6355341503450056}\n",
      "--- Step : 1801 \n",
      "  ------- {'fairness': 3.2352, 'utility': 0.6339039147728631, 'total': 0.6339039147728631}\n",
      "--- Step : 1901 \n",
      "  ------- {'fairness': 3.4552, 'utility': 0.6316875272593061, 'total': 0.6316875272593061}\n",
      "--- Step : 2001 \n",
      "  ------- {'fairness': 3.3823, 'utility': 0.6299998678410332, 'total': 0.6299998678410332}\n",
      "--- Step : 2101 \n",
      "  ------- {'fairness': 3.3481, 'utility': 0.6295646460179593, 'total': 0.6295646460179593}\n",
      "--- Step : 2201 \n",
      "  ------- {'fairness': 3.323, 'utility': 0.6292114387865309, 'total': 0.6292114387865309}\n",
      "--- Step : 2301 \n",
      "  ------- {'fairness': 3.1847, 'utility': 0.6292549589450747, 'total': 0.6292549589450747}\n",
      "--- Step : 2401 \n",
      "  ------- {'fairness': 3.2815, 'utility': 0.6285836669143295, 'total': 0.6285836669143295}\n",
      "--- Step : 2501 \n",
      "  ------- {'fairness': 3.2953, 'utility': 0.6283738797281608, 'total': 0.6283738797281608}\n",
      "--- Step : 2601 \n",
      "  ------- {'fairness': 3.3354, 'utility': 0.6284907927283933, 'total': 0.6284907927283933}\n",
      "--- Step : 2701 \n",
      "  ------- {'fairness': 3.3676, 'utility': 0.628603485804416, 'total': 0.628603485804416}\n",
      "--- Step : 2801 \n",
      "  ------- {'fairness': 3.3701, 'utility': 0.628868224146713, 'total': 0.628868224146713}\n",
      "--- Step : 2901 \n",
      "  ------- {'fairness': 3.3345, 'utility': 0.6297271962015543, 'total': 0.6297271962015543}\n",
      "--- Step : 3001 \n",
      "  ------- {'fairness': 3.3713, 'utility': 0.6303052811165235, 'total': 0.6303052811165235}\n",
      "--- Step : 3101 \n",
      "  ------- {'fairness': 3.3717, 'utility': 0.6316753027602968, 'total': 0.6316753027602968}\n",
      "--- Step : 3201 \n",
      "  ------- {'fairness': 3.3641, 'utility': 0.6321038615471916, 'total': 0.6321038615471916}\n",
      "--- Step : 3301 \n",
      "  ------- {'fairness': 3.362, 'utility': 0.6326548470194207, 'total': 0.6326548470194207}\n",
      "--- Step : 3401 \n",
      "  ------- {'fairness': 3.3074, 'utility': 0.633981453771894, 'total': 0.633981453771894}\n",
      "--- Step : 3501 \n",
      "  ------- {'fairness': 3.1939, 'utility': 0.6344649647801222, 'total': 0.6344649647801222}\n",
      "--- Step : 3601 \n",
      "  ------- {'fairness': 3.1494, 'utility': 0.6346319935279968, 'total': 0.6346319935279968}\n",
      "--- Step : 3701 \n",
      "  ------- {'fairness': 3.1609, 'utility': 0.6347945923926231, 'total': 0.6347945923926231}\n",
      "--- Step : 3801 \n",
      "  ------- {'fairness': 3.1771, 'utility': 0.6350931323347181, 'total': 0.6350931323347181}\n",
      "--- Step : 3901 \n",
      "  ------- {'fairness': 3.1913, 'utility': 0.635406034251307, 'total': 0.635406034251307}\n",
      "--- Step : 4001 \n",
      "  ------- {'fairness': 3.2137, 'utility': 0.6359255768714694, 'total': 0.6359255768714694}\n",
      "--- Step : 4101 \n",
      "  ------- {'fairness': 3.2478, 'utility': 0.6366964713853792, 'total': 0.6366964713853792}\n",
      "--- Step : 4201 \n",
      "  ------- {'fairness': 3.2923, 'utility': 0.6377404280447673, 'total': 0.6377404280447673}\n",
      "--- Step : 4301 \n",
      "  ------- {'fairness': 3.3496, 'utility': 0.6391253019347712, 'total': 0.6391253019347712}\n",
      "--- Step : 4401 \n",
      "  ------- {'fairness': 3.403, 'utility': 0.6405183802862494, 'total': 0.6405183802862494}\n",
      "--- Step : 4501 \n",
      "  ------- {'fairness': 3.4398, 'utility': 0.6413740375938453, 'total': 0.6413740375938453}\n",
      "--- Step : 4601 \n",
      "  ------- {'fairness': 3.4768, 'utility': 0.64202255968776, 'total': 0.64202255968776}\n",
      "--- Step : 4701 \n",
      "  ------- {'fairness': 3.4958, 'utility': 0.642167166973154, 'total': 0.642167166973154}\n",
      "--- Step : 4801 \n",
      "  ------- {'fairness': 3.5156, 'utility': 0.6423088052146018, 'total': 0.6423088052146018}\n",
      "--- Step : 4901 \n",
      "  ------- {'fairness': 3.525, 'utility': 0.6423814189823948, 'total': 0.6423814189823948}\n",
      "--- Step : 5001 \n",
      "  ------- {'fairness': 3.5332, 'utility': 0.6424163025050107, 'total': 0.6424163025050107}\n",
      "--- Step : 5101 \n",
      "  ------- {'fairness': 3.3873, 'utility': 0.6429887356120706, 'total': 0.6429887356120706}\n",
      "--- Step : 5201 \n",
      "  ------- {'fairness': 3.2521, 'utility': 0.644579567885872, 'total': 0.644579567885872}\n",
      "--- Step : 5301 \n",
      "  ------- {'fairness': 3.2888, 'utility': 0.6451806646966011, 'total': 0.6451806646966011}\n",
      "--- Step : 5401 \n",
      "  ------- {'fairness': 3.2919, 'utility': 0.6454015434305946, 'total': 0.6454015434305946}\n",
      "--- Step : 5501 \n",
      "  ------- {'fairness': 3.3093, 'utility': 0.6456184570136323, 'total': 0.6456184570136323}\n",
      "--- Step : 5601 \n",
      "  ------- {'fairness': 3.3408, 'utility': 0.6459706192308129, 'total': 0.6459706192308129}\n",
      "--- Step : 5701 \n",
      "  ------- {'fairness': 3.3863, 'utility': 0.6463470339759031, 'total': 0.6463470339759031}\n",
      "--- Step : 5801 \n",
      "  ------- {'fairness': 3.4263, 'utility': 0.6467535057198034, 'total': 0.6467535057198034}\n",
      "--- Step : 5901 \n",
      "  ------- {'fairness': 3.4414, 'utility': 0.6469399502404966, 'total': 0.6469399502404966}\n"
     ]
    }
   ],
   "source": [
    "steps = horizon // update_policy_period\n",
    "\n",
    "results = []\n",
    "for step in range(steps):    \n",
    "    # update policy step\n",
    "    policy = update_policy(policy, belief, utility, l, lr, 800) # SDG to update policy\n",
    "    \n",
    "    # evaluation step\n",
    "    step_results = evaluate(true_dirichlet_model, true_model_delta, policy, utility, l)\n",
    "    results += [step_results]\n",
    "    \n",
    "    # update belief step\n",
    "    data_start_index = step * update_policy_period\n",
    "    data_stop_index = min(data_start_index + update_policy_period, horizon)\n",
    "    belief.update_posterior_belief(train_data.iloc[data_start_index : data_stop_index])\n",
    "    \n",
    "    print(f\"--- Step : {data_start_index + 1} \\n  ------- {step_results}\")\n",
    "    "
   ]
  },
  {
   "cell_type": "markdown",
   "metadata": {},
   "source": [
    "# metric on training set"
   ]
  },
  {
   "cell_type": "code",
   "execution_count": 36,
   "metadata": {},
   "outputs": [
    {
     "data": {
      "text/plain": [
       "{'fairness': 3.4414,\n",
       " 'utility': 0.6469399502404966,\n",
       " 'total': 0.6469399502404966}"
      ]
     },
     "execution_count": 36,
     "metadata": {},
     "output_type": "execute_result"
    }
   ],
   "source": [
    "evaluate(true_dirichlet_model, true_model_delta, policy, utility, l)"
   ]
  },
  {
   "cell_type": "code",
   "execution_count": 37,
   "metadata": {},
   "outputs": [
    {
     "data": {
      "text/plain": [
       "{'fairness': 4.0772,\n",
       " 'utility': 0.6497147960187228,\n",
       " 'total': 0.6497147960187228}"
      ]
     },
     "execution_count": 37,
     "metadata": {},
     "output_type": "execute_result"
    }
   ],
   "source": [
    "# get true model delta to avoid computations\n",
    "test_model_delta = get_delta(belief.Px_y,\n",
    "                             belief.Px_yz)\n",
    "evaluate(belief, test_model_delta, policy, utility, l)"
   ]
  },
  {
   "cell_type": "markdown",
   "metadata": {},
   "source": [
    "# \"accuracy\" of policy"
   ]
  },
  {
   "cell_type": "code",
   "execution_count": 38,
   "metadata": {},
   "outputs": [],
   "source": [
    "prob = []\n",
    "for x in test_data[\"x\"].values:\n",
    "    prob += [policy[:,x]]"
   ]
  },
  {
   "cell_type": "code",
   "execution_count": 39,
   "metadata": {},
   "outputs": [],
   "source": [
    "y_pred = np.argmax(prob,axis=1)"
   ]
  },
  {
   "cell_type": "code",
   "execution_count": 40,
   "metadata": {},
   "outputs": [
    {
     "data": {
      "text/plain": [
       "0.6589785831960461"
      ]
     },
     "execution_count": 40,
     "metadata": {},
     "output_type": "execute_result"
    }
   ],
   "source": [
    "from sklearn.metrics import accuracy_score\n",
    "accuracy_score(y_true = test_data[\"y\"].values, y_pred=y_pred)"
   ]
  },
  {
   "cell_type": "markdown",
   "metadata": {},
   "source": [
    "# fairness second try debug"
   ]
  },
  {
   "cell_type": "code",
   "execution_count": 41,
   "metadata": {},
   "outputs": [],
   "source": [
    "def get_fairness_v21(policy, model):\n",
    "    X,Y,Z = model.Pxyz.shape\n",
    "\n",
    "    EF = 0\n",
    "    for y in range(Y):\n",
    "        for z in range(Z):\n",
    "            c1 = []\n",
    "            for x in range(X):\n",
    "                delta_xyz = (model.Px_y[x,y] - model.Px_yz[x,y,z])\n",
    "                c1 += [policy[:,x] * delta_xyz]\n",
    "            c = np.linalg.norm(sum(c1), 1)\n",
    "            EF += c\n",
    "    return EF\n",
    "\n",
    "def get_fairness_v22(policy, model):\n",
    "    X,Y,Z = model.Pxyz.shape\n",
    "\n",
    "    EF = 0\n",
    "    for y in range(Y):\n",
    "        for z in range(Z):\n",
    "            c1 = []\n",
    "            for x in range(X):\n",
    "                delta_xyz = (model.Px_y[x,y] - model.Px_yz[x,y,z])*model.Pz_y[z,y]\n",
    "                c1 += [policy[:,x] * delta_xyz]\n",
    "            c = np.linalg.norm(sum(c1), 1)\n",
    "            EF += c\n",
    "    return EF"
   ]
  },
  {
   "cell_type": "code",
   "execution_count": 42,
   "metadata": {},
   "outputs": [],
   "source": [
    "def empirical_fairness_v21(datas, model, policy):\n",
    "    \n",
    "    X,Y,Z = model.Pxyz.shape\n",
    "\n",
    "    EF = 0\n",
    "    for z in range(Z):\n",
    "        c = 0\n",
    "        for i,(x, y) in datas.iterrows():\n",
    "            delta = (model.Pz_yx[z, y, x]/model.Pz_y[z, y] - 1 )/(model.Py[y])\n",
    "            c += policy[:, x] * delta\n",
    "        c = c/datas.shape[0]\n",
    "        c = np.linalg.norm(c, 1)\n",
    "        EF += c\n",
    "    return EF\n",
    "\n",
    "def empirical_fairness_v22(datas, model, policy):\n",
    "    \n",
    "    X,Y,Z = model.Pxyz.shape\n",
    "\n",
    "    EF = 0\n",
    "    for z in range(Z):\n",
    "        c = 0\n",
    "        for i,(x, y) in datas.iterrows():\n",
    "            delta = (model.Pz_yx[z, y, x] - model.Pz_y[z, y])/ (model.Py[y])\n",
    "            c += policy[:, x] * delta\n",
    "        c = c/datas.shape[0]\n",
    "        c = np.linalg.norm(c, 1)\n",
    "        EF += c\n",
    "    return EF"
   ]
  },
  {
   "cell_type": "code",
   "execution_count": 43,
   "metadata": {},
   "outputs": [
    {
     "data": {
      "text/plain": [
       "3.4413880852987098"
      ]
     },
     "execution_count": 43,
     "metadata": {},
     "output_type": "execute_result"
    }
   ],
   "source": [
    "get_fairness(policy, true_model_delta)"
   ]
  },
  {
   "cell_type": "code",
   "execution_count": 57,
   "metadata": {},
   "outputs": [
    {
     "ename": "AttributeError",
     "evalue": "'DirichletModel' object has no attribute 'Pz_y'",
     "output_type": "error",
     "traceback": [
      "\u001b[0;31m---------------------------------------------------------------------------\u001b[0m",
      "\u001b[0;31mAttributeError\u001b[0m                            Traceback (most recent call last)",
      "Cell \u001b[0;32mIn[57], line 1\u001b[0m\n\u001b[0;32m----> 1\u001b[0m get_fairness_v21(policy, true_dirichlet_model), \u001b[43mget_fairness_v22\u001b[49m\u001b[43m(\u001b[49m\u001b[43mpolicy\u001b[49m\u001b[43m,\u001b[49m\u001b[43m \u001b[49m\u001b[43mtrue_dirichlet_model\u001b[49m\u001b[43m)\u001b[49m\n",
      "Cell \u001b[0;32mIn[41], line 23\u001b[0m, in \u001b[0;36mget_fairness_v22\u001b[0;34m(policy, model)\u001b[0m\n\u001b[1;32m     21\u001b[0m c1 \u001b[38;5;241m=\u001b[39m []\n\u001b[1;32m     22\u001b[0m \u001b[38;5;28;01mfor\u001b[39;00m x \u001b[38;5;129;01min\u001b[39;00m \u001b[38;5;28mrange\u001b[39m(X):\n\u001b[0;32m---> 23\u001b[0m     delta_xyz \u001b[38;5;241m=\u001b[39m (model\u001b[38;5;241m.\u001b[39mPx_y[x,y] \u001b[38;5;241m-\u001b[39m model\u001b[38;5;241m.\u001b[39mPx_yz[x,y,z])\u001b[38;5;241m*\u001b[39m\u001b[43mmodel\u001b[49m\u001b[38;5;241;43m.\u001b[39;49m\u001b[43mPz_y\u001b[49m[z,y]\n\u001b[1;32m     24\u001b[0m     c1 \u001b[38;5;241m+\u001b[39m\u001b[38;5;241m=\u001b[39m [policy[:,x] \u001b[38;5;241m*\u001b[39m delta_xyz]\n\u001b[1;32m     25\u001b[0m c \u001b[38;5;241m=\u001b[39m np\u001b[38;5;241m.\u001b[39mlinalg\u001b[38;5;241m.\u001b[39mnorm(\u001b[38;5;28msum\u001b[39m(c1), \u001b[38;5;241m1\u001b[39m)\n",
      "\u001b[0;31mAttributeError\u001b[0m: 'DirichletModel' object has no attribute 'Pz_y'"
     ]
    }
   ],
   "source": [
    "get_fairness_v21(policy, true_dirichlet_model), get_fairness_v22(policy, true_dirichlet_model)"
   ]
  },
  {
   "cell_type": "code",
   "execution_count": null,
   "metadata": {},
   "outputs": [],
   "source": [
    "datas = test_data[[\"x\",\"y\"]]\n",
    "empirical_fairness_v21(datas, model, policy), empirical_fairness_v22(datas, model, policy)"
   ]
  },
  {
   "cell_type": "code",
   "execution_count": null,
   "metadata": {},
   "outputs": [],
   "source": [
    "model.P"
   ]
  },
  {
   "cell_type": "markdown",
   "metadata": {},
   "source": [
    "# Empirical metrics"
   ]
  },
  {
   "cell_type": "code",
   "execution_count": 45,
   "metadata": {},
   "outputs": [],
   "source": [
    "def get_empirical_utility(policy, model, utility):\n",
    "    \"\"\"\n",
    "    Calculate expected utility\n",
    "    Todo: vectorize operation - minor\n",
    "    \"\"\"\n",
    "    \n",
    "    A, X = policy.shape\n",
    "    Y = A\n",
    "    Eu = 0\n",
    "    for x in train_data[\"x\"].values:\n",
    "        for y in range(Y):\n",
    "            for a in range(A):\n",
    "                Eu += utility[a,y] * policy[a,x] * model.Py_x[y,x]\n",
    "                \n",
    "    return Eu/train_data[\"x\"].shape[0]"
   ]
  },
  {
   "cell_type": "code",
   "execution_count": 46,
   "metadata": {},
   "outputs": [],
   "source": [
    "def get_empirical_utility2(policy, model, utility):\n",
    "    \"\"\"\n",
    "    Calculate expected utility\n",
    "    Todo: vectorize operation - minor\n",
    "    \"\"\"\n",
    "    \n",
    "    A, X = policy.shape\n",
    "    Y = A\n",
    "    Eu = 0\n",
    "    for x, y in train_data[[\"x\",\"y\"]].values:\n",
    "        for a in range(A):\n",
    "            Eu += utility[a, y] * policy[a, x]\n",
    "\n",
    "    return Eu/train_data[\"x\"].shape[0]"
   ]
  },
  {
   "cell_type": "code",
   "execution_count": 47,
   "metadata": {},
   "outputs": [
    {
     "data": {
      "text/plain": [
       "0.6469399502404966"
      ]
     },
     "execution_count": 47,
     "metadata": {},
     "output_type": "execute_result"
    }
   ],
   "source": [
    "get_utility(policy,true_dirichlet_model,utility)"
   ]
  },
  {
   "cell_type": "code",
   "execution_count": 48,
   "metadata": {},
   "outputs": [
    {
     "data": {
      "text/plain": [
       "0.6576968697695309"
      ]
     },
     "execution_count": 48,
     "metadata": {},
     "output_type": "execute_result"
    }
   ],
   "source": [
    "get_empirical_utility(policy, true_dirichlet_model, utility)"
   ]
  },
  {
   "cell_type": "code",
   "execution_count": 49,
   "metadata": {},
   "outputs": [
    {
     "data": {
      "text/plain": [
       "0.6539333694483519"
      ]
     },
     "execution_count": 49,
     "metadata": {},
     "output_type": "execute_result"
    }
   ],
   "source": [
    "get_empirical_utility2(policy, true_dirichlet_model, utility)"
   ]
  },
  {
   "cell_type": "code",
   "execution_count": 50,
   "metadata": {},
   "outputs": [],
   "source": [
    "A, X = policy.shape\n",
    "Y = A\n",
    "Eu = 0\n",
    "for x in range(X):\n",
    "    for y in range(Y):\n",
    "        for a in range(A):\n",
    "            Eu += utility[a,y] * policy[a,x] * true_dirichlet_model.Pxy[x,y]"
   ]
  },
  {
   "cell_type": "code",
   "execution_count": 51,
   "metadata": {},
   "outputs": [
    {
     "data": {
      "text/plain": [
       "0.6469399502404966"
      ]
     },
     "execution_count": 51,
     "metadata": {},
     "output_type": "execute_result"
    }
   ],
   "source": [
    "Eu"
   ]
  },
  {
   "cell_type": "code",
   "execution_count": 52,
   "metadata": {},
   "outputs": [],
   "source": [
    "\n",
    "A, X = policy.shape\n",
    "Y = A\n",
    "Eu = 0\n",
    "for x in train_data[\"x\"].values:\n",
    "    for y in range(Y):\n",
    "        for a in range(A):\n",
    "            Eu += utility[a,y] * policy[a,x] * true_dirichlet_model.Py_x[y,x]"
   ]
  },
  {
   "cell_type": "code",
   "execution_count": 53,
   "metadata": {},
   "outputs": [
    {
     "data": {
      "text/plain": [
       "0.6576968697695309"
      ]
     },
     "execution_count": 53,
     "metadata": {},
     "output_type": "execute_result"
    }
   ],
   "source": [
    "Eu/6000"
   ]
  },
  {
   "cell_type": "code",
   "execution_count": 54,
   "metadata": {},
   "outputs": [
    {
     "data": {
      "text/plain": [
       "array([[0.63953488, 0.58474576, 0.78125   , 0.5       , 0.21428571,\n",
       "        0.25      , 0.3       , 0.78571429, 0.75      , 0.25      ,\n",
       "        0.16666667, 0.21428571, 0.25      , 0.125     , 0.75      ,\n",
       "        0.125     , 0.75      , 0.25      , 0.5       , 0.25      ,\n",
       "        0.5       , 0.16666667, 0.3125    , 0.5       , 0.5       ,\n",
       "        0.5       , 0.25      , 0.5       , 0.25      , 0.25      ,\n",
       "        0.5       , 0.625     , 0.75      , 0.16666667, 0.16666667,\n",
       "        0.25      , 0.5       , 0.125     , 0.5       , 0.08333333,\n",
       "        0.16666667, 0.5       , 0.75      , 0.25      , 0.5       ,\n",
       "        0.5       , 0.5       , 0.5       , 0.5       , 0.75      ,\n",
       "        0.5       , 0.5       , 0.5       , 0.5       , 0.5       ,\n",
       "        0.5       , 0.5       , 0.25      , 0.5       , 0.5       ,\n",
       "        0.5       , 0.5       , 0.5       , 0.73026316, 0.78235294,\n",
       "        0.74489796, 0.70138889, 0.48469388, 0.35280374, 0.75      ,\n",
       "        0.5       , 0.5       , 0.16666667, 0.16666667, 0.20833333,\n",
       "        0.5       , 0.5       , 0.75      , 0.75      , 0.375     ,\n",
       "        0.5       , 0.75      , 0.5       , 0.38235294, 0.5       ,\n",
       "        0.25      , 0.5       , 0.5       , 0.5       , 0.3       ,\n",
       "        0.75      , 0.25      , 0.25      , 0.16666667, 0.5       ,\n",
       "        0.25      , 0.1       , 0.05      , 0.5       , 0.5       ,\n",
       "        0.5       , 0.25      , 0.25      , 0.5       , 0.5       ,\n",
       "        0.5       , 0.375     , 0.75      , 0.5       , 0.5       ,\n",
       "        0.5       , 0.5       , 0.5       , 0.5       , 0.5       ,\n",
       "        0.5       , 0.25      , 0.375     , 0.5       , 0.5       ,\n",
       "        0.25      , 0.5       , 0.5       , 0.84042553, 0.85135135,\n",
       "        0.79166667, 0.87037037, 0.62727273, 0.47938144, 0.5       ,\n",
       "        0.5       , 0.5       , 0.5       , 0.5       , 0.5       ,\n",
       "        0.5       , 0.25      , 0.5       , 0.5       , 0.25      ,\n",
       "        0.5       ],\n",
       "       [0.36046512, 0.41525424, 0.21875   , 0.5       , 0.78571429,\n",
       "        0.75      , 0.7       , 0.21428571, 0.25      , 0.75      ,\n",
       "        0.83333333, 0.78571429, 0.75      , 0.875     , 0.25      ,\n",
       "        0.875     , 0.25      , 0.75      , 0.5       , 0.75      ,\n",
       "        0.5       , 0.83333333, 0.6875    , 0.5       , 0.5       ,\n",
       "        0.5       , 0.75      , 0.5       , 0.75      , 0.75      ,\n",
       "        0.5       , 0.375     , 0.25      , 0.83333333, 0.83333333,\n",
       "        0.75      , 0.5       , 0.875     , 0.5       , 0.91666667,\n",
       "        0.83333333, 0.5       , 0.25      , 0.75      , 0.5       ,\n",
       "        0.5       , 0.5       , 0.5       , 0.5       , 0.25      ,\n",
       "        0.5       , 0.5       , 0.5       , 0.5       , 0.5       ,\n",
       "        0.5       , 0.5       , 0.75      , 0.5       , 0.5       ,\n",
       "        0.5       , 0.5       , 0.5       , 0.26973684, 0.21764706,\n",
       "        0.25510204, 0.29861111, 0.51530612, 0.64719626, 0.25      ,\n",
       "        0.5       , 0.5       , 0.83333333, 0.83333333, 0.79166667,\n",
       "        0.5       , 0.5       , 0.25      , 0.25      , 0.625     ,\n",
       "        0.5       , 0.25      , 0.5       , 0.61764706, 0.5       ,\n",
       "        0.75      , 0.5       , 0.5       , 0.5       , 0.7       ,\n",
       "        0.25      , 0.75      , 0.75      , 0.83333333, 0.5       ,\n",
       "        0.75      , 0.9       , 0.95      , 0.5       , 0.5       ,\n",
       "        0.5       , 0.75      , 0.75      , 0.5       , 0.5       ,\n",
       "        0.5       , 0.625     , 0.25      , 0.5       , 0.5       ,\n",
       "        0.5       , 0.5       , 0.5       , 0.5       , 0.5       ,\n",
       "        0.5       , 0.75      , 0.625     , 0.5       , 0.5       ,\n",
       "        0.75      , 0.5       , 0.5       , 0.15957447, 0.14864865,\n",
       "        0.20833333, 0.12962963, 0.37272727, 0.52061856, 0.5       ,\n",
       "        0.5       , 0.5       , 0.5       , 0.5       , 0.5       ,\n",
       "        0.5       , 0.75      , 0.5       , 0.5       , 0.75      ,\n",
       "        0.5       ]])"
      ]
     },
     "execution_count": 54,
     "metadata": {},
     "output_type": "execute_result"
    }
   ],
   "source": [
    "true_dirichlet_model.Py_x"
   ]
  },
  {
   "cell_type": "code",
   "execution_count": 55,
   "metadata": {},
   "outputs": [
    {
     "data": {
      "text/html": [
       "<div>\n",
       "<style scoped>\n",
       "    .dataframe tbody tr th:only-of-type {\n",
       "        vertical-align: middle;\n",
       "    }\n",
       "\n",
       "    .dataframe tbody tr th {\n",
       "        vertical-align: top;\n",
       "    }\n",
       "\n",
       "    .dataframe thead th {\n",
       "        text-align: right;\n",
       "    }\n",
       "</style>\n",
       "<table border=\"1\" class=\"dataframe\">\n",
       "  <thead>\n",
       "    <tr style=\"text-align: right;\">\n",
       "      <th></th>\n",
       "      <th>x</th>\n",
       "      <th>z</th>\n",
       "      <th>y</th>\n",
       "    </tr>\n",
       "  </thead>\n",
       "  <tbody>\n",
       "    <tr>\n",
       "      <th>5900</th>\n",
       "      <td>126</td>\n",
       "      <td>1</td>\n",
       "      <td>0</td>\n",
       "    </tr>\n",
       "    <tr>\n",
       "      <th>5901</th>\n",
       "      <td>64</td>\n",
       "      <td>8</td>\n",
       "      <td>1</td>\n",
       "    </tr>\n",
       "    <tr>\n",
       "      <th>5902</th>\n",
       "      <td>13</td>\n",
       "      <td>1</td>\n",
       "      <td>1</td>\n",
       "    </tr>\n",
       "    <tr>\n",
       "      <th>5903</th>\n",
       "      <td>97</td>\n",
       "      <td>1</td>\n",
       "      <td>0</td>\n",
       "    </tr>\n",
       "    <tr>\n",
       "      <th>5904</th>\n",
       "      <td>1</td>\n",
       "      <td>1</td>\n",
       "      <td>0</td>\n",
       "    </tr>\n",
       "    <tr>\n",
       "      <th>...</th>\n",
       "      <td>...</td>\n",
       "      <td>...</td>\n",
       "      <td>...</td>\n",
       "    </tr>\n",
       "    <tr>\n",
       "      <th>5995</th>\n",
       "      <td>68</td>\n",
       "      <td>1</td>\n",
       "      <td>1</td>\n",
       "    </tr>\n",
       "    <tr>\n",
       "      <th>5996</th>\n",
       "      <td>64</td>\n",
       "      <td>6</td>\n",
       "      <td>1</td>\n",
       "    </tr>\n",
       "    <tr>\n",
       "      <th>5997</th>\n",
       "      <td>128</td>\n",
       "      <td>2</td>\n",
       "      <td>1</td>\n",
       "    </tr>\n",
       "    <tr>\n",
       "      <th>5998</th>\n",
       "      <td>67</td>\n",
       "      <td>1</td>\n",
       "      <td>0</td>\n",
       "    </tr>\n",
       "    <tr>\n",
       "      <th>5999</th>\n",
       "      <td>126</td>\n",
       "      <td>8</td>\n",
       "      <td>0</td>\n",
       "    </tr>\n",
       "  </tbody>\n",
       "</table>\n",
       "<p>100 rows × 3 columns</p>\n",
       "</div>"
      ],
      "text/plain": [
       "        x  z  y\n",
       "5900  126  1  0\n",
       "5901   64  8  1\n",
       "5902   13  1  1\n",
       "5903   97  1  0\n",
       "5904    1  1  0\n",
       "...   ... .. ..\n",
       "5995   68  1  1\n",
       "5996   64  6  1\n",
       "5997  128  2  1\n",
       "5998   67  1  0\n",
       "5999  126  8  0\n",
       "\n",
       "[100 rows x 3 columns]"
      ]
     },
     "execution_count": 55,
     "metadata": {},
     "output_type": "execute_result"
    }
   ],
   "source": [
    "train_data.iloc[data_start_index : data_stop_index]"
   ]
  },
  {
   "cell_type": "code",
   "execution_count": 56,
   "metadata": {},
   "outputs": [],
   "source": [
    "pd_resutls = pd.DataFrame(results)"
   ]
  },
  {
   "cell_type": "markdown",
   "metadata": {},
   "source": [
    "# plots"
   ]
  },
  {
   "cell_type": "code",
   "execution_count": 38,
   "metadata": {},
   "outputs": [
    {
     "data": {
      "text/plain": [
       "<AxesSubplot: >"
      ]
     },
     "execution_count": 38,
     "metadata": {},
     "output_type": "execute_result"
    },
    {
     "data": {
      "image/png": "[encoded data removed]",
      "text/plain": [
       "<Figure size 640x480 with 1 Axes>"
      ]
     },
     "metadata": {},
     "output_type": "display_data"
    }
   ],
   "source": [
    "pd_resutls[[\"utility\"]].plot()"
   ]
  },
  {
   "cell_type": "code",
   "execution_count": 39,
   "metadata": {},
   "outputs": [],
   "source": [
    "# load org resutls\n",
    "org = np.loadtxt(org_path_results + \"/results.csv\")\n",
    "org = org[:,1][1:].reshape((4,-1))\n",
    "\n",
    "org_pd = pd.DataFrame( columns= [\"utility\",\"fairness\",\"total\"])\n",
    "org_pd[\"utility\"] = org[0]\n",
    "org_pd[\"fairness\"] = org[2]\n",
    "org_pd[\"total\"] = org[1]"
   ]
  },
  {
   "cell_type": "code",
   "execution_count": 40,
   "metadata": {},
   "outputs": [
    {
     "data": {
      "text/plain": [
       "<AxesSubplot: >"
      ]
     },
     "execution_count": 40,
     "metadata": {},
     "output_type": "execute_result"
    },
    {
     "data": {
      "image/png": "[encoded data removed]",
      "text/plain": [
       "<Figure size 640x480 with 1 Axes>"
      ]
     },
     "metadata": {},
     "output_type": "display_data"
    }
   ],
   "source": [
    "org_pd[\"utility\"].plot()\n",
    "pd_resutls[\"utility\"].plot()"
   ]
  },
  {
   "cell_type": "code",
   "execution_count": 41,
   "metadata": {},
   "outputs": [
    {
     "data": {
      "text/plain": [
       "<AxesSubplot: >"
      ]
     },
     "execution_count": 41,
     "metadata": {},
     "output_type": "execute_result"
    },
    {
     "data": {
      "image/png": "[encoded data removed]",
      "text/plain": [
       "<Figure size 640x480 with 1 Axes>"
      ]
     },
     "metadata": {},
     "output_type": "display_data"
    }
   ],
   "source": [
    "org_pd[\"fairness\"].plot()\n",
    "pd_resutls[\"fairness\"].plot()"
   ]
  },
  {
   "cell_type": "markdown",
   "metadata": {},
   "source": [
    "# Questions"
   ]
  },
  {
   "cell_type": "code",
   "execution_count": null,
   "metadata": {},
   "outputs": [],
   "source": [
    "1. ProjectPolicyGradient ???"
   ]
  },
  {
   "cell_type": "code",
   "execution_count": null,
   "metadata": {},
   "outputs": [],
   "source": []
  }
 ],
 "metadata": {
  "kernelspec": {
   "display_name": "Python 3 (ipykernel)",
   "language": "python",
   "name": "python3"
  },
  "language_info": {
   "codemirror_mode": {
    "name": "ipython",
    "version": 3
   },
   "file_extension": ".py",
   "mimetype": "text/x-python",
   "name": "python",
   "nbconvert_exporter": "python",
   "pygments_lexer": "ipython3",
   "version": "3.9.12"
  }
 },
 "nbformat": 4,
 "nbformat_minor": 1
}
