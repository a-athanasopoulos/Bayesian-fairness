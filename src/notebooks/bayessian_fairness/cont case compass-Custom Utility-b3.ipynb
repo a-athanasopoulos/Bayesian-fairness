{
 "cells": [
  {
   "cell_type": "code",
   "execution_count": 1,
   "metadata": {},
   "outputs": [],
   "source": [
    "import pandas as pd\n",
    "import numpy as np\n",
    "import matplotlib.pyplot as plt"
   ]
  },
  {
   "cell_type": "code",
   "execution_count": 2,
   "metadata": {},
   "outputs": [],
   "source": [
    "exp_name = \"exp_compass\"\n",
    "exp_number = \"exp_debug\"\n",
    "base_path = \"/Users/andreasathanasopoulos/Phd/projects/bayesian_fairness/\"\n",
    "data_path = base_path + \"/my_code/Bayesian-fairness/data\"\n",
    "save_path = base_path + f\"/my_code/Bayesian-fairness/results/continuous/{exp_name}/{exp_number}\""
   ]
  },
  {
   "cell_type": "markdown",
   "metadata": {},
   "source": [
    "# load data\n"
   ]
  },
  {
   "cell_type": "code",
   "execution_count": 3,
   "metadata": {},
   "outputs": [],
   "source": [
    "def encode_data(data,unique_values):\n",
    "    encoded_value = np.array([])\n",
    "    for i, d in data.iterrows():\n",
    "        # encode feature to an index represents the unique value.\n",
    "        index = np.argmax((d.values == unique_values).all(axis=1))\n",
    "        encoded_value = np.append(encoded_value, index)\n",
    "    return encoded_value.astype(int)"
   ]
  },
  {
   "cell_type": "code",
   "execution_count": 4,
   "metadata": {},
   "outputs": [],
   "source": [
    "# set atributes\n",
    "Z_atr = [\"sex\", \"race\"]\n",
    "X_atr = ['age_cat', 'juv_fel_count', 'juv_misd_count', 'juv_other_count', 'priors_count', 'c_charge_degree']\n",
    "Y_atr = 'two_year_recid'\n",
    "\n",
    "# clip_features = [\"juv_fel_count\", \"juv_misd_count\", \"juv_other_count\", \"priors_count\"]"
   ]
  },
  {
   "cell_type": "code",
   "execution_count": 5,
   "metadata": {},
   "outputs": [],
   "source": [
    "dataset = pd.read_csv(data_path + \"/compas.csv\")"
   ]
  },
  {
   "cell_type": "code",
   "execution_count": 6,
   "metadata": {},
   "outputs": [],
   "source": [
    "# get distinct values\n",
    "unique_z = np.unique(dataset[Z_atr].values, axis=0)\n",
    "n_z = len(unique_z)\n",
    "\n",
    "unique_y = np.unique(dataset[Y_atr].values, axis=0)\n",
    "n_y = len(unique_y)\n",
    "\n",
    "unique_x = np.unique(dataset[X_atr].values, axis=0)\n",
    "n_x = len(unique_x)"
   ]
  },
  {
   "cell_type": "code",
   "execution_count": 7,
   "metadata": {},
   "outputs": [
    {
     "name": "stdout",
     "output_type": "stream",
     "text": [
      "Unique Z values: 12\n",
      "Unique X values: 604\n",
      "Unique Y values: 2\n"
     ]
    }
   ],
   "source": [
    "print(\"Unique Z values:\", n_z)\n",
    "print(\"Unique X values:\", n_x)\n",
    "print(\"Unique Y values:\", n_y)"
   ]
  },
  {
   "cell_type": "code",
   "execution_count": 8,
   "metadata": {},
   "outputs": [],
   "source": [
    "# encode z for convenience\n",
    "dataset[\"z\"] = encode_data(dataset[Z_atr], unique_values=unique_z)"
   ]
  },
  {
   "cell_type": "code",
   "execution_count": 9,
   "metadata": {},
   "outputs": [],
   "source": [
    "Z_atr = \"z\""
   ]
  },
  {
   "cell_type": "code",
   "execution_count": 10,
   "metadata": {},
   "outputs": [],
   "source": [
    "train_data = dataset.iloc[0:6000]\n",
    "test_data = dataset.iloc[6000:]"
   ]
  },
  {
   "cell_type": "code",
   "execution_count": 11,
   "metadata": {},
   "outputs": [
    {
     "name": "stdout",
     "output_type": "stream",
     "text": [
      "training size: (6000, 10)\n",
      "testing size: (1214, 10)\n"
     ]
    }
   ],
   "source": [
    "print(\"training size:\", train_data.shape)\n",
    "print(\"testing size:\", test_data.shape)"
   ]
  },
  {
   "cell_type": "markdown",
   "metadata": {},
   "source": [
    "# model"
   ]
  },
  {
   "cell_type": "code",
   "execution_count": 12,
   "metadata": {},
   "outputs": [],
   "source": [
    "def calc_freq(data, n):\n",
    "    \"\"\" calculate frequency of 1D array\"\"\"\n",
    "    P = np.zeros(n)\n",
    "    for value in range(n):\n",
    "        mask =  data == value\n",
    "        P[value] = mask.mean()\n",
    "    return P\n",
    "\n",
    "def get_models(data):\n",
    "    # Py\n",
    "    Py = calc_freq(data[Y_atr], n_y)\n",
    "    \n",
    "    # Pz_y\n",
    "    Pz_y = np.zeros((n_z, n_y))\n",
    "    for y in range(n_y):\n",
    "        mask = data[Y_atr] == y\n",
    "        Pz_y[:, y] = calc_freq(data.loc[mask, Z_atr], n_z)\n",
    "    \n",
    "    # Py_x\n",
    "    from sklearn.linear_model import LogisticRegression\n",
    "    model_y_x = LogisticRegression(max_iter=1000)\n",
    "    model_y_x.fit(X = data[X_atr], y = data[Y_atr])\n",
    "    \n",
    "    # Pz_yx\n",
    "    unique_z_values = data[Z_atr].unique()\n",
    "    missing_z = [z for z in range(12) if z not in unique_z_values]\n",
    "\n",
    "    if missing_z:\n",
    "        random_data = np.random.randint(low= 0 , high=2, size = (1, len(data.columns)))\n",
    "        fake_df = pd.DataFrame(random_data,columns = data.columns)\n",
    "        fake_df[Z_atr] = missing_z\n",
    "        data = pd.concat([data, fake_df]) \n",
    "    \n",
    "    input_features = [Y_atr] + X_atr\n",
    "    model_z_yx = LogisticRegression(max_iter=1000)\n",
    "    model_z_yx.fit(X = data[input_features], y = data[Z_atr])\n",
    "    \n",
    "    return Py, Pz_y, model_y_x, model_z_yx"
   ]
  },
  {
   "cell_type": "code",
   "execution_count": 13,
   "metadata": {},
   "outputs": [
    {
     "data": {
      "text/plain": [
       "(1214, 10)"
      ]
     },
     "execution_count": 13,
     "metadata": {},
     "output_type": "execute_result"
    }
   ],
   "source": [
    "test_data.shape"
   ]
  },
  {
   "cell_type": "code",
   "execution_count": 14,
   "metadata": {},
   "outputs": [],
   "source": [
    "test_model = get_models(test_data)"
   ]
  },
  {
   "cell_type": "code",
   "execution_count": 15,
   "metadata": {},
   "outputs": [
    {
     "data": {
      "text/plain": [
       "(1214, 10)"
      ]
     },
     "execution_count": 15,
     "metadata": {},
     "output_type": "execute_result"
    }
   ],
   "source": [
    "test_data.shape"
   ]
  },
  {
   "cell_type": "markdown",
   "metadata": {},
   "source": [
    "# Train policy"
   ]
  },
  {
   "cell_type": "code",
   "execution_count": 16,
   "metadata": {},
   "outputs": [],
   "source": [
    "num_X = n_x # number of features\n",
    "num_Y = n_y # number of outcomes\n",
    "num_Z = n_z # number of sensitive features\n",
    "num_A = 2 # number of actions"
   ]
  },
  {
   "cell_type": "code",
   "execution_count": 17,
   "metadata": {},
   "outputs": [],
   "source": [
    "# parameters\n",
    "n_iter = 400 # number of itteration for SGD\n",
    "lr = 1.0 # learning rate\n",
    "l = 0.5 # lambda"
   ]
  },
  {
   "cell_type": "markdown",
   "metadata": {},
   "source": [
    "# Functions"
   ]
  },
  {
   "cell_type": "code",
   "execution_count": 18,
   "metadata": {},
   "outputs": [],
   "source": [
    "def get_eye_utility(size):\n",
    "    return np.eye(size)\n",
    "\n",
    "utility = get_eye_utility(size=2)"
   ]
  },
  {
   "attachments": {
    "Screenshot%202023-01-20%20at%203.01.34%20PM.png": {
     "image/png": "[encoded data removed]"
    }
   },
   "cell_type": "markdown",
   "metadata": {},
   "source": [
    "# Algorithm\n",
    "![Screenshot%202023-01-20%20at%203.01.34%20PM.png](attachment:Screenshot%202023-01-20%20at%203.01.34%20PM.png)"
   ]
  },
  {
   "cell_type": "code",
   "execution_count": 19,
   "metadata": {},
   "outputs": [],
   "source": [
    "def get_fairness_loss(Pa_x, Py, Pz_y, model_y_x, model_z_yx):\n",
    "    delta = (model_z_yx / Pz_y - 1 ) * (model_y_x / Py)\n",
    "#     delta = tf.math.abs(delta\n",
    "    delta = tf.reshape(delta,(-1,1))\n",
    "    f =  Pa_x * delta\n",
    "#     tf.print(\"shape delta\", tf.shape(delta))\n",
    "#     tf.print(\"shape Pa_x\",tf.shape(Pa_x))\n",
    "#     tf.print(\"shape f\",tf.shape(f))\n",
    "#     tf.print(tf.shape(f))\n",
    "#     tf.print(f)\n",
    "    \n",
    "    return tf.math.abs(tf.math.reduce_mean(f)) * 10"
   ]
  },
  {
   "cell_type": "code",
   "execution_count": 20,
   "metadata": {},
   "outputs": [],
   "source": [
    "def get_utility_loss(y_true, y_pred):\n",
    "    utility = y_true * y_pred + (1 - y_true) * (1 - y_pred)\n",
    "    neg_utility = - utility\n",
    "    return tf.math.reduce_mean(neg_utility)"
   ]
  },
  {
   "cell_type": "code",
   "execution_count": 21,
   "metadata": {},
   "outputs": [],
   "source": [
    "def get_utility_metric(y_true, y_pred):\n",
    "    utility = y_true * y_pred + (1 - y_true) * (1 - y_pred)\n",
    "    return tf.math.reduce_mean(utility)"
   ]
  },
  {
   "cell_type": "code",
   "execution_count": 22,
   "metadata": {},
   "outputs": [],
   "source": [
    "import tensorflow as tf\n",
    "from tensorflow.python.keras.engine import data_adapter\n",
    "\n",
    "\n",
    "utility_tracker = tf.keras.metrics.Mean(name=\"utility\")\n",
    "fairness_tracker = tf.keras.metrics.Mean(name=\"fairness\")\n",
    "loss_tracker = tf.keras.metrics.Mean(name=\"loss\")\n",
    "\n",
    "\n",
    "class LogisticRegresionTF(tf.keras.Model):\n",
    "    \"\"\"\n",
    "    logistic regresion model , tensorflow\n",
    "    \"\"\"\n",
    "    def __init__(self, input_dim, l):\n",
    "        super(LogisticRegresionTF, self).__init__()\n",
    "        self.l = l\n",
    "        \n",
    "        w_init = tf.random_normal_initializer()\n",
    "        self.w = tf.Variable(\n",
    "            initial_value=w_init(shape=(input_dim, 1), dtype=\"float32\"),\n",
    "            trainable=True,\n",
    "        )\n",
    "        \n",
    "        b_init = tf.zeros_initializer()\n",
    "        self.b = tf.Variable(\n",
    "            initial_value=b_init(shape=(), dtype=\"float32\"),\n",
    "            trainable=True\n",
    "        )\n",
    "\n",
    "    def call(self, inputs):\n",
    "        return tf.nn.sigmoid(tf.matmul(inputs,self.w) + self.b)\n",
    "\n",
    "    def train_step(self, data):\n",
    "        x, y = data\n",
    "        x, Py, Pz_y, model_y_x, model_z_yx = x[:,:6], x[:,6],x[:,7],x[:,8],x[:,9]\n",
    "        # Run forward pass.\n",
    "        with tf.GradientTape() as tape:\n",
    "            y_pred = self(x, training=True)\n",
    "            utility = get_utility_loss(y_true = y, y_pred = y_pred)\n",
    "            fairness = get_fairness_loss(y_pred, Py, Pz_y, model_y_x, model_z_yx)\n",
    "            loss = (1-self.l) * utility + self.l * fairness \n",
    "            \n",
    "        self._validate_target_and_loss(y, loss)\n",
    "        # Run backwards pass.\n",
    "        self.optimizer.minimize(loss, self.trainable_variables, tape=tape)\n",
    "        \n",
    "        # update metrics\n",
    "        loss_tracker.update_state(loss)\n",
    "        utility_tracker.update_state(get_utility_metric(y_true = y, y_pred = y_pred))\n",
    "        fairness_tracker.update_state(fairness)\n",
    "        \n",
    "        metrics = self.compute_metrics(x, y, y_pred,None)\n",
    "        metrics[\"fairness_loss\"] = fairness_tracker.result()  \n",
    "        metrics[\"utility\"] = utility_tracker.result()\n",
    "        metrics[\"loss\"] = loss_tracker.result() \n",
    "#         tf.print(fairness_loss)\n",
    "        return metrics\n",
    "    \n",
    "    @property\n",
    "    def metrics(self):\n",
    "        # We list our `Metric` objects here so that `reset_states()` can be\n",
    "        # called automatically at the start of each epoch\n",
    "        # or at the start of `evaluate()`.\n",
    "        # If you don't implement this property, you have to call\n",
    "        # `reset_states()` yourself at the time of your choosing.\n",
    "        return [loss_tracker , fairness_tracker, utility_tracker] + self.compiled_metrics.metrics"
   ]
  },
  {
   "cell_type": "code",
   "execution_count": 23,
   "metadata": {},
   "outputs": [],
   "source": [
    "Py, Pz_y, model_y_x, model_z_yx = get_models(train_data)"
   ]
  },
  {
   "cell_type": "code",
   "execution_count": 24,
   "metadata": {},
   "outputs": [],
   "source": [
    "data_Py = [Py[y] for y in train_data[Y_atr].values]\n",
    "data_Pz_y = [Pz_y[z, y] for z, y in train_data[[Z_atr,Y_atr]].values]\n",
    "\n",
    "predicted_proba_Py_x = model_y_x.predict_proba(train_data[X_atr])\n",
    "data_Py_z = np.zeros(train_data.shape[0])\n",
    "for i, datum in train_data.iterrows():\n",
    "    data_Py_z[i] = predicted_proba_Py_x[i][datum[Y_atr]]\n",
    "    \n",
    "predicted_proba_Pz_yx = model_z_yx.predict_proba(train_data[[Y_atr] + X_atr])\n",
    "data_Pz_yx = np.zeros(train_data.shape[0])\n",
    "for i, datum in train_data.iterrows():\n",
    "    data_Pz_yx[i] = predicted_proba_Pz_yx[i][datum[Z_atr]]"
   ]
  },
  {
   "cell_type": "code",
   "execution_count": 25,
   "metadata": {},
   "outputs": [],
   "source": [
    "# input_dataset = tf.data.Dataset.from_tensor_slices((train_data[X_atr].astype(\"float32\").values,\n",
    "#            data_Py,\n",
    "#            data_Pz_y,\n",
    "#            data_Py_z,\n",
    "#            data_Pz_yx)\n",
    "# )\n",
    "# labels_dataset = tf.data.Dataset.from_tensor_slices(train_data[Y_atr])\n",
    "# tf_train_dataset = tf.data.Dataset.zip((input_dataset, labels_dataset))\n",
    "# tf_train_dataset.shuffle(1000).batch(64).repeat()"
   ]
  },
  {
   "cell_type": "code",
   "execution_count": 26,
   "metadata": {},
   "outputs": [],
   "source": [
    "policy_model = LogisticRegresionTF(input_dim=len(X_atr), l = 0.0)"
   ]
  },
  {
   "cell_type": "code",
   "execution_count": 27,
   "metadata": {},
   "outputs": [],
   "source": [
    "optimizer = tf.keras.optimizers.SGD(learning_rate=0.1)\n",
    "policy_model.compile(optimizer=optimizer,\n",
    "               metrics = [\"accuracy\"])"
   ]
  },
  {
   "cell_type": "code",
   "execution_count": 28,
   "metadata": {},
   "outputs": [],
   "source": [
    "in_df = train_data[X_atr].astype(\"float32\")\n",
    "in_df[\"Py\"] = data_Py\n",
    "in_df[\"Pz_y\"] = data_Pz_y\n",
    "in_df[\"Py_z\"] = data_Py_z\n",
    "in_df[\"Pz_yx\"] = data_Pz_yx"
   ]
  },
  {
   "cell_type": "code",
   "execution_count": 29,
   "metadata": {},
   "outputs": [
    {
     "data": {
      "text/html": [
       "<div>\n",
       "<style scoped>\n",
       "    .dataframe tbody tr th:only-of-type {\n",
       "        vertical-align: middle;\n",
       "    }\n",
       "\n",
       "    .dataframe tbody tr th {\n",
       "        vertical-align: top;\n",
       "    }\n",
       "\n",
       "    .dataframe thead th {\n",
       "        text-align: right;\n",
       "    }\n",
       "</style>\n",
       "<table border=\"1\" class=\"dataframe\">\n",
       "  <thead>\n",
       "    <tr style=\"text-align: right;\">\n",
       "      <th></th>\n",
       "      <th>age_cat</th>\n",
       "      <th>juv_fel_count</th>\n",
       "      <th>juv_misd_count</th>\n",
       "      <th>juv_other_count</th>\n",
       "      <th>priors_count</th>\n",
       "      <th>c_charge_degree</th>\n",
       "      <th>Py</th>\n",
       "      <th>Pz_y</th>\n",
       "      <th>Py_z</th>\n",
       "      <th>Pz_yx</th>\n",
       "    </tr>\n",
       "  </thead>\n",
       "  <tbody>\n",
       "    <tr>\n",
       "      <th>0</th>\n",
       "      <td>2.0</td>\n",
       "      <td>0.0</td>\n",
       "      <td>0.0</td>\n",
       "      <td>0.0</td>\n",
       "      <td>0.0</td>\n",
       "      <td>1.0</td>\n",
       "      <td>0.551</td>\n",
       "      <td>0.049002</td>\n",
       "      <td>0.806851</td>\n",
       "      <td>0.059295</td>\n",
       "    </tr>\n",
       "    <tr>\n",
       "      <th>1</th>\n",
       "      <td>1.0</td>\n",
       "      <td>0.0</td>\n",
       "      <td>0.0</td>\n",
       "      <td>0.0</td>\n",
       "      <td>0.0</td>\n",
       "      <td>1.0</td>\n",
       "      <td>0.449</td>\n",
       "      <td>0.509651</td>\n",
       "      <td>0.330786</td>\n",
       "      <td>0.380325</td>\n",
       "    </tr>\n",
       "    <tr>\n",
       "      <th>2</th>\n",
       "      <td>0.0</td>\n",
       "      <td>0.0</td>\n",
       "      <td>0.0</td>\n",
       "      <td>1.0</td>\n",
       "      <td>4.0</td>\n",
       "      <td>1.0</td>\n",
       "      <td>0.449</td>\n",
       "      <td>0.509651</td>\n",
       "      <td>0.690225</td>\n",
       "      <td>0.618515</td>\n",
       "    </tr>\n",
       "    <tr>\n",
       "      <th>3</th>\n",
       "      <td>0.0</td>\n",
       "      <td>0.0</td>\n",
       "      <td>1.0</td>\n",
       "      <td>0.0</td>\n",
       "      <td>1.0</td>\n",
       "      <td>1.0</td>\n",
       "      <td>0.551</td>\n",
       "      <td>0.351180</td>\n",
       "      <td>0.436171</td>\n",
       "      <td>0.478386</td>\n",
       "    </tr>\n",
       "    <tr>\n",
       "      <th>4</th>\n",
       "      <td>1.0</td>\n",
       "      <td>0.0</td>\n",
       "      <td>0.0</td>\n",
       "      <td>0.0</td>\n",
       "      <td>2.0</td>\n",
       "      <td>1.0</td>\n",
       "      <td>0.551</td>\n",
       "      <td>0.049002</td>\n",
       "      <td>0.598783</td>\n",
       "      <td>0.052283</td>\n",
       "    </tr>\n",
       "    <tr>\n",
       "      <th>...</th>\n",
       "      <td>...</td>\n",
       "      <td>...</td>\n",
       "      <td>...</td>\n",
       "      <td>...</td>\n",
       "      <td>...</td>\n",
       "      <td>...</td>\n",
       "      <td>...</td>\n",
       "      <td>...</td>\n",
       "      <td>...</td>\n",
       "      <td>...</td>\n",
       "    </tr>\n",
       "    <tr>\n",
       "      <th>5995</th>\n",
       "      <td>1.0</td>\n",
       "      <td>0.0</td>\n",
       "      <td>0.0</td>\n",
       "      <td>0.0</td>\n",
       "      <td>22.0</td>\n",
       "      <td>1.0</td>\n",
       "      <td>0.449</td>\n",
       "      <td>0.509651</td>\n",
       "      <td>0.933514</td>\n",
       "      <td>0.837547</td>\n",
       "    </tr>\n",
       "    <tr>\n",
       "      <th>5996</th>\n",
       "      <td>1.0</td>\n",
       "      <td>0.0</td>\n",
       "      <td>0.0</td>\n",
       "      <td>0.0</td>\n",
       "      <td>0.0</td>\n",
       "      <td>1.0</td>\n",
       "      <td>0.449</td>\n",
       "      <td>0.004454</td>\n",
       "      <td>0.330786</td>\n",
       "      <td>0.011815</td>\n",
       "    </tr>\n",
       "    <tr>\n",
       "      <th>5997</th>\n",
       "      <td>2.0</td>\n",
       "      <td>0.0</td>\n",
       "      <td>0.0</td>\n",
       "      <td>0.0</td>\n",
       "      <td>2.0</td>\n",
       "      <td>1.0</td>\n",
       "      <td>0.449</td>\n",
       "      <td>0.242019</td>\n",
       "      <td>0.245004</td>\n",
       "      <td>0.401558</td>\n",
       "    </tr>\n",
       "    <tr>\n",
       "      <th>5998</th>\n",
       "      <td>1.0</td>\n",
       "      <td>0.0</td>\n",
       "      <td>0.0</td>\n",
       "      <td>0.0</td>\n",
       "      <td>5.0</td>\n",
       "      <td>0.0</td>\n",
       "      <td>0.551</td>\n",
       "      <td>0.351180</td>\n",
       "      <td>0.524162</td>\n",
       "      <td>0.397598</td>\n",
       "    </tr>\n",
       "    <tr>\n",
       "      <th>5999</th>\n",
       "      <td>2.0</td>\n",
       "      <td>0.0</td>\n",
       "      <td>0.0</td>\n",
       "      <td>0.0</td>\n",
       "      <td>1.0</td>\n",
       "      <td>1.0</td>\n",
       "      <td>0.551</td>\n",
       "      <td>0.093164</td>\n",
       "      <td>0.782034</td>\n",
       "      <td>0.112245</td>\n",
       "    </tr>\n",
       "  </tbody>\n",
       "</table>\n",
       "<p>6000 rows × 10 columns</p>\n",
       "</div>"
      ],
      "text/plain": [
       "      age_cat  juv_fel_count  juv_misd_count  juv_other_count  priors_count  \\\n",
       "0         2.0            0.0             0.0              0.0           0.0   \n",
       "1         1.0            0.0             0.0              0.0           0.0   \n",
       "2         0.0            0.0             0.0              1.0           4.0   \n",
       "3         0.0            0.0             1.0              0.0           1.0   \n",
       "4         1.0            0.0             0.0              0.0           2.0   \n",
       "...       ...            ...             ...              ...           ...   \n",
       "5995      1.0            0.0             0.0              0.0          22.0   \n",
       "5996      1.0            0.0             0.0              0.0           0.0   \n",
       "5997      2.0            0.0             0.0              0.0           2.0   \n",
       "5998      1.0            0.0             0.0              0.0           5.0   \n",
       "5999      2.0            0.0             0.0              0.0           1.0   \n",
       "\n",
       "      c_charge_degree     Py      Pz_y      Py_z     Pz_yx  \n",
       "0                 1.0  0.551  0.049002  0.806851  0.059295  \n",
       "1                 1.0  0.449  0.509651  0.330786  0.380325  \n",
       "2                 1.0  0.449  0.509651  0.690225  0.618515  \n",
       "3                 1.0  0.551  0.351180  0.436171  0.478386  \n",
       "4                 1.0  0.551  0.049002  0.598783  0.052283  \n",
       "...               ...    ...       ...       ...       ...  \n",
       "5995              1.0  0.449  0.509651  0.933514  0.837547  \n",
       "5996              1.0  0.449  0.004454  0.330786  0.011815  \n",
       "5997              1.0  0.449  0.242019  0.245004  0.401558  \n",
       "5998              0.0  0.551  0.351180  0.524162  0.397598  \n",
       "5999              1.0  0.551  0.093164  0.782034  0.112245  \n",
       "\n",
       "[6000 rows x 10 columns]"
      ]
     },
     "execution_count": 29,
     "metadata": {},
     "output_type": "execute_result"
    }
   ],
   "source": [
    "in_df"
   ]
  },
  {
   "cell_type": "code",
   "execution_count": 30,
   "metadata": {
    "scrolled": true
   },
   "outputs": [
    {
     "name": "stdout",
     "output_type": "stream",
     "text": [
      "Epoch 1/400\n",
      "1/1 [==============================] - 0s 178ms/step - loss: -0.4807 - fairness: 0.4664 - utility: 0.4807 - accuracy: 0.3732 - fairness_loss: 0.4664\n",
      "Epoch 2/400\n",
      "1/1 [==============================] - 0s 3ms/step - loss: -0.4848 - fairness: 0.4939 - utility: 0.4848 - accuracy: 0.3730 - fairness_loss: 0.4939\n",
      "Epoch 3/400\n",
      "1/1 [==============================] - 0s 2ms/step - loss: -0.4900 - fairness: 0.5298 - utility: 0.4900 - accuracy: 0.3563 - fairness_loss: 0.5298\n",
      "Epoch 4/400\n",
      "1/1 [==============================] - 0s 2ms/step - loss: -0.4960 - fairness: 0.5733 - utility: 0.4960 - accuracy: 0.3897 - fairness_loss: 0.5733\n",
      "Epoch 5/400\n",
      "1/1 [==============================] - ETA: 0s - loss: -0.5023 - fairness: 0.6193 - utility: 0.5023 - accuracy: 0.4527 - fairness_loss: 0.6193"
     ]
    },
    {
     "name": "stderr",
     "output_type": "stream",
     "text": [
      "2023-01-24 12:25:36.067731: W tensorflow/tsl/platform/profile_utils/cpu_utils.cc:128] Failed to get CPU frequency: 0 Hz\n"
     ]
    },
    {
     "name": "stdout",
     "output_type": "stream",
     "text": [
      "1/1 [==============================] - 0s 4ms/step - loss: -0.5023 - fairness: 0.6193 - utility: 0.5023 - accuracy: 0.4527 - fairness_loss: 0.6193\n",
      "Epoch 6/400\n",
      "1/1 [==============================] - 0s 3ms/step - loss: -0.5079 - fairness: 0.6596 - utility: 0.5079 - accuracy: 0.4583 - fairness_loss: 0.6596\n",
      "Epoch 7/400\n",
      "1/1 [==============================] - 0s 2ms/step - loss: -0.5125 - fairness: 0.6903 - utility: 0.5125 - accuracy: 0.4593 - fairness_loss: 0.6903\n",
      "Epoch 8/400\n",
      "1/1 [==============================] - 0s 2ms/step - loss: -0.5161 - fairness: 0.7124 - utility: 0.5161 - accuracy: 0.4592 - fairness_loss: 0.7124\n",
      "Epoch 9/400\n",
      "1/1 [==============================] - 0s 2ms/step - loss: -0.5189 - fairness: 0.7281 - utility: 0.5189 - accuracy: 0.4598 - fairness_loss: 0.7281\n",
      "Epoch 10/400\n",
      "1/1 [==============================] - 0s 3ms/step - loss: -0.5213 - fairness: 0.7396 - utility: 0.5213 - accuracy: 0.4922 - fairness_loss: 0.7396\n",
      "Epoch 11/400\n",
      "1/1 [==============================] - 0s 3ms/step - loss: -0.5233 - fairness: 0.7482 - utility: 0.5233 - accuracy: 0.5453 - fairness_loss: 0.7482\n",
      "Epoch 12/400\n",
      "1/1 [==============================] - 0s 3ms/step - loss: -0.5250 - fairness: 0.7546 - utility: 0.5250 - accuracy: 0.5703 - fairness_loss: 0.7546\n",
      "Epoch 13/400\n",
      "1/1 [==============================] - 0s 2ms/step - loss: -0.5265 - fairness: 0.7596 - utility: 0.5265 - accuracy: 0.5703 - fairness_loss: 0.7596\n",
      "Epoch 14/400\n",
      "1/1 [==============================] - 0s 2ms/step - loss: -0.5279 - fairness: 0.7633 - utility: 0.5279 - accuracy: 0.5703 - fairness_loss: 0.7633\n",
      "Epoch 15/400\n",
      "1/1 [==============================] - 0s 2ms/step - loss: -0.5291 - fairness: 0.7663 - utility: 0.5291 - accuracy: 0.5703 - fairness_loss: 0.7663\n",
      "Epoch 16/400\n",
      "1/1 [==============================] - 0s 2ms/step - loss: -0.5303 - fairness: 0.7685 - utility: 0.5303 - accuracy: 0.5703 - fairness_loss: 0.7685\n",
      "Epoch 17/400\n",
      "1/1 [==============================] - 0s 2ms/step - loss: -0.5314 - fairness: 0.7702 - utility: 0.5314 - accuracy: 0.5703 - fairness_loss: 0.7702\n",
      "Epoch 18/400\n",
      "1/1 [==============================] - 0s 3ms/step - loss: -0.5325 - fairness: 0.7714 - utility: 0.5325 - accuracy: 0.5703 - fairness_loss: 0.7714\n",
      "Epoch 19/400\n",
      "1/1 [==============================] - 0s 2ms/step - loss: -0.5335 - fairness: 0.7723 - utility: 0.5335 - accuracy: 0.5703 - fairness_loss: 0.7723\n",
      "Epoch 20/400\n",
      "1/1 [==============================] - 0s 2ms/step - loss: -0.5345 - fairness: 0.7729 - utility: 0.5345 - accuracy: 0.5703 - fairness_loss: 0.7729\n",
      "Epoch 21/400\n",
      "1/1 [==============================] - 0s 2ms/step - loss: -0.5354 - fairness: 0.7732 - utility: 0.5354 - accuracy: 0.5703 - fairness_loss: 0.7732\n",
      "Epoch 22/400\n",
      "1/1 [==============================] - 0s 2ms/step - loss: -0.5363 - fairness: 0.7733 - utility: 0.5363 - accuracy: 0.5703 - fairness_loss: 0.7733\n",
      "Epoch 23/400\n",
      "1/1 [==============================] - 0s 3ms/step - loss: -0.5372 - fairness: 0.7732 - utility: 0.5372 - accuracy: 0.5703 - fairness_loss: 0.7732\n",
      "Epoch 24/400\n",
      "1/1 [==============================] - 0s 2ms/step - loss: -0.5381 - fairness: 0.7729 - utility: 0.5381 - accuracy: 0.5845 - fairness_loss: 0.7729\n",
      "Epoch 25/400\n",
      "1/1 [==============================] - 0s 2ms/step - loss: -0.5390 - fairness: 0.7725 - utility: 0.5390 - accuracy: 0.5845 - fairness_loss: 0.7725\n",
      "Epoch 26/400\n",
      "1/1 [==============================] - 0s 2ms/step - loss: -0.5398 - fairness: 0.7720 - utility: 0.5398 - accuracy: 0.5947 - fairness_loss: 0.7720\n",
      "Epoch 27/400\n",
      "1/1 [==============================] - 0s 2ms/step - loss: -0.5406 - fairness: 0.7713 - utility: 0.5406 - accuracy: 0.5947 - fairness_loss: 0.7713\n",
      "Epoch 28/400\n",
      "1/1 [==============================] - 0s 3ms/step - loss: -0.5415 - fairness: 0.7706 - utility: 0.5415 - accuracy: 0.5947 - fairness_loss: 0.7706\n",
      "Epoch 29/400\n",
      "1/1 [==============================] - 0s 3ms/step - loss: -0.5423 - fairness: 0.7698 - utility: 0.5423 - accuracy: 0.5948 - fairness_loss: 0.7698\n",
      "Epoch 30/400\n",
      "1/1 [==============================] - 0s 2ms/step - loss: -0.5431 - fairness: 0.7689 - utility: 0.5431 - accuracy: 0.5948 - fairness_loss: 0.7689\n",
      "Epoch 31/400\n",
      "1/1 [==============================] - 0s 2ms/step - loss: -0.5438 - fairness: 0.7679 - utility: 0.5438 - accuracy: 0.6130 - fairness_loss: 0.7679\n",
      "Epoch 32/400\n",
      "1/1 [==============================] - 0s 2ms/step - loss: -0.5446 - fairness: 0.7669 - utility: 0.5446 - accuracy: 0.6140 - fairness_loss: 0.7669\n",
      "Epoch 33/400\n",
      "1/1 [==============================] - 0s 3ms/step - loss: -0.5454 - fairness: 0.7658 - utility: 0.5454 - accuracy: 0.6140 - fairness_loss: 0.7658\n",
      "Epoch 34/400\n",
      "1/1 [==============================] - 0s 3ms/step - loss: -0.5462 - fairness: 0.7647 - utility: 0.5462 - accuracy: 0.6140 - fairness_loss: 0.7647\n",
      "Epoch 35/400\n",
      "1/1 [==============================] - 0s 2ms/step - loss: -0.5469 - fairness: 0.7635 - utility: 0.5469 - accuracy: 0.6142 - fairness_loss: 0.7635\n",
      "Epoch 36/400\n",
      "1/1 [==============================] - 0s 2ms/step - loss: -0.5477 - fairness: 0.7623 - utility: 0.5477 - accuracy: 0.6142 - fairness_loss: 0.7623\n",
      "Epoch 37/400\n",
      "1/1 [==============================] - 0s 2ms/step - loss: -0.5484 - fairness: 0.7610 - utility: 0.5484 - accuracy: 0.6275 - fairness_loss: 0.7610\n",
      "Epoch 38/400\n",
      "1/1 [==============================] - 0s 2ms/step - loss: -0.5491 - fairness: 0.7597 - utility: 0.5491 - accuracy: 0.6275 - fairness_loss: 0.7597\n",
      "Epoch 39/400\n",
      "1/1 [==============================] - 0s 2ms/step - loss: -0.5499 - fairness: 0.7584 - utility: 0.5499 - accuracy: 0.6275 - fairness_loss: 0.7584\n",
      "Epoch 40/400\n",
      "1/1 [==============================] - 0s 2ms/step - loss: -0.5506 - fairness: 0.7571 - utility: 0.5506 - accuracy: 0.6275 - fairness_loss: 0.7571\n",
      "Epoch 41/400\n",
      "1/1 [==============================] - 0s 2ms/step - loss: -0.5513 - fairness: 0.7557 - utility: 0.5513 - accuracy: 0.6275 - fairness_loss: 0.7557\n",
      "Epoch 42/400\n",
      "1/1 [==============================] - 0s 2ms/step - loss: -0.5520 - fairness: 0.7543 - utility: 0.5520 - accuracy: 0.6275 - fairness_loss: 0.7543\n",
      "Epoch 43/400\n",
      "1/1 [==============================] - 0s 2ms/step - loss: -0.5528 - fairness: 0.7529 - utility: 0.5528 - accuracy: 0.6347 - fairness_loss: 0.7529\n",
      "Epoch 44/400\n",
      "1/1 [==============================] - 0s 3ms/step - loss: -0.5535 - fairness: 0.7515 - utility: 0.5535 - accuracy: 0.6347 - fairness_loss: 0.7515\n",
      "Epoch 45/400\n",
      "1/1 [==============================] - 0s 3ms/step - loss: -0.5542 - fairness: 0.7501 - utility: 0.5542 - accuracy: 0.6347 - fairness_loss: 0.7501\n",
      "Epoch 46/400\n",
      "1/1 [==============================] - 0s 2ms/step - loss: -0.5549 - fairness: 0.7486 - utility: 0.5549 - accuracy: 0.6347 - fairness_loss: 0.7486\n",
      "Epoch 47/400\n",
      "1/1 [==============================] - 0s 2ms/step - loss: -0.5556 - fairness: 0.7471 - utility: 0.5556 - accuracy: 0.6383 - fairness_loss: 0.7471\n",
      "Epoch 48/400\n",
      "1/1 [==============================] - 0s 2ms/step - loss: -0.5563 - fairness: 0.7457 - utility: 0.5563 - accuracy: 0.6383 - fairness_loss: 0.7457\n",
      "Epoch 49/400\n",
      "1/1 [==============================] - 0s 2ms/step - loss: -0.5569 - fairness: 0.7442 - utility: 0.5569 - accuracy: 0.6385 - fairness_loss: 0.7442\n",
      "Epoch 50/400\n",
      "1/1 [==============================] - 0s 3ms/step - loss: -0.5576 - fairness: 0.7427 - utility: 0.5576 - accuracy: 0.6385 - fairness_loss: 0.7427\n",
      "Epoch 51/400\n",
      "1/1 [==============================] - 0s 2ms/step - loss: -0.5583 - fairness: 0.7412 - utility: 0.5583 - accuracy: 0.6385 - fairness_loss: 0.7412\n",
      "Epoch 52/400\n",
      "1/1 [==============================] - 0s 2ms/step - loss: -0.5590 - fairness: 0.7397 - utility: 0.5590 - accuracy: 0.6385 - fairness_loss: 0.7397\n",
      "Epoch 53/400\n",
      "1/1 [==============================] - 0s 2ms/step - loss: -0.5596 - fairness: 0.7382 - utility: 0.5596 - accuracy: 0.6385 - fairness_loss: 0.7382\n",
      "Epoch 54/400\n",
      "1/1 [==============================] - 0s 2ms/step - loss: -0.5603 - fairness: 0.7367 - utility: 0.5603 - accuracy: 0.6385 - fairness_loss: 0.7367\n",
      "Epoch 55/400\n",
      "1/1 [==============================] - 0s 2ms/step - loss: -0.5610 - fairness: 0.7352 - utility: 0.5610 - accuracy: 0.6385 - fairness_loss: 0.7352\n",
      "Epoch 56/400\n",
      "1/1 [==============================] - 0s 2ms/step - loss: -0.5616 - fairness: 0.7337 - utility: 0.5616 - accuracy: 0.6385 - fairness_loss: 0.7337\n",
      "Epoch 57/400\n",
      "1/1 [==============================] - 0s 2ms/step - loss: -0.5623 - fairness: 0.7322 - utility: 0.5623 - accuracy: 0.6385 - fairness_loss: 0.7322\n",
      "Epoch 58/400\n",
      "1/1 [==============================] - 0s 2ms/step - loss: -0.5629 - fairness: 0.7307 - utility: 0.5629 - accuracy: 0.6385 - fairness_loss: 0.7307\n",
      "Epoch 59/400\n",
      "1/1 [==============================] - 0s 2ms/step - loss: -0.5636 - fairness: 0.7292 - utility: 0.5636 - accuracy: 0.6385 - fairness_loss: 0.7292\n",
      "Epoch 60/400\n",
      "1/1 [==============================] - 0s 3ms/step - loss: -0.5642 - fairness: 0.7278 - utility: 0.5642 - accuracy: 0.6385 - fairness_loss: 0.7278\n",
      "Epoch 61/400\n",
      "1/1 [==============================] - 0s 3ms/step - loss: -0.5648 - fairness: 0.7263 - utility: 0.5648 - accuracy: 0.6385 - fairness_loss: 0.7263\n",
      "Epoch 62/400\n",
      "1/1 [==============================] - 0s 2ms/step - loss: -0.5655 - fairness: 0.7248 - utility: 0.5655 - accuracy: 0.6385 - fairness_loss: 0.7248\n",
      "Epoch 63/400\n",
      "1/1 [==============================] - 0s 2ms/step - loss: -0.5661 - fairness: 0.7233 - utility: 0.5661 - accuracy: 0.6385 - fairness_loss: 0.7233\n",
      "Epoch 64/400\n",
      "1/1 [==============================] - 0s 2ms/step - loss: -0.5667 - fairness: 0.7218 - utility: 0.5667 - accuracy: 0.6385 - fairness_loss: 0.7218\n",
      "Epoch 65/400\n",
      "1/1 [==============================] - 0s 2ms/step - loss: -0.5673 - fairness: 0.7204 - utility: 0.5673 - accuracy: 0.6385 - fairness_loss: 0.7204\n",
      "Epoch 66/400\n",
      "1/1 [==============================] - 0s 3ms/step - loss: -0.5679 - fairness: 0.7189 - utility: 0.5679 - accuracy: 0.6385 - fairness_loss: 0.7189\n",
      "Epoch 67/400\n",
      "1/1 [==============================] - 0s 2ms/step - loss: -0.5685 - fairness: 0.7175 - utility: 0.5685 - accuracy: 0.6438 - fairness_loss: 0.7175\n",
      "Epoch 68/400\n",
      "1/1 [==============================] - 0s 2ms/step - loss: -0.5691 - fairness: 0.7160 - utility: 0.5691 - accuracy: 0.6530 - fairness_loss: 0.7160\n",
      "Epoch 69/400\n",
      "1/1 [==============================] - 0s 2ms/step - loss: -0.5697 - fairness: 0.7146 - utility: 0.5697 - accuracy: 0.6530 - fairness_loss: 0.7146\n",
      "Epoch 70/400\n",
      "1/1 [==============================] - 0s 2ms/step - loss: -0.5703 - fairness: 0.7132 - utility: 0.5703 - accuracy: 0.6530 - fairness_loss: 0.7132\n",
      "Epoch 71/400\n",
      "1/1 [==============================] - 0s 2ms/step - loss: -0.5709 - fairness: 0.7118 - utility: 0.5709 - accuracy: 0.6525 - fairness_loss: 0.7118\n",
      "Epoch 72/400\n",
      "1/1 [==============================] - 0s 2ms/step - loss: -0.5715 - fairness: 0.7103 - utility: 0.5715 - accuracy: 0.6525 - fairness_loss: 0.7103\n",
      "Epoch 73/400\n",
      "1/1 [==============================] - 0s 2ms/step - loss: -0.5720 - fairness: 0.7089 - utility: 0.5720 - accuracy: 0.6525 - fairness_loss: 0.7089\n",
      "Epoch 74/400\n",
      "1/1 [==============================] - 0s 2ms/step - loss: -0.5726 - fairness: 0.7076 - utility: 0.5726 - accuracy: 0.6525 - fairness_loss: 0.7076\n",
      "Epoch 75/400\n",
      "1/1 [==============================] - 0s 2ms/step - loss: -0.5732 - fairness: 0.7062 - utility: 0.5732 - accuracy: 0.6525 - fairness_loss: 0.7062\n",
      "Epoch 76/400\n",
      "1/1 [==============================] - 0s 2ms/step - loss: -0.5737 - fairness: 0.7048 - utility: 0.5737 - accuracy: 0.6523 - fairness_loss: 0.7048\n",
      "Epoch 77/400\n",
      "1/1 [==============================] - 0s 2ms/step - loss: -0.5743 - fairness: 0.7035 - utility: 0.5743 - accuracy: 0.6528 - fairness_loss: 0.7035\n",
      "Epoch 78/400\n",
      "1/1 [==============================] - 0s 2ms/step - loss: -0.5748 - fairness: 0.7021 - utility: 0.5748 - accuracy: 0.6532 - fairness_loss: 0.7021\n",
      "Epoch 79/400\n",
      "1/1 [==============================] - 0s 2ms/step - loss: -0.5754 - fairness: 0.7008 - utility: 0.5754 - accuracy: 0.6527 - fairness_loss: 0.7008\n",
      "Epoch 80/400\n",
      "1/1 [==============================] - 0s 2ms/step - loss: -0.5759 - fairness: 0.6995 - utility: 0.5759 - accuracy: 0.6527 - fairness_loss: 0.6995\n",
      "Epoch 81/400\n",
      "1/1 [==============================] - 0s 2ms/step - loss: -0.5765 - fairness: 0.6981 - utility: 0.5765 - accuracy: 0.6527 - fairness_loss: 0.6981\n",
      "Epoch 82/400\n",
      "1/1 [==============================] - 0s 3ms/step - loss: -0.5770 - fairness: 0.6968 - utility: 0.5770 - accuracy: 0.6527 - fairness_loss: 0.6968\n",
      "Epoch 83/400\n",
      "1/1 [==============================] - 0s 3ms/step - loss: -0.5775 - fairness: 0.6956 - utility: 0.5775 - accuracy: 0.6527 - fairness_loss: 0.6956\n",
      "Epoch 84/400\n",
      "1/1 [==============================] - 0s 2ms/step - loss: -0.5780 - fairness: 0.6943 - utility: 0.5780 - accuracy: 0.6607 - fairness_loss: 0.6943\n",
      "Epoch 85/400\n",
      "1/1 [==============================] - 0s 2ms/step - loss: -0.5786 - fairness: 0.6930 - utility: 0.5786 - accuracy: 0.6605 - fairness_loss: 0.6930\n",
      "Epoch 86/400\n",
      "1/1 [==============================] - 0s 2ms/step - loss: -0.5791 - fairness: 0.6918 - utility: 0.5791 - accuracy: 0.6607 - fairness_loss: 0.6918\n",
      "Epoch 87/400\n",
      "1/1 [==============================] - 0s 2ms/step - loss: -0.5796 - fairness: 0.6905 - utility: 0.5796 - accuracy: 0.6607 - fairness_loss: 0.6905\n",
      "Epoch 88/400\n",
      "1/1 [==============================] - 0s 2ms/step - loss: -0.5801 - fairness: 0.6893 - utility: 0.5801 - accuracy: 0.6607 - fairness_loss: 0.6893\n",
      "Epoch 89/400\n",
      "1/1 [==============================] - 0s 2ms/step - loss: -0.5806 - fairness: 0.6881 - utility: 0.5806 - accuracy: 0.6607 - fairness_loss: 0.6881\n",
      "Epoch 90/400\n",
      "1/1 [==============================] - 0s 2ms/step - loss: -0.5811 - fairness: 0.6869 - utility: 0.5811 - accuracy: 0.6613 - fairness_loss: 0.6869\n",
      "Epoch 91/400\n",
      "1/1 [==============================] - 0s 2ms/step - loss: -0.5816 - fairness: 0.6857 - utility: 0.5816 - accuracy: 0.6613 - fairness_loss: 0.6857\n",
      "Epoch 92/400\n",
      "1/1 [==============================] - 0s 2ms/step - loss: -0.5821 - fairness: 0.6845 - utility: 0.5821 - accuracy: 0.6613 - fairness_loss: 0.6845\n",
      "Epoch 93/400\n",
      "1/1 [==============================] - 0s 2ms/step - loss: -0.5825 - fairness: 0.6833 - utility: 0.5825 - accuracy: 0.6613 - fairness_loss: 0.6833\n",
      "Epoch 94/400\n",
      "1/1 [==============================] - 0s 3ms/step - loss: -0.5830 - fairness: 0.6822 - utility: 0.5830 - accuracy: 0.6600 - fairness_loss: 0.6822\n",
      "Epoch 95/400\n",
      "1/1 [==============================] - 0s 2ms/step - loss: -0.5835 - fairness: 0.6810 - utility: 0.5835 - accuracy: 0.6605 - fairness_loss: 0.6810\n",
      "Epoch 96/400\n",
      "1/1 [==============================] - 0s 2ms/step - loss: -0.5839 - fairness: 0.6799 - utility: 0.5839 - accuracy: 0.6605 - fairness_loss: 0.6799\n",
      "Epoch 97/400\n",
      "1/1 [==============================] - 0s 2ms/step - loss: -0.5844 - fairness: 0.6788 - utility: 0.5844 - accuracy: 0.6605 - fairness_loss: 0.6788\n",
      "Epoch 98/400\n",
      "1/1 [==============================] - 0s 2ms/step - loss: -0.5849 - fairness: 0.6777 - utility: 0.5849 - accuracy: 0.6605 - fairness_loss: 0.6777\n",
      "Epoch 99/400\n",
      "1/1 [==============================] - 0s 2ms/step - loss: -0.5853 - fairness: 0.6766 - utility: 0.5853 - accuracy: 0.6602 - fairness_loss: 0.6766\n",
      "Epoch 100/400\n",
      "1/1 [==============================] - 0s 3ms/step - loss: -0.5858 - fairness: 0.6755 - utility: 0.5858 - accuracy: 0.6602 - fairness_loss: 0.6755\n",
      "Epoch 101/400\n",
      "1/1 [==============================] - 0s 2ms/step - loss: -0.5862 - fairness: 0.6744 - utility: 0.5862 - accuracy: 0.6602 - fairness_loss: 0.6744\n",
      "Epoch 102/400\n",
      "1/1 [==============================] - 0s 2ms/step - loss: -0.5867 - fairness: 0.6734 - utility: 0.5867 - accuracy: 0.6602 - fairness_loss: 0.6734\n",
      "Epoch 103/400\n",
      "1/1 [==============================] - 0s 2ms/step - loss: -0.5871 - fairness: 0.6723 - utility: 0.5871 - accuracy: 0.6602 - fairness_loss: 0.6723\n",
      "Epoch 104/400\n",
      "1/1 [==============================] - 0s 2ms/step - loss: -0.5875 - fairness: 0.6713 - utility: 0.5875 - accuracy: 0.6640 - fairness_loss: 0.6713\n",
      "Epoch 105/400\n",
      "1/1 [==============================] - 0s 2ms/step - loss: -0.5879 - fairness: 0.6702 - utility: 0.5879 - accuracy: 0.6640 - fairness_loss: 0.6702\n",
      "Epoch 106/400\n",
      "1/1 [==============================] - 0s 3ms/step - loss: -0.5884 - fairness: 0.6692 - utility: 0.5884 - accuracy: 0.6640 - fairness_loss: 0.6692\n",
      "Epoch 107/400\n"
     ]
    },
    {
     "name": "stdout",
     "output_type": "stream",
     "text": [
      "1/1 [==============================] - 0s 2ms/step - loss: -0.5888 - fairness: 0.6682 - utility: 0.5888 - accuracy: 0.6640 - fairness_loss: 0.6682\n",
      "Epoch 108/400\n",
      "1/1 [==============================] - 0s 2ms/step - loss: -0.5892 - fairness: 0.6672 - utility: 0.5892 - accuracy: 0.6640 - fairness_loss: 0.6672\n",
      "Epoch 109/400\n",
      "1/1 [==============================] - 0s 2ms/step - loss: -0.5896 - fairness: 0.6663 - utility: 0.5896 - accuracy: 0.6640 - fairness_loss: 0.6663\n",
      "Epoch 110/400\n",
      "1/1 [==============================] - 0s 2ms/step - loss: -0.5900 - fairness: 0.6653 - utility: 0.5900 - accuracy: 0.6640 - fairness_loss: 0.6653\n",
      "Epoch 111/400\n",
      "1/1 [==============================] - 0s 2ms/step - loss: -0.5904 - fairness: 0.6643 - utility: 0.5904 - accuracy: 0.6640 - fairness_loss: 0.6643\n",
      "Epoch 112/400\n",
      "1/1 [==============================] - 0s 2ms/step - loss: -0.5908 - fairness: 0.6634 - utility: 0.5908 - accuracy: 0.6628 - fairness_loss: 0.6634\n",
      "Epoch 113/400\n",
      "1/1 [==============================] - 0s 2ms/step - loss: -0.5912 - fairness: 0.6625 - utility: 0.5912 - accuracy: 0.6628 - fairness_loss: 0.6625\n",
      "Epoch 114/400\n",
      "1/1 [==============================] - 0s 2ms/step - loss: -0.5916 - fairness: 0.6615 - utility: 0.5916 - accuracy: 0.6630 - fairness_loss: 0.6615\n",
      "Epoch 115/400\n",
      "1/1 [==============================] - 0s 2ms/step - loss: -0.5920 - fairness: 0.6606 - utility: 0.5920 - accuracy: 0.6630 - fairness_loss: 0.6606\n",
      "Epoch 116/400\n",
      "1/1 [==============================] - 0s 2ms/step - loss: -0.5924 - fairness: 0.6597 - utility: 0.5924 - accuracy: 0.6630 - fairness_loss: 0.6597\n",
      "Epoch 117/400\n",
      "1/1 [==============================] - 0s 2ms/step - loss: -0.5928 - fairness: 0.6588 - utility: 0.5928 - accuracy: 0.6630 - fairness_loss: 0.6588\n",
      "Epoch 118/400\n",
      "1/1 [==============================] - 0s 2ms/step - loss: -0.5931 - fairness: 0.6580 - utility: 0.5931 - accuracy: 0.6630 - fairness_loss: 0.6580\n",
      "Epoch 119/400\n",
      "1/1 [==============================] - 0s 2ms/step - loss: -0.5935 - fairness: 0.6571 - utility: 0.5935 - accuracy: 0.6630 - fairness_loss: 0.6571\n",
      "Epoch 120/400\n",
      "1/1 [==============================] - 0s 2ms/step - loss: -0.5939 - fairness: 0.6562 - utility: 0.5939 - accuracy: 0.6630 - fairness_loss: 0.6562\n",
      "Epoch 121/400\n",
      "1/1 [==============================] - 0s 2ms/step - loss: -0.5943 - fairness: 0.6554 - utility: 0.5943 - accuracy: 0.6630 - fairness_loss: 0.6554\n",
      "Epoch 122/400\n",
      "1/1 [==============================] - 0s 3ms/step - loss: -0.5946 - fairness: 0.6545 - utility: 0.5946 - accuracy: 0.6630 - fairness_loss: 0.6545\n",
      "Epoch 123/400\n",
      "1/1 [==============================] - 0s 2ms/step - loss: -0.5950 - fairness: 0.6537 - utility: 0.5950 - accuracy: 0.6630 - fairness_loss: 0.6537\n",
      "Epoch 124/400\n",
      "1/1 [==============================] - 0s 2ms/step - loss: -0.5953 - fairness: 0.6529 - utility: 0.5953 - accuracy: 0.6630 - fairness_loss: 0.6529\n",
      "Epoch 125/400\n",
      "1/1 [==============================] - 0s 2ms/step - loss: -0.5957 - fairness: 0.6521 - utility: 0.5957 - accuracy: 0.6648 - fairness_loss: 0.6521\n",
      "Epoch 126/400\n",
      "1/1 [==============================] - 0s 2ms/step - loss: -0.5960 - fairness: 0.6513 - utility: 0.5960 - accuracy: 0.6648 - fairness_loss: 0.6513\n",
      "Epoch 127/400\n",
      "1/1 [==============================] - 0s 2ms/step - loss: -0.5964 - fairness: 0.6505 - utility: 0.5964 - accuracy: 0.6648 - fairness_loss: 0.6505\n",
      "Epoch 128/400\n",
      "1/1 [==============================] - 0s 2ms/step - loss: -0.5967 - fairness: 0.6497 - utility: 0.5967 - accuracy: 0.6635 - fairness_loss: 0.6497\n",
      "Epoch 129/400\n",
      "1/1 [==============================] - 0s 2ms/step - loss: -0.5970 - fairness: 0.6489 - utility: 0.5970 - accuracy: 0.6635 - fairness_loss: 0.6489\n",
      "Epoch 130/400\n",
      "1/1 [==============================] - 0s 3ms/step - loss: -0.5974 - fairness: 0.6482 - utility: 0.5974 - accuracy: 0.6635 - fairness_loss: 0.6482\n",
      "Epoch 131/400\n",
      "1/1 [==============================] - 0s 3ms/step - loss: -0.5977 - fairness: 0.6474 - utility: 0.5977 - accuracy: 0.6635 - fairness_loss: 0.6474\n",
      "Epoch 132/400\n",
      "1/1 [==============================] - 0s 2ms/step - loss: -0.5980 - fairness: 0.6467 - utility: 0.5980 - accuracy: 0.6635 - fairness_loss: 0.6467\n",
      "Epoch 133/400\n",
      "1/1 [==============================] - 0s 2ms/step - loss: -0.5984 - fairness: 0.6459 - utility: 0.5984 - accuracy: 0.6635 - fairness_loss: 0.6459\n",
      "Epoch 134/400\n",
      "1/1 [==============================] - 0s 2ms/step - loss: -0.5987 - fairness: 0.6452 - utility: 0.5987 - accuracy: 0.6635 - fairness_loss: 0.6452\n",
      "Epoch 135/400\n",
      "1/1 [==============================] - 0s 2ms/step - loss: -0.5990 - fairness: 0.6445 - utility: 0.5990 - accuracy: 0.6635 - fairness_loss: 0.6445\n",
      "Epoch 136/400\n",
      "1/1 [==============================] - 0s 2ms/step - loss: -0.5993 - fairness: 0.6438 - utility: 0.5993 - accuracy: 0.6635 - fairness_loss: 0.6438\n",
      "Epoch 137/400\n",
      "1/1 [==============================] - 0s 2ms/step - loss: -0.5996 - fairness: 0.6431 - utility: 0.5996 - accuracy: 0.6635 - fairness_loss: 0.6431\n",
      "Epoch 138/400\n",
      "1/1 [==============================] - 0s 3ms/step - loss: -0.5999 - fairness: 0.6424 - utility: 0.5999 - accuracy: 0.6635 - fairness_loss: 0.6424\n",
      "Epoch 139/400\n",
      "1/1 [==============================] - 0s 2ms/step - loss: -0.6003 - fairness: 0.6417 - utility: 0.6003 - accuracy: 0.6635 - fairness_loss: 0.6417\n",
      "Epoch 140/400\n",
      "1/1 [==============================] - 0s 2ms/step - loss: -0.6006 - fairness: 0.6410 - utility: 0.6006 - accuracy: 0.6635 - fairness_loss: 0.6410\n",
      "Epoch 141/400\n",
      "1/1 [==============================] - 0s 2ms/step - loss: -0.6009 - fairness: 0.6404 - utility: 0.6009 - accuracy: 0.6635 - fairness_loss: 0.6404\n",
      "Epoch 142/400\n",
      "1/1 [==============================] - 0s 2ms/step - loss: -0.6012 - fairness: 0.6397 - utility: 0.6012 - accuracy: 0.6635 - fairness_loss: 0.6397\n",
      "Epoch 143/400\n",
      "1/1 [==============================] - 0s 2ms/step - loss: -0.6015 - fairness: 0.6391 - utility: 0.6015 - accuracy: 0.6635 - fairness_loss: 0.6391\n",
      "Epoch 144/400\n",
      "1/1 [==============================] - 0s 2ms/step - loss: -0.6017 - fairness: 0.6384 - utility: 0.6017 - accuracy: 0.6638 - fairness_loss: 0.6384\n",
      "Epoch 145/400\n",
      "1/1 [==============================] - 0s 2ms/step - loss: -0.6020 - fairness: 0.6378 - utility: 0.6020 - accuracy: 0.6638 - fairness_loss: 0.6378\n",
      "Epoch 146/400\n",
      "1/1 [==============================] - 0s 2ms/step - loss: -0.6023 - fairness: 0.6372 - utility: 0.6023 - accuracy: 0.6638 - fairness_loss: 0.6372\n",
      "Epoch 147/400\n",
      "1/1 [==============================] - 0s 2ms/step - loss: -0.6026 - fairness: 0.6365 - utility: 0.6026 - accuracy: 0.6638 - fairness_loss: 0.6365\n",
      "Epoch 148/400\n",
      "1/1 [==============================] - 0s 2ms/step - loss: -0.6029 - fairness: 0.6359 - utility: 0.6029 - accuracy: 0.6638 - fairness_loss: 0.6359\n",
      "Epoch 149/400\n",
      "1/1 [==============================] - 0s 3ms/step - loss: -0.6032 - fairness: 0.6353 - utility: 0.6032 - accuracy: 0.6638 - fairness_loss: 0.6353\n",
      "Epoch 150/400\n",
      "1/1 [==============================] - 0s 2ms/step - loss: -0.6034 - fairness: 0.6347 - utility: 0.6034 - accuracy: 0.6638 - fairness_loss: 0.6347\n",
      "Epoch 151/400\n",
      "1/1 [==============================] - 0s 2ms/step - loss: -0.6037 - fairness: 0.6341 - utility: 0.6037 - accuracy: 0.6648 - fairness_loss: 0.6341\n",
      "Epoch 152/400\n",
      "1/1 [==============================] - 0s 2ms/step - loss: -0.6040 - fairness: 0.6335 - utility: 0.6040 - accuracy: 0.6648 - fairness_loss: 0.6335\n",
      "Epoch 153/400\n",
      "1/1 [==============================] - 0s 2ms/step - loss: -0.6043 - fairness: 0.6330 - utility: 0.6043 - accuracy: 0.6648 - fairness_loss: 0.6330\n",
      "Epoch 154/400\n",
      "1/1 [==============================] - 0s 2ms/step - loss: -0.6045 - fairness: 0.6324 - utility: 0.6045 - accuracy: 0.6648 - fairness_loss: 0.6324\n",
      "Epoch 155/400\n",
      "1/1 [==============================] - 0s 2ms/step - loss: -0.6048 - fairness: 0.6318 - utility: 0.6048 - accuracy: 0.6650 - fairness_loss: 0.6318\n",
      "Epoch 156/400\n",
      "1/1 [==============================] - 0s 2ms/step - loss: -0.6051 - fairness: 0.6313 - utility: 0.6051 - accuracy: 0.6650 - fairness_loss: 0.6313\n",
      "Epoch 157/400\n",
      "1/1 [==============================] - 0s 2ms/step - loss: -0.6053 - fairness: 0.6307 - utility: 0.6053 - accuracy: 0.6650 - fairness_loss: 0.6307\n"
     ]
    },
    {
     "name": "stdout",
     "output_type": "stream",
     "text": [
      "Epoch 158/400\n",
      "1/1 [==============================] - 0s 2ms/step - loss: -0.6056 - fairness: 0.6302 - utility: 0.6056 - accuracy: 0.6650 - fairness_loss: 0.6302\n",
      "Epoch 159/400\n",
      "1/1 [==============================] - 0s 2ms/step - loss: -0.6058 - fairness: 0.6296 - utility: 0.6058 - accuracy: 0.6650 - fairness_loss: 0.6296\n",
      "Epoch 160/400\n",
      "1/1 [==============================] - 0s 3ms/step - loss: -0.6061 - fairness: 0.6291 - utility: 0.6061 - accuracy: 0.6650 - fairness_loss: 0.6291\n",
      "Epoch 161/400\n",
      "1/1 [==============================] - 0s 2ms/step - loss: -0.6063 - fairness: 0.6286 - utility: 0.6063 - accuracy: 0.6650 - fairness_loss: 0.6286\n",
      "Epoch 162/400\n",
      "1/1 [==============================] - 0s 2ms/step - loss: -0.6066 - fairness: 0.6281 - utility: 0.6066 - accuracy: 0.6650 - fairness_loss: 0.6281\n",
      "Epoch 163/400\n",
      "1/1 [==============================] - 0s 2ms/step - loss: -0.6068 - fairness: 0.6275 - utility: 0.6068 - accuracy: 0.6650 - fairness_loss: 0.6275\n",
      "Epoch 164/400\n",
      "1/1 [==============================] - 0s 2ms/step - loss: -0.6071 - fairness: 0.6270 - utility: 0.6071 - accuracy: 0.6650 - fairness_loss: 0.6270\n",
      "Epoch 165/400\n",
      "1/1 [==============================] - 0s 2ms/step - loss: -0.6073 - fairness: 0.6265 - utility: 0.6073 - accuracy: 0.6650 - fairness_loss: 0.6265\n",
      "Epoch 166/400\n",
      "1/1 [==============================] - 0s 2ms/step - loss: -0.6075 - fairness: 0.6260 - utility: 0.6075 - accuracy: 0.6650 - fairness_loss: 0.6260\n",
      "Epoch 167/400\n",
      "1/1 [==============================] - 0s 2ms/step - loss: -0.6078 - fairness: 0.6256 - utility: 0.6078 - accuracy: 0.6650 - fairness_loss: 0.6256\n",
      "Epoch 168/400\n",
      "1/1 [==============================] - 0s 2ms/step - loss: -0.6080 - fairness: 0.6251 - utility: 0.6080 - accuracy: 0.6647 - fairness_loss: 0.6251\n",
      "Epoch 169/400\n",
      "1/1 [==============================] - 0s 2ms/step - loss: -0.6082 - fairness: 0.6246 - utility: 0.6082 - accuracy: 0.6647 - fairness_loss: 0.6246\n",
      "Epoch 170/400\n",
      "1/1 [==============================] - 0s 2ms/step - loss: -0.6085 - fairness: 0.6241 - utility: 0.6085 - accuracy: 0.6647 - fairness_loss: 0.6241\n",
      "Epoch 171/400\n",
      "1/1 [==============================] - 0s 2ms/step - loss: -0.6087 - fairness: 0.6236 - utility: 0.6087 - accuracy: 0.6647 - fairness_loss: 0.6236\n",
      "Epoch 172/400\n",
      "1/1 [==============================] - 0s 2ms/step - loss: -0.6089 - fairness: 0.6232 - utility: 0.6089 - accuracy: 0.6647 - fairness_loss: 0.6232\n",
      "Epoch 173/400\n",
      "1/1 [==============================] - 0s 2ms/step - loss: -0.6092 - fairness: 0.6227 - utility: 0.6092 - accuracy: 0.6647 - fairness_loss: 0.6227\n",
      "Epoch 174/400\n",
      "1/1 [==============================] - 0s 2ms/step - loss: -0.6094 - fairness: 0.6223 - utility: 0.6094 - accuracy: 0.6647 - fairness_loss: 0.6223\n",
      "Epoch 175/400\n",
      "1/1 [==============================] - 0s 2ms/step - loss: -0.6096 - fairness: 0.6218 - utility: 0.6096 - accuracy: 0.6647 - fairness_loss: 0.6218\n",
      "Epoch 176/400\n",
      "1/1 [==============================] - 0s 2ms/step - loss: -0.6098 - fairness: 0.6214 - utility: 0.6098 - accuracy: 0.6647 - fairness_loss: 0.6214\n",
      "Epoch 177/400\n",
      "1/1 [==============================] - 0s 2ms/step - loss: -0.6100 - fairness: 0.6209 - utility: 0.6100 - accuracy: 0.6647 - fairness_loss: 0.6209\n",
      "Epoch 178/400\n",
      "1/1 [==============================] - 0s 2ms/step - loss: -0.6103 - fairness: 0.6205 - utility: 0.6103 - accuracy: 0.6647 - fairness_loss: 0.6205\n",
      "Epoch 179/400\n",
      "1/1 [==============================] - 0s 2ms/step - loss: -0.6105 - fairness: 0.6201 - utility: 0.6105 - accuracy: 0.6647 - fairness_loss: 0.6201\n",
      "Epoch 180/400\n",
      "1/1 [==============================] - 0s 2ms/step - loss: -0.6107 - fairness: 0.6197 - utility: 0.6107 - accuracy: 0.6647 - fairness_loss: 0.6197\n",
      "Epoch 181/400\n",
      "1/1 [==============================] - 0s 2ms/step - loss: -0.6109 - fairness: 0.6192 - utility: 0.6109 - accuracy: 0.6647 - fairness_loss: 0.6192\n",
      "Epoch 182/400\n",
      "1/1 [==============================] - 0s 2ms/step - loss: -0.6111 - fairness: 0.6188 - utility: 0.6111 - accuracy: 0.6648 - fairness_loss: 0.6188\n",
      "Epoch 183/400\n",
      "1/1 [==============================] - 0s 3ms/step - loss: -0.6113 - fairness: 0.6184 - utility: 0.6113 - accuracy: 0.6648 - fairness_loss: 0.6184\n",
      "Epoch 184/400\n",
      "1/1 [==============================] - 0s 2ms/step - loss: -0.6115 - fairness: 0.6180 - utility: 0.6115 - accuracy: 0.6648 - fairness_loss: 0.6180\n",
      "Epoch 185/400\n",
      "1/1 [==============================] - 0s 2ms/step - loss: -0.6117 - fairness: 0.6176 - utility: 0.6117 - accuracy: 0.6648 - fairness_loss: 0.6176\n",
      "Epoch 186/400\n",
      "1/1 [==============================] - 0s 2ms/step - loss: -0.6119 - fairness: 0.6172 - utility: 0.6119 - accuracy: 0.6648 - fairness_loss: 0.6172\n",
      "Epoch 187/400\n",
      "1/1 [==============================] - 0s 2ms/step - loss: -0.6121 - fairness: 0.6168 - utility: 0.6121 - accuracy: 0.6648 - fairness_loss: 0.6168\n",
      "Epoch 188/400\n",
      "1/1 [==============================] - 0s 2ms/step - loss: -0.6123 - fairness: 0.6164 - utility: 0.6123 - accuracy: 0.6648 - fairness_loss: 0.6164\n",
      "Epoch 189/400\n",
      "1/1 [==============================] - 0s 2ms/step - loss: -0.6125 - fairness: 0.6160 - utility: 0.6125 - accuracy: 0.6648 - fairness_loss: 0.6160\n",
      "Epoch 190/400\n",
      "1/1 [==============================] - 0s 2ms/step - loss: -0.6127 - fairness: 0.6157 - utility: 0.6127 - accuracy: 0.6648 - fairness_loss: 0.6157\n",
      "Epoch 191/400\n",
      "1/1 [==============================] - 0s 2ms/step - loss: -0.6129 - fairness: 0.6153 - utility: 0.6129 - accuracy: 0.6648 - fairness_loss: 0.6153\n",
      "Epoch 192/400\n",
      "1/1 [==============================] - 0s 2ms/step - loss: -0.6131 - fairness: 0.6149 - utility: 0.6131 - accuracy: 0.6648 - fairness_loss: 0.6149\n",
      "Epoch 193/400\n",
      "1/1 [==============================] - 0s 2ms/step - loss: -0.6133 - fairness: 0.6145 - utility: 0.6133 - accuracy: 0.6648 - fairness_loss: 0.6145\n",
      "Epoch 194/400\n",
      "1/1 [==============================] - 0s 2ms/step - loss: -0.6135 - fairness: 0.6142 - utility: 0.6135 - accuracy: 0.6648 - fairness_loss: 0.6142\n",
      "Epoch 195/400\n",
      "1/1 [==============================] - 0s 3ms/step - loss: -0.6137 - fairness: 0.6138 - utility: 0.6137 - accuracy: 0.6648 - fairness_loss: 0.6138\n",
      "Epoch 196/400\n",
      "1/1 [==============================] - 0s 2ms/step - loss: -0.6138 - fairness: 0.6135 - utility: 0.6138 - accuracy: 0.6648 - fairness_loss: 0.6135\n",
      "Epoch 197/400\n",
      "1/1 [==============================] - 0s 2ms/step - loss: -0.6140 - fairness: 0.6131 - utility: 0.6140 - accuracy: 0.6648 - fairness_loss: 0.6131\n",
      "Epoch 198/400\n",
      "1/1 [==============================] - 0s 2ms/step - loss: -0.6142 - fairness: 0.6128 - utility: 0.6142 - accuracy: 0.6648 - fairness_loss: 0.6128\n",
      "Epoch 199/400\n",
      "1/1 [==============================] - 0s 2ms/step - loss: -0.6144 - fairness: 0.6124 - utility: 0.6144 - accuracy: 0.6648 - fairness_loss: 0.6124\n",
      "Epoch 200/400\n",
      "1/1 [==============================] - 0s 3ms/step - loss: -0.6146 - fairness: 0.6121 - utility: 0.6146 - accuracy: 0.6648 - fairness_loss: 0.6121\n",
      "Epoch 201/400\n",
      "1/1 [==============================] - 0s 2ms/step - loss: -0.6147 - fairness: 0.6117 - utility: 0.6147 - accuracy: 0.6648 - fairness_loss: 0.6117\n",
      "Epoch 202/400\n",
      "1/1 [==============================] - 0s 2ms/step - loss: -0.6149 - fairness: 0.6114 - utility: 0.6149 - accuracy: 0.6648 - fairness_loss: 0.6114\n",
      "Epoch 203/400\n",
      "1/1 [==============================] - 0s 2ms/step - loss: -0.6151 - fairness: 0.6111 - utility: 0.6151 - accuracy: 0.6648 - fairness_loss: 0.6111\n",
      "Epoch 204/400\n",
      "1/1 [==============================] - 0s 3ms/step - loss: -0.6153 - fairness: 0.6107 - utility: 0.6153 - accuracy: 0.6648 - fairness_loss: 0.6107\n",
      "Epoch 205/400\n",
      "1/1 [==============================] - 0s 2ms/step - loss: -0.6154 - fairness: 0.6104 - utility: 0.6154 - accuracy: 0.6648 - fairness_loss: 0.6104\n",
      "Epoch 206/400\n",
      "1/1 [==============================] - 0s 3ms/step - loss: -0.6156 - fairness: 0.6101 - utility: 0.6156 - accuracy: 0.6648 - fairness_loss: 0.6101\n",
      "Epoch 207/400\n",
      "1/1 [==============================] - 0s 2ms/step - loss: -0.6158 - fairness: 0.6098 - utility: 0.6158 - accuracy: 0.6648 - fairness_loss: 0.6098\n",
      "Epoch 208/400\n",
      "1/1 [==============================] - 0s 2ms/step - loss: -0.6159 - fairness: 0.6095 - utility: 0.6159 - accuracy: 0.6648 - fairness_loss: 0.6095\n",
      "Epoch 209/400\n",
      "1/1 [==============================] - 0s 2ms/step - loss: -0.6161 - fairness: 0.6092 - utility: 0.6161 - accuracy: 0.6648 - fairness_loss: 0.6092\n",
      "Epoch 210/400\n",
      "1/1 [==============================] - 0s 2ms/step - loss: -0.6163 - fairness: 0.6088 - utility: 0.6163 - accuracy: 0.6648 - fairness_loss: 0.6088\n",
      "Epoch 211/400\n",
      "1/1 [==============================] - 0s 2ms/step - loss: -0.6164 - fairness: 0.6085 - utility: 0.6164 - accuracy: 0.6648 - fairness_loss: 0.6085\n",
      "Epoch 212/400\n",
      "1/1 [==============================] - 0s 2ms/step - loss: -0.6166 - fairness: 0.6082 - utility: 0.6166 - accuracy: 0.6648 - fairness_loss: 0.6082\n",
      "Epoch 213/400\n",
      "1/1 [==============================] - 0s 2ms/step - loss: -0.6168 - fairness: 0.6079 - utility: 0.6168 - accuracy: 0.6648 - fairness_loss: 0.6079\n",
      "Epoch 214/400\n",
      "1/1 [==============================] - 0s 2ms/step - loss: -0.6169 - fairness: 0.6076 - utility: 0.6169 - accuracy: 0.6648 - fairness_loss: 0.6076\n",
      "Epoch 215/400\n",
      "1/1 [==============================] - 0s 2ms/step - loss: -0.6171 - fairness: 0.6073 - utility: 0.6171 - accuracy: 0.6648 - fairness_loss: 0.6073\n",
      "Epoch 216/400\n",
      "1/1 [==============================] - 0s 2ms/step - loss: -0.6173 - fairness: 0.6071 - utility: 0.6173 - accuracy: 0.6648 - fairness_loss: 0.6071\n",
      "Epoch 217/400\n",
      "1/1 [==============================] - 0s 2ms/step - loss: -0.6174 - fairness: 0.6068 - utility: 0.6174 - accuracy: 0.6648 - fairness_loss: 0.6068\n",
      "Epoch 218/400\n",
      "1/1 [==============================] - 0s 2ms/step - loss: -0.6176 - fairness: 0.6065 - utility: 0.6176 - accuracy: 0.6648 - fairness_loss: 0.6065\n",
      "Epoch 219/400\n",
      "1/1 [==============================] - 0s 2ms/step - loss: -0.6177 - fairness: 0.6062 - utility: 0.6177 - accuracy: 0.6648 - fairness_loss: 0.6062\n",
      "Epoch 220/400\n",
      "1/1 [==============================] - 0s 2ms/step - loss: -0.6179 - fairness: 0.6059 - utility: 0.6179 - accuracy: 0.6650 - fairness_loss: 0.6059\n",
      "Epoch 221/400\n",
      "1/1 [==============================] - 0s 2ms/step - loss: -0.6180 - fairness: 0.6056 - utility: 0.6180 - accuracy: 0.6650 - fairness_loss: 0.6056\n",
      "Epoch 222/400\n",
      "1/1 [==============================] - 0s 2ms/step - loss: -0.6182 - fairness: 0.6054 - utility: 0.6182 - accuracy: 0.6650 - fairness_loss: 0.6054\n",
      "Epoch 223/400\n",
      "1/1 [==============================] - 0s 2ms/step - loss: -0.6183 - fairness: 0.6051 - utility: 0.6183 - accuracy: 0.6650 - fairness_loss: 0.6051\n",
      "Epoch 224/400\n",
      "1/1 [==============================] - 0s 2ms/step - loss: -0.6185 - fairness: 0.6048 - utility: 0.6185 - accuracy: 0.6650 - fairness_loss: 0.6048\n",
      "Epoch 225/400\n",
      "1/1 [==============================] - 0s 2ms/step - loss: -0.6186 - fairness: 0.6046 - utility: 0.6186 - accuracy: 0.6650 - fairness_loss: 0.6046\n",
      "Epoch 226/400\n",
      "1/1 [==============================] - 0s 2ms/step - loss: -0.6188 - fairness: 0.6043 - utility: 0.6188 - accuracy: 0.6650 - fairness_loss: 0.6043\n",
      "Epoch 227/400\n",
      "1/1 [==============================] - 0s 2ms/step - loss: -0.6189 - fairness: 0.6040 - utility: 0.6189 - accuracy: 0.6650 - fairness_loss: 0.6040\n",
      "Epoch 228/400\n",
      "1/1 [==============================] - 0s 3ms/step - loss: -0.6191 - fairness: 0.6038 - utility: 0.6191 - accuracy: 0.6650 - fairness_loss: 0.6038\n",
      "Epoch 229/400\n",
      "1/1 [==============================] - 0s 2ms/step - loss: -0.6192 - fairness: 0.6035 - utility: 0.6192 - accuracy: 0.6650 - fairness_loss: 0.6035\n",
      "Epoch 230/400\n",
      "1/1 [==============================] - 0s 2ms/step - loss: -0.6194 - fairness: 0.6033 - utility: 0.6194 - accuracy: 0.6650 - fairness_loss: 0.6033\n",
      "Epoch 231/400\n",
      "1/1 [==============================] - 0s 2ms/step - loss: -0.6195 - fairness: 0.6030 - utility: 0.6195 - accuracy: 0.6650 - fairness_loss: 0.6030\n",
      "Epoch 232/400\n",
      "1/1 [==============================] - 0s 2ms/step - loss: -0.6196 - fairness: 0.6028 - utility: 0.6196 - accuracy: 0.6650 - fairness_loss: 0.6028\n",
      "Epoch 233/400\n",
      "1/1 [==============================] - 0s 2ms/step - loss: -0.6198 - fairness: 0.6025 - utility: 0.6198 - accuracy: 0.6650 - fairness_loss: 0.6025\n",
      "Epoch 234/400\n",
      "1/1 [==============================] - 0s 3ms/step - loss: -0.6199 - fairness: 0.6023 - utility: 0.6199 - accuracy: 0.6650 - fairness_loss: 0.6023\n",
      "Epoch 235/400\n",
      "1/1 [==============================] - 0s 2ms/step - loss: -0.6201 - fairness: 0.6020 - utility: 0.6201 - accuracy: 0.6650 - fairness_loss: 0.6020\n",
      "Epoch 236/400\n",
      "1/1 [==============================] - 0s 2ms/step - loss: -0.6202 - fairness: 0.6018 - utility: 0.6202 - accuracy: 0.6650 - fairness_loss: 0.6018\n",
      "Epoch 237/400\n",
      "1/1 [==============================] - 0s 2ms/step - loss: -0.6203 - fairness: 0.6016 - utility: 0.6203 - accuracy: 0.6650 - fairness_loss: 0.6016\n",
      "Epoch 238/400\n",
      "1/1 [==============================] - 0s 2ms/step - loss: -0.6205 - fairness: 0.6013 - utility: 0.6205 - accuracy: 0.6650 - fairness_loss: 0.6013\n",
      "Epoch 239/400\n",
      "1/1 [==============================] - 0s 2ms/step - loss: -0.6206 - fairness: 0.6011 - utility: 0.6206 - accuracy: 0.6650 - fairness_loss: 0.6011\n",
      "Epoch 240/400\n",
      "1/1 [==============================] - 0s 2ms/step - loss: -0.6207 - fairness: 0.6009 - utility: 0.6207 - accuracy: 0.6650 - fairness_loss: 0.6009\n",
      "Epoch 241/400\n",
      "1/1 [==============================] - 0s 2ms/step - loss: -0.6209 - fairness: 0.6006 - utility: 0.6209 - accuracy: 0.6665 - fairness_loss: 0.6006\n",
      "Epoch 242/400\n",
      "1/1 [==============================] - 0s 2ms/step - loss: -0.6210 - fairness: 0.6004 - utility: 0.6210 - accuracy: 0.6665 - fairness_loss: 0.6004\n",
      "Epoch 243/400\n",
      "1/1 [==============================] - 0s 2ms/step - loss: -0.6211 - fairness: 0.6002 - utility: 0.6211 - accuracy: 0.6665 - fairness_loss: 0.6002\n",
      "Epoch 244/400\n",
      "1/1 [==============================] - 0s 2ms/step - loss: -0.6213 - fairness: 0.6000 - utility: 0.6213 - accuracy: 0.6665 - fairness_loss: 0.6000\n",
      "Epoch 245/400\n",
      "1/1 [==============================] - 0s 3ms/step - loss: -0.6214 - fairness: 0.5998 - utility: 0.6214 - accuracy: 0.6665 - fairness_loss: 0.5998\n",
      "Epoch 246/400\n",
      "1/1 [==============================] - 0s 2ms/step - loss: -0.6215 - fairness: 0.5995 - utility: 0.6215 - accuracy: 0.6665 - fairness_loss: 0.5995\n",
      "Epoch 247/400\n",
      "1/1 [==============================] - 0s 2ms/step - loss: -0.6216 - fairness: 0.5993 - utility: 0.6216 - accuracy: 0.6665 - fairness_loss: 0.5993\n",
      "Epoch 248/400\n",
      "1/1 [==============================] - 0s 2ms/step - loss: -0.6218 - fairness: 0.5991 - utility: 0.6218 - accuracy: 0.6665 - fairness_loss: 0.5991\n",
      "Epoch 249/400\n",
      "1/1 [==============================] - 0s 2ms/step - loss: -0.6219 - fairness: 0.5989 - utility: 0.6219 - accuracy: 0.6665 - fairness_loss: 0.5989\n",
      "Epoch 250/400\n",
      "1/1 [==============================] - 0s 2ms/step - loss: -0.6220 - fairness: 0.5987 - utility: 0.6220 - accuracy: 0.6665 - fairness_loss: 0.5987\n",
      "Epoch 251/400\n",
      "1/1 [==============================] - 0s 2ms/step - loss: -0.6221 - fairness: 0.5985 - utility: 0.6221 - accuracy: 0.6665 - fairness_loss: 0.5985\n",
      "Epoch 252/400\n",
      "1/1 [==============================] - 0s 2ms/step - loss: -0.6223 - fairness: 0.5983 - utility: 0.6223 - accuracy: 0.6665 - fairness_loss: 0.5983\n",
      "Epoch 253/400\n",
      "1/1 [==============================] - 0s 2ms/step - loss: -0.6224 - fairness: 0.5981 - utility: 0.6224 - accuracy: 0.6660 - fairness_loss: 0.5981\n",
      "Epoch 254/400\n",
      "1/1 [==============================] - 0s 2ms/step - loss: -0.6225 - fairness: 0.5979 - utility: 0.6225 - accuracy: 0.6660 - fairness_loss: 0.5979\n",
      "Epoch 255/400\n",
      "1/1 [==============================] - 0s 2ms/step - loss: -0.6226 - fairness: 0.5977 - utility: 0.6226 - accuracy: 0.6660 - fairness_loss: 0.5977\n",
      "Epoch 256/400\n",
      "1/1 [==============================] - 0s 2ms/step - loss: -0.6227 - fairness: 0.5975 - utility: 0.6227 - accuracy: 0.6660 - fairness_loss: 0.5975\n",
      "Epoch 257/400\n",
      "1/1 [==============================] - 0s 3ms/step - loss: -0.6229 - fairness: 0.5973 - utility: 0.6229 - accuracy: 0.6660 - fairness_loss: 0.5973\n",
      "Epoch 258/400\n",
      "1/1 [==============================] - 0s 2ms/step - loss: -0.6230 - fairness: 0.5971 - utility: 0.6230 - accuracy: 0.6660 - fairness_loss: 0.5971\n"
     ]
    },
    {
     "name": "stdout",
     "output_type": "stream",
     "text": [
      "Epoch 259/400\n",
      "1/1 [==============================] - 0s 2ms/step - loss: -0.6231 - fairness: 0.5969 - utility: 0.6231 - accuracy: 0.6660 - fairness_loss: 0.5969\n",
      "Epoch 260/400\n",
      "1/1 [==============================] - 0s 2ms/step - loss: -0.6232 - fairness: 0.5967 - utility: 0.6232 - accuracy: 0.6660 - fairness_loss: 0.5967\n",
      "Epoch 261/400\n",
      "1/1 [==============================] - 0s 2ms/step - loss: -0.6233 - fairness: 0.5965 - utility: 0.6233 - accuracy: 0.6660 - fairness_loss: 0.5965\n",
      "Epoch 262/400\n",
      "1/1 [==============================] - 0s 2ms/step - loss: -0.6235 - fairness: 0.5963 - utility: 0.6235 - accuracy: 0.6660 - fairness_loss: 0.5963\n",
      "Epoch 263/400\n",
      "1/1 [==============================] - 0s 3ms/step - loss: -0.6236 - fairness: 0.5961 - utility: 0.6236 - accuracy: 0.6660 - fairness_loss: 0.5961\n",
      "Epoch 264/400\n",
      "1/1 [==============================] - 0s 2ms/step - loss: -0.6237 - fairness: 0.5959 - utility: 0.6237 - accuracy: 0.6660 - fairness_loss: 0.5959\n",
      "Epoch 265/400\n",
      "1/1 [==============================] - 0s 2ms/step - loss: -0.6238 - fairness: 0.5957 - utility: 0.6238 - accuracy: 0.6660 - fairness_loss: 0.5957\n",
      "Epoch 266/400\n",
      "1/1 [==============================] - 0s 2ms/step - loss: -0.6239 - fairness: 0.5956 - utility: 0.6239 - accuracy: 0.6660 - fairness_loss: 0.5956\n",
      "Epoch 267/400\n",
      "1/1 [==============================] - 0s 2ms/step - loss: -0.6240 - fairness: 0.5954 - utility: 0.6240 - accuracy: 0.6660 - fairness_loss: 0.5954\n",
      "Epoch 268/400\n",
      "1/1 [==============================] - 0s 3ms/step - loss: -0.6241 - fairness: 0.5952 - utility: 0.6241 - accuracy: 0.6660 - fairness_loss: 0.5952\n",
      "Epoch 269/400\n",
      "1/1 [==============================] - 0s 3ms/step - loss: -0.6242 - fairness: 0.5950 - utility: 0.6242 - accuracy: 0.6660 - fairness_loss: 0.5950\n",
      "Epoch 270/400\n",
      "1/1 [==============================] - 0s 2ms/step - loss: -0.6243 - fairness: 0.5948 - utility: 0.6243 - accuracy: 0.6660 - fairness_loss: 0.5948\n",
      "Epoch 271/400\n",
      "1/1 [==============================] - 0s 2ms/step - loss: -0.6245 - fairness: 0.5947 - utility: 0.6245 - accuracy: 0.6660 - fairness_loss: 0.5947\n",
      "Epoch 272/400\n",
      "1/1 [==============================] - 0s 2ms/step - loss: -0.6246 - fairness: 0.5945 - utility: 0.6246 - accuracy: 0.6660 - fairness_loss: 0.5945\n",
      "Epoch 273/400\n",
      "1/1 [==============================] - 0s 3ms/step - loss: -0.6247 - fairness: 0.5943 - utility: 0.6247 - accuracy: 0.6660 - fairness_loss: 0.5943\n",
      "Epoch 274/400\n",
      "1/1 [==============================] - 0s 2ms/step - loss: -0.6248 - fairness: 0.5941 - utility: 0.6248 - accuracy: 0.6660 - fairness_loss: 0.5941\n",
      "Epoch 275/400\n",
      "1/1 [==============================] - 0s 2ms/step - loss: -0.6249 - fairness: 0.5940 - utility: 0.6249 - accuracy: 0.6660 - fairness_loss: 0.5940\n",
      "Epoch 276/400\n",
      "1/1 [==============================] - 0s 2ms/step - loss: -0.6250 - fairness: 0.5938 - utility: 0.6250 - accuracy: 0.6660 - fairness_loss: 0.5938\n",
      "Epoch 277/400\n",
      "1/1 [==============================] - 0s 2ms/step - loss: -0.6251 - fairness: 0.5936 - utility: 0.6251 - accuracy: 0.6660 - fairness_loss: 0.5936\n",
      "Epoch 278/400\n",
      "1/1 [==============================] - 0s 3ms/step - loss: -0.6252 - fairness: 0.5935 - utility: 0.6252 - accuracy: 0.6660 - fairness_loss: 0.5935\n",
      "Epoch 279/400\n",
      "1/1 [==============================] - 0s 3ms/step - loss: -0.6253 - fairness: 0.5933 - utility: 0.6253 - accuracy: 0.6660 - fairness_loss: 0.5933\n",
      "Epoch 280/400\n",
      "1/1 [==============================] - 0s 2ms/step - loss: -0.6254 - fairness: 0.5931 - utility: 0.6254 - accuracy: 0.6660 - fairness_loss: 0.5931\n",
      "Epoch 281/400\n",
      "1/1 [==============================] - 0s 2ms/step - loss: -0.6255 - fairness: 0.5930 - utility: 0.6255 - accuracy: 0.6660 - fairness_loss: 0.5930\n",
      "Epoch 282/400\n",
      "1/1 [==============================] - 0s 2ms/step - loss: -0.6256 - fairness: 0.5928 - utility: 0.6256 - accuracy: 0.6660 - fairness_loss: 0.5928\n",
      "Epoch 283/400\n",
      "1/1 [==============================] - 0s 2ms/step - loss: -0.6257 - fairness: 0.5927 - utility: 0.6257 - accuracy: 0.6660 - fairness_loss: 0.5927\n",
      "Epoch 284/400\n",
      "1/1 [==============================] - 0s 2ms/step - loss: -0.6258 - fairness: 0.5925 - utility: 0.6258 - accuracy: 0.6660 - fairness_loss: 0.5925\n",
      "Epoch 285/400\n",
      "1/1 [==============================] - 0s 3ms/step - loss: -0.6259 - fairness: 0.5923 - utility: 0.6259 - accuracy: 0.6660 - fairness_loss: 0.5923\n",
      "Epoch 286/400\n",
      "1/1 [==============================] - 0s 2ms/step - loss: -0.6260 - fairness: 0.5922 - utility: 0.6260 - accuracy: 0.6660 - fairness_loss: 0.5922\n",
      "Epoch 287/400\n",
      "1/1 [==============================] - 0s 2ms/step - loss: -0.6261 - fairness: 0.5920 - utility: 0.6261 - accuracy: 0.6660 - fairness_loss: 0.5920\n",
      "Epoch 288/400\n",
      "1/1 [==============================] - 0s 2ms/step - loss: -0.6262 - fairness: 0.5919 - utility: 0.6262 - accuracy: 0.6660 - fairness_loss: 0.5919\n",
      "Epoch 289/400\n",
      "1/1 [==============================] - 0s 2ms/step - loss: -0.6263 - fairness: 0.5917 - utility: 0.6263 - accuracy: 0.6660 - fairness_loss: 0.5917\n",
      "Epoch 290/400\n",
      "1/1 [==============================] - 0s 3ms/step - loss: -0.6264 - fairness: 0.5916 - utility: 0.6264 - accuracy: 0.6660 - fairness_loss: 0.5916\n",
      "Epoch 291/400\n",
      "1/1 [==============================] - 0s 2ms/step - loss: -0.6265 - fairness: 0.5914 - utility: 0.6265 - accuracy: 0.6660 - fairness_loss: 0.5914\n",
      "Epoch 292/400\n",
      "1/1 [==============================] - 0s 2ms/step - loss: -0.6266 - fairness: 0.5913 - utility: 0.6266 - accuracy: 0.6660 - fairness_loss: 0.5913\n",
      "Epoch 293/400\n",
      "1/1 [==============================] - 0s 2ms/step - loss: -0.6267 - fairness: 0.5911 - utility: 0.6267 - accuracy: 0.6660 - fairness_loss: 0.5911\n",
      "Epoch 294/400\n",
      "1/1 [==============================] - 0s 2ms/step - loss: -0.6268 - fairness: 0.5910 - utility: 0.6268 - accuracy: 0.6660 - fairness_loss: 0.5910\n",
      "Epoch 295/400\n",
      "1/1 [==============================] - 0s 2ms/step - loss: -0.6269 - fairness: 0.5909 - utility: 0.6269 - accuracy: 0.6660 - fairness_loss: 0.5909\n",
      "Epoch 296/400\n",
      "1/1 [==============================] - 0s 3ms/step - loss: -0.6270 - fairness: 0.5907 - utility: 0.6270 - accuracy: 0.6660 - fairness_loss: 0.5907\n",
      "Epoch 297/400\n",
      "1/1 [==============================] - 0s 2ms/step - loss: -0.6271 - fairness: 0.5906 - utility: 0.6271 - accuracy: 0.6660 - fairness_loss: 0.5906\n",
      "Epoch 298/400\n",
      "1/1 [==============================] - 0s 2ms/step - loss: -0.6272 - fairness: 0.5904 - utility: 0.6272 - accuracy: 0.6660 - fairness_loss: 0.5904\n",
      "Epoch 299/400\n",
      "1/1 [==============================] - 0s 2ms/step - loss: -0.6272 - fairness: 0.5903 - utility: 0.6272 - accuracy: 0.6660 - fairness_loss: 0.5903\n",
      "Epoch 300/400\n",
      "1/1 [==============================] - 0s 2ms/step - loss: -0.6273 - fairness: 0.5901 - utility: 0.6273 - accuracy: 0.6660 - fairness_loss: 0.5901\n",
      "Epoch 301/400\n",
      "1/1 [==============================] - 0s 2ms/step - loss: -0.6274 - fairness: 0.5900 - utility: 0.6274 - accuracy: 0.6660 - fairness_loss: 0.5900\n",
      "Epoch 302/400\n",
      "1/1 [==============================] - 0s 2ms/step - loss: -0.6275 - fairness: 0.5899 - utility: 0.6275 - accuracy: 0.6660 - fairness_loss: 0.5899\n",
      "Epoch 303/400\n",
      "1/1 [==============================] - 0s 2ms/step - loss: -0.6276 - fairness: 0.5897 - utility: 0.6276 - accuracy: 0.6660 - fairness_loss: 0.5897\n",
      "Epoch 304/400\n",
      "1/1 [==============================] - 0s 2ms/step - loss: -0.6277 - fairness: 0.5896 - utility: 0.6277 - accuracy: 0.6660 - fairness_loss: 0.5896\n",
      "Epoch 305/400\n",
      "1/1 [==============================] - 0s 2ms/step - loss: -0.6278 - fairness: 0.5895 - utility: 0.6278 - accuracy: 0.6660 - fairness_loss: 0.5895\n",
      "Epoch 306/400\n",
      "1/1 [==============================] - 0s 2ms/step - loss: -0.6279 - fairness: 0.5893 - utility: 0.6279 - accuracy: 0.6660 - fairness_loss: 0.5893\n",
      "Epoch 307/400\n",
      "1/1 [==============================] - 0s 3ms/step - loss: -0.6280 - fairness: 0.5892 - utility: 0.6280 - accuracy: 0.6660 - fairness_loss: 0.5892\n",
      "Epoch 308/400\n",
      "1/1 [==============================] - 0s 2ms/step - loss: -0.6281 - fairness: 0.5891 - utility: 0.6281 - accuracy: 0.6660 - fairness_loss: 0.5891\n",
      "Epoch 309/400\n",
      "1/1 [==============================] - 0s 2ms/step - loss: -0.6281 - fairness: 0.5889 - utility: 0.6281 - accuracy: 0.6660 - fairness_loss: 0.5889\n",
      "Epoch 310/400\n",
      "1/1 [==============================] - 0s 2ms/step - loss: -0.6282 - fairness: 0.5888 - utility: 0.6282 - accuracy: 0.6660 - fairness_loss: 0.5888\n",
      "Epoch 311/400\n",
      "1/1 [==============================] - 0s 2ms/step - loss: -0.6283 - fairness: 0.5887 - utility: 0.6283 - accuracy: 0.6660 - fairness_loss: 0.5887\n",
      "Epoch 312/400\n",
      "1/1 [==============================] - 0s 2ms/step - loss: -0.6284 - fairness: 0.5886 - utility: 0.6284 - accuracy: 0.6660 - fairness_loss: 0.5886\n",
      "Epoch 313/400\n",
      "1/1 [==============================] - 0s 3ms/step - loss: -0.6285 - fairness: 0.5884 - utility: 0.6285 - accuracy: 0.6660 - fairness_loss: 0.5884\n",
      "Epoch 314/400\n",
      "1/1 [==============================] - 0s 2ms/step - loss: -0.6286 - fairness: 0.5883 - utility: 0.6286 - accuracy: 0.6670 - fairness_loss: 0.5883\n",
      "Epoch 315/400\n",
      "1/1 [==============================] - 0s 2ms/step - loss: -0.6287 - fairness: 0.5882 - utility: 0.6287 - accuracy: 0.6670 - fairness_loss: 0.5882\n",
      "Epoch 316/400\n",
      "1/1 [==============================] - 0s 2ms/step - loss: -0.6287 - fairness: 0.5881 - utility: 0.6287 - accuracy: 0.6670 - fairness_loss: 0.5881\n",
      "Epoch 317/400\n",
      "1/1 [==============================] - 0s 2ms/step - loss: -0.6288 - fairness: 0.5879 - utility: 0.6288 - accuracy: 0.6670 - fairness_loss: 0.5879\n",
      "Epoch 318/400\n",
      "1/1 [==============================] - 0s 3ms/step - loss: -0.6289 - fairness: 0.5878 - utility: 0.6289 - accuracy: 0.6670 - fairness_loss: 0.5878\n",
      "Epoch 319/400\n",
      "1/1 [==============================] - 0s 2ms/step - loss: -0.6290 - fairness: 0.5877 - utility: 0.6290 - accuracy: 0.6670 - fairness_loss: 0.5877\n",
      "Epoch 320/400\n",
      "1/1 [==============================] - 0s 2ms/step - loss: -0.6291 - fairness: 0.5876 - utility: 0.6291 - accuracy: 0.6670 - fairness_loss: 0.5876\n",
      "Epoch 321/400\n",
      "1/1 [==============================] - 0s 2ms/step - loss: -0.6291 - fairness: 0.5875 - utility: 0.6291 - accuracy: 0.6670 - fairness_loss: 0.5875\n",
      "Epoch 322/400\n",
      "1/1 [==============================] - 0s 2ms/step - loss: -0.6292 - fairness: 0.5873 - utility: 0.6292 - accuracy: 0.6670 - fairness_loss: 0.5873\n",
      "Epoch 323/400\n",
      "1/1 [==============================] - 0s 2ms/step - loss: -0.6293 - fairness: 0.5872 - utility: 0.6293 - accuracy: 0.6670 - fairness_loss: 0.5872\n",
      "Epoch 324/400\n",
      "1/1 [==============================] - 0s 3ms/step - loss: -0.6294 - fairness: 0.5871 - utility: 0.6294 - accuracy: 0.6670 - fairness_loss: 0.5871\n",
      "Epoch 325/400\n",
      "1/1 [==============================] - 0s 2ms/step - loss: -0.6295 - fairness: 0.5870 - utility: 0.6295 - accuracy: 0.6670 - fairness_loss: 0.5870\n",
      "Epoch 326/400\n",
      "1/1 [==============================] - 0s 2ms/step - loss: -0.6295 - fairness: 0.5869 - utility: 0.6295 - accuracy: 0.6670 - fairness_loss: 0.5869\n",
      "Epoch 327/400\n",
      "1/1 [==============================] - 0s 2ms/step - loss: -0.6296 - fairness: 0.5868 - utility: 0.6296 - accuracy: 0.6670 - fairness_loss: 0.5868\n",
      "Epoch 328/400\n",
      "1/1 [==============================] - 0s 2ms/step - loss: -0.6297 - fairness: 0.5867 - utility: 0.6297 - accuracy: 0.6670 - fairness_loss: 0.5867\n",
      "Epoch 329/400\n",
      "1/1 [==============================] - 0s 2ms/step - loss: -0.6298 - fairness: 0.5865 - utility: 0.6298 - accuracy: 0.6670 - fairness_loss: 0.5865\n",
      "Epoch 330/400\n",
      "1/1 [==============================] - 0s 3ms/step - loss: -0.6299 - fairness: 0.5864 - utility: 0.6299 - accuracy: 0.6670 - fairness_loss: 0.5864\n",
      "Epoch 331/400\n",
      "1/1 [==============================] - 0s 2ms/step - loss: -0.6299 - fairness: 0.5863 - utility: 0.6299 - accuracy: 0.6670 - fairness_loss: 0.5863\n",
      "Epoch 332/400\n",
      "1/1 [==============================] - 0s 2ms/step - loss: -0.6300 - fairness: 0.5862 - utility: 0.6300 - accuracy: 0.6670 - fairness_loss: 0.5862\n",
      "Epoch 333/400\n",
      "1/1 [==============================] - 0s 2ms/step - loss: -0.6301 - fairness: 0.5861 - utility: 0.6301 - accuracy: 0.6670 - fairness_loss: 0.5861\n",
      "Epoch 334/400\n",
      "1/1 [==============================] - 0s 2ms/step - loss: -0.6302 - fairness: 0.5860 - utility: 0.6302 - accuracy: 0.6670 - fairness_loss: 0.5860\n",
      "Epoch 335/400\n",
      "1/1 [==============================] - 0s 2ms/step - loss: -0.6302 - fairness: 0.5859 - utility: 0.6302 - accuracy: 0.6667 - fairness_loss: 0.5859\n",
      "Epoch 336/400\n",
      "1/1 [==============================] - 0s 3ms/step - loss: -0.6303 - fairness: 0.5858 - utility: 0.6303 - accuracy: 0.6667 - fairness_loss: 0.5858\n",
      "Epoch 337/400\n",
      "1/1 [==============================] - 0s 2ms/step - loss: -0.6304 - fairness: 0.5857 - utility: 0.6304 - accuracy: 0.6667 - fairness_loss: 0.5857\n",
      "Epoch 338/400\n",
      "1/1 [==============================] - 0s 2ms/step - loss: -0.6305 - fairness: 0.5856 - utility: 0.6305 - accuracy: 0.6667 - fairness_loss: 0.5856\n",
      "Epoch 339/400\n",
      "1/1 [==============================] - 0s 3ms/step - loss: -0.6305 - fairness: 0.5855 - utility: 0.6305 - accuracy: 0.6667 - fairness_loss: 0.5855\n",
      "Epoch 340/400\n",
      "1/1 [==============================] - 0s 3ms/step - loss: -0.6306 - fairness: 0.5854 - utility: 0.6306 - accuracy: 0.6667 - fairness_loss: 0.5854\n",
      "Epoch 341/400\n",
      "1/1 [==============================] - 0s 3ms/step - loss: -0.6307 - fairness: 0.5853 - utility: 0.6307 - accuracy: 0.6667 - fairness_loss: 0.5853\n",
      "Epoch 342/400\n",
      "1/1 [==============================] - 0s 2ms/step - loss: -0.6308 - fairness: 0.5852 - utility: 0.6308 - accuracy: 0.6667 - fairness_loss: 0.5852\n",
      "Epoch 343/400\n",
      "1/1 [==============================] - 0s 2ms/step - loss: -0.6308 - fairness: 0.5851 - utility: 0.6308 - accuracy: 0.6667 - fairness_loss: 0.5851\n",
      "Epoch 344/400\n",
      "1/1 [==============================] - 0s 2ms/step - loss: -0.6309 - fairness: 0.5850 - utility: 0.6309 - accuracy: 0.6667 - fairness_loss: 0.5850\n",
      "Epoch 345/400\n",
      "1/1 [==============================] - 0s 2ms/step - loss: -0.6310 - fairness: 0.5849 - utility: 0.6310 - accuracy: 0.6667 - fairness_loss: 0.5849\n",
      "Epoch 346/400\n",
      "1/1 [==============================] - 0s 2ms/step - loss: -0.6311 - fairness: 0.5848 - utility: 0.6311 - accuracy: 0.6667 - fairness_loss: 0.5848\n",
      "Epoch 347/400\n",
      "1/1 [==============================] - 0s 3ms/step - loss: -0.6311 - fairness: 0.5847 - utility: 0.6311 - accuracy: 0.6667 - fairness_loss: 0.5847\n",
      "Epoch 348/400\n",
      "1/1 [==============================] - 0s 2ms/step - loss: -0.6312 - fairness: 0.5846 - utility: 0.6312 - accuracy: 0.6667 - fairness_loss: 0.5846\n",
      "Epoch 349/400\n",
      "1/1 [==============================] - 0s 2ms/step - loss: -0.6313 - fairness: 0.5845 - utility: 0.6313 - accuracy: 0.6667 - fairness_loss: 0.5845\n",
      "Epoch 350/400\n",
      "1/1 [==============================] - 0s 2ms/step - loss: -0.6313 - fairness: 0.5844 - utility: 0.6313 - accuracy: 0.6667 - fairness_loss: 0.5844\n",
      "Epoch 351/400\n",
      "1/1 [==============================] - 0s 2ms/step - loss: -0.6314 - fairness: 0.5843 - utility: 0.6314 - accuracy: 0.6667 - fairness_loss: 0.5843\n",
      "Epoch 352/400\n",
      "1/1 [==============================] - 0s 2ms/step - loss: -0.6315 - fairness: 0.5842 - utility: 0.6315 - accuracy: 0.6667 - fairness_loss: 0.5842\n",
      "Epoch 353/400\n",
      "1/1 [==============================] - 0s 3ms/step - loss: -0.6315 - fairness: 0.5841 - utility: 0.6315 - accuracy: 0.6667 - fairness_loss: 0.5841\n",
      "Epoch 354/400\n",
      "1/1 [==============================] - 0s 2ms/step - loss: -0.6316 - fairness: 0.5840 - utility: 0.6316 - accuracy: 0.6667 - fairness_loss: 0.5840\n",
      "Epoch 355/400\n",
      "1/1 [==============================] - 0s 2ms/step - loss: -0.6317 - fairness: 0.5839 - utility: 0.6317 - accuracy: 0.6667 - fairness_loss: 0.5839\n",
      "Epoch 356/400\n",
      "1/1 [==============================] - 0s 2ms/step - loss: -0.6318 - fairness: 0.5838 - utility: 0.6318 - accuracy: 0.6667 - fairness_loss: 0.5838\n",
      "Epoch 357/400\n",
      "1/1 [==============================] - 0s 2ms/step - loss: -0.6318 - fairness: 0.5837 - utility: 0.6318 - accuracy: 0.6667 - fairness_loss: 0.5837\n",
      "Epoch 358/400\n",
      "1/1 [==============================] - 0s 2ms/step - loss: -0.6319 - fairness: 0.5836 - utility: 0.6319 - accuracy: 0.6667 - fairness_loss: 0.5836\n",
      "Epoch 359/400\n",
      "1/1 [==============================] - 0s 3ms/step - loss: -0.6320 - fairness: 0.5835 - utility: 0.6320 - accuracy: 0.6667 - fairness_loss: 0.5835\n"
     ]
    },
    {
     "name": "stdout",
     "output_type": "stream",
     "text": [
      "Epoch 360/400\n",
      "1/1 [==============================] - 0s 2ms/step - loss: -0.6320 - fairness: 0.5834 - utility: 0.6320 - accuracy: 0.6667 - fairness_loss: 0.5834\n",
      "Epoch 361/400\n",
      "1/1 [==============================] - 0s 2ms/step - loss: -0.6321 - fairness: 0.5833 - utility: 0.6321 - accuracy: 0.6667 - fairness_loss: 0.5833\n",
      "Epoch 362/400\n",
      "1/1 [==============================] - 0s 2ms/step - loss: -0.6322 - fairness: 0.5832 - utility: 0.6322 - accuracy: 0.6667 - fairness_loss: 0.5832\n",
      "Epoch 363/400\n",
      "1/1 [==============================] - 0s 3ms/step - loss: -0.6322 - fairness: 0.5832 - utility: 0.6322 - accuracy: 0.6667 - fairness_loss: 0.5832\n",
      "Epoch 364/400\n",
      "1/1 [==============================] - 0s 3ms/step - loss: -0.6323 - fairness: 0.5831 - utility: 0.6323 - accuracy: 0.6667 - fairness_loss: 0.5831\n",
      "Epoch 365/400\n",
      "1/1 [==============================] - 0s 2ms/step - loss: -0.6324 - fairness: 0.5830 - utility: 0.6324 - accuracy: 0.6667 - fairness_loss: 0.5830\n",
      "Epoch 366/400\n",
      "1/1 [==============================] - 0s 2ms/step - loss: -0.6324 - fairness: 0.5829 - utility: 0.6324 - accuracy: 0.6667 - fairness_loss: 0.5829\n",
      "Epoch 367/400\n",
      "1/1 [==============================] - 0s 2ms/step - loss: -0.6325 - fairness: 0.5828 - utility: 0.6325 - accuracy: 0.6667 - fairness_loss: 0.5828\n",
      "Epoch 368/400\n",
      "1/1 [==============================] - 0s 2ms/step - loss: -0.6325 - fairness: 0.5827 - utility: 0.6325 - accuracy: 0.6667 - fairness_loss: 0.5827\n",
      "Epoch 369/400\n",
      "1/1 [==============================] - 0s 3ms/step - loss: -0.6326 - fairness: 0.5826 - utility: 0.6326 - accuracy: 0.6667 - fairness_loss: 0.5826\n",
      "Epoch 370/400\n",
      "1/1 [==============================] - 0s 2ms/step - loss: -0.6327 - fairness: 0.5826 - utility: 0.6327 - accuracy: 0.6667 - fairness_loss: 0.5826\n",
      "Epoch 371/400\n",
      "1/1 [==============================] - 0s 2ms/step - loss: -0.6327 - fairness: 0.5825 - utility: 0.6327 - accuracy: 0.6667 - fairness_loss: 0.5825\n",
      "Epoch 372/400\n",
      "1/1 [==============================] - 0s 2ms/step - loss: -0.6328 - fairness: 0.5824 - utility: 0.6328 - accuracy: 0.6667 - fairness_loss: 0.5824\n",
      "Epoch 373/400\n",
      "1/1 [==============================] - 0s 2ms/step - loss: -0.6329 - fairness: 0.5823 - utility: 0.6329 - accuracy: 0.6672 - fairness_loss: 0.5823\n",
      "Epoch 374/400\n",
      "1/1 [==============================] - 0s 2ms/step - loss: -0.6329 - fairness: 0.5822 - utility: 0.6329 - accuracy: 0.6672 - fairness_loss: 0.5822\n",
      "Epoch 375/400\n",
      "1/1 [==============================] - 0s 3ms/step - loss: -0.6330 - fairness: 0.5821 - utility: 0.6330 - accuracy: 0.6672 - fairness_loss: 0.5821\n",
      "Epoch 376/400\n",
      "1/1 [==============================] - 0s 2ms/step - loss: -0.6330 - fairness: 0.5821 - utility: 0.6330 - accuracy: 0.6672 - fairness_loss: 0.5821\n",
      "Epoch 377/400\n",
      "1/1 [==============================] - 0s 2ms/step - loss: -0.6331 - fairness: 0.5820 - utility: 0.6331 - accuracy: 0.6672 - fairness_loss: 0.5820\n",
      "Epoch 378/400\n",
      "1/1 [==============================] - 0s 2ms/step - loss: -0.6332 - fairness: 0.5819 - utility: 0.6332 - accuracy: 0.6672 - fairness_loss: 0.5819\n",
      "Epoch 379/400\n",
      "1/1 [==============================] - 0s 2ms/step - loss: -0.6332 - fairness: 0.5818 - utility: 0.6332 - accuracy: 0.6672 - fairness_loss: 0.5818\n",
      "Epoch 380/400\n",
      "1/1 [==============================] - 0s 3ms/step - loss: -0.6333 - fairness: 0.5817 - utility: 0.6333 - accuracy: 0.6672 - fairness_loss: 0.5817\n",
      "Epoch 381/400\n",
      "1/1 [==============================] - 0s 2ms/step - loss: -0.6334 - fairness: 0.5817 - utility: 0.6334 - accuracy: 0.6672 - fairness_loss: 0.5817\n",
      "Epoch 382/400\n",
      "1/1 [==============================] - 0s 2ms/step - loss: -0.6334 - fairness: 0.5816 - utility: 0.6334 - accuracy: 0.6672 - fairness_loss: 0.5816\n",
      "Epoch 383/400\n",
      "1/1 [==============================] - 0s 2ms/step - loss: -0.6335 - fairness: 0.5815 - utility: 0.6335 - accuracy: 0.6672 - fairness_loss: 0.5815\n",
      "Epoch 384/400\n",
      "1/1 [==============================] - 0s 2ms/step - loss: -0.6335 - fairness: 0.5814 - utility: 0.6335 - accuracy: 0.6672 - fairness_loss: 0.5814\n",
      "Epoch 385/400\n",
      "1/1 [==============================] - 0s 2ms/step - loss: -0.6336 - fairness: 0.5813 - utility: 0.6336 - accuracy: 0.6672 - fairness_loss: 0.5813\n",
      "Epoch 386/400\n",
      "1/1 [==============================] - 0s 3ms/step - loss: -0.6337 - fairness: 0.5813 - utility: 0.6337 - accuracy: 0.6672 - fairness_loss: 0.5813\n",
      "Epoch 387/400\n",
      "1/1 [==============================] - 0s 2ms/step - loss: -0.6337 - fairness: 0.5812 - utility: 0.6337 - accuracy: 0.6672 - fairness_loss: 0.5812\n",
      "Epoch 388/400\n",
      "1/1 [==============================] - 0s 2ms/step - loss: -0.6338 - fairness: 0.5811 - utility: 0.6338 - accuracy: 0.6672 - fairness_loss: 0.5811\n",
      "Epoch 389/400\n",
      "1/1 [==============================] - 0s 2ms/step - loss: -0.6338 - fairness: 0.5810 - utility: 0.6338 - accuracy: 0.6672 - fairness_loss: 0.5810\n",
      "Epoch 390/400\n",
      "1/1 [==============================] - 0s 2ms/step - loss: -0.6339 - fairness: 0.5810 - utility: 0.6339 - accuracy: 0.6672 - fairness_loss: 0.5810\n",
      "Epoch 391/400\n",
      "1/1 [==============================] - 0s 2ms/step - loss: -0.6339 - fairness: 0.5809 - utility: 0.6339 - accuracy: 0.6672 - fairness_loss: 0.5809\n",
      "Epoch 392/400\n",
      "1/1 [==============================] - 0s 3ms/step - loss: -0.6340 - fairness: 0.5808 - utility: 0.6340 - accuracy: 0.6672 - fairness_loss: 0.5808\n",
      "Epoch 393/400\n",
      "1/1 [==============================] - 0s 2ms/step - loss: -0.6341 - fairness: 0.5807 - utility: 0.6341 - accuracy: 0.6672 - fairness_loss: 0.5807\n",
      "Epoch 394/400\n",
      "1/1 [==============================] - 0s 2ms/step - loss: -0.6341 - fairness: 0.5807 - utility: 0.6341 - accuracy: 0.6672 - fairness_loss: 0.5807\n",
      "Epoch 395/400\n",
      "1/1 [==============================] - 0s 2ms/step - loss: -0.6342 - fairness: 0.5806 - utility: 0.6342 - accuracy: 0.6672 - fairness_loss: 0.5806\n",
      "Epoch 396/400\n",
      "1/1 [==============================] - 0s 2ms/step - loss: -0.6342 - fairness: 0.5805 - utility: 0.6342 - accuracy: 0.6672 - fairness_loss: 0.5805\n",
      "Epoch 397/400\n",
      "1/1 [==============================] - 0s 2ms/step - loss: -0.6343 - fairness: 0.5805 - utility: 0.6343 - accuracy: 0.6672 - fairness_loss: 0.5805\n",
      "Epoch 398/400\n",
      "1/1 [==============================] - 0s 2ms/step - loss: -0.6343 - fairness: 0.5804 - utility: 0.6343 - accuracy: 0.6672 - fairness_loss: 0.5804\n",
      "Epoch 399/400\n",
      "1/1 [==============================] - 0s 2ms/step - loss: -0.6344 - fairness: 0.5803 - utility: 0.6344 - accuracy: 0.6672 - fairness_loss: 0.5803\n",
      "Epoch 400/400\n",
      "1/1 [==============================] - 0s 2ms/step - loss: -0.6345 - fairness: 0.5802 - utility: 0.6345 - accuracy: 0.6672 - fairness_loss: 0.5802\n"
     ]
    }
   ],
   "source": [
    "history = policy_model.fit(x = in_df.astype(\"float32\"),\n",
    "                           y = train_data[Y_atr].astype(\"float32\"),\n",
    "                           epochs=400,\n",
    "                           batch_size=train_data[Y_atr].shape[0],\n",
    "                           shuffle=True).history"
   ]
  },
  {
   "cell_type": "code",
   "execution_count": 31,
   "metadata": {},
   "outputs": [
    {
     "data": {
      "image/png": "[encoded data removed]",
      "text/plain": [
       "<Figure size 640x480 with 1 Axes>"
      ]
     },
     "metadata": {},
     "output_type": "display_data"
    },
    {
     "data": {
      "image/png": "[encoded data removed]",
      "text/plain": [
       "<Figure size 640x480 with 1 Axes>"
      ]
     },
     "metadata": {},
     "output_type": "display_data"
    },
    {
     "data": {
      "image/png": "[encoded data removed]",
      "text/plain": [
       "<Figure size 640x480 with 1 Axes>"
      ]
     },
     "metadata": {},
     "output_type": "display_data"
    }
   ],
   "source": [
    "plt.figure()\n",
    "plt.plot(history[\"utility\"],label=\"utility\")\n",
    "# plt.plot(history[\"val_loss\"],label=\"val_loss\")\n",
    "plt.legend()\n",
    "plt.show()\n",
    "\n",
    "plt.figure()\n",
    "plt.plot(history[\"accuracy\"],label=\"accuracy\")\n",
    "# plt.plot(history[\"val_accuracy\"],label=\"val_accuracy\")\n",
    "plt.legend()\n",
    "plt.show()\n",
    "\n",
    "plt.figure()\n",
    "plt.plot(pd.DataFrame(history[\"fairness_loss\"]).rolling(10).mean(),label=\"fairness\")\n",
    "# plt.plot(history[\"val_accuracy\"],label=\"val_accuracy\")\n",
    "plt.legend()\n",
    "plt.show()"
   ]
  },
  {
   "cell_type": "code",
   "execution_count": 32,
   "metadata": {},
   "outputs": [
    {
     "data": {
      "text/plain": [
       "[0.4664188623428345,\n",
       " 0.4939269721508026,\n",
       " 0.5297913551330566,\n",
       " 0.5733465552330017,\n",
       " 0.6192838549613953,\n",
       " 0.6596049666404724,\n",
       " 0.6903026103973389,\n",
       " 0.7123504877090454,\n",
       " 0.7281379699707031,\n",
       " 0.7396354675292969,\n",
       " 0.748175859451294,\n",
       " 0.754625678062439,\n",
       " 0.7595540285110474,\n",
       " 0.7633442282676697,\n",
       " 0.7662612795829773,\n",
       " 0.7684942483901978,\n",
       " 0.7701801657676697,\n",
       " 0.7714219093322754,\n",
       " 0.7722976803779602,\n",
       " 0.7728678584098816,\n",
       " 0.7731800079345703,\n",
       " 0.7732723951339722,\n",
       " 0.7731761932373047,\n",
       " 0.772916316986084,\n",
       " 0.7725139856338501,\n",
       " 0.7719867825508118,\n",
       " 0.7713493704795837,\n",
       " 0.7706143856048584,\n",
       " 0.7697931528091431,\n",
       " 0.768894612789154,\n",
       " 0.7679272294044495,\n",
       " 0.7668981552124023,\n",
       " 0.7658137083053589,\n",
       " 0.7646791934967041,\n",
       " 0.7635002732276917,\n",
       " 0.762281060218811,\n",
       " 0.7610254287719727,\n",
       " 0.7597372531890869,\n",
       " 0.758419930934906,\n",
       " 0.7570761442184448,\n",
       " 0.755709171295166,\n",
       " 0.7543212175369263,\n",
       " 0.752914547920227,\n",
       " 0.7514914870262146,\n",
       " 0.7500540614128113,\n",
       " 0.7486038208007812,\n",
       " 0.7471426725387573,\n",
       " 0.7456722855567932,\n",
       " 0.7441942691802979,\n",
       " 0.7427092790603638,\n",
       " 0.7412194013595581,\n",
       " 0.7397253513336182,\n",
       " 0.7382285594940186,\n",
       " 0.7367302179336548,\n",
       " 0.7352310419082642,\n",
       " 0.7337318658828735,\n",
       " 0.7322336435317993,\n",
       " 0.7307374477386475,\n",
       " 0.7292438745498657,\n",
       " 0.7277536988258362,\n",
       " 0.7262674570083618,\n",
       " 0.7247859835624695,\n",
       " 0.7233098149299622,\n",
       " 0.7218396067619324,\n",
       " 0.7203757166862488,\n",
       " 0.7189186811447144,\n",
       " 0.7174689769744873,\n",
       " 0.7160272598266602,\n",
       " 0.7145936489105225,\n",
       " 0.713168740272522,\n",
       " 0.711752712726593,\n",
       " 0.710345983505249,\n",
       " 0.7089488506317139,\n",
       " 0.7075616717338562,\n",
       " 0.7061846256256104,\n",
       " 0.7048178911209106,\n",
       " 0.7034618258476257,\n",
       " 0.7021165490150452,\n",
       " 0.700782299041748,\n",
       " 0.6994593143463135,\n",
       " 0.6981477737426758,\n",
       " 0.6968474388122559,\n",
       " 0.6955588459968567,\n",
       " 0.6942819356918335,\n",
       " 0.693016767501831,\n",
       " 0.6917635202407837,\n",
       " 0.6905222535133362,\n",
       " 0.6892930269241333,\n",
       " 0.6880757808685303,\n",
       " 0.686870813369751,\n",
       " 0.6856780648231506,\n",
       " 0.6844972372055054,\n",
       " 0.6833285689353943,\n",
       " 0.6821721792221069,\n",
       " 0.6810280084609985,\n",
       " 0.6798957586288452,\n",
       " 0.6787756681442261,\n",
       " 0.6776678562164307,\n",
       " 0.6765718460083008,\n",
       " 0.6754879951477051,\n",
       " 0.6744161248207092,\n",
       " 0.6733559966087341,\n",
       " 0.6723079681396484,\n",
       " 0.6712716817855835,\n",
       " 0.6702470183372498,\n",
       " 0.6692338585853577,\n",
       " 0.6682324409484863,\n",
       " 0.6672425270080566,\n",
       " 0.6662640571594238,\n",
       " 0.6652969121932983,\n",
       " 0.6643408536911011,\n",
       " 0.6633960008621216,\n",
       " 0.6624622344970703,\n",
       " 0.6615394949913025,\n",
       " 0.6606274247169495,\n",
       " 0.6597262620925903,\n",
       " 0.6588356494903564,\n",
       " 0.6579557061195374,\n",
       " 0.6570861339569092,\n",
       " 0.6562268137931824,\n",
       " 0.6553780436515808,\n",
       " 0.654539167881012,\n",
       " 0.6537103652954102,\n",
       " 0.6528914570808411,\n",
       " 0.6520823240280151,\n",
       " 0.6512830257415771,\n",
       " 0.6504931449890137,\n",
       " 0.6497128009796143,\n",
       " 0.6489418745040894,\n",
       " 0.6481802463531494,\n",
       " 0.6474275588989258,\n",
       " 0.6466841697692871,\n",
       " 0.6459494829177856,\n",
       " 0.6452237963676453,\n",
       " 0.6445067524909973,\n",
       " 0.6437981128692627,\n",
       " 0.6430984139442444,\n",
       " 0.6424068212509155,\n",
       " 0.6417235136032104,\n",
       " 0.6410485506057739,\n",
       " 0.6403814554214478,\n",
       " 0.6397222876548767,\n",
       " 0.6390712261199951,\n",
       " 0.6384277939796448,\n",
       " 0.6377920508384705,\n",
       " 0.6371638774871826,\n",
       " 0.6365431547164917,\n",
       " 0.6359297633171082,\n",
       " 0.6353237628936768,\n",
       " 0.6347247958183289,\n",
       " 0.6341329216957092,\n",
       " 0.6335480213165283,\n",
       " 0.6329702138900757,\n",
       " 0.6323989629745483,\n",
       " 0.6318343877792358,\n",
       " 0.6312764286994934,\n",
       " 0.6307250261306763,\n",
       " 0.6301801204681396,\n",
       " 0.6296414732933044,\n",
       " 0.6291090846061707,\n",
       " 0.6285828351974487,\n",
       " 0.6280628442764282,\n",
       " 0.6275485754013062,\n",
       " 0.6270405054092407,\n",
       " 0.626538097858429,\n",
       " 0.6260414123535156,\n",
       " 0.6255505084991455,\n",
       " 0.6250652074813843,\n",
       " 0.6245853900909424,\n",
       " 0.6241109371185303,\n",
       " 0.6236419677734375,\n",
       " 0.6231783032417297,\n",
       " 0.6227196455001831,\n",
       " 0.6222664713859558,\n",
       " 0.6218181252479553,\n",
       " 0.621374785900116,\n",
       " 0.6209366321563721,\n",
       " 0.6205030083656311,\n",
       " 0.6200743913650513,\n",
       " 0.6196504235267639,\n",
       " 0.6192311644554138,\n",
       " 0.6188165545463562,\n",
       " 0.6184062957763672,\n",
       " 0.6180007457733154,\n",
       " 0.617599606513977,\n",
       " 0.6172026991844177,\n",
       " 0.6168102025985718,\n",
       " 0.6164219379425049,\n",
       " 0.6160377264022827,\n",
       " 0.6156576871871948,\n",
       " 0.6152817010879517,\n",
       " 0.6149098873138428,\n",
       " 0.6145418286323547,\n",
       " 0.614177942276001,\n",
       " 0.6138176918029785,\n",
       " 0.6134611964225769,\n",
       " 0.6131086349487305,\n",
       " 0.612759530544281,\n",
       " 0.6124143600463867,\n",
       " 0.6120725274085999,\n",
       " 0.6117344498634338,\n",
       " 0.61139976978302,\n",
       " 0.611068606376648,\n",
       " 0.6107408404350281,\n",
       " 0.6104163527488708,\n",
       " 0.6100953221321106,\n",
       " 0.6097774505615234,\n",
       " 0.6094628572463989,\n",
       " 0.6091514825820923,\n",
       " 0.608843207359314,\n",
       " 0.608538031578064,\n",
       " 0.6082359552383423,\n",
       " 0.6079369187355042,\n",
       " 0.6076407432556152,\n",
       " 0.6073476076126099,\n",
       " 0.6070573329925537,\n",
       " 0.6067700386047363,\n",
       " 0.6064854860305786,\n",
       " 0.6062037944793701,\n",
       " 0.6059247851371765,\n",
       " 0.6056486368179321,\n",
       " 0.6053749322891235,\n",
       " 0.6051040887832642,\n",
       " 0.6048358082771301,\n",
       " 0.6045700907707214,\n",
       " 0.6043069958686829,\n",
       " 0.6040463447570801,\n",
       " 0.6037882566452026,\n",
       " 0.603532612323761,\n",
       " 0.6032794117927551,\n",
       " 0.6030284762382507,\n",
       " 0.6027800440788269,\n",
       " 0.6025338768959045,\n",
       " 0.6022900938987732,\n",
       " 0.6020485758781433,\n",
       " 0.6018093824386597,\n",
       " 0.6015721559524536,\n",
       " 0.601337194442749,\n",
       " 0.6011045575141907,\n",
       " 0.6008739471435547,\n",
       " 0.6006454825401306,\n",
       " 0.6004191637039185,\n",
       " 0.6001948714256287,\n",
       " 0.599972665309906,\n",
       " 0.5997523665428162,\n",
       " 0.5995342135429382,\n",
       " 0.5993178486824036,\n",
       " 0.5991034507751465,\n",
       " 0.598891019821167,\n",
       " 0.5986804962158203,\n",
       " 0.5984718203544617,\n",
       " 0.5982649922370911,\n",
       " 0.5980600118637085,\n",
       " 0.5978567600250244,\n",
       " 0.5976555347442627,\n",
       " 0.5974557399749756,\n",
       " 0.5972579717636108,\n",
       " 0.597061812877655,\n",
       " 0.5968673229217529,\n",
       " 0.5966745018959045,\n",
       " 0.5964834094047546,\n",
       " 0.5962939262390137,\n",
       " 0.5961060523986816,\n",
       " 0.5959197282791138,\n",
       " 0.5957352519035339,\n",
       " 0.5955522060394287,\n",
       " 0.5953706502914429,\n",
       " 0.5951907634735107,\n",
       " 0.5950123071670532,\n",
       " 0.5948352217674255,\n",
       " 0.5946597456932068,\n",
       " 0.5944856405258179,\n",
       " 0.5943130850791931,\n",
       " 0.5941420197486877,\n",
       " 0.5939721465110779,\n",
       " 0.593803882598877,\n",
       " 0.5936369299888611,\n",
       " 0.5934714674949646,\n",
       " 0.5933071970939636,\n",
       " 0.5931443572044373,\n",
       " 0.592982828617096,\n",
       " 0.5928224921226501,\n",
       " 0.592663586139679,\n",
       " 0.5925058722496033,\n",
       " 0.5923495292663574,\n",
       " 0.5921943187713623,\n",
       " 0.592040479183197,\n",
       " 0.5918878316879272,\n",
       " 0.591736376285553,\n",
       " 0.5915861129760742,\n",
       " 0.5914371013641357,\n",
       " 0.5912890434265137,\n",
       " 0.5911424160003662,\n",
       " 0.5909966826438904,\n",
       " 0.5908522605895996,\n",
       " 0.5907090306282043,\n",
       " 0.5905668139457703,\n",
       " 0.5904257297515869,\n",
       " 0.5902856588363647,\n",
       " 0.5901467204093933,\n",
       " 0.5900086760520935,\n",
       " 0.5898720622062683,\n",
       " 0.5897362232208252,\n",
       " 0.589601457118988,\n",
       " 0.5894677639007568,\n",
       " 0.5893350839614868,\n",
       " 0.5892034769058228,\n",
       " 0.5890727639198303,\n",
       " 0.5889430046081543,\n",
       " 0.5888142585754395,\n",
       " 0.5886865854263306,\n",
       " 0.588559627532959,\n",
       " 0.5884338617324829,\n",
       " 0.5883089303970337,\n",
       " 0.5881848335266113,\n",
       " 0.5880616903305054,\n",
       " 0.5879395008087158,\n",
       " 0.5878182649612427,\n",
       " 0.5876979231834412,\n",
       " 0.5875783562660217,\n",
       " 0.5874596238136292,\n",
       " 0.5873417258262634,\n",
       " 0.5872248411178589,\n",
       " 0.5871087908744812,\n",
       " 0.5869934558868408,\n",
       " 0.5868789553642273,\n",
       " 0.586765468120575,\n",
       " 0.5866525173187256,\n",
       " 0.5865406394004822,\n",
       " 0.5864293575286865,\n",
       " 0.586318850517273,\n",
       " 0.5862093567848206,\n",
       " 0.5861004590988159,\n",
       " 0.5859924554824829,\n",
       " 0.5858850479125977,\n",
       " 0.5857784748077393,\n",
       " 0.5856727361679077,\n",
       " 0.5855674147605896,\n",
       " 0.5854631662368774,\n",
       " 0.5853594541549683,\n",
       " 0.5852565765380859,\n",
       " 0.5851543545722961,\n",
       " 0.5850527882575989,\n",
       " 0.5849519968032837,\n",
       " 0.5848519802093506,\n",
       " 0.5847525000572205,\n",
       " 0.5846537351608276,\n",
       " 0.5845555663108826,\n",
       " 0.5844581723213196,\n",
       " 0.5843614339828491,\n",
       " 0.5842653512954712,\n",
       " 0.5841698050498962,\n",
       " 0.5840749740600586,\n",
       " 0.5839807987213135,\n",
       " 0.5838872790336609,\n",
       " 0.583794355392456,\n",
       " 0.5837019681930542,\n",
       " 0.5836102962493896,\n",
       " 0.5835192203521729,\n",
       " 0.5834287405014038,\n",
       " 0.5833387970924377,\n",
       " 0.5832495093345642,\n",
       " 0.5831608176231384,\n",
       " 0.5830726027488708,\n",
       " 0.5829851627349854,\n",
       " 0.5828980207443237,\n",
       " 0.582811713218689,\n",
       " 0.5827258229255676,\n",
       " 0.5826404690742493,\n",
       " 0.5825556516647339,\n",
       " 0.5824714303016663,\n",
       " 0.5823878049850464,\n",
       " 0.5823046565055847,\n",
       " 0.5822219848632812,\n",
       " 0.5821399688720703,\n",
       " 0.5820583701133728,\n",
       " 0.5819774270057678,\n",
       " 0.5818968415260315,\n",
       " 0.5818167924880981,\n",
       " 0.5817372798919678,\n",
       " 0.5816583633422852,\n",
       " 0.5815797448158264,\n",
       " 0.5815017819404602,\n",
       " 0.5814242959022522,\n",
       " 0.5813473463058472,\n",
       " 0.5812707543373108,\n",
       " 0.5811945796012878,\n",
       " 0.5811189413070679,\n",
       " 0.5810438394546509,\n",
       " 0.5809690356254578,\n",
       " 0.5808948874473572,\n",
       " 0.5808210968971252,\n",
       " 0.5807477235794067,\n",
       " 0.5806748867034912,\n",
       " 0.5806024074554443,\n",
       " 0.5805306434631348,\n",
       " 0.5804588794708252,\n",
       " 0.5803877711296082,\n",
       " 0.5803171992301941,\n",
       " 0.5802469253540039]"
      ]
     },
     "execution_count": 32,
     "metadata": {},
     "output_type": "execute_result"
    }
   ],
   "source": [
    "history[\"fairness_loss\"]"
   ]
  },
  {
   "cell_type": "markdown",
   "metadata": {},
   "source": [
    "# Metrics"
   ]
  },
  {
   "cell_type": "markdown",
   "metadata": {},
   "source": [
    "# empirical utility"
   ]
  },
  {
   "cell_type": "code",
   "execution_count": 33,
   "metadata": {},
   "outputs": [
    {
     "name": "stdout",
     "output_type": "stream",
     "text": [
      "188/188 [==============================] - 0s 247us/step\n"
     ]
    }
   ],
   "source": [
    "p_a1 = policy_model.predict(in_df[X_atr])\n",
    "p_a0 = 1 - p_a1\n",
    "p_a_x = np.concatenate([p_a0, p_a1],axis=1).T\n",
    "ys = train_data[[Y_atr]].values.ravel()\n",
    "a_pred = np.argmax(p_a_x, axis=0)"
   ]
  },
  {
   "cell_type": "code",
   "execution_count": 35,
   "metadata": {},
   "outputs": [
    {
     "data": {
      "text/plain": [
       "0.6671666666666667"
      ]
     },
     "execution_count": 35,
     "metadata": {},
     "output_type": "execute_result"
    }
   ],
   "source": [
    "from sklearn.metrics import accuracy_score\n",
    "accuracy_score(y_true =  ys, y_pred=a_pred)"
   ]
  },
  {
   "cell_type": "code",
   "execution_count": 36,
   "metadata": {},
   "outputs": [],
   "source": [
    "def empirical_utility_v1(p_a_x, ys, utility):\n",
    "    EU = 0\n",
    "    for x, y in enumerate(ys):\n",
    "        for a in range(2):\n",
    "            EU += utility[a,y]* p_a_x[a, x]\n",
    "    EU = EU / ys.shape[0]\n",
    "    return EU\n",
    "\n",
    "def empirical_utility_v2(p_a_x, ys, a, utility):\n",
    "    EU = 0\n",
    "    for x, (y, a) in enumerate(zip(ys, a)):\n",
    "        EU += utility[a, y]* p_a_x[a, x]\n",
    "    EU = EU / ys.shape[0]\n",
    "    return EU"
   ]
  },
  {
   "cell_type": "code",
   "execution_count": 39,
   "metadata": {},
   "outputs": [
    {
     "data": {
      "text/plain": [
       "0.6345148725981513"
      ]
     },
     "execution_count": 39,
     "metadata": {},
     "output_type": "execute_result"
    }
   ],
   "source": [
    "empirical_utility_v1(p_a_x, ys, utility)"
   ]
  },
  {
   "cell_type": "code",
   "execution_count": 40,
   "metadata": {},
   "outputs": [
    {
     "data": {
      "text/plain": [
       "0.5675447360078494"
      ]
     },
     "execution_count": 40,
     "metadata": {},
     "output_type": "execute_result"
    }
   ],
   "source": [
    "empirical_utility_v2(p_a_x, ys, a_pred, utility)"
   ]
  },
  {
   "cell_type": "code",
   "execution_count": 41,
   "metadata": {},
   "outputs": [
    {
     "data": {
      "text/plain": [
       "array([[0.9846797 , 0.936638  , 0.12509233, ..., 0.93432784, 0.19843161,\n",
       "        0.96798915],\n",
       "       [0.01532029, 0.06336201, 0.8749077 , ..., 0.06567215, 0.8015684 ,\n",
       "        0.03201087]], dtype=float32)"
      ]
     },
     "execution_count": 41,
     "metadata": {},
     "output_type": "execute_result"
    }
   ],
   "source": [
    "p_a_x"
   ]
  },
  {
   "cell_type": "markdown",
   "metadata": {},
   "source": [
    "# empirical fairness"
   ]
  },
  {
   "cell_type": "code",
   "execution_count": 42,
   "metadata": {},
   "outputs": [],
   "source": [
    "def empirical_fairness_v21(datas, model, policy):\n",
    "    \n",
    "    Z = 12\n",
    "\n",
    "    EF = 0\n",
    "    for z in range(Z):\n",
    "        c = 0\n",
    "        for i,(x, y) in datas.iterrows():\n",
    "            delta = (model.Pz_yx[z, y, x]/model.Pz_y[z, y] - 1 )/(model.Py[y])\n",
    "            c += policy[:, x] * delta\n",
    "        c = c/datas.shape[0]\n",
    "        c = np.linalg.norm(c, 1)\n",
    "        EF += c\n",
    "    return EF"
   ]
  },
  {
   "attachments": {
    "Screenshot%202023-01-20%20at%203.01.34%20PM.png": {
     "image/png": "[encoded data removed]"
    }
   },
   "cell_type": "markdown",
   "metadata": {},
   "source": [
    "![Screenshot%202023-01-20%20at%203.01.34%20PM.png](attachment:Screenshot%202023-01-20%20at%203.01.34%20PM.png)"
   ]
  },
  {
   "cell_type": "code",
   "execution_count": 43,
   "metadata": {},
   "outputs": [
    {
     "data": {
      "text/plain": [
       "(array([0.551, 0.449]),\n",
       " array([[4.90018149e-02, 3.74907201e-02],\n",
       "        [3.51179673e-01, 5.09651076e-01],\n",
       "        [2.79794313e-01, 2.42019302e-01],\n",
       "        [8.52994555e-02, 6.01336303e-02],\n",
       "        [6.35208711e-03, 2.22717149e-03],\n",
       "        [2.11736237e-03, 2.22717149e-03],\n",
       "        [1.24016939e-02, 4.45434298e-03],\n",
       "        [1.03448276e-01, 6.97847068e-02],\n",
       "        [9.31639443e-02, 6.16184113e-02],\n",
       "        [1.66364186e-02, 9.27988122e-03],\n",
       "        [3.02480339e-04, 3.71195249e-04],\n",
       "        [3.02480339e-04, 7.42390497e-04]]),\n",
       " LogisticRegression(max_iter=1000),\n",
       " LogisticRegression(max_iter=1000))"
      ]
     },
     "execution_count": 43,
     "metadata": {},
     "output_type": "execute_result"
    }
   ],
   "source": [
    "Py, Pz_y, model_y_x, model_z_yx"
   ]
  },
  {
   "cell_type": "code",
   "execution_count": 44,
   "metadata": {},
   "outputs": [
    {
     "data": {
      "text/plain": [
       "(2, 6000)"
      ]
     },
     "execution_count": 44,
     "metadata": {},
     "output_type": "execute_result"
    }
   ],
   "source": [
    "p_a_x.shape"
   ]
  },
  {
   "cell_type": "code",
   "execution_count": 47,
   "metadata": {},
   "outputs": [],
   "source": [
    "def empirical_fairness_cont_v11(datas, Pz_y, Py, model_y_x, model_z_yx):\n",
    "    Z = 12\n",
    "\n",
    "    Py_x = model_y_x.predict_proba(datas[X_atr]).T\n",
    "    EF = 0\n",
    "    for y in range(2):\n",
    "        tmp_data = datas[[Y_atr] + X_atr].copy()\n",
    "        tmp_data[Y_atr] = y\n",
    "        Pz_yx = model_z_yx.predict_proba(tmp_data[[Y_atr] + X_atr]).T\n",
    "        print(Pz_yx.shape)\n",
    "        for z in range(Z):\n",
    "            c = 0\n",
    "            for i in range(tmp_data.shape[0]):\n",
    "                delta = (Pz_yx[z, i] - Pz_y[z, y] ) * (Py_x[y, i]/Py[y])\n",
    "                c += p_a_x[:, i] * delta\n",
    "            c = c/tmp_data.shape[0]\n",
    "            c = np.linalg.norm(c, 1)\n",
    "            EF += c\n",
    "    return EF\n",
    "\n",
    "def empirical_fairness_cont_v12(datas,Pz_y, Py,model_y_x, model_z_yx):\n",
    "    Z = 12\n",
    "\n",
    "    Py_x = model_y_x.predict_proba(datas[X_atr]).T\n",
    "    EF = 0\n",
    "    for y in range(2):\n",
    "        tmp_data = datas[[Y_atr] + X_atr].copy()\n",
    "        tmp_data[Y_atr] = y\n",
    "        Pz_yx = model_z_yx.predict_proba(tmp_data[[Y_atr] + X_atr]).T\n",
    "        for z in range(Z):\n",
    "            c = 0\n",
    "            for i in range(tmp_data.shape[0]):\n",
    "                delta = (Pz_yx[z, i] - Pz_y[z, y] ) * (Py_x[y, i]/(Py[y]*Pz_y[z, y]))\n",
    "                c += p_a_x[:, i] * delta\n",
    "            c = c/tmp_data.shape[0]\n",
    "            c = np.linalg.norm(c, 1)\n",
    "            EF += c\n",
    "    return EF"
   ]
  },
  {
   "cell_type": "code",
   "execution_count": 49,
   "metadata": {},
   "outputs": [
    {
     "name": "stdout",
     "output_type": "stream",
     "text": [
      "(12, 6000)\n",
      "(12, 6000)\n"
     ]
    },
    {
     "data": {
      "text/plain": [
       "0.29199461030657403"
      ]
     },
     "execution_count": 49,
     "metadata": {},
     "output_type": "execute_result"
    }
   ],
   "source": [
    "datas = train_data\n",
    "Py, Pz_y, model_y_x, model_z_yx = get_models(datas)\n",
    "empirical_fairness_cont_v11(datas = datas, Pz_y=Pz_y, Py=Py, model_y_x = model_y_x, model_z_yx = model_z_yx )"
   ]
  },
  {
   "cell_type": "code",
   "execution_count": 50,
   "metadata": {},
   "outputs": [
    {
     "data": {
      "text/plain": [
       "5.356591869145632"
      ]
     },
     "execution_count": 50,
     "metadata": {},
     "output_type": "execute_result"
    }
   ],
   "source": [
    "datas = train_data\n",
    "Py, Pz_y, model_y_x, model_z_yx = get_models(datas)\n",
    "empirical_fairness_cont_v12(datas = train_data, Pz_y=Pz_y, Py=Py, model_y_x = model_y_x, model_z_yx = model_z_yx )"
   ]
  },
  {
   "cell_type": "code",
   "execution_count": 172,
   "metadata": {},
   "outputs": [
    {
     "data": {
      "text/plain": [
       "4.6304035522043705"
      ]
     },
     "execution_count": 172,
     "metadata": {},
     "output_type": "execute_result"
    }
   ],
   "source": [
    "Z = 12\n",
    "data =  train_data\n",
    "\n",
    "# calc Py\n",
    "data_Py = [Py[y] for y in data[Y_atr].values]\n",
    "\n",
    "# calc Pz_y\n",
    "data_Pz_y = np.zeros((12, data.shape[0]))\n",
    "for z in range(12):\n",
    "    data_Pz_y[z, :] = [Pz_y[z,y] for y in data[Y_atr].values]\n",
    "    \n",
    "# calc Pz_yx\n",
    "data_Pz_yx = np.zeros((12, data.shape[0]))\n",
    "data_Pz_yx = model_z_yx.predict_proba(data[[Y_atr] + X_atr]).T \n",
    "\n",
    "# calc fairness\n",
    "EF = 0\n",
    "for z in range(Z):\n",
    "    c = 0\n",
    "    for i in range(data.shape[0]):\n",
    "        delta = (data_Pz_yx[z, i]/data_Pz_y[z, i]  - 1  ) /(data_Py[i])\n",
    "        c += p_a_x[:, i] * delta\n",
    "    c = c/data.shape[0]\n",
    "    c = np.linalg.norm(c, 1)\n",
    "    EF += c\n",
    "EF"
   ]
  },
  {
   "cell_type": "code",
   "execution_count": 176,
   "metadata": {},
   "outputs": [
    {
     "data": {
      "text/plain": [
       "(12, 6000)"
      ]
     },
     "execution_count": 176,
     "metadata": {},
     "output_type": "execute_result"
    }
   ],
   "source": [
    "data_Pz_yx.shape"
   ]
  },
  {
   "cell_type": "code",
   "execution_count": 158,
   "metadata": {},
   "outputs": [
    {
     "data": {
      "text/plain": [
       "(12, 1214)"
      ]
     },
     "execution_count": 158,
     "metadata": {},
     "output_type": "execute_result"
    }
   ],
   "source": [
    "data_Pz_yx.shape"
   ]
  },
  {
   "cell_type": "code",
   "execution_count": 159,
   "metadata": {},
   "outputs": [
    {
     "data": {
      "text/plain": [
       "1214"
      ]
     },
     "execution_count": 159,
     "metadata": {},
     "output_type": "execute_result"
    }
   ],
   "source": [
    "i"
   ]
  },
  {
   "cell_type": "code",
   "execution_count": 152,
   "metadata": {},
   "outputs": [
    {
     "data": {
      "text/plain": [
       "(12, 1214)"
      ]
     },
     "execution_count": 152,
     "metadata": {},
     "output_type": "execute_result"
    }
   ],
   "source": [
    "data_Pz_yx.shape"
   ]
  },
  {
   "cell_type": "code",
   "execution_count": 85,
   "metadata": {},
   "outputs": [
    {
     "ename": "TypeError",
     "evalue": "tuple indices must be integers or slices, not tuple",
     "output_type": "error",
     "traceback": [
      "\u001b[0;31m---------------------------------------------------------------------------\u001b[0m",
      "\u001b[0;31mTypeError\u001b[0m                                 Traceback (most recent call last)",
      "Cell \u001b[0;32mIn[85], line 1\u001b[0m\n\u001b[0;32m----> 1\u001b[0m \u001b[43mPy_x\u001b[49m\u001b[43m[\u001b[49m\u001b[43my\u001b[49m\u001b[43m,\u001b[49m\u001b[43m \u001b[49m\u001b[43mi\u001b[49m\u001b[43m]\u001b[49m\n",
      "\u001b[0;31mTypeError\u001b[0m: tuple indices must be integers or slices, not tuple"
     ]
    }
   ],
   "source": [
    "Py_x[y, i]"
   ]
  },
  {
   "cell_type": "code",
   "execution_count": 77,
   "metadata": {},
   "outputs": [
    {
     "data": {
      "text/plain": [
       "(6000,\n",
       " age_cat             1\n",
       " juv_fel_count       1\n",
       " juv_misd_count      1\n",
       " juv_other_count     1\n",
       " priors_count       12\n",
       " c_charge_degree     0\n",
       " Name: 6000, dtype: int64)"
      ]
     },
     "execution_count": 77,
     "metadata": {},
     "output_type": "execute_result"
    }
   ],
   "source": [
    "i, x"
   ]
  },
  {
   "cell_type": "code",
   "execution_count": 76,
   "metadata": {},
   "outputs": [
    {
     "data": {
      "text/html": [
       "<div>\n",
       "<style scoped>\n",
       "    .dataframe tbody tr th:only-of-type {\n",
       "        vertical-align: middle;\n",
       "    }\n",
       "\n",
       "    .dataframe tbody tr th {\n",
       "        vertical-align: top;\n",
       "    }\n",
       "\n",
       "    .dataframe thead th {\n",
       "        text-align: right;\n",
       "    }\n",
       "</style>\n",
       "<table border=\"1\" class=\"dataframe\">\n",
       "  <thead>\n",
       "    <tr style=\"text-align: right;\">\n",
       "      <th></th>\n",
       "      <th>two_year_recid</th>\n",
       "      <th>age_cat</th>\n",
       "      <th>juv_fel_count</th>\n",
       "      <th>juv_misd_count</th>\n",
       "      <th>juv_other_count</th>\n",
       "      <th>priors_count</th>\n",
       "      <th>c_charge_degree</th>\n",
       "    </tr>\n",
       "  </thead>\n",
       "  <tbody>\n",
       "    <tr>\n",
       "      <th>6000</th>\n",
       "      <td>0</td>\n",
       "      <td>1</td>\n",
       "      <td>1</td>\n",
       "      <td>1</td>\n",
       "      <td>1</td>\n",
       "      <td>12</td>\n",
       "      <td>0</td>\n",
       "    </tr>\n",
       "    <tr>\n",
       "      <th>6001</th>\n",
       "      <td>0</td>\n",
       "      <td>1</td>\n",
       "      <td>0</td>\n",
       "      <td>0</td>\n",
       "      <td>0</td>\n",
       "      <td>0</td>\n",
       "      <td>1</td>\n",
       "    </tr>\n",
       "    <tr>\n",
       "      <th>6002</th>\n",
       "      <td>0</td>\n",
       "      <td>0</td>\n",
       "      <td>0</td>\n",
       "      <td>0</td>\n",
       "      <td>0</td>\n",
       "      <td>0</td>\n",
       "      <td>1</td>\n",
       "    </tr>\n",
       "    <tr>\n",
       "      <th>6003</th>\n",
       "      <td>0</td>\n",
       "      <td>1</td>\n",
       "      <td>0</td>\n",
       "      <td>0</td>\n",
       "      <td>0</td>\n",
       "      <td>0</td>\n",
       "      <td>1</td>\n",
       "    </tr>\n",
       "    <tr>\n",
       "      <th>6004</th>\n",
       "      <td>0</td>\n",
       "      <td>1</td>\n",
       "      <td>0</td>\n",
       "      <td>0</td>\n",
       "      <td>0</td>\n",
       "      <td>2</td>\n",
       "      <td>1</td>\n",
       "    </tr>\n",
       "    <tr>\n",
       "      <th>...</th>\n",
       "      <td>...</td>\n",
       "      <td>...</td>\n",
       "      <td>...</td>\n",
       "      <td>...</td>\n",
       "      <td>...</td>\n",
       "      <td>...</td>\n",
       "      <td>...</td>\n",
       "    </tr>\n",
       "    <tr>\n",
       "      <th>7209</th>\n",
       "      <td>0</td>\n",
       "      <td>0</td>\n",
       "      <td>0</td>\n",
       "      <td>0</td>\n",
       "      <td>0</td>\n",
       "      <td>0</td>\n",
       "      <td>1</td>\n",
       "    </tr>\n",
       "    <tr>\n",
       "      <th>7210</th>\n",
       "      <td>0</td>\n",
       "      <td>0</td>\n",
       "      <td>0</td>\n",
       "      <td>0</td>\n",
       "      <td>0</td>\n",
       "      <td>0</td>\n",
       "      <td>1</td>\n",
       "    </tr>\n",
       "    <tr>\n",
       "      <th>7211</th>\n",
       "      <td>0</td>\n",
       "      <td>2</td>\n",
       "      <td>0</td>\n",
       "      <td>0</td>\n",
       "      <td>0</td>\n",
       "      <td>0</td>\n",
       "      <td>1</td>\n",
       "    </tr>\n",
       "    <tr>\n",
       "      <th>7212</th>\n",
       "      <td>0</td>\n",
       "      <td>1</td>\n",
       "      <td>0</td>\n",
       "      <td>0</td>\n",
       "      <td>0</td>\n",
       "      <td>3</td>\n",
       "      <td>0</td>\n",
       "    </tr>\n",
       "    <tr>\n",
       "      <th>7213</th>\n",
       "      <td>0</td>\n",
       "      <td>0</td>\n",
       "      <td>0</td>\n",
       "      <td>0</td>\n",
       "      <td>0</td>\n",
       "      <td>2</td>\n",
       "      <td>1</td>\n",
       "    </tr>\n",
       "  </tbody>\n",
       "</table>\n",
       "<p>1214 rows × 7 columns</p>\n",
       "</div>"
      ],
      "text/plain": [
       "      two_year_recid  age_cat  juv_fel_count  juv_misd_count  juv_other_count  \\\n",
       "6000               0        1              1               1                1   \n",
       "6001               0        1              0               0                0   \n",
       "6002               0        0              0               0                0   \n",
       "6003               0        1              0               0                0   \n",
       "6004               0        1              0               0                0   \n",
       "...              ...      ...            ...             ...              ...   \n",
       "7209               0        0              0               0                0   \n",
       "7210               0        0              0               0                0   \n",
       "7211               0        2              0               0                0   \n",
       "7212               0        1              0               0                0   \n",
       "7213               0        0              0               0                0   \n",
       "\n",
       "      priors_count  c_charge_degree  \n",
       "6000            12                0  \n",
       "6001             0                1  \n",
       "6002             0                1  \n",
       "6003             0                1  \n",
       "6004             2                1  \n",
       "...            ...              ...  \n",
       "7209             0                1  \n",
       "7210             0                1  \n",
       "7211             0                1  \n",
       "7212             3                0  \n",
       "7213             2                1  \n",
       "\n",
       "[1214 rows x 7 columns]"
      ]
     },
     "execution_count": 76,
     "metadata": {},
     "output_type": "execute_result"
    }
   ],
   "source": [
    "tmp_data"
   ]
  },
  {
   "cell_type": "code",
   "execution_count": 54,
   "metadata": {},
   "outputs": [
    {
     "data": {
      "text/plain": [
       "array([[0, 0],\n",
       "       [0, 1],\n",
       "       [0, 2],\n",
       "       [0, 3],\n",
       "       [0, 4],\n",
       "       [0, 5],\n",
       "       [1, 0],\n",
       "       [1, 1],\n",
       "       [1, 2],\n",
       "       [1, 3],\n",
       "       [1, 4],\n",
       "       [1, 5]])"
      ]
     },
     "execution_count": 54,
     "metadata": {},
     "output_type": "execute_result"
    }
   ],
   "source": [
    "unique_z"
   ]
  },
  {
   "cell_type": "code",
   "execution_count": 55,
   "metadata": {},
   "outputs": [
    {
     "data": {
      "text/plain": [
       "(array([0.551, 0.449]),\n",
       " array([[4.90018149e-02, 3.74907201e-02],\n",
       "        [3.51179673e-01, 5.09651076e-01],\n",
       "        [2.79794313e-01, 2.42019302e-01],\n",
       "        [8.52994555e-02, 6.01336303e-02],\n",
       "        [6.35208711e-03, 2.22717149e-03],\n",
       "        [2.11736237e-03, 2.22717149e-03],\n",
       "        [1.24016939e-02, 4.45434298e-03],\n",
       "        [1.03448276e-01, 6.97847068e-02],\n",
       "        [9.31639443e-02, 6.16184113e-02],\n",
       "        [1.66364186e-02, 9.27988122e-03],\n",
       "        [3.02480339e-04, 3.71195249e-04],\n",
       "        [3.02480339e-04, 7.42390497e-04]]),\n",
       " LogisticRegression(max_iter=1000),\n",
       " LogisticRegression(max_iter=1000))"
      ]
     },
     "execution_count": 55,
     "metadata": {},
     "output_type": "execute_result"
    }
   ],
   "source": [
    "Py, Pz_y, model_y_x, model_z_yx"
   ]
  },
  {
   "cell_type": "code",
   "execution_count": 40,
   "metadata": {},
   "outputs": [],
   "source": [
    "y = 0\n",
    "z = 0 \n",
    "a = 0\n",
    "tmp_data = train_data.copy()\n",
    "tmp_data[Y_atr] = y\n",
    "\n",
    "pz_yx = model_z_yx.predict_proba(tmp_data[[Y_atr] + X_atr]).T\n",
    "Py_x = model_y_x.predict_proba(tmp_data[X_atr]).T\n",
    "\n",
    "# for x in enuma\n",
    "\n",
    "delta = (pz_yx[z, :]/Pz_y[z,y] - 1)*(Py_x[y, :] / Py[y])"
   ]
  },
  {
   "cell_type": "code",
   "execution_count": 41,
   "metadata": {},
   "outputs": [],
   "source": [
    "c = p_a_x * delta"
   ]
  },
  {
   "cell_type": "code",
   "execution_count": 42,
   "metadata": {},
   "outputs": [
    {
     "data": {
      "text/plain": [
       "0.10761846444023768"
      ]
     },
     "execution_count": 42,
     "metadata": {},
     "output_type": "execute_result"
    }
   ],
   "source": [
    "c = p_a_x * delta\n",
    "c = np.sum(c, axis=1)/6000\n",
    "np.linalg.norm(c, 1)"
   ]
  },
  {
   "cell_type": "code",
   "execution_count": 43,
   "metadata": {},
   "outputs": [
    {
     "data": {
      "text/plain": [
       "0.10761846444023768"
      ]
     },
     "execution_count": 43,
     "metadata": {},
     "output_type": "execute_result"
    }
   ],
   "source": [
    "np.linalg.norm(c, 1)"
   ]
  },
  {
   "cell_type": "code",
   "execution_count": 44,
   "metadata": {},
   "outputs": [],
   "source": [
    "def get_c(y, z, p_a_x, Py, Py_x, Pz_y, pz_yx):\n",
    "    delta = (pz_yx[z, :]/Pz_y[z, y] -1)*(Py_x[y, :] / Py[y])\n",
    "#     c = np.abs(np.sum(np.abs(p_a_x[a,:] * delta))) / p_a_x.shape[1]\n",
    "    c = p_a_x * delta\n",
    "    c = np.sum(c, axis=1)/6000\n",
    "    c = np.linalg.norm(c, 1)\n",
    "    return c"
   ]
  },
  {
   "cell_type": "code",
   "execution_count": 45,
   "metadata": {},
   "outputs": [
    {
     "data": {
      "text/plain": [
       "0.10761846444023768"
      ]
     },
     "execution_count": 45,
     "metadata": {},
     "output_type": "execute_result"
    }
   ],
   "source": [
    "get_c(y, z, p_a_x , Py, Py_x, Pz_y, pz_yx)"
   ]
  },
  {
   "cell_type": "code",
   "execution_count": 46,
   "metadata": {},
   "outputs": [],
   "source": [
    "tmp_data = train_data.copy()\n",
    "EF = 0 \n",
    "for y in range(2):\n",
    "    tmp_data[Y_atr] = y\n",
    "    pz_yx = model_z_yx.predict_proba(tmp_data[[Y_atr] + X_atr]).T\n",
    "    for z in range(len(unique_z)):\n",
    "        EF += get_c(y, z, p_a_x, Py, Py_x, Pz_y, pz_yx)"
   ]
  },
  {
   "cell_type": "code",
   "execution_count": 47,
   "metadata": {},
   "outputs": [
    {
     "data": {
      "text/plain": [
       "5.626107302427349"
      ]
     },
     "execution_count": 47,
     "metadata": {},
     "output_type": "execute_result"
    }
   ],
   "source": [
    "EF"
   ]
  },
  {
   "cell_type": "code",
   "execution_count": 48,
   "metadata": {},
   "outputs": [
    {
     "data": {
      "text/plain": [
       "1"
      ]
     },
     "execution_count": 48,
     "metadata": {},
     "output_type": "execute_result"
    }
   ],
   "source": [
    "y"
   ]
  },
  {
   "cell_type": "code",
   "execution_count": 49,
   "metadata": {},
   "outputs": [
    {
     "data": {
      "text/plain": [
       "6000"
      ]
     },
     "execution_count": 49,
     "metadata": {},
     "output_type": "execute_result"
    }
   ],
   "source": [
    "ys.shape[0]"
   ]
  },
  {
   "cell_type": "code",
   "execution_count": 50,
   "metadata": {},
   "outputs": [
    {
     "data": {
      "text/plain": [
       "0.0001712197009474039"
      ]
     },
     "execution_count": 50,
     "metadata": {},
     "output_type": "execute_result"
    }
   ],
   "source": [
    "get_empirical_fairness(p_a_x, y_array=ys, utility=utility)"
   ]
  },
  {
   "cell_type": "code",
   "execution_count": 51,
   "metadata": {},
   "outputs": [
    {
     "ename": "NameError",
     "evalue": "name 'axis' is not defined",
     "output_type": "error",
     "traceback": [
      "\u001b[0;31m---------------------------------------------------------------------------\u001b[0m",
      "\u001b[0;31mNameError\u001b[0m                                 Traceback (most recent call last)",
      "Cell \u001b[0;32mIn[51], line 1\u001b[0m\n\u001b[0;32m----> 1\u001b[0m np\u001b[38;5;241m.\u001b[39msum(p_a_x,\u001b[43maxis\u001b[49m\u001b[38;5;241m-\u001b[39m\u001b[38;5;241m9\u001b[39m)\n",
      "\u001b[0;31mNameError\u001b[0m: name 'axis' is not defined"
     ]
    }
   ],
   "source": [
    "np.sum(p_a_x,axis-9)"
   ]
  },
  {
   "cell_type": "markdown",
   "metadata": {},
   "source": [
    "# try 2"
   ]
  },
  {
   "cell_type": "code",
   "execution_count": null,
   "metadata": {},
   "outputs": [],
   "source": [
    "Py_x.shape"
   ]
  },
  {
   "cell_type": "code",
   "execution_count": null,
   "metadata": {},
   "outputs": [],
   "source": [
    "Py"
   ]
  },
  {
   "cell_type": "code",
   "execution_count": null,
   "metadata": {},
   "outputs": [],
   "source": [
    "(pz_yx[z, :] - Pz_y[z,y]).shape"
   ]
  },
  {
   "cell_type": "code",
   "execution_count": null,
   "metadata": {},
   "outputs": [],
   "source": [
    "pz_yx.shape"
   ]
  },
  {
   "cell_type": "code",
   "execution_count": null,
   "metadata": {},
   "outputs": [],
   "source": [
    "def get_delta(Px_y, Px_yz):\n",
    "    \"\"\"\n",
    "    get model delta\n",
    "    :return:\n",
    "    \"\"\"\n",
    "    delta = np.zeros(Px_yz.shape)\n",
    "    for z in range(Px_yz.shape[-1]):\n",
    "        delta[:, :, z] = Px_y - Px_yz[:, :, z]\n",
    "    return delta"
   ]
  },
  {
   "cell_type": "code",
   "execution_count": null,
   "metadata": {},
   "outputs": [],
   "source": [
    "m2 = (Py_x.T / Py).T\n",
    "m2.shape"
   ]
  },
  {
   "cell_type": "code",
   "execution_count": null,
   "metadata": {},
   "outputs": [],
   "source": [
    "m1 = (pz_yx[1, :] - Pz_y[1,y])\n",
    "m1.shape"
   ]
  },
  {
   "cell_type": "code",
   "execution_count": null,
   "metadata": {},
   "outputs": [],
   "source": [
    "(m2*m1).T.shape"
   ]
  },
  {
   "cell_type": "code",
   "execution_count": null,
   "metadata": {},
   "outputs": [],
   "source": [
    "model_delta_xyz = np.zeros((6000, 2, 12))\n",
    "for z in range(12):\n",
    "    m1 = (pz_yx[1, :] - Pz_y[1,y])\n",
    "    m2 = (Py_x.T / Py).T\n",
    "    model_delta_xyz[:, :, z] = (m2*m1).T"
   ]
  },
  {
   "cell_type": "code",
   "execution_count": null,
   "metadata": {},
   "outputs": [],
   "source": [
    "model_delta_xyz"
   ]
  },
  {
   "cell_type": "code",
   "execution_count": null,
   "metadata": {},
   "outputs": [],
   "source": [
    "def get_fairness(policy, model_delta):\n",
    "    (X, Y, Z) = model_delta.shape\n",
    "    fairness = 0\n",
    "    for y in range(Y):\n",
    "        for z in range(Z):\n",
    "            delta = np.matmul(policy, model_delta[:, y, z])\n",
    "            fairness += np.linalg.norm(delta, 1)\n",
    "    return fairness"
   ]
  },
  {
   "cell_type": "code",
   "execution_count": null,
   "metadata": {},
   "outputs": [],
   "source": [
    "get_fairness(p_a_x, model_delta_xyz)/6000"
   ]
  },
  {
   "cell_type": "markdown",
   "metadata": {},
   "source": [
    "# evaluate"
   ]
  },
  {
   "cell_type": "code",
   "execution_count": null,
   "metadata": {},
   "outputs": [],
   "source": [
    "def get_fairness(policy, model_delta):\n",
    "    (X, Y, Z) = model_delta.shape\n",
    "    fairness = 0\n",
    "    for y in range(Y):\n",
    "        for z in range(Z):\n",
    "            delta = np.matmul(policy, model_delta[:, y , z ])\n",
    "            fairness += np.linalg.norm(delta, 1)\n",
    "    return fairness"
   ]
  },
  {
   "cell_type": "code",
   "execution_count": null,
   "metadata": {},
   "outputs": [],
   "source": [
    "def get_utility(policy, model, utility):\n",
    "    \"\"\"\n",
    "    Calculate expected utility\n",
    "    Todo: vectorize operation - minor\n",
    "    \"\"\"\n",
    "    A, X = policy.shape\n",
    "    Y = A\n",
    "    Eu = 0\n",
    "    for x in range(X):\n",
    "        for y in range(Y):\n",
    "            for a in range(A):\n",
    "                Eu += utility[a,y] * policy[a,x] * model.Pxy[x, y]\n",
    "                \n",
    "    return Eu"
   ]
  },
  {
   "cell_type": "code",
   "execution_count": null,
   "metadata": {},
   "outputs": [],
   "source": [
    "data_Py = [Py[y] for y in train_data[Y_atr].values]\n",
    "data_Pz_y = [Pz_y[z, y] for z, y in train_data[[Z_atr,Y_atr]].values]\n",
    "\n",
    "predicted_proba_Py_x = model_y_x.predict_proba(train_data[X_atr])\n",
    "data_Py_z = np.zeros(train_data.shape[0])\n",
    "for i, datum in train_data.iterrows():\n",
    "    data_Py_z[i] = predicted_proba_Py_x[i][datum[Y_atr]]\n",
    "    \n",
    "predicted_proba_Pz_yx = model_z_yx.predict_proba(train_data[[Y_atr] + X_atr])\n",
    "data_Pz_yx = np.zeros(train_data.shape[0])\n",
    "for i, datum in train_data.iterrows():\n",
    "    data_Pz_yx[i] = predicted_proba_Pz_yx[i][datum[Z_atr]]"
   ]
  },
  {
   "cell_type": "code",
   "execution_count": null,
   "metadata": {},
   "outputs": [],
   "source": [
    "p_a_x"
   ]
  },
  {
   "cell_type": "code",
   "execution_count": null,
   "metadata": {},
   "outputs": [],
   "source": [
    "prob_columns\n",
    "p_a_x = p_a_x.T"
   ]
  },
  {
   "cell_type": "code",
   "execution_count": null,
   "metadata": {},
   "outputs": [],
   "source": [
    "C = 0\n",
    "for i, (py, pz_y, py_z, pz_yx) in enumerate(in_df[prob_columns].values): \n",
    "    delta =  (pz_yx - pz_y) * (py_z / py)\n",
    "    for a in range(2):\n",
    "        C += p_a_x[a,i] * np.abs(delta)"
   ]
  },
  {
   "cell_type": "code",
   "execution_count": null,
   "metadata": {},
   "outputs": [],
   "source": [
    "C / 6000"
   ]
  },
  {
   "cell_type": "code",
   "execution_count": null,
   "metadata": {},
   "outputs": [],
   "source": [
    "p_a_x[a,i]"
   ]
  },
  {
   "cell_type": "code",
   "execution_count": null,
   "metadata": {},
   "outputs": [],
   "source": [
    "in_df.columns"
   ]
  },
  {
   "cell_type": "code",
   "execution_count": null,
   "metadata": {},
   "outputs": [],
   "source": [
    "prob_columns = ['Py', 'Pz_y', 'Py_z', 'Pz_yx']\n",
    "in_df[prob_columns].values"
   ]
  },
  {
   "cell_type": "code",
   "execution_count": null,
   "metadata": {},
   "outputs": [],
   "source": [
    "pa_x"
   ]
  },
  {
   "cell_type": "code",
   "execution_count": null,
   "metadata": {},
   "outputs": [],
   "source": [
    "data_Py_z"
   ]
  },
  {
   "cell_type": "code",
   "execution_count": null,
   "metadata": {},
   "outputs": [],
   "source": [
    "Py, Pz_y"
   ]
  },
  {
   "cell_type": "code",
   "execution_count": null,
   "metadata": {},
   "outputs": [],
   "source": [
    "unique_z"
   ]
  },
  {
   "cell_type": "code",
   "execution_count": null,
   "metadata": {},
   "outputs": [],
   "source": [
    "predicted_proba_Py_x = model_y_x.predict_proba(train_data[X_atr])"
   ]
  },
  {
   "cell_type": "code",
   "execution_count": null,
   "metadata": {},
   "outputs": [],
   "source": [
    "predicted_proba_Py_x = predicted_proba_Py_x.T"
   ]
  },
  {
   "cell_type": "code",
   "execution_count": null,
   "metadata": {},
   "outputs": [],
   "source": [
    "predicted_proba_Pz_yx.T"
   ]
  },
  {
   "cell_type": "code",
   "execution_count": null,
   "metadata": {},
   "outputs": [],
   "source": [
    "Pz_y[z,y]"
   ]
  },
  {
   "cell_type": "code",
   "execution_count": null,
   "metadata": {},
   "outputs": [],
   "source": [
    "C = 0\n",
    "for y in range(len(unique_y)):\n",
    "    train_data[Y_atr] = y\n",
    "    pz_yix = model_z_yx.predict_proba(train_data[[Y_atr] + X_atr]).T\n",
    "    for z in range(len(unique_y)):\n",
    "        c = 0 \n",
    "        for x, p_a in enumerate(p_a_x):\n",
    "            delta = (pz_yix[z, x] - Pz_y[z,y])*(predicted_proba_Py_x[y, x] / Py[y])\n",
    "            delta = np.abs(delta)\n",
    "            for a in range(2):\n",
    "                c += p_a[a] * np.abs(delta)\n",
    "        c = c\n",
    "        C += c "
   ]
  },
  {
   "cell_type": "code",
   "execution_count": null,
   "metadata": {},
   "outputs": [],
   "source": []
  },
  {
   "cell_type": "code",
   "execution_count": null,
   "metadata": {},
   "outputs": [],
   "source": [
    "delta"
   ]
  },
  {
   "cell_type": "code",
   "execution_count": null,
   "metadata": {},
   "outputs": [],
   "source": [
    "c/(6000*2)"
   ]
  },
  {
   "cell_type": "code",
   "execution_count": null,
   "metadata": {},
   "outputs": [],
   "source": [
    "p_a_x"
   ]
  },
  {
   "cell_type": "code",
   "execution_count": null,
   "metadata": {},
   "outputs": [],
   "source": [
    "enumerate(p_a_x)"
   ]
  },
  {
   "cell_type": "code",
   "execution_count": null,
   "metadata": {},
   "outputs": [],
   "source": [
    "p_a_x"
   ]
  },
  {
   "cell_type": "code",
   "execution_count": null,
   "metadata": {},
   "outputs": [],
   "source": [
    "pz_yx[z,x]"
   ]
  },
  {
   "cell_type": "code",
   "execution_count": null,
   "metadata": {},
   "outputs": [],
   "source": [
    "np.ldelta"
   ]
  },
  {
   "cell_type": "code",
   "execution_count": null,
   "metadata": {},
   "outputs": [],
   "source": [
    "p_a1 = policy.predict(in_df[X_atr])\n",
    "p_a0 = 1 - p_a1\n",
    "p_a_x = np.concatenate([p_a0,p_a1],axis=1)"
   ]
  },
  {
   "cell_type": "code",
   "execution_count": null,
   "metadata": {},
   "outputs": [],
   "source": [
    "EF = 0 \n",
    "for p_a, y in zip(p_a_x, train_data[Y_atr].values):\n",
    "    for a in range(2):\n",
    "        EU += utility[a,y] * p_a[a]\n",
    "EU = EU/train_data.shape[0]"
   ]
  },
  {
   "cell_type": "code",
   "execution_count": null,
   "metadata": {},
   "outputs": [],
   "source": []
  },
  {
   "cell_type": "code",
   "execution_count": null,
   "metadata": {},
   "outputs": [],
   "source": [
    "def get_empirical_fairness(policy, y_array, utility):\n",
    "    EF = 0 \n",
    "    for p_a, y in zip(policy, y_array):\n",
    "        for a in range(2):\n",
    "            EU += utility[a,y] * p_a[a]\n",
    "    EU = EU/train_data.shape[0]\n",
    "    return EU"
   ]
  },
  {
   "cell_type": "code",
   "execution_count": null,
   "metadata": {},
   "outputs": [],
   "source": [
    "def get_empirical_utility2(policy, y_array, utility):\n",
    "    EU = 0 \n",
    "    for p_a in policy:\n",
    "        for y in range(2):\n",
    "            for a in range(2):\n",
    "                EU += utility[a, y] * p_a[a]\n",
    "    EU = EU/train_data.shape[0]\n",
    "    return EU"
   ]
  },
  {
   "cell_type": "code",
   "execution_count": null,
   "metadata": {},
   "outputs": [],
   "source": [
    "def get_empirical_utility(policy, y_array, utility):\n",
    "    EU = 0 \n",
    "    for p_a, y in zip(policy, y_array):\n",
    "        for a in range(2):\n",
    "            EU += utility[a,y] * p_a[a]\n",
    "    EU = EU/train_data.shape[0]\n",
    "    return EU"
   ]
  },
  {
   "cell_type": "code",
   "execution_count": null,
   "metadata": {},
   "outputs": [],
   "source": [
    "get_empirical_utility(p_a_x,train_data[Y_atr].values,utility)"
   ]
  },
  {
   "cell_type": "code",
   "execution_count": null,
   "metadata": {},
   "outputs": [],
   "source": [
    "get_empirical_utility2(p_a_x, train_data[Y_atr].values,utility)"
   ]
  },
  {
   "cell_type": "code",
   "execution_count": null,
   "metadata": {},
   "outputs": [],
   "source": [
    "a = np.argmax(p_a_x,axis=1)"
   ]
  },
  {
   "cell_type": "code",
   "execution_count": null,
   "metadata": {},
   "outputs": [],
   "source": [
    "EU = 0 \n",
    "for p_a,y in zip(p_a_x, train_data[Y_atr].values):\n",
    "    for a in range(2):\n",
    "        EU += utility[a,y] * p_a[a]\n",
    "EU = EU/train_data.shape[0]"
   ]
  },
  {
   "cell_type": "code",
   "execution_count": null,
   "metadata": {},
   "outputs": [],
   "source": [
    "utility"
   ]
  },
  {
   "cell_type": "code",
   "execution_count": null,
   "metadata": {},
   "outputs": [],
   "source": [
    "EU"
   ]
  },
  {
   "cell_type": "code",
   "execution_count": null,
   "metadata": {},
   "outputs": [],
   "source": [
    "p_a_x[x, a]"
   ]
  },
  {
   "cell_type": "code",
   "execution_count": null,
   "metadata": {},
   "outputs": [],
   "source": [
    "train_data[Y_atr]"
   ]
  },
  {
   "cell_type": "code",
   "execution_count": null,
   "metadata": {},
   "outputs": [],
   "source": [
    "in_df"
   ]
  },
  {
   "cell_type": "code",
   "execution_count": null,
   "metadata": {},
   "outputs": [],
   "source": []
  },
  {
   "cell_type": "code",
   "execution_count": null,
   "metadata": {},
   "outputs": [],
   "source": [
    "policy.history"
   ]
  },
  {
   "cell_type": "code",
   "execution_count": null,
   "metadata": {},
   "outputs": [],
   "source": [
    "policy.evaluate(test_data[X_atr].astype(\"float32\"),\n",
    "                test_data[Y_atr])"
   ]
  },
  {
   "cell_type": "code",
   "execution_count": null,
   "metadata": {},
   "outputs": [],
   "source": [
    "tf.matmul(train_data[X_atr].astype(\"float32\"), policy.w)"
   ]
  },
  {
   "cell_type": "code",
   "execution_count": null,
   "metadata": {},
   "outputs": [],
   "source": [
    "policy.predict(train_data[X_atr].astype(\"float32\"))"
   ]
  },
  {
   "cell_type": "markdown",
   "metadata": {},
   "source": [
    "#### fairness functions"
   ]
  },
  {
   "cell_type": "code",
   "execution_count": null,
   "metadata": {},
   "outputs": [],
   "source": []
  },
  {
   "cell_type": "markdown",
   "metadata": {},
   "source": [
    "#### utility functions"
   ]
  },
  {
   "cell_type": "code",
   "execution_count": null,
   "metadata": {},
   "outputs": [],
   "source": []
  },
  {
   "cell_type": "markdown",
   "metadata": {},
   "source": [
    "#### opt functions"
   ]
  },
  {
   "cell_type": "code",
   "execution_count": null,
   "metadata": {},
   "outputs": [],
   "source": [
    "def evaluate(true_model, true_model_delta, policy, utility, l):\n",
    "    \"\"\"\n",
    "    Evaluate policy on true model\n",
    "    \"\"\"\n",
    "    results = {}\n",
    "    results[\"fairness\"] = np.round(get_fairness(policy, true_model_delta),4)\n",
    "    results[\"utility\"] = get_utility(policy, true_model, utility)\n",
    "    results[\"total\"] = (1 - l) * results[\"utility\"] - l * results[\"fairness\"]\n",
    "    return results"
   ]
  },
  {
   "cell_type": "code",
   "execution_count": null,
   "metadata": {},
   "outputs": [],
   "source": [
    "def update_policy(policy, model, utility, l, lr, n_iter):\n",
    "    \"\"\"\n",
    "    Marginal Policy Dirichlet\n",
    "    \"\"\"\n",
    "    model.get_marginal_model()\n",
    "    model_delta = get_delta(model.Px_y, model.Px_yz)\n",
    "    \n",
    "    for i in range(n_iter):\n",
    "        fairness_gradient = get_fairness_gradient(policy, model_delta)\n",
    "        utility_gradient = get_utility_gradient(policy, model, utility)\n",
    "        gradient = (1 - l) * utility_gradient #+ l * fairness_gradient # minus on the gradient calc.\n",
    "        gradient = project_gradient(gradient)\n",
    "        policy = policy + lr * gradient # maximize Utility & minimize fairness constrain.\n",
    "        policy = normilize_policy(policy)\n",
    "    \n",
    "    return policy"
   ]
  },
  {
   "cell_type": "code",
   "execution_count": null,
   "metadata": {},
   "outputs": [],
   "source": [
    "def update_policy_bayesian(policy, model, utility, l, lr, n_iter, n_model):\n",
    "    \"\"\"\n",
    "    Marginal Policy Dirichlet\n",
    "    \"\"\"\n",
    "    models = []\n",
    "    model_delta = []\n",
    "    for m in range(n_model):\n",
    "        models += [model.sample_model()]\n",
    "        model_delta += [get_delta(model.Px_y, model.Px_yz)]\n",
    "    \n",
    "    for i in range(n_iter):\n",
    "        tmp_index = i%n_model\n",
    "        tmp_model = models[tmp_index]\n",
    "        tmp_delta = model_delta[tmp_index]\n",
    "        fairness_gradient = get_fairness_gradient(policy, tmp_delta)\n",
    "        utility_gradient = get_utility_gradient(policy, tmp_model, utility)\n",
    "        gradient = (1 - l) * utility_gradient + l * fairness_gradient # minus on the gradient calc.\n",
    "        gradient = project_gradient(gradient)\n",
    "        policy = policy + lr * gradient # maximize Utility & minimize fairness constrain.\n",
    "        policy = normilize_policy(policy)\n",
    "    \n",
    "    return policy"
   ]
  },
  {
   "cell_type": "code",
   "execution_count": null,
   "metadata": {},
   "outputs": [],
   "source": [
    "# reproduce results\n",
    "stop"
   ]
  },
  {
   "cell_type": "code",
   "execution_count": null,
   "metadata": {},
   "outputs": [],
   "source": [
    "def load_org_policy(org_path_results):\n",
    "    file = pd.read_csv(org_path_results + \"/policy.csv\")\n",
    "    p_1 = file.iloc[4].values\n",
    "    p_2 = file.iloc[5].values\n",
    "    p_1 = [float(x) for x in p_1[0].split(\" \")[1:]]\n",
    "    p_2 = [float(x) for x in p_2[0].split(\" \")[1:]]\n",
    "    return np.array([p_1, p_2])\n",
    "# [float(x) for x in p_1[0].split(\" \")[1:]]"
   ]
  },
  {
   "cell_type": "code",
   "execution_count": null,
   "metadata": {},
   "outputs": [],
   "source": [
    "org_path_results = \"/Users/andreasathanasopoulos/Phd/projects/bayesian_fairness/org_code/bayesian-fairness/src/octave\"\n",
    "policy = load_org_policy(org_path_results)\n",
    "policy.shape"
   ]
  },
  {
   "cell_type": "code",
   "execution_count": null,
   "metadata": {},
   "outputs": [],
   "source": [
    "l"
   ]
  },
  {
   "cell_type": "code",
   "execution_count": null,
   "metadata": {},
   "outputs": [],
   "source": [
    "steps = horizon // update_policy_period\n",
    "\n",
    "results = []\n",
    "for step in range(steps):    \n",
    "    # update policy step\n",
    "    policy = update_policy_bayesian(policy, belief, utility, l, lr, n_iter, n_model= n_samples) # SDG to update policy\n",
    "    \n",
    "    # evaluation step\n",
    "    step_results = evaluate(true_dirichlet_model, true_model_delta, policy, utility, l)\n",
    "    results += [step_results]\n",
    "    \n",
    "    # update belief step\n",
    "    data_start_index = step * update_policy_period\n",
    "    data_stop_index = min(data_start_index + update_policy_period, horizon)\n",
    "    belief.update_posterior_belief(train_data.iloc[data_start_index : data_stop_index])\n",
    "    \n",
    "    print(f\"--- Step : {data_start_index + 1} \\n  ------- {step_results}\")\n",
    "    "
   ]
  },
  {
   "cell_type": "code",
   "execution_count": null,
   "metadata": {},
   "outputs": [],
   "source": [
    "pd_resutls = pd.DataFrame(results)"
   ]
  },
  {
   "cell_type": "markdown",
   "metadata": {},
   "source": [
    "# plots"
   ]
  },
  {
   "cell_type": "code",
   "execution_count": null,
   "metadata": {},
   "outputs": [],
   "source": [
    "pd_resutls[[\"utility\"]].plot()"
   ]
  },
  {
   "cell_type": "code",
   "execution_count": null,
   "metadata": {},
   "outputs": [],
   "source": [
    "org = pd.read_csv(org_path_results + \"/results.csv\")"
   ]
  },
  {
   "cell_type": "code",
   "execution_count": null,
   "metadata": {},
   "outputs": [],
   "source": [
    "def fix_results(r):\n",
    "    new_r = [float(sr.split(\" \")[1]) for sr in r]\n",
    "    return new_r\n",
    "\n",
    "r1 = fix_results(org.iloc[9: 64 + 9 - 3][\"# Created by Octave 6.2.0\"].values)\n",
    "r2 = fix_results(org.iloc[74: 64 + 74 - 3][\"# Created by Octave 6.2.0\"].values)\n",
    "r3 = fix_results(org.iloc[139: 64 + 139 - 3][\"# Created by Octave 6.2.0\"].values)\n",
    "# r4 = fix_results(org.iloc[204: 64 + 204][\"# Created by Octave 6.2.0\"].values)\n",
    "\n",
    "org_pd = pd.DataFrame([r1,r2,r3]).T\n",
    "org_pd.columns = [\"utility\",\"total\",\"fairness\"]"
   ]
  },
  {
   "cell_type": "code",
   "execution_count": null,
   "metadata": {},
   "outputs": [],
   "source": [
    "org_pd"
   ]
  },
  {
   "cell_type": "code",
   "execution_count": null,
   "metadata": {
    "scrolled": false
   },
   "outputs": [],
   "source": [
    "org_pd[\"utility\"].plot()\n",
    "pd_resutls[\"utility\"].plot()"
   ]
  },
  {
   "cell_type": "code",
   "execution_count": null,
   "metadata": {},
   "outputs": [],
   "source": [
    "org_pd[\"fairness\"].plot()\n",
    "pd_resutls[\"fairness\"].plot()"
   ]
  },
  {
   "cell_type": "code",
   "execution_count": null,
   "metadata": {},
   "outputs": [],
   "source": [
    "org_pd[\"total\"].plot()\n",
    "pd_resutls[\"total\"].plot()"
   ]
  },
  {
   "cell_type": "markdown",
   "metadata": {},
   "source": [
    "# Questions"
   ]
  },
  {
   "cell_type": "code",
   "execution_count": null,
   "metadata": {},
   "outputs": [],
   "source": [
    "1. ProjectPolicyGradient ???"
   ]
  }
 ],
 "metadata": {
  "kernelspec": {
   "display_name": "Python 3 (ipykernel)",
   "language": "python",
   "name": "python3"
  },
  "language_info": {
   "codemirror_mode": {
    "name": "ipython",
    "version": 3
   },
   "file_extension": ".py",
   "mimetype": "text/x-python",
   "name": "python",
   "nbconvert_exporter": "python",
   "pygments_lexer": "ipython3",
   "version": "3.9.12"
  }
 },
 "nbformat": 4,
 "nbformat_minor": 1
}
