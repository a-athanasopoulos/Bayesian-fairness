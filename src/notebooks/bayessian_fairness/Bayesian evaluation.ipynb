{
 "cells": [
  {
   "cell_type": "code",
   "execution_count": 1,
   "metadata": {},
   "outputs": [],
   "source": [
    "import matplotlib.pyplot as plt\n",
    "import pandas as pd\n",
    "import numpy as np\n",
    "import sys\n",
    "sys.path.insert(1, \"/Users/andreasathanasopoulos/Phd/projects/bayesian_fairness/my_code/Bayesian-fairness/\")"
   ]
  },
  {
   "cell_type": "code",
   "execution_count": 2,
   "metadata": {},
   "outputs": [
    {
     "name": "stdout",
     "output_type": "stream",
     "text": [
      "/Users/andreasathanasopoulos/Phd/projects/bayesian_fairness/my_code/Bayesian-fairness/src/notebooks/bayessian_fairness\r\n"
     ]
    }
   ],
   "source": [
    "!pwd"
   ]
  },
  {
   "cell_type": "code",
   "execution_count": 1,
   "metadata": {},
   "outputs": [],
   "source": [
    "exp_type = \"discrete_new\"\n",
    "exp_name = \"exp_compass\"\n",
    "exp_number = \"test_2\"\n",
    "base_path = \"/Users/andreasathanasopoulos/Phd/projects/bayesian_fairness\"\n",
    "data_path = base_path + \"/my_code/Bayesian-fairness/data\"\n",
    "exp_path = base_path + f\"/my_code/Bayesian-fairness/results/bayesian_fairness/{exp_type}/{exp_name}/{exp_number}\""
   ]
  },
  {
   "cell_type": "markdown",
   "metadata": {},
   "source": [
    "# load data\n"
   ]
  },
  {
   "cell_type": "code",
   "execution_count": 4,
   "metadata": {},
   "outputs": [],
   "source": [
    "from src.discreate_new.utils.data_utils import get_discrete_compas_dataset"
   ]
  },
  {
   "cell_type": "code",
   "execution_count": 5,
   "metadata": {},
   "outputs": [],
   "source": [
    "train_data, test_data, X_atr, Y_atr, Z_atr, n_x, n_y, n_z = get_discrete_compas_dataset(data_path=data_path)"
   ]
  },
  {
   "cell_type": "markdown",
   "metadata": {},
   "source": [
    "# load policies"
   ]
  },
  {
   "cell_type": "code",
   "execution_count": 10,
   "metadata": {},
   "outputs": [],
   "source": [
    "l_setting = 0.2\n",
    "run = 9\n",
    "step = 11"
   ]
  },
  {
   "cell_type": "code",
   "execution_count": 11,
   "metadata": {},
   "outputs": [],
   "source": [
    "from src.discreate_new.tf.models.logistic_regression import LogisticRegressionTF\n",
    "\n",
    "def load_policy(path):\n",
    "    policy_weights = pd.read_csv(policy_path + \"/final_w.csv\").astype(\"float32\")\n",
    "    policy_bias = pd.read_csv(policy_path + \"/final_b.csv\").astype(\"float32\")\n",
    "    policy_weights_bias = [np.reshape(policy_weights[\"0\"].values,(-1,1)),\n",
    "                           policy_bias[\"0\"].values[0]]\n",
    "    #init policy\n",
    "    policy_model = LogisticRegressionTF(input_dim=n_x)\n",
    "    policy_model.set_weights(policy_weights_bias)\n",
    "    return policy_model"
   ]
  },
  {
   "cell_type": "code",
   "execution_count": 12,
   "metadata": {},
   "outputs": [],
   "source": [
    "policy_path = exp_path + f\"/l_{l_setting}/run_{run}/marginal/opt_results/step_{step}\"\n",
    "marginal_policy_model = load_policy(policy_path)\n",
    "\n",
    "policy_path = exp_path + f\"/l_{l_setting}/run_{run}/bayes/opt_results/step_{step}\"\n",
    "bayes_policy_model = load_policy(policy_path)\n",
    "\n",
    "policy_path = exp_path + f\"/l_{l_setting}/run_{run}/bootstrap/opt_results/step_{step}\"\n",
    "bootstrap_policy_model = load_policy(policy_path)"
   ]
  },
  {
   "cell_type": "markdown",
   "metadata": {},
   "source": [
    "# model"
   ]
  },
  {
   "cell_type": "code",
   "execution_count": 13,
   "metadata": {},
   "outputs": [],
   "source": [
    "prior = 1/2\n",
    "n_models = 16\n",
    "utility_fun = np.eye(2)"
   ]
  },
  {
   "cell_type": "code",
   "execution_count": 14,
   "metadata": {},
   "outputs": [],
   "source": [
    "from src.discreate_new.models.dirichlet_model import DirichletModel\n",
    "from src.discreate_new.utils.model import get_delta\n",
    "\n",
    "test_belief = DirichletModel(n_x=n_x, n_y=n_y, n_z=n_z, prior=prior)"
   ]
  },
  {
   "cell_type": "code",
   "execution_count": 15,
   "metadata": {},
   "outputs": [],
   "source": [
    "test_belief.update_posterior_belief(data=test_data)"
   ]
  },
  {
   "cell_type": "code",
   "execution_count": 60,
   "metadata": {},
   "outputs": [],
   "source": [
    "# test marginal model\n",
    "test_marginal_model = test_belief.get_marginal_model()\n",
    "test_marginal_delta = get_delta(test_marginal_model.Px_y, test_marginal_model.Px_yz,  test_marginal_model.Pz_y)\n",
    "# sample model\n",
    "test_models = []\n",
    "test_deltas = []\n",
    "test_Px_y = []\n",
    "test_Px_yz = []\n",
    "test_Pz_y = []\n",
    "for _ in range(n_models):\n",
    "    tmp_model = test_belief.sample_model()\n",
    "    tmp_delta = get_delta(tmp_model.Px_y, tmp_model.Px_yz,  tmp_model.Pz_y)\n",
    "    test_Px_y += [tmp_model.Px_y]\n",
    "    test_Px_yz += [tmp_model.Px_yz]\n",
    "    test_Pz_y += [tmp_model.Pz_y]\n",
    "    test_models += [tmp_model]\n",
    "    test_deltas += [tmp_delta]"
   ]
  },
  {
   "cell_type": "code",
   "execution_count": 61,
   "metadata": {},
   "outputs": [
    {
     "data": {
      "text/plain": [
       "array([[0.0050256 , 0.00776027],\n",
       "       [0.00777386, 0.00773879],\n",
       "       [0.00692055, 0.00198704],\n",
       "       [0.00435035, 0.00566575],\n",
       "       [0.00157131, 0.00286099],\n",
       "       [0.00373242, 0.0073563 ],\n",
       "       [0.00132048, 0.00358351],\n",
       "       [0.00305747, 0.00142863],\n",
       "       [0.00139047, 0.0002894 ],\n",
       "       [0.00098493, 0.00205902],\n",
       "       [0.00101284, 0.00162383],\n",
       "       [0.00138654, 0.00416291],\n",
       "       [0.00075784, 0.00173561],\n",
       "       [0.00036873, 0.00454161],\n",
       "       [0.00083587, 0.00073335],\n",
       "       [0.00057156, 0.00216163],\n",
       "       [0.00099817, 0.0004914 ],\n",
       "       [0.00091082, 0.00177933],\n",
       "       [0.00045398, 0.00077041],\n",
       "       [0.0005604 , 0.00151102],\n",
       "       [0.00043667, 0.00039884],\n",
       "       [0.00081854, 0.00290623],\n",
       "       [0.00169232, 0.00459809],\n",
       "       [0.00020269, 0.00078903],\n",
       "       [0.00035201, 0.00108152],\n",
       "       [0.00082652, 0.00020433],\n",
       "       [0.00148339, 0.00146233],\n",
       "       [0.00047685, 0.00041581],\n",
       "       [0.00092534, 0.00198702],\n",
       "       [0.00031176, 0.00191624],\n",
       "       [0.00088742, 0.00055547],\n",
       "       [0.00195505, 0.00168035],\n",
       "       [0.0014506 , 0.0005167 ],\n",
       "       [0.00048485, 0.00232011],\n",
       "       [0.0008445 , 0.00182916],\n",
       "       [0.0005979 , 0.00146938],\n",
       "       [0.00029066, 0.0004497 ],\n",
       "       [0.00126366, 0.00191695],\n",
       "       [0.00049945, 0.00090296],\n",
       "       [0.00128006, 0.00305718],\n",
       "       [0.00066547, 0.00238451],\n",
       "       [0.00094554, 0.00050065],\n",
       "       [0.00104112, 0.00063624],\n",
       "       [0.00051651, 0.00115629],\n",
       "       [0.00025133, 0.00027691],\n",
       "       [0.00023327, 0.00136819],\n",
       "       [0.00116591, 0.00073405],\n",
       "       [0.00039568, 0.00048149],\n",
       "       [0.00045861, 0.00099584],\n",
       "       [0.00229501, 0.00026458],\n",
       "       [0.00242198, 0.0014625 ],\n",
       "       [0.0001825 , 0.00034099],\n",
       "       [0.00078645, 0.00025782],\n",
       "       [0.00095819, 0.00063959],\n",
       "       [0.0004571 , 0.00065196],\n",
       "       [0.00263779, 0.00161964],\n",
       "       [0.00040139, 0.00153069],\n",
       "       [0.00089264, 0.00176821],\n",
       "       [0.00035773, 0.00106392],\n",
       "       [0.00033406, 0.00066964],\n",
       "       [0.00023184, 0.0007696 ],\n",
       "       [0.00043416, 0.00019962],\n",
       "       [0.00056269, 0.00180586],\n",
       "       [0.01327561, 0.00597118],\n",
       "       [0.01322634, 0.00578045],\n",
       "       [0.00914997, 0.00526872],\n",
       "       [0.01166067, 0.00636278],\n",
       "       [0.00912333, 0.01077334],\n",
       "       [0.01372832, 0.01633519],\n",
       "       [0.00169355, 0.0004652 ],\n",
       "       [0.00171383, 0.00163963],\n",
       "       [0.00074435, 0.00074554],\n",
       "       [0.00062142, 0.00255626],\n",
       "       [0.00128828, 0.00337934],\n",
       "       [0.00199958, 0.00598349],\n",
       "       [0.00046953, 0.00043077],\n",
       "       [0.00050373, 0.00082067],\n",
       "       [0.00161684, 0.00041148],\n",
       "       [0.00131061, 0.00026217],\n",
       "       [0.0007658 , 0.00149711],\n",
       "       [0.00041753, 0.00068845],\n",
       "       [0.00135299, 0.0007916 ],\n",
       "       [0.0029277 , 0.00368045],\n",
       "       [0.00302197, 0.00574206],\n",
       "       [0.00046845, 0.00068348],\n",
       "       [0.00064296, 0.00129773],\n",
       "       [0.00058608, 0.00050936],\n",
       "       [0.00113653, 0.00178071],\n",
       "       [0.0003734 , 0.00011866],\n",
       "       [0.00207114, 0.00258479],\n",
       "       [0.00138101, 0.00140112],\n",
       "       [0.00034802, 0.00172471],\n",
       "       [0.00123022, 0.00110947],\n",
       "       [0.00075047, 0.00442379],\n",
       "       [0.00047161, 0.00052453],\n",
       "       [0.00059736, 0.00143049],\n",
       "       [0.00139824, 0.00301201],\n",
       "       [0.00124007, 0.00534014],\n",
       "       [0.0003102 , 0.00060284],\n",
       "       [0.00018985, 0.0003048 ],\n",
       "       [0.00137139, 0.00188251],\n",
       "       [0.00106237, 0.00171942],\n",
       "       [0.00069919, 0.00098582],\n",
       "       [0.00111046, 0.00041428],\n",
       "       [0.00059853, 0.00096977],\n",
       "       [0.00059166, 0.00189023],\n",
       "       [0.0010282 , 0.00128598],\n",
       "       [0.00078787, 0.00073319],\n",
       "       [0.00085952, 0.00070385],\n",
       "       [0.0006611 , 0.00050647],\n",
       "       [0.00053275, 0.00052941],\n",
       "       [0.0019815 , 0.00182274],\n",
       "       [0.00164366, 0.00277933],\n",
       "       [0.00073878, 0.00033701],\n",
       "       [0.00054695, 0.00064432],\n",
       "       [0.00013325, 0.00015162],\n",
       "       [0.0004353 , 0.00120909],\n",
       "       [0.00195116, 0.00200306],\n",
       "       [0.00115509, 0.0003999 ],\n",
       "       [0.0004668 , 0.00054638],\n",
       "       [0.00110189, 0.0018126 ],\n",
       "       [0.00016381, 0.00050325],\n",
       "       [0.0006156 , 0.00113264],\n",
       "       [0.00806412, 0.00493339],\n",
       "       [0.00754664, 0.00313645],\n",
       "       [0.00455717, 0.00162607],\n",
       "       [0.00547803, 0.00237795],\n",
       "       [0.00630557, 0.00479296],\n",
       "       [0.00761577, 0.01134494],\n",
       "       [0.00049987, 0.00023451],\n",
       "       [0.00027776, 0.00048209],\n",
       "       [0.0002767 , 0.00125473],\n",
       "       [0.00024677, 0.00023572],\n",
       "       [0.00090803, 0.0009701 ],\n",
       "       [0.00034391, 0.00037096],\n",
       "       [0.00073274, 0.00058077],\n",
       "       [0.0008737 , 0.0013172 ],\n",
       "       [0.00056884, 0.00054707],\n",
       "       [0.0009685 , 0.00089434],\n",
       "       [0.00102831, 0.00175921],\n",
       "       [0.00098719, 0.0007302 ]])"
      ]
     },
     "execution_count": 61,
     "metadata": {},
     "output_type": "execute_result"
    }
   ],
   "source": [
    "np.array(test_Px_y).std(axis=0)"
   ]
  },
  {
   "cell_type": "code",
   "execution_count": 62,
   "metadata": {},
   "outputs": [
    {
     "data": {
      "text/plain": [
       "array([[0.0050256 , 0.00776027],\n",
       "       [0.00777386, 0.00773879],\n",
       "       [0.00692055, 0.00198704],\n",
       "       [0.00435035, 0.00566575],\n",
       "       [0.00157131, 0.00286099],\n",
       "       [0.00373242, 0.0073563 ],\n",
       "       [0.00132048, 0.00358351],\n",
       "       [0.00305747, 0.00142863],\n",
       "       [0.00139047, 0.0002894 ],\n",
       "       [0.00098493, 0.00205902],\n",
       "       [0.00101284, 0.00162383],\n",
       "       [0.00138654, 0.00416291],\n",
       "       [0.00075784, 0.00173561],\n",
       "       [0.00036873, 0.00454161],\n",
       "       [0.00083587, 0.00073335],\n",
       "       [0.00057156, 0.00216163],\n",
       "       [0.00099817, 0.0004914 ],\n",
       "       [0.00091082, 0.00177933],\n",
       "       [0.00045398, 0.00077041],\n",
       "       [0.0005604 , 0.00151102],\n",
       "       [0.00043667, 0.00039884],\n",
       "       [0.00081854, 0.00290623],\n",
       "       [0.00169232, 0.00459809],\n",
       "       [0.00020269, 0.00078903],\n",
       "       [0.00035201, 0.00108152],\n",
       "       [0.00082652, 0.00020433],\n",
       "       [0.00148339, 0.00146233],\n",
       "       [0.00047685, 0.00041581],\n",
       "       [0.00092534, 0.00198702],\n",
       "       [0.00031176, 0.00191624],\n",
       "       [0.00088742, 0.00055547],\n",
       "       [0.00195505, 0.00168035],\n",
       "       [0.0014506 , 0.0005167 ],\n",
       "       [0.00048485, 0.00232011],\n",
       "       [0.0008445 , 0.00182916],\n",
       "       [0.0005979 , 0.00146938],\n",
       "       [0.00029066, 0.0004497 ],\n",
       "       [0.00126366, 0.00191695],\n",
       "       [0.00049945, 0.00090296],\n",
       "       [0.00128006, 0.00305718],\n",
       "       [0.00066547, 0.00238451],\n",
       "       [0.00094554, 0.00050065],\n",
       "       [0.00104112, 0.00063624],\n",
       "       [0.00051651, 0.00115629],\n",
       "       [0.00025133, 0.00027691],\n",
       "       [0.00023327, 0.00136819],\n",
       "       [0.00116591, 0.00073405],\n",
       "       [0.00039568, 0.00048149],\n",
       "       [0.00045861, 0.00099584],\n",
       "       [0.00229501, 0.00026458],\n",
       "       [0.00242198, 0.0014625 ],\n",
       "       [0.0001825 , 0.00034099],\n",
       "       [0.00078645, 0.00025782],\n",
       "       [0.00095819, 0.00063959],\n",
       "       [0.0004571 , 0.00065196],\n",
       "       [0.00263779, 0.00161964],\n",
       "       [0.00040139, 0.00153069],\n",
       "       [0.00089264, 0.00176821],\n",
       "       [0.00035773, 0.00106392],\n",
       "       [0.00033406, 0.00066964],\n",
       "       [0.00023184, 0.0007696 ],\n",
       "       [0.00043416, 0.00019962],\n",
       "       [0.00056269, 0.00180586],\n",
       "       [0.01327561, 0.00597118],\n",
       "       [0.01322634, 0.00578045],\n",
       "       [0.00914997, 0.00526872],\n",
       "       [0.01166067, 0.00636278],\n",
       "       [0.00912333, 0.01077334],\n",
       "       [0.01372832, 0.01633519],\n",
       "       [0.00169355, 0.0004652 ],\n",
       "       [0.00171383, 0.00163963],\n",
       "       [0.00074435, 0.00074554],\n",
       "       [0.00062142, 0.00255626],\n",
       "       [0.00128828, 0.00337934],\n",
       "       [0.00199958, 0.00598349],\n",
       "       [0.00046953, 0.00043077],\n",
       "       [0.00050373, 0.00082067],\n",
       "       [0.00161684, 0.00041148],\n",
       "       [0.00131061, 0.00026217],\n",
       "       [0.0007658 , 0.00149711],\n",
       "       [0.00041753, 0.00068845],\n",
       "       [0.00135299, 0.0007916 ],\n",
       "       [0.0029277 , 0.00368045],\n",
       "       [0.00302197, 0.00574206],\n",
       "       [0.00046845, 0.00068348],\n",
       "       [0.00064296, 0.00129773],\n",
       "       [0.00058608, 0.00050936],\n",
       "       [0.00113653, 0.00178071],\n",
       "       [0.0003734 , 0.00011866],\n",
       "       [0.00207114, 0.00258479],\n",
       "       [0.00138101, 0.00140112],\n",
       "       [0.00034802, 0.00172471],\n",
       "       [0.00123022, 0.00110947],\n",
       "       [0.00075047, 0.00442379],\n",
       "       [0.00047161, 0.00052453],\n",
       "       [0.00059736, 0.00143049],\n",
       "       [0.00139824, 0.00301201],\n",
       "       [0.00124007, 0.00534014],\n",
       "       [0.0003102 , 0.00060284],\n",
       "       [0.00018985, 0.0003048 ],\n",
       "       [0.00137139, 0.00188251],\n",
       "       [0.00106237, 0.00171942],\n",
       "       [0.00069919, 0.00098582],\n",
       "       [0.00111046, 0.00041428],\n",
       "       [0.00059853, 0.00096977],\n",
       "       [0.00059166, 0.00189023],\n",
       "       [0.0010282 , 0.00128598],\n",
       "       [0.00078787, 0.00073319],\n",
       "       [0.00085952, 0.00070385],\n",
       "       [0.0006611 , 0.00050647],\n",
       "       [0.00053275, 0.00052941],\n",
       "       [0.0019815 , 0.00182274],\n",
       "       [0.00164366, 0.00277933],\n",
       "       [0.00073878, 0.00033701],\n",
       "       [0.00054695, 0.00064432],\n",
       "       [0.00013325, 0.00015162],\n",
       "       [0.0004353 , 0.00120909],\n",
       "       [0.00195116, 0.00200306],\n",
       "       [0.00115509, 0.0003999 ],\n",
       "       [0.0004668 , 0.00054638],\n",
       "       [0.00110189, 0.0018126 ],\n",
       "       [0.00016381, 0.00050325],\n",
       "       [0.0006156 , 0.00113264],\n",
       "       [0.00806412, 0.00493339],\n",
       "       [0.00754664, 0.00313645],\n",
       "       [0.00455717, 0.00162607],\n",
       "       [0.00547803, 0.00237795],\n",
       "       [0.00630557, 0.00479296],\n",
       "       [0.00761577, 0.01134494],\n",
       "       [0.00049987, 0.00023451],\n",
       "       [0.00027776, 0.00048209],\n",
       "       [0.0002767 , 0.00125473],\n",
       "       [0.00024677, 0.00023572],\n",
       "       [0.00090803, 0.0009701 ],\n",
       "       [0.00034391, 0.00037096],\n",
       "       [0.00073274, 0.00058077],\n",
       "       [0.0008737 , 0.0013172 ],\n",
       "       [0.00056884, 0.00054707],\n",
       "       [0.0009685 , 0.00089434],\n",
       "       [0.00102831, 0.00175921],\n",
       "       [0.00098719, 0.0007302 ]])"
      ]
     },
     "execution_count": 62,
     "metadata": {},
     "output_type": "execute_result"
    }
   ],
   "source": [
    "np.array(test_Px_y).std(axis=0)"
   ]
  },
  {
   "cell_type": "code",
   "execution_count": 63,
   "metadata": {},
   "outputs": [
    {
     "data": {
      "text/plain": [
       "array([[0.00506032, 0.00684188],\n",
       "       [0.01394853, 0.0188578 ],\n",
       "       [0.01834882, 0.01458135],\n",
       "       [0.00798255, 0.00667699],\n",
       "       [0.00503196, 0.00409456],\n",
       "       [0.0035134 , 0.00469113],\n",
       "       [0.00543343, 0.00581928],\n",
       "       [0.0077394 , 0.01169588],\n",
       "       [0.01330849, 0.01125942],\n",
       "       [0.00438262, 0.0061104 ],\n",
       "       [0.00365531, 0.00401992],\n",
       "       [0.00264551, 0.0034492 ]])"
      ]
     },
     "execution_count": 63,
     "metadata": {},
     "output_type": "execute_result"
    }
   ],
   "source": [
    "np.array(test_Pz_y).std(axis=0)"
   ]
  },
  {
   "cell_type": "markdown",
   "metadata": {},
   "source": [
    "# Evaluate"
   ]
  },
  {
   "cell_type": "code",
   "execution_count": 17,
   "metadata": {},
   "outputs": [],
   "source": [
    "def get_utility_loss(utility_matrix, policy, Pxy):\n",
    "    m = np.matmul(policy, Pxy)\n",
    "    utility = np.sum(utility_matrix * m)\n",
    "    return - utility\n",
    "\n",
    "def get_fairness(policy, model_delta):\n",
    "    expand_Pa_x = np.expand_dims(np.expand_dims(policy, axis=0), axis=0)\n",
    "    expand_delta = np.expand_dims(model_delta, axis=-1)\n",
    "    c =  np.matmul(expand_Pa_x,\n",
    "                   expand_delta)\n",
    "    fairness = np.sum(np.linalg.norm(c,axis = (2,3), ord=1))\n",
    "    return fairness"
   ]
  },
  {
   "cell_type": "code",
   "execution_count": 18,
   "metadata": {},
   "outputs": [],
   "source": [
    "def get_metrics(policy_model, model, model_delta, utility_fun, l ):\n",
    "    x = np.eye(n_x)\n",
    "    pred = policy_model.predict(x)\n",
    "    p_a_x = np.squeeze(np.array([1-pred,\n",
    "                                 pred]))\n",
    "    \n",
    "    neg_utility = get_utility_loss(utility_matrix=utility_fun,\n",
    "                                   policy=p_a_x,\n",
    "                                   Pxy=model.Pxy)\n",
    "    \n",
    "    fairness = get_fairness(policy= p_a_x, model_delta=model_delta)\n",
    "    loss = - neg_utility - l * fairness\n",
    "    return {\n",
    "            \"loss\":loss,\n",
    "            \"fairness\": fairness,\n",
    "            \"utility\": -neg_utility\n",
    "           }, p_a_x"
   ]
  },
  {
   "cell_type": "code",
   "execution_count": 19,
   "metadata": {},
   "outputs": [],
   "source": [
    "def get_marginal_resutls(test_marginal_model,test_marginal_delta,marginal_policy_model,bayes_policy_model,bootstrap_policy_model):\n",
    "    marginal_marginal_metrics, p_a_x1 = get_metrics(policy_model = marginal_policy_model,\n",
    "                               model = test_marginal_model,\n",
    "                               model_delta = test_marginal_delta,\n",
    "                               utility_fun = utility_fun,\n",
    "                               l=l_setting)\n",
    "    marginal_marginal_metrics = pd.DataFrame([marginal_marginal_metrics])\n",
    "\n",
    "    bayes_marginal_metrics, p_a_x2 = get_metrics(policy_model = bayes_policy_model,\n",
    "                                   model = test_marginal_model,\n",
    "                                   model_delta = test_marginal_delta,\n",
    "                                   utility_fun = utility_fun,\n",
    "                                   l=l_setting)\n",
    "    bayes_marginal_metrics = pd.DataFrame([bayes_marginal_metrics])\n",
    "\n",
    "    bootstrap_marginal_metrics, p_a_x3 = get_metrics(policy_model = bootstrap_policy_model,\n",
    "                                    model = test_marginal_model,\n",
    "                                    model_delta = test_marginal_delta,\n",
    "                                    utility_fun = utility_fun,\n",
    "                                    l=l_setting)\n",
    "    bootstrap_marginal_metrics = pd.DataFrame([bootstrap_marginal_metrics])\n",
    "    return  marginal_marginal_metrics, bayes_marginal_metrics, bootstrap_marginal_metrics\n",
    "    "
   ]
  },
  {
   "cell_type": "code",
   "execution_count": 20,
   "metadata": {},
   "outputs": [
    {
     "name": "stdout",
     "output_type": "stream",
     "text": [
      "5/5 [==============================] - 0s 440us/step\n",
      "5/5 [==============================] - 0s 472us/step\n",
      "5/5 [==============================] - 0s 464us/step\n"
     ]
    },
    {
     "name": "stderr",
     "output_type": "stream",
     "text": [
      "2023-02-10 13:02:24.360140: W tensorflow/tsl/platform/profile_utils/cpu_utils.cc:128] Failed to get CPU frequency: 0 Hz\n"
     ]
    }
   ],
   "source": [
    "results = get_marginal_resutls(test_marginal_model,\n",
    "                               test_marginal_delta,\n",
    "                               marginal_policy_model,\n",
    "                               bayes_policy_model,\n",
    "                               bootstrap_policy_model)\n",
    "\n",
    "marginal_marginal_metrics, bayes_marginal_metrics, bootstrap_marginal_metrics = results"
   ]
  },
  {
   "cell_type": "code",
   "execution_count": 21,
   "metadata": {},
   "outputs": [
    {
     "data": {
      "text/html": [
       "<div>\n",
       "<style scoped>\n",
       "    .dataframe tbody tr th:only-of-type {\n",
       "        vertical-align: middle;\n",
       "    }\n",
       "\n",
       "    .dataframe tbody tr th {\n",
       "        vertical-align: top;\n",
       "    }\n",
       "\n",
       "    .dataframe thead th {\n",
       "        text-align: right;\n",
       "    }\n",
       "</style>\n",
       "<table border=\"1\" class=\"dataframe\">\n",
       "  <thead>\n",
       "    <tr style=\"text-align: right;\">\n",
       "      <th></th>\n",
       "      <th>loss</th>\n",
       "      <th>fairness</th>\n",
       "      <th>utility</th>\n",
       "    </tr>\n",
       "  </thead>\n",
       "  <tbody>\n",
       "    <tr>\n",
       "      <th>0</th>\n",
       "      <td>0.587028</td>\n",
       "      <td>0.224432</td>\n",
       "      <td>0.631915</td>\n",
       "    </tr>\n",
       "  </tbody>\n",
       "</table>\n",
       "</div>"
      ],
      "text/plain": [
       "       loss  fairness   utility\n",
       "0  0.587028  0.224432  0.631915"
      ]
     },
     "execution_count": 21,
     "metadata": {},
     "output_type": "execute_result"
    }
   ],
   "source": [
    "marginal_marginal_metrics"
   ]
  },
  {
   "cell_type": "code",
   "execution_count": 22,
   "metadata": {},
   "outputs": [
    {
     "data": {
      "text/html": [
       "<div>\n",
       "<style scoped>\n",
       "    .dataframe tbody tr th:only-of-type {\n",
       "        vertical-align: middle;\n",
       "    }\n",
       "\n",
       "    .dataframe tbody tr th {\n",
       "        vertical-align: top;\n",
       "    }\n",
       "\n",
       "    .dataframe thead th {\n",
       "        text-align: right;\n",
       "    }\n",
       "</style>\n",
       "<table border=\"1\" class=\"dataframe\">\n",
       "  <thead>\n",
       "    <tr style=\"text-align: right;\">\n",
       "      <th></th>\n",
       "      <th>loss</th>\n",
       "      <th>fairness</th>\n",
       "      <th>utility</th>\n",
       "    </tr>\n",
       "  </thead>\n",
       "  <tbody>\n",
       "    <tr>\n",
       "      <th>0</th>\n",
       "      <td>0.587413</td>\n",
       "      <td>0.2237</td>\n",
       "      <td>0.632153</td>\n",
       "    </tr>\n",
       "  </tbody>\n",
       "</table>\n",
       "</div>"
      ],
      "text/plain": [
       "       loss  fairness   utility\n",
       "0  0.587413    0.2237  0.632153"
      ]
     },
     "execution_count": 22,
     "metadata": {},
     "output_type": "execute_result"
    }
   ],
   "source": [
    "bootstrap_marginal_metrics"
   ]
  },
  {
   "cell_type": "code",
   "execution_count": 23,
   "metadata": {},
   "outputs": [
    {
     "data": {
      "text/html": [
       "<div>\n",
       "<style scoped>\n",
       "    .dataframe tbody tr th:only-of-type {\n",
       "        vertical-align: middle;\n",
       "    }\n",
       "\n",
       "    .dataframe tbody tr th {\n",
       "        vertical-align: top;\n",
       "    }\n",
       "\n",
       "    .dataframe thead th {\n",
       "        text-align: right;\n",
       "    }\n",
       "</style>\n",
       "<table border=\"1\" class=\"dataframe\">\n",
       "  <thead>\n",
       "    <tr style=\"text-align: right;\">\n",
       "      <th></th>\n",
       "      <th>loss</th>\n",
       "      <th>fairness</th>\n",
       "      <th>utility</th>\n",
       "    </tr>\n",
       "  </thead>\n",
       "  <tbody>\n",
       "    <tr>\n",
       "      <th>0</th>\n",
       "      <td>0.587954</td>\n",
       "      <td>0.226513</td>\n",
       "      <td>0.633257</td>\n",
       "    </tr>\n",
       "  </tbody>\n",
       "</table>\n",
       "</div>"
      ],
      "text/plain": [
       "       loss  fairness   utility\n",
       "0  0.587954  0.226513  0.633257"
      ]
     },
     "execution_count": 23,
     "metadata": {},
     "output_type": "execute_result"
    }
   ],
   "source": [
    "bayes_marginal_metrics"
   ]
  },
  {
   "cell_type": "markdown",
   "metadata": {},
   "source": [
    "### evaluate based on test uncertainty"
   ]
  },
  {
   "cell_type": "code",
   "execution_count": 24,
   "metadata": {},
   "outputs": [],
   "source": [
    "def get_baysian_metrics(test_models, test_deltas, marginal_policy_model, bootstrap_policy_model, bayes_policy_model):\n",
    "    marginal_results = []\n",
    "    bayes_results = []\n",
    "    bootstrap_results = []\n",
    "    for tmp_model, tmp_model_delta in zip(test_models,test_deltas):\n",
    "        marginal_metrics, p_a_x1 = get_metrics(policy_model = marginal_policy_model,\n",
    "                                   model = tmp_model,\n",
    "                                   model_delta = tmp_model_delta,\n",
    "                                   utility_fun = utility_fun,\n",
    "                                   l=l_setting)\n",
    "        marginal_results+= [marginal_metrics]\n",
    "\n",
    "        bayes_metrics, p_a_x2 = get_metrics(policy_model = bayes_policy_model,\n",
    "                                       model = tmp_model,\n",
    "                                       model_delta = tmp_model_delta,\n",
    "                                       utility_fun = utility_fun,\n",
    "                                       l=l_setting)\n",
    "        bayes_results+= [bayes_metrics]\n",
    "\n",
    "        bootstrap_metrics, p_a_x3 = get_metrics(policy_model = bootstrap_policy_model,\n",
    "                                        model = tmp_model,\n",
    "                                        model_delta = tmp_model_delta,\n",
    "                                        utility_fun = utility_fun,\n",
    "                                        l=l_setting)\n",
    "        bootstrap_results+= [bootstrap_metrics]\n",
    "    marginal_results = pd.DataFrame(pd.DataFrame(marginal_results).mean()).T\n",
    "    bootstrap_results = pd.DataFrame(pd.DataFrame(bootstrap_results).mean()).T\n",
    "    bayes_results = pd.DataFrame(pd.DataFrame(bayes_results).mean()).T\n",
    "    return marginal_results, bootstrap_results, bayes_results"
   ]
  },
  {
   "cell_type": "code",
   "execution_count": 25,
   "metadata": {},
   "outputs": [
    {
     "name": "stdout",
     "output_type": "stream",
     "text": [
      "5/5 [==============================] - 0s 748us/step\n",
      "5/5 [==============================] - 0s 501us/step\n",
      "5/5 [==============================] - 0s 433us/step\n",
      "5/5 [==============================] - 0s 455us/step\n",
      "5/5 [==============================] - 0s 456us/step\n",
      "5/5 [==============================] - 0s 450us/step\n",
      "5/5 [==============================] - 0s 472us/step\n",
      "5/5 [==============================] - 0s 440us/step\n",
      "5/5 [==============================] - 0s 449us/step\n",
      "5/5 [==============================] - 0s 440us/step\n",
      "5/5 [==============================] - 0s 436us/step\n",
      "5/5 [==============================] - 0s 429us/step\n",
      "5/5 [==============================] - 0s 416us/step\n",
      "5/5 [==============================] - 0s 491us/step\n",
      "5/5 [==============================] - 0s 431us/step\n",
      "5/5 [==============================] - 0s 464us/step\n",
      "5/5 [==============================] - 0s 443us/step\n",
      "5/5 [==============================] - 0s 433us/step\n",
      "5/5 [==============================] - 0s 484us/step\n",
      "5/5 [==============================] - 0s 438us/step\n",
      "5/5 [==============================] - 0s 430us/step\n",
      "5/5 [==============================] - 0s 417us/step\n",
      "5/5 [==============================] - 0s 438us/step\n",
      "5/5 [==============================] - 0s 454us/step\n",
      "5/5 [==============================] - 0s 494us/step\n",
      "5/5 [==============================] - 0s 414us/step\n",
      "5/5 [==============================] - 0s 457us/step\n",
      "5/5 [==============================] - 0s 477us/step\n",
      "5/5 [==============================] - 0s 443us/step\n",
      "5/5 [==============================] - 0s 449us/step\n",
      "5/5 [==============================] - 0s 463us/step\n",
      "5/5 [==============================] - 0s 407us/step\n",
      "5/5 [==============================] - 0s 455us/step\n",
      "5/5 [==============================] - 0s 485us/step\n",
      "5/5 [==============================] - 0s 445us/step\n",
      "5/5 [==============================] - 0s 699us/step\n",
      "5/5 [==============================] - 0s 716us/step\n",
      "5/5 [==============================] - 0s 526us/step\n",
      "5/5 [==============================] - 0s 454us/step\n",
      "5/5 [==============================] - 0s 464us/step\n",
      "5/5 [==============================] - 0s 448us/step\n",
      "5/5 [==============================] - 0s 429us/step\n",
      "5/5 [==============================] - 0s 473us/step\n",
      "5/5 [==============================] - 0s 443us/step\n",
      "5/5 [==============================] - 0s 463us/step\n",
      "5/5 [==============================] - 0s 427us/step\n",
      "5/5 [==============================] - 0s 472us/step\n",
      "5/5 [==============================] - 0s 524us/step\n"
     ]
    }
   ],
   "source": [
    "bayesian_results =  get_baysian_metrics(test_models, \n",
    "                                        test_deltas, \n",
    "                                        marginal_policy_model, \n",
    "                                        bootstrap_policy_model, \n",
    "                                        bayes_policy_model)\n",
    "marginal_results, bootstrap_results, bayes_results = bayesian_results"
   ]
  },
  {
   "cell_type": "code",
   "execution_count": 26,
   "metadata": {},
   "outputs": [
    {
     "data": {
      "text/plain": [
       "(       loss  fairness   utility\n",
       " 0  0.579825  0.253712  0.630567,\n",
       "        loss  fairness   utility\n",
       " 0  0.580167  0.252605  0.630688,\n",
       "        loss  fairness   utility\n",
       " 0  0.581043  0.254969  0.632037)"
      ]
     },
     "execution_count": 26,
     "metadata": {},
     "output_type": "execute_result"
    }
   ],
   "source": [
    "marginal_results, bootstrap_results, bayes_results"
   ]
  },
  {
   "cell_type": "markdown",
   "metadata": {},
   "source": [
    "# results for every step"
   ]
  },
  {
   "cell_type": "code",
   "execution_count": 27,
   "metadata": {},
   "outputs": [
    {
     "ename": "IndentationError",
     "evalue": "expected an indented block (1382606664.py, line 1)",
     "output_type": "error",
     "traceback": [
      "\u001B[0;36m  Cell \u001B[0;32mIn[27], line 1\u001B[0;36m\u001B[0m\n\u001B[0;31m    def run_results():\u001B[0m\n\u001B[0m                      ^\u001B[0m\n\u001B[0;31mIndentationError\u001B[0m\u001B[0;31m:\u001B[0m expected an indented block\n"
     ]
    }
   ],
   "source": [
    "def run_results():"
   ]
  },
  {
   "cell_type": "code",
   "execution_count": 28,
   "metadata": {},
   "outputs": [
    {
     "name": "stdout",
     "output_type": "stream",
     "text": [
      "5/5 [==============================] - 0s 555us/step\n",
      "5/5 [==============================] - 0s 448us/step\n",
      "5/5 [==============================] - 0s 477us/step\n",
      "5/5 [==============================] - 0s 463us/step\n",
      "5/5 [==============================] - 0s 423us/step\n",
      "5/5 [==============================] - 0s 440us/step\n",
      "5/5 [==============================] - 0s 450us/step\n",
      "5/5 [==============================] - 0s 422us/step\n",
      "5/5 [==============================] - 0s 425us/step\n",
      "5/5 [==============================] - 0s 441us/step\n",
      "5/5 [==============================] - 0s 423us/step\n",
      "5/5 [==============================] - 0s 463us/step\n",
      "5/5 [==============================] - 0s 429us/step\n",
      "5/5 [==============================] - 0s 426us/step\n",
      "5/5 [==============================] - 0s 453us/step\n",
      "5/5 [==============================] - 0s 448us/step\n",
      "5/5 [==============================] - 0s 436us/step\n",
      "5/5 [==============================] - 0s 442us/step\n",
      "5/5 [==============================] - 0s 528us/step\n",
      "5/5 [==============================] - 0s 483us/step\n",
      "5/5 [==============================] - 0s 494us/step\n",
      "5/5 [==============================] - 0s 454us/step\n",
      "5/5 [==============================] - 0s 496us/step\n",
      "5/5 [==============================] - 0s 428us/step\n",
      "5/5 [==============================] - 0s 510us/step\n",
      "5/5 [==============================] - 0s 442us/step\n",
      "5/5 [==============================] - 0s 474us/step\n",
      "5/5 [==============================] - 0s 450us/step\n",
      "5/5 [==============================] - 0s 475us/step\n",
      "5/5 [==============================] - 0s 443us/step\n",
      "5/5 [==============================] - 0s 466us/step\n",
      "5/5 [==============================] - 0s 460us/step\n",
      "5/5 [==============================] - 0s 500us/step\n",
      "5/5 [==============================] - 0s 467us/step\n",
      "5/5 [==============================] - 0s 434us/step\n",
      "5/5 [==============================] - 0s 465us/step\n",
      "5/5 [==============================] - 0s 460us/step\n",
      "5/5 [==============================] - 0s 483us/step\n",
      "5/5 [==============================] - 0s 454us/step\n",
      "5/5 [==============================] - 0s 478us/step\n",
      "5/5 [==============================] - 0s 440us/step\n",
      "5/5 [==============================] - 0s 428us/step\n",
      "5/5 [==============================] - 0s 457us/step\n",
      "5/5 [==============================] - 0s 447us/step\n",
      "5/5 [==============================] - 0s 510us/step\n",
      "5/5 [==============================] - 0s 491us/step\n",
      "5/5 [==============================] - 0s 464us/step\n",
      "5/5 [==============================] - 0s 441us/step\n",
      "5/5 [==============================] - 0s 500us/step\n",
      "5/5 [==============================] - 0s 467us/step\n",
      "5/5 [==============================] - 0s 541us/step\n",
      "5/5 [==============================] - 0s 452us/step\n",
      "5/5 [==============================] - 0s 436us/step\n",
      "5/5 [==============================] - 0s 438us/step\n",
      "5/5 [==============================] - 0s 478us/step\n",
      "5/5 [==============================] - 0s 482us/step\n",
      "5/5 [==============================] - 0s 470us/step\n",
      "5/5 [==============================] - 0s 466us/step\n",
      "5/5 [==============================] - 0s 437us/step\n",
      "5/5 [==============================] - 0s 431us/step\n",
      "5/5 [==============================] - 0s 472us/step\n",
      "5/5 [==============================] - 0s 445us/step\n",
      "5/5 [==============================] - 0s 543us/step\n",
      "5/5 [==============================] - 0s 452us/step\n",
      "5/5 [==============================] - 0s 517us/step\n",
      "5/5 [==============================] - 0s 456us/step\n",
      "5/5 [==============================] - 0s 481us/step\n",
      "5/5 [==============================] - 0s 449us/step\n",
      "5/5 [==============================] - 0s 450us/step\n",
      "5/5 [==============================] - 0s 451us/step\n",
      "5/5 [==============================] - 0s 452us/step\n",
      "5/5 [==============================] - 0s 433us/step\n",
      "5/5 [==============================] - 0s 439us/step\n",
      "5/5 [==============================] - 0s 489us/step\n",
      "5/5 [==============================] - 0s 481us/step\n",
      "5/5 [==============================] - 0s 472us/step\n",
      "5/5 [==============================] - 0s 424us/step\n",
      "5/5 [==============================] - 0s 445us/step\n",
      "5/5 [==============================] - 0s 440us/step\n",
      "5/5 [==============================] - 0s 437us/step\n",
      "5/5 [==============================] - 0s 506us/step\n",
      "5/5 [==============================] - 0s 497us/step\n",
      "5/5 [==============================] - 0s 524us/step\n",
      "5/5 [==============================] - 0s 459us/step\n",
      "5/5 [==============================] - 0s 490us/step\n",
      "5/5 [==============================] - 0s 476us/step\n",
      "5/5 [==============================] - 0s 455us/step\n",
      "5/5 [==============================] - 0s 437us/step\n",
      "5/5 [==============================] - 0s 473us/step\n",
      "5/5 [==============================] - 0s 455us/step\n",
      "5/5 [==============================] - 0s 487us/step\n",
      "5/5 [==============================] - 0s 461us/step\n",
      "5/5 [==============================] - 0s 434us/step\n",
      "5/5 [==============================] - 0s 430us/step\n",
      "5/5 [==============================] - 0s 443us/step\n",
      "5/5 [==============================] - 0s 439us/step\n",
      "5/5 [==============================] - 0s 455us/step\n",
      "5/5 [==============================] - 0s 420us/step\n",
      "5/5 [==============================] - 0s 467us/step\n",
      "5/5 [==============================] - 0s 449us/step\n",
      "5/5 [==============================] - 0s 507us/step\n",
      "5/5 [==============================] - 0s 436us/step\n",
      "5/5 [==============================] - 0s 454us/step\n",
      "5/5 [==============================] - 0s 506us/step\n",
      "5/5 [==============================] - 0s 439us/step\n",
      "5/5 [==============================] - 0s 513us/step\n",
      "5/5 [==============================] - 0s 600us/step\n",
      "5/5 [==============================] - 0s 450us/step\n",
      "5/5 [==============================] - 0s 423us/step\n",
      "5/5 [==============================] - 0s 448us/step\n",
      "5/5 [==============================] - 0s 468us/step\n",
      "5/5 [==============================] - 0s 462us/step\n",
      "5/5 [==============================] - 0s 449us/step\n",
      "5/5 [==============================] - 0s 434us/step\n",
      "5/5 [==============================] - 0s 419us/step\n",
      "5/5 [==============================] - 0s 441us/step\n",
      "5/5 [==============================] - 0s 425us/step\n",
      "5/5 [==============================] - 0s 401us/step\n",
      "5/5 [==============================] - 0s 444us/step\n",
      "5/5 [==============================] - 0s 472us/step\n",
      "5/5 [==============================] - 0s 434us/step\n",
      "5/5 [==============================] - 0s 419us/step\n",
      "5/5 [==============================] - 0s 458us/step\n",
      "5/5 [==============================] - 0s 421us/step\n",
      "5/5 [==============================] - 0s 442us/step\n",
      "5/5 [==============================] - 0s 1ms/step\n",
      "5/5 [==============================] - 0s 513us/step\n",
      "5/5 [==============================] - 0s 450us/step\n",
      "5/5 [==============================] - 0s 595us/step\n",
      "5/5 [==============================] - 0s 452us/step\n",
      "5/5 [==============================] - 0s 560us/step\n",
      "5/5 [==============================] - 0s 435us/step\n",
      "5/5 [==============================] - 0s 484us/step\n",
      "5/5 [==============================] - 0s 447us/step\n",
      "5/5 [==============================] - 0s 545us/step\n",
      "5/5 [==============================] - 0s 467us/step\n",
      "5/5 [==============================] - 0s 525us/step\n",
      "5/5 [==============================] - 0s 579us/step\n",
      "5/5 [==============================] - 0s 553us/step\n",
      "5/5 [==============================] - 0s 475us/step\n",
      "5/5 [==============================] - 0s 616us/step\n",
      "5/5 [==============================] - 0s 440us/step\n",
      "5/5 [==============================] - 0s 592us/step\n",
      "5/5 [==============================] - 0s 464us/step\n",
      "5/5 [==============================] - 0s 474us/step\n",
      "5/5 [==============================] - 0s 451us/step\n",
      "5/5 [==============================] - 0s 432us/step\n",
      "5/5 [==============================] - 0s 490us/step\n",
      "5/5 [==============================] - 0s 440us/step\n",
      "5/5 [==============================] - 0s 418us/step\n",
      "5/5 [==============================] - 0s 442us/step\n",
      "5/5 [==============================] - 0s 452us/step\n",
      "5/5 [==============================] - 0s 410us/step\n",
      "5/5 [==============================] - 0s 456us/step\n"
     ]
    },
    {
     "name": "stdout",
     "output_type": "stream",
     "text": [
      "5/5 [==============================] - 0s 461us/step\n",
      "5/5 [==============================] - 0s 444us/step\n",
      "5/5 [==============================] - 0s 440us/step\n",
      "5/5 [==============================] - 0s 452us/step\n",
      "5/5 [==============================] - 0s 431us/step\n",
      "5/5 [==============================] - 0s 479us/step\n",
      "5/5 [==============================] - 0s 468us/step\n",
      "5/5 [==============================] - 0s 427us/step\n",
      "5/5 [==============================] - 0s 434us/step\n",
      "5/5 [==============================] - 0s 444us/step\n",
      "5/5 [==============================] - 0s 479us/step\n",
      "5/5 [==============================] - 0s 445us/step\n",
      "5/5 [==============================] - 0s 440us/step\n",
      "5/5 [==============================] - 0s 428us/step\n",
      "5/5 [==============================] - 0s 438us/step\n",
      "5/5 [==============================] - 0s 442us/step\n",
      "5/5 [==============================] - 0s 464us/step\n",
      "5/5 [==============================] - 0s 447us/step\n",
      "5/5 [==============================] - 0s 402us/step\n",
      "5/5 [==============================] - 0s 434us/step\n",
      "5/5 [==============================] - 0s 406us/step\n",
      "5/5 [==============================] - 0s 427us/step\n",
      "5/5 [==============================] - 0s 431us/step\n",
      "5/5 [==============================] - 0s 426us/step\n",
      "5/5 [==============================] - 0s 443us/step\n",
      "5/5 [==============================] - 0s 450us/step\n",
      "5/5 [==============================] - 0s 415us/step\n",
      "5/5 [==============================] - 0s 442us/step\n",
      "5/5 [==============================] - 0s 432us/step\n",
      "5/5 [==============================] - 0s 434us/step\n",
      "5/5 [==============================] - 0s 486us/step\n",
      "5/5 [==============================] - 0s 437us/step\n",
      "5/5 [==============================] - 0s 424us/step\n",
      "5/5 [==============================] - 0s 480us/step\n",
      "5/5 [==============================] - 0s 501us/step\n",
      "5/5 [==============================] - 0s 448us/step\n",
      "5/5 [==============================] - 0s 410us/step\n",
      "5/5 [==============================] - 0s 443us/step\n",
      "5/5 [==============================] - 0s 529us/step\n",
      "5/5 [==============================] - 0s 758us/step\n",
      "5/5 [==============================] - 0s 520us/step\n",
      "5/5 [==============================] - 0s 454us/step\n",
      "5/5 [==============================] - 0s 438us/step\n",
      "5/5 [==============================] - 0s 467us/step\n",
      "5/5 [==============================] - 0s 436us/step\n",
      "5/5 [==============================] - 0s 441us/step\n",
      "5/5 [==============================] - 0s 459us/step\n",
      "5/5 [==============================] - 0s 413us/step\n",
      "5/5 [==============================] - 0s 459us/step\n",
      "5/5 [==============================] - 0s 418us/step\n",
      "5/5 [==============================] - 0s 418us/step\n",
      "5/5 [==============================] - 0s 433us/step\n",
      "5/5 [==============================] - 0s 445us/step\n",
      "5/5 [==============================] - 0s 409us/step\n",
      "5/5 [==============================] - 0s 449us/step\n",
      "5/5 [==============================] - 0s 437us/step\n",
      "5/5 [==============================] - 0s 422us/step\n",
      "5/5 [==============================] - 0s 433us/step\n",
      "5/5 [==============================] - 0s 439us/step\n",
      "5/5 [==============================] - 0s 434us/step\n",
      "5/5 [==============================] - 0s 452us/step\n",
      "5/5 [==============================] - 0s 464us/step\n",
      "5/5 [==============================] - 0s 435us/step\n",
      "5/5 [==============================] - 0s 406us/step\n",
      "5/5 [==============================] - 0s 454us/step\n",
      "5/5 [==============================] - 0s 438us/step\n",
      "5/5 [==============================] - 0s 419us/step\n",
      "5/5 [==============================] - 0s 417us/step\n",
      "5/5 [==============================] - 0s 440us/step\n",
      "5/5 [==============================] - 0s 436us/step\n",
      "5/5 [==============================] - 0s 468us/step\n",
      "5/5 [==============================] - 0s 477us/step\n",
      "5/5 [==============================] - 0s 432us/step\n",
      "5/5 [==============================] - 0s 457us/step\n",
      "5/5 [==============================] - 0s 427us/step\n",
      "5/5 [==============================] - 0s 479us/step\n",
      "5/5 [==============================] - 0s 495us/step\n",
      "5/5 [==============================] - 0s 473us/step\n",
      "5/5 [==============================] - 0s 429us/step\n",
      "5/5 [==============================] - 0s 467us/step\n",
      "5/5 [==============================] - 0s 484us/step\n",
      "5/5 [==============================] - 0s 442us/step\n",
      "5/5 [==============================] - 0s 455us/step\n",
      "5/5 [==============================] - 0s 466us/step\n",
      "5/5 [==============================] - 0s 434us/step\n",
      "5/5 [==============================] - 0s 523us/step\n",
      "5/5 [==============================] - 0s 465us/step\n",
      "5/5 [==============================] - 0s 425us/step\n",
      "5/5 [==============================] - 0s 425us/step\n",
      "5/5 [==============================] - 0s 446us/step\n",
      "5/5 [==============================] - 0s 471us/step\n",
      "5/5 [==============================] - 0s 418us/step\n",
      "5/5 [==============================] - 0s 442us/step\n",
      "5/5 [==============================] - 0s 464us/step\n",
      "5/5 [==============================] - 0s 435us/step\n",
      "5/5 [==============================] - 0s 439us/step\n",
      "5/5 [==============================] - 0s 493us/step\n",
      "5/5 [==============================] - 0s 435us/step\n",
      "5/5 [==============================] - 0s 392us/step\n",
      "5/5 [==============================] - 0s 437us/step\n",
      "5/5 [==============================] - 0s 418us/step\n",
      "5/5 [==============================] - 0s 446us/step\n",
      "5/5 [==============================] - 0s 457us/step\n",
      "5/5 [==============================] - 0s 432us/step\n",
      "5/5 [==============================] - 0s 440us/step\n",
      "5/5 [==============================] - 0s 400us/step\n",
      "5/5 [==============================] - 0s 426us/step\n",
      "5/5 [==============================] - 0s 415us/step\n",
      "5/5 [==============================] - 0s 440us/step\n",
      "5/5 [==============================] - 0s 428us/step\n",
      "5/5 [==============================] - 0s 429us/step\n",
      "5/5 [==============================] - 0s 434us/step\n",
      "5/5 [==============================] - 0s 433us/step\n",
      "5/5 [==============================] - 0s 460us/step\n",
      "5/5 [==============================] - 0s 426us/step\n",
      "5/5 [==============================] - 0s 446us/step\n",
      "5/5 [==============================] - 0s 444us/step\n",
      "5/5 [==============================] - 0s 446us/step\n",
      "5/5 [==============================] - 0s 439us/step\n",
      "5/5 [==============================] - 0s 454us/step\n",
      "5/5 [==============================] - 0s 428us/step\n",
      "5/5 [==============================] - 0s 415us/step\n",
      "5/5 [==============================] - 0s 441us/step\n",
      "5/5 [==============================] - 0s 472us/step\n",
      "5/5 [==============================] - 0s 428us/step\n",
      "5/5 [==============================] - 0s 421us/step\n",
      "5/5 [==============================] - 0s 483us/step\n",
      "5/5 [==============================] - 0s 434us/step\n",
      "5/5 [==============================] - 0s 453us/step\n",
      "5/5 [==============================] - 0s 408us/step\n",
      "5/5 [==============================] - 0s 461us/step\n",
      "5/5 [==============================] - 0s 430us/step\n",
      "5/5 [==============================] - 0s 408us/step\n",
      "5/5 [==============================] - 0s 433us/step\n",
      "5/5 [==============================] - 0s 443us/step\n",
      "5/5 [==============================] - 0s 478us/step\n",
      "5/5 [==============================] - 0s 446us/step\n",
      "5/5 [==============================] - 0s 454us/step\n",
      "5/5 [==============================] - 0s 451us/step\n",
      "5/5 [==============================] - 0s 433us/step\n",
      "5/5 [==============================] - 0s 439us/step\n",
      "5/5 [==============================] - 0s 443us/step\n",
      "5/5 [==============================] - 0s 447us/step\n",
      "5/5 [==============================] - 0s 424us/step\n",
      "5/5 [==============================] - 0s 433us/step\n",
      "5/5 [==============================] - 0s 433us/step\n",
      "5/5 [==============================] - 0s 428us/step\n",
      "5/5 [==============================] - 0s 456us/step\n",
      "5/5 [==============================] - 0s 419us/step\n",
      "5/5 [==============================] - 0s 459us/step\n",
      "5/5 [==============================] - 0s 501us/step\n",
      "5/5 [==============================] - 0s 472us/step\n",
      "5/5 [==============================] - 0s 429us/step\n",
      "5/5 [==============================] - 0s 526us/step\n"
     ]
    },
    {
     "name": "stdout",
     "output_type": "stream",
     "text": [
      "5/5 [==============================] - 0s 480us/step\n",
      "5/5 [==============================] - 0s 446us/step\n",
      "5/5 [==============================] - 0s 441us/step\n",
      "5/5 [==============================] - 0s 446us/step\n",
      "5/5 [==============================] - 0s 422us/step\n",
      "5/5 [==============================] - 0s 447us/step\n",
      "5/5 [==============================] - 0s 515us/step\n",
      "5/5 [==============================] - 0s 455us/step\n",
      "5/5 [==============================] - 0s 520us/step\n",
      "5/5 [==============================] - 0s 434us/step\n",
      "5/5 [==============================] - 0s 504us/step\n",
      "5/5 [==============================] - 0s 429us/step\n",
      "5/5 [==============================] - 0s 435us/step\n",
      "5/5 [==============================] - 0s 476us/step\n",
      "5/5 [==============================] - 0s 471us/step\n",
      "5/5 [==============================] - 0s 485us/step\n",
      "5/5 [==============================] - 0s 386us/step\n",
      "5/5 [==============================] - 0s 386us/step\n",
      "5/5 [==============================] - 0s 469us/step\n",
      "5/5 [==============================] - 0s 497us/step\n",
      "5/5 [==============================] - 0s 443us/step\n",
      "5/5 [==============================] - 0s 522us/step\n",
      "5/5 [==============================] - 0s 445us/step\n",
      "5/5 [==============================] - 0s 461us/step\n",
      "5/5 [==============================] - 0s 501us/step\n",
      "5/5 [==============================] - 0s 444us/step\n",
      "5/5 [==============================] - 0s 483us/step\n",
      "5/5 [==============================] - 0s 415us/step\n",
      "5/5 [==============================] - 0s 426us/step\n",
      "5/5 [==============================] - 0s 445us/step\n",
      "5/5 [==============================] - 0s 458us/step\n",
      "5/5 [==============================] - 0s 476us/step\n",
      "5/5 [==============================] - 0s 451us/step\n",
      "5/5 [==============================] - 0s 410us/step\n",
      "5/5 [==============================] - 0s 452us/step\n",
      "5/5 [==============================] - 0s 417us/step\n",
      "5/5 [==============================] - 0s 442us/step\n",
      "5/5 [==============================] - 0s 427us/step\n",
      "5/5 [==============================] - 0s 416us/step\n",
      "5/5 [==============================] - 0s 452us/step\n",
      "5/5 [==============================] - 0s 458us/step\n",
      "5/5 [==============================] - 0s 473us/step\n",
      "5/5 [==============================] - 0s 402us/step\n",
      "5/5 [==============================] - 0s 427us/step\n",
      "5/5 [==============================] - 0s 425us/step\n",
      "5/5 [==============================] - 0s 444us/step\n",
      "5/5 [==============================] - 0s 449us/step\n",
      "5/5 [==============================] - 0s 443us/step\n",
      "5/5 [==============================] - 0s 418us/step\n",
      "5/5 [==============================] - 0s 444us/step\n",
      "5/5 [==============================] - 0s 420us/step\n",
      "5/5 [==============================] - 0s 463us/step\n",
      "5/5 [==============================] - 0s 462us/step\n",
      "5/5 [==============================] - 0s 436us/step\n",
      "5/5 [==============================] - 0s 419us/step\n",
      "5/5 [==============================] - 0s 496us/step\n",
      "5/5 [==============================] - 0s 452us/step\n",
      "5/5 [==============================] - 0s 432us/step\n",
      "5/5 [==============================] - 0s 448us/step\n",
      "5/5 [==============================] - 0s 435us/step\n",
      "5/5 [==============================] - 0s 459us/step\n",
      "5/5 [==============================] - 0s 421us/step\n",
      "5/5 [==============================] - 0s 427us/step\n",
      "5/5 [==============================] - 0s 470us/step\n",
      "5/5 [==============================] - 0s 424us/step\n",
      "5/5 [==============================] - 0s 417us/step\n",
      "5/5 [==============================] - 0s 458us/step\n",
      "5/5 [==============================] - 0s 423us/step\n",
      "5/5 [==============================] - 0s 441us/step\n",
      "5/5 [==============================] - 0s 436us/step\n",
      "5/5 [==============================] - 0s 548us/step\n",
      "5/5 [==============================] - 0s 476us/step\n",
      "5/5 [==============================] - 0s 473us/step\n",
      "5/5 [==============================] - 0s 488us/step\n",
      "5/5 [==============================] - 0s 491us/step\n",
      "5/5 [==============================] - 0s 471us/step\n",
      "5/5 [==============================] - 0s 485us/step\n",
      "5/5 [==============================] - 0s 448us/step\n",
      "5/5 [==============================] - 0s 473us/step\n",
      "5/5 [==============================] - 0s 432us/step\n",
      "5/5 [==============================] - 0s 470us/step\n",
      "5/5 [==============================] - 0s 522us/step\n",
      "5/5 [==============================] - 0s 467us/step\n",
      "5/5 [==============================] - 0s 442us/step\n",
      "5/5 [==============================] - 0s 455us/step\n",
      "5/5 [==============================] - 0s 448us/step\n",
      "5/5 [==============================] - 0s 461us/step\n",
      "5/5 [==============================] - 0s 466us/step\n",
      "5/5 [==============================] - 0s 437us/step\n",
      "5/5 [==============================] - 0s 432us/step\n",
      "5/5 [==============================] - 0s 434us/step\n",
      "5/5 [==============================] - 0s 467us/step\n",
      "5/5 [==============================] - 0s 439us/step\n",
      "5/5 [==============================] - 0s 410us/step\n",
      "5/5 [==============================] - 0s 423us/step\n",
      "5/5 [==============================] - 0s 444us/step\n",
      "5/5 [==============================] - 0s 426us/step\n",
      "5/5 [==============================] - 0s 442us/step\n",
      "5/5 [==============================] - 0s 411us/step\n",
      "5/5 [==============================] - 0s 447us/step\n",
      "5/5 [==============================] - 0s 459us/step\n",
      "5/5 [==============================] - 0s 505us/step\n",
      "5/5 [==============================] - 0s 499us/step\n",
      "5/5 [==============================] - 0s 424us/step\n",
      "5/5 [==============================] - 0s 477us/step\n",
      "5/5 [==============================] - 0s 485us/step\n",
      "5/5 [==============================] - 0s 461us/step\n",
      "5/5 [==============================] - 0s 439us/step\n",
      "5/5 [==============================] - 0s 476us/step\n",
      "5/5 [==============================] - 0s 445us/step\n",
      "5/5 [==============================] - 0s 467us/step\n",
      "5/5 [==============================] - 0s 460us/step\n",
      "5/5 [==============================] - 0s 467us/step\n",
      "5/5 [==============================] - 0s 449us/step\n",
      "5/5 [==============================] - 0s 442us/step\n",
      "5/5 [==============================] - 0s 439us/step\n",
      "5/5 [==============================] - 0s 459us/step\n",
      "5/5 [==============================] - 0s 455us/step\n",
      "5/5 [==============================] - 0s 421us/step\n",
      "5/5 [==============================] - 0s 502us/step\n",
      "5/5 [==============================] - 0s 453us/step\n",
      "5/5 [==============================] - 0s 408us/step\n",
      "5/5 [==============================] - 0s 450us/step\n",
      "5/5 [==============================] - 0s 452us/step\n",
      "5/5 [==============================] - 0s 449us/step\n",
      "5/5 [==============================] - 0s 418us/step\n",
      "5/5 [==============================] - 0s 453us/step\n",
      "5/5 [==============================] - 0s 434us/step\n",
      "5/5 [==============================] - 0s 435us/step\n",
      "5/5 [==============================] - 0s 406us/step\n",
      "5/5 [==============================] - 0s 460us/step\n",
      "5/5 [==============================] - 0s 492us/step\n",
      "5/5 [==============================] - 0s 444us/step\n",
      "5/5 [==============================] - 0s 450us/step\n",
      "5/5 [==============================] - 0s 433us/step\n",
      "5/5 [==============================] - 0s 425us/step\n",
      "5/5 [==============================] - 0s 438us/step\n",
      "5/5 [==============================] - 0s 484us/step\n",
      "5/5 [==============================] - 0s 478us/step\n",
      "5/5 [==============================] - 0s 438us/step\n",
      "5/5 [==============================] - 0s 508us/step\n",
      "5/5 [==============================] - 0s 429us/step\n",
      "5/5 [==============================] - 0s 430us/step\n",
      "5/5 [==============================] - 0s 457us/step\n",
      "5/5 [==============================] - 0s 544us/step\n",
      "5/5 [==============================] - 0s 579us/step\n",
      "5/5 [==============================] - 0s 447us/step\n",
      "5/5 [==============================] - 0s 504us/step\n",
      "5/5 [==============================] - 0s 475us/step\n",
      "5/5 [==============================] - 0s 470us/step\n",
      "5/5 [==============================] - 0s 432us/step\n",
      "5/5 [==============================] - 0s 422us/step\n",
      "5/5 [==============================] - 0s 479us/step\n",
      "5/5 [==============================] - 0s 454us/step\n"
     ]
    },
    {
     "name": "stdout",
     "output_type": "stream",
     "text": [
      "5/5 [==============================] - 0s 439us/step\n",
      "5/5 [==============================] - 0s 452us/step\n",
      "5/5 [==============================] - 0s 449us/step\n",
      "5/5 [==============================] - 0s 458us/step\n",
      "5/5 [==============================] - 0s 453us/step\n",
      "5/5 [==============================] - 0s 428us/step\n",
      "5/5 [==============================] - 0s 456us/step\n",
      "5/5 [==============================] - 0s 442us/step\n",
      "5/5 [==============================] - 0s 428us/step\n",
      "5/5 [==============================] - 0s 469us/step\n",
      "5/5 [==============================] - 0s 469us/step\n",
      "5/5 [==============================] - 0s 433us/step\n",
      "5/5 [==============================] - 0s 409us/step\n",
      "5/5 [==============================] - 0s 462us/step\n",
      "5/5 [==============================] - 0s 437us/step\n",
      "5/5 [==============================] - 0s 452us/step\n",
      "5/5 [==============================] - 0s 453us/step\n",
      "5/5 [==============================] - 0s 443us/step\n",
      "5/5 [==============================] - 0s 461us/step\n",
      "5/5 [==============================] - 0s 404us/step\n",
      "5/5 [==============================] - 0s 429us/step\n",
      "5/5 [==============================] - 0s 425us/step\n",
      "5/5 [==============================] - 0s 437us/step\n",
      "5/5 [==============================] - 0s 458us/step\n",
      "5/5 [==============================] - 0s 418us/step\n",
      "5/5 [==============================] - 0s 437us/step\n",
      "5/5 [==============================] - 0s 408us/step\n",
      "5/5 [==============================] - 0s 463us/step\n",
      "5/5 [==============================] - 0s 459us/step\n",
      "5/5 [==============================] - 0s 467us/step\n",
      "5/5 [==============================] - 0s 469us/step\n",
      "5/5 [==============================] - 0s 454us/step\n",
      "5/5 [==============================] - 0s 435us/step\n",
      "5/5 [==============================] - 0s 419us/step\n",
      "5/5 [==============================] - 0s 431us/step\n",
      "5/5 [==============================] - 0s 417us/step\n",
      "5/5 [==============================] - 0s 436us/step\n",
      "5/5 [==============================] - 0s 448us/step\n",
      "5/5 [==============================] - 0s 451us/step\n",
      "5/5 [==============================] - 0s 483us/step\n",
      "5/5 [==============================] - 0s 421us/step\n",
      "5/5 [==============================] - 0s 420us/step\n",
      "5/5 [==============================] - 0s 413us/step\n",
      "5/5 [==============================] - 0s 443us/step\n",
      "5/5 [==============================] - 0s 449us/step\n",
      "5/5 [==============================] - 0s 417us/step\n",
      "5/5 [==============================] - 0s 448us/step\n",
      "5/5 [==============================] - 0s 431us/step\n",
      "5/5 [==============================] - 0s 431us/step\n",
      "5/5 [==============================] - 0s 426us/step\n",
      "5/5 [==============================] - 0s 454us/step\n",
      "5/5 [==============================] - 0s 452us/step\n",
      "5/5 [==============================] - 0s 431us/step\n",
      "5/5 [==============================] - 0s 415us/step\n",
      "5/5 [==============================] - 0s 440us/step\n",
      "5/5 [==============================] - 0s 420us/step\n",
      "5/5 [==============================] - 0s 417us/step\n",
      "5/5 [==============================] - 0s 434us/step\n",
      "5/5 [==============================] - 0s 455us/step\n",
      "5/5 [==============================] - 0s 414us/step\n",
      "5/5 [==============================] - 0s 431us/step\n",
      "5/5 [==============================] - 0s 608us/step\n",
      "5/5 [==============================] - 0s 507us/step\n",
      "5/5 [==============================] - 0s 432us/step\n",
      "5/5 [==============================] - 0s 474us/step\n",
      "5/5 [==============================] - 0s 437us/step\n",
      "5/5 [==============================] - 0s 440us/step\n",
      "5/5 [==============================] - 0s 422us/step\n",
      "5/5 [==============================] - 0s 435us/step\n",
      "5/5 [==============================] - 0s 445us/step\n",
      "5/5 [==============================] - 0s 448us/step\n",
      "5/5 [==============================] - 0s 415us/step\n",
      "5/5 [==============================] - 0s 455us/step\n",
      "5/5 [==============================] - 0s 420us/step\n",
      "5/5 [==============================] - 0s 423us/step\n",
      "5/5 [==============================] - 0s 454us/step\n",
      "5/5 [==============================] - 0s 425us/step\n",
      "5/5 [==============================] - 0s 422us/step\n",
      "5/5 [==============================] - 0s 420us/step\n",
      "5/5 [==============================] - 0s 432us/step\n",
      "5/5 [==============================] - 0s 455us/step\n",
      "5/5 [==============================] - 0s 511us/step\n",
      "5/5 [==============================] - 0s 416us/step\n",
      "5/5 [==============================] - 0s 430us/step\n",
      "5/5 [==============================] - 0s 451us/step\n",
      "5/5 [==============================] - 0s 454us/step\n",
      "5/5 [==============================] - 0s 417us/step\n",
      "5/5 [==============================] - 0s 481us/step\n",
      "5/5 [==============================] - 0s 458us/step\n",
      "5/5 [==============================] - 0s 407us/step\n",
      "5/5 [==============================] - 0s 617us/step\n",
      "5/5 [==============================] - 0s 418us/step\n",
      "5/5 [==============================] - 0s 448us/step\n",
      "5/5 [==============================] - 0s 432us/step\n",
      "5/5 [==============================] - 0s 465us/step\n",
      "5/5 [==============================] - 0s 433us/step\n",
      "5/5 [==============================] - 0s 434us/step\n",
      "5/5 [==============================] - 0s 496us/step\n",
      "5/5 [==============================] - 0s 456us/step\n"
     ]
    }
   ],
   "source": [
    "marginal_marginal = []\n",
    "marginal_boostrap = []\n",
    "marginal_bayes = []\n",
    "\n",
    "bayes_marginal = []\n",
    "bayes_boostrap = []\n",
    "bayes_bayes = []\n",
    "\n",
    "total_steps = 11\n",
    "for step in range(total_steps):\n",
    "    policy_path = exp_path + f\"/l_{l_setting}/run_{run}/marginal/opt_results/step_{step}\"\n",
    "    marginal_policy_model = load_policy(policy_path)\n",
    "\n",
    "    policy_path = exp_path + f\"/l_{l_setting}/run_{run}/bayes/opt_results/step_{step}\"\n",
    "    bayes_policy_model = load_policy(policy_path)\n",
    "\n",
    "    policy_path = exp_path + f\"/l_{l_setting}/run_{run}/bootstrap/opt_results/step_{step}\"\n",
    "    bootstrap_policy_model = load_policy(policy_path)\n",
    "    \n",
    "    step_results = get_marginal_resutls(test_marginal_model,\n",
    "                                        test_marginal_delta,\n",
    "                                        marginal_policy_model,\n",
    "                                        bayes_policy_model,\n",
    "                                        bootstrap_policy_model)\n",
    "\n",
    "    step_marginal_marginal_metrics, step_marginal_bayes_marginal_metrics, step_marginal_bootstrap_marginal_metrics = step_results\n",
    "    marginal_marginal += [step_marginal_marginal_metrics]\n",
    "    marginal_boostrap += [step_marginal_bootstrap_marginal_metrics]\n",
    "    marginal_bayes += [step_marginal_bayes_marginal_metrics]\n",
    "    \n",
    "    step_bayesian_results =  get_baysian_metrics(test_models, \n",
    "                                        test_deltas, \n",
    "                                        marginal_policy_model, \n",
    "                                        bootstrap_policy_model, \n",
    "                                        bayes_policy_model)\n",
    "    step_bayes_marginal_results, step_bayes_bootstrap_results, step_bayes_bayes_results = step_bayesian_results\n",
    "    bayes_marginal += [step_bayes_marginal_results]\n",
    "    bayes_boostrap += [step_bayes_bootstrap_results]\n",
    "    bayes_bayes += [step_bayes_bayes_results]"
   ]
  },
  {
   "cell_type": "code",
   "execution_count": 29,
   "metadata": {},
   "outputs": [],
   "source": [
    "marginal_marginal = pd.concat(marginal_marginal,ignore_index=True)\n",
    "marginal_boostrap = pd.concat(marginal_boostrap,ignore_index=True)\n",
    "marginal_bayes = pd.concat(marginal_bayes,ignore_index=True)\n",
    "\n",
    "bayes_marginal = pd.concat(bayes_marginal,ignore_index=True)\n",
    "bayes_boostrap = pd.concat(bayes_boostrap,ignore_index=True)\n",
    "bayes_bayes = pd.concat(bayes_bayes,ignore_index=True)"
   ]
  },
  {
   "cell_type": "code",
   "execution_count": 30,
   "metadata": {},
   "outputs": [
    {
     "data": {
      "image/png": "[encoded data removed]",
      "text/plain": [
       "<Figure size 640x480 with 1 Axes>"
      ]
     },
     "metadata": {},
     "output_type": "display_data"
    }
   ],
   "source": [
    "plt.figure()\n",
    "plt.plot(marginal_marginal[\"fairness\"], label = \"marginal\")\n",
    "plt.plot(marginal_boostrap[\"fairness\"], label = \"boostrap\")\n",
    "plt.plot(marginal_bayes[\"fairness\"], label = \"bayes\")\n",
    "plt.show()\n",
    "plt.close()"
   ]
  },
  {
   "cell_type": "code",
   "execution_count": 31,
   "metadata": {},
   "outputs": [
    {
     "data": {
      "image/png": "[encoded data removed]",
      "text/plain": [
       "<Figure size 640x480 with 1 Axes>"
      ]
     },
     "metadata": {},
     "output_type": "display_data"
    }
   ],
   "source": [
    "plt.figure()\n",
    "plt.plot(bayes_marginal[\"fairness\"], label = \"marginal\")\n",
    "plt.plot(bayes_boostrap[\"fairness\"], label = \"boostrap\")\n",
    "plt.plot(bayes_bayes[\"fairness\"], label = \"bayes\")\n",
    "plt.show()\n",
    "plt.close()"
   ]
  },
  {
   "cell_type": "code",
   "execution_count": 32,
   "metadata": {},
   "outputs": [
    {
     "data": {
      "image/png": "[encoded data removed]",
      "text/plain": [
       "<Figure size 640x480 with 1 Axes>"
      ]
     },
     "metadata": {},
     "output_type": "display_data"
    }
   ],
   "source": [
    "plt.figure()\n",
    "plt.plot(marginal_marginal[\"fairness\"], label = \"marginal\")\n",
    "plt.plot(bayes_marginal[\"fairness\"], label = \"b_marginal\")\n",
    "\n",
    "plt.plot(marginal_boostrap[\"fairness\"], label = \"boostrap\")\n",
    "plt.plot(bayes_boostrap[\"fairness\"], label = \"b_boostrap\")\n",
    "\n",
    "plt.plot(marginal_bayes[\"fairness\"], label = \"bayes\")\n",
    "plt.plot(bayes_bayes[\"fairness\"], label = \"b_bayes\")\n",
    "plt.legend()\n",
    "plt.show()\n",
    "plt.close()"
   ]
  },
  {
   "cell_type": "code",
   "execution_count": 73,
   "metadata": {},
   "outputs": [
    {
     "ename": "TypeError",
     "evalue": "first argument must be an iterable of pandas objects, you passed an object of type \"DataFrame\"",
     "output_type": "error",
     "traceback": [
      "\u001B[0;31m---------------------------------------------------------------------------\u001B[0m",
      "\u001B[0;31mTypeError\u001B[0m                                 Traceback (most recent call last)",
      "Cell \u001B[0;32mIn[73], line 1\u001B[0m\n\u001B[0;32m----> 1\u001B[0m marginal_marginal \u001B[38;5;241m=\u001B[39m \u001B[43mpd\u001B[49m\u001B[38;5;241;43m.\u001B[39;49m\u001B[43mconcat\u001B[49m\u001B[43m(\u001B[49m\u001B[43mmarginal_marginal\u001B[49m\u001B[43m,\u001B[49m\u001B[43mignore_index\u001B[49m\u001B[38;5;241;43m=\u001B[39;49m\u001B[38;5;28;43;01mTrue\u001B[39;49;00m\u001B[43m)\u001B[49m\n\u001B[1;32m      2\u001B[0m marginal_boostrap \u001B[38;5;241m=\u001B[39m pd\u001B[38;5;241m.\u001B[39mconcat(marginal_boostrap,ignore_index\u001B[38;5;241m=\u001B[39m\u001B[38;5;28;01mTrue\u001B[39;00m)\n\u001B[1;32m      3\u001B[0m marginal_bayes \u001B[38;5;241m=\u001B[39m pd\u001B[38;5;241m.\u001B[39mconcat(marginal_bayes,ignore_index\u001B[38;5;241m=\u001B[39m\u001B[38;5;28;01mTrue\u001B[39;00m)\n",
      "File \u001B[0;32m~/Phd/projects/bayesian_fairness/envs/bayesian-fairness/lib/python3.9/site-packages/pandas/util/_decorators.py:331\u001B[0m, in \u001B[0;36mdeprecate_nonkeyword_arguments.<locals>.decorate.<locals>.wrapper\u001B[0;34m(*args, **kwargs)\u001B[0m\n\u001B[1;32m    325\u001B[0m \u001B[38;5;28;01mif\u001B[39;00m \u001B[38;5;28mlen\u001B[39m(args) \u001B[38;5;241m>\u001B[39m num_allow_args:\n\u001B[1;32m    326\u001B[0m     warnings\u001B[38;5;241m.\u001B[39mwarn(\n\u001B[1;32m    327\u001B[0m         msg\u001B[38;5;241m.\u001B[39mformat(arguments\u001B[38;5;241m=\u001B[39m_format_argument_list(allow_args)),\n\u001B[1;32m    328\u001B[0m         \u001B[38;5;167;01mFutureWarning\u001B[39;00m,\n\u001B[1;32m    329\u001B[0m         stacklevel\u001B[38;5;241m=\u001B[39mfind_stack_level(),\n\u001B[1;32m    330\u001B[0m     )\n\u001B[0;32m--> 331\u001B[0m \u001B[38;5;28;01mreturn\u001B[39;00m \u001B[43mfunc\u001B[49m\u001B[43m(\u001B[49m\u001B[38;5;241;43m*\u001B[39;49m\u001B[43margs\u001B[49m\u001B[43m,\u001B[49m\u001B[43m \u001B[49m\u001B[38;5;241;43m*\u001B[39;49m\u001B[38;5;241;43m*\u001B[39;49m\u001B[43mkwargs\u001B[49m\u001B[43m)\u001B[49m\n",
      "File \u001B[0;32m~/Phd/projects/bayesian_fairness/envs/bayesian-fairness/lib/python3.9/site-packages/pandas/core/reshape/concat.py:368\u001B[0m, in \u001B[0;36mconcat\u001B[0;34m(objs, axis, join, ignore_index, keys, levels, names, verify_integrity, sort, copy)\u001B[0m\n\u001B[1;32m    146\u001B[0m \u001B[38;5;129m@deprecate_nonkeyword_arguments\u001B[39m(version\u001B[38;5;241m=\u001B[39m\u001B[38;5;28;01mNone\u001B[39;00m, allowed_args\u001B[38;5;241m=\u001B[39m[\u001B[38;5;124m\"\u001B[39m\u001B[38;5;124mobjs\u001B[39m\u001B[38;5;124m\"\u001B[39m])\n\u001B[1;32m    147\u001B[0m \u001B[38;5;28;01mdef\u001B[39;00m \u001B[38;5;21mconcat\u001B[39m(\n\u001B[1;32m    148\u001B[0m     objs: Iterable[NDFrame] \u001B[38;5;241m|\u001B[39m Mapping[HashableT, NDFrame],\n\u001B[0;32m   (...)\u001B[0m\n\u001B[1;32m    157\u001B[0m     copy: \u001B[38;5;28mbool\u001B[39m \u001B[38;5;241m=\u001B[39m \u001B[38;5;28;01mTrue\u001B[39;00m,\n\u001B[1;32m    158\u001B[0m ) \u001B[38;5;241m-\u001B[39m\u001B[38;5;241m>\u001B[39m DataFrame \u001B[38;5;241m|\u001B[39m Series:\n\u001B[1;32m    159\u001B[0m     \u001B[38;5;124;03m\"\"\"\u001B[39;00m\n\u001B[1;32m    160\u001B[0m \u001B[38;5;124;03m    Concatenate pandas objects along a particular axis.\u001B[39;00m\n\u001B[1;32m    161\u001B[0m \n\u001B[0;32m   (...)\u001B[0m\n\u001B[1;32m    366\u001B[0m \u001B[38;5;124;03m    1   3   4\u001B[39;00m\n\u001B[1;32m    367\u001B[0m \u001B[38;5;124;03m    \"\"\"\u001B[39;00m\n\u001B[0;32m--> 368\u001B[0m     op \u001B[38;5;241m=\u001B[39m \u001B[43m_Concatenator\u001B[49m\u001B[43m(\u001B[49m\n\u001B[1;32m    369\u001B[0m \u001B[43m        \u001B[49m\u001B[43mobjs\u001B[49m\u001B[43m,\u001B[49m\n\u001B[1;32m    370\u001B[0m \u001B[43m        \u001B[49m\u001B[43maxis\u001B[49m\u001B[38;5;241;43m=\u001B[39;49m\u001B[43maxis\u001B[49m\u001B[43m,\u001B[49m\n\u001B[1;32m    371\u001B[0m \u001B[43m        \u001B[49m\u001B[43mignore_index\u001B[49m\u001B[38;5;241;43m=\u001B[39;49m\u001B[43mignore_index\u001B[49m\u001B[43m,\u001B[49m\n\u001B[1;32m    372\u001B[0m \u001B[43m        \u001B[49m\u001B[43mjoin\u001B[49m\u001B[38;5;241;43m=\u001B[39;49m\u001B[43mjoin\u001B[49m\u001B[43m,\u001B[49m\n\u001B[1;32m    373\u001B[0m \u001B[43m        \u001B[49m\u001B[43mkeys\u001B[49m\u001B[38;5;241;43m=\u001B[39;49m\u001B[43mkeys\u001B[49m\u001B[43m,\u001B[49m\n\u001B[1;32m    374\u001B[0m \u001B[43m        \u001B[49m\u001B[43mlevels\u001B[49m\u001B[38;5;241;43m=\u001B[39;49m\u001B[43mlevels\u001B[49m\u001B[43m,\u001B[49m\n\u001B[1;32m    375\u001B[0m \u001B[43m        \u001B[49m\u001B[43mnames\u001B[49m\u001B[38;5;241;43m=\u001B[39;49m\u001B[43mnames\u001B[49m\u001B[43m,\u001B[49m\n\u001B[1;32m    376\u001B[0m \u001B[43m        \u001B[49m\u001B[43mverify_integrity\u001B[49m\u001B[38;5;241;43m=\u001B[39;49m\u001B[43mverify_integrity\u001B[49m\u001B[43m,\u001B[49m\n\u001B[1;32m    377\u001B[0m \u001B[43m        \u001B[49m\u001B[43mcopy\u001B[49m\u001B[38;5;241;43m=\u001B[39;49m\u001B[43mcopy\u001B[49m\u001B[43m,\u001B[49m\n\u001B[1;32m    378\u001B[0m \u001B[43m        \u001B[49m\u001B[43msort\u001B[49m\u001B[38;5;241;43m=\u001B[39;49m\u001B[43msort\u001B[49m\u001B[43m,\u001B[49m\n\u001B[1;32m    379\u001B[0m \u001B[43m    \u001B[49m\u001B[43m)\u001B[49m\n\u001B[1;32m    381\u001B[0m     \u001B[38;5;28;01mreturn\u001B[39;00m op\u001B[38;5;241m.\u001B[39mget_result()\n",
      "File \u001B[0;32m~/Phd/projects/bayesian_fairness/envs/bayesian-fairness/lib/python3.9/site-packages/pandas/core/reshape/concat.py:403\u001B[0m, in \u001B[0;36m_Concatenator.__init__\u001B[0;34m(self, objs, axis, join, keys, levels, names, ignore_index, verify_integrity, copy, sort)\u001B[0m\n\u001B[1;32m    389\u001B[0m \u001B[38;5;28;01mdef\u001B[39;00m \u001B[38;5;21m__init__\u001B[39m(\n\u001B[1;32m    390\u001B[0m     \u001B[38;5;28mself\u001B[39m,\n\u001B[1;32m    391\u001B[0m     objs: Iterable[NDFrame] \u001B[38;5;241m|\u001B[39m Mapping[HashableT, NDFrame],\n\u001B[0;32m   (...)\u001B[0m\n\u001B[1;32m    400\u001B[0m     sort\u001B[38;5;241m=\u001B[39m\u001B[38;5;28;01mFalse\u001B[39;00m,\n\u001B[1;32m    401\u001B[0m ) \u001B[38;5;241m-\u001B[39m\u001B[38;5;241m>\u001B[39m \u001B[38;5;28;01mNone\u001B[39;00m:\n\u001B[1;32m    402\u001B[0m     \u001B[38;5;28;01mif\u001B[39;00m \u001B[38;5;28misinstance\u001B[39m(objs, (ABCSeries, ABCDataFrame, \u001B[38;5;28mstr\u001B[39m)):\n\u001B[0;32m--> 403\u001B[0m         \u001B[38;5;28;01mraise\u001B[39;00m \u001B[38;5;167;01mTypeError\u001B[39;00m(\n\u001B[1;32m    404\u001B[0m             \u001B[38;5;124m\"\u001B[39m\u001B[38;5;124mfirst argument must be an iterable of pandas \u001B[39m\u001B[38;5;124m\"\u001B[39m\n\u001B[1;32m    405\u001B[0m             \u001B[38;5;124mf\u001B[39m\u001B[38;5;124m'\u001B[39m\u001B[38;5;124mobjects, you passed an object of type \u001B[39m\u001B[38;5;124m\"\u001B[39m\u001B[38;5;132;01m{\u001B[39;00m\u001B[38;5;28mtype\u001B[39m(objs)\u001B[38;5;241m.\u001B[39m\u001B[38;5;18m__name__\u001B[39m\u001B[38;5;132;01m}\u001B[39;00m\u001B[38;5;124m\"\u001B[39m\u001B[38;5;124m'\u001B[39m\n\u001B[1;32m    406\u001B[0m         )\n\u001B[1;32m    408\u001B[0m     \u001B[38;5;28;01mif\u001B[39;00m join \u001B[38;5;241m==\u001B[39m \u001B[38;5;124m\"\u001B[39m\u001B[38;5;124mouter\u001B[39m\u001B[38;5;124m\"\u001B[39m:\n\u001B[1;32m    409\u001B[0m         \u001B[38;5;28mself\u001B[39m\u001B[38;5;241m.\u001B[39mintersect \u001B[38;5;241m=\u001B[39m \u001B[38;5;28;01mFalse\u001B[39;00m\n",
      "\u001B[0;31mTypeError\u001B[0m: first argument must be an iterable of pandas objects, you passed an object of type \"DataFrame\""
     ]
    }
   ],
   "source": []
  },
  {
   "cell_type": "code",
   "execution_count": 26,
   "metadata": {},
   "outputs": [
    {
     "data": {
      "text/plain": [
       "3.8499999999999996"
      ]
     },
     "execution_count": 26,
     "metadata": {},
     "output_type": "execute_result"
    }
   ],
   "source": [
    "0.000077/0.000020"
   ]
  },
  {
   "cell_type": "code",
   "execution_count": 27,
   "metadata": {},
   "outputs": [
    {
     "data": {
      "text/plain": [
       "3.552659635950773"
      ]
     },
     "execution_count": 27,
     "metadata": {},
     "output_type": "execute_result"
    }
   ],
   "source": [
    "5.928731597133702e-05/1.668814973756144e-05"
   ]
  },
  {
   "cell_type": "code",
   "execution_count": 22,
   "metadata": {},
   "outputs": [
    {
     "data": {
      "text/plain": [
       "(loss        0.541039\n",
       " fairness    0.000020\n",
       " utility     0.541059\n",
       " dtype: float64,\n",
       " {'loss': 0.5412525514558217,\n",
       "  'fairness': 1.668814973756144e-05,\n",
       "  'utility': 0.5412692396055593})"
      ]
     },
     "execution_count": 22,
     "metadata": {},
     "output_type": "execute_result"
    }
   ],
   "source": [
    "bootstrap_results.mean(), bootstrap_marginal_metrics"
   ]
  },
  {
   "cell_type": "code",
   "execution_count": 23,
   "metadata": {},
   "outputs": [
    {
     "data": {
      "text/plain": [
       "(loss        0.541046\n",
       " fairness    0.000007\n",
       " utility     0.541053\n",
       " dtype: float64,\n",
       " {'loss': 0.5412573309229451,\n",
       "  'fairness': 5.690814777554183e-06,\n",
       "  'utility': 0.5412630217377227})"
      ]
     },
     "execution_count": 23,
     "metadata": {},
     "output_type": "execute_result"
    }
   ],
   "source": [
    "bayes_results.mean(), bayes_marginal_metrics"
   ]
  },
  {
   "cell_type": "code",
   "execution_count": null,
   "metadata": {},
   "outputs": [],
   "source": []
  },
  {
   "cell_type": "code",
   "execution_count": 80,
   "metadata": {},
   "outputs": [
    {
     "name": "stdout",
     "output_type": "stream",
     "text": [
      "5/5 [==============================] - 0s 579us/step\n"
     ]
    }
   ],
   "source": [
    "bayes_metrics = get_metrics(policy_model = bayes_policy_model,\n",
    "                               model = test_marginal_model,\n",
    "                               model_delta = test_marginal_delta,\n",
    "                               utility_fun = utility_fun,\n",
    "                               l=l_setting)"
   ]
  },
  {
   "cell_type": "code",
   "execution_count": 81,
   "metadata": {},
   "outputs": [
    {
     "name": "stdout",
     "output_type": "stream",
     "text": [
      "5/5 [==============================] - 0s 707us/step\n"
     ]
    }
   ],
   "source": [
    "bootstrap_metrics = get_metrics(policy_model = bootstrap_policy_model,\n",
    "                                model = test_marginal_model,\n",
    "                                model_delta = test_marginal_delta,\n",
    "                                utility_fun = utility_fun,\n",
    "                                l=l_setting)"
   ]
  },
  {
   "cell_type": "code",
   "execution_count": 68,
   "metadata": {},
   "outputs": [
    {
     "name": "stdout",
     "output_type": "stream",
     "text": [
      "5/5 [==============================] - 0s 715us/step\n"
     ]
    }
   ],
   "source": [
    "x = np.eye(n_x)\n",
    "pred = marginal_policy_model.predict(x)\n",
    "p_a_x = np.squeeze(np.array([1-pred,pred]))"
   ]
  },
  {
   "cell_type": "code",
   "execution_count": 66,
   "metadata": {},
   "outputs": [
    {
     "data": {
      "text/plain": [
       "0.050827412651835935"
      ]
     },
     "execution_count": 66,
     "metadata": {},
     "output_type": "execute_result"
    }
   ],
   "source": [
    "get_fairness(policy, model_delta)"
   ]
  },
  {
   "cell_type": "code",
   "execution_count": 69,
   "metadata": {},
   "outputs": [],
   "source": [
    "neg_utility = get_utility_loss(utility_matrix=utility_fun,\n",
    "                               policy=p_a_x,\n",
    "                               Pxy=test_marginal_model.Pxy)"
   ]
  },
  {
   "cell_type": "code",
   "execution_count": 22,
   "metadata": {},
   "outputs": [
    {
     "data": {
      "text/plain": [
       "array([[1.],\n",
       "       [1.],\n",
       "       [1.],\n",
       "       [1.],\n",
       "       [1.],\n",
       "       [1.],\n",
       "       [1.],\n",
       "       [1.],\n",
       "       [1.],\n",
       "       [1.],\n",
       "       [1.],\n",
       "       [1.],\n",
       "       [1.],\n",
       "       [1.],\n",
       "       [1.],\n",
       "       [1.],\n",
       "       [1.],\n",
       "       [1.],\n",
       "       [1.],\n",
       "       [1.],\n",
       "       [1.],\n",
       "       [1.],\n",
       "       [1.],\n",
       "       [1.],\n",
       "       [1.],\n",
       "       [1.],\n",
       "       [1.],\n",
       "       [1.],\n",
       "       [1.],\n",
       "       [1.],\n",
       "       [1.],\n",
       "       [1.],\n",
       "       [1.],\n",
       "       [1.],\n",
       "       [1.],\n",
       "       [1.],\n",
       "       [1.],\n",
       "       [1.],\n",
       "       [1.],\n",
       "       [1.],\n",
       "       [1.],\n",
       "       [1.],\n",
       "       [1.],\n",
       "       [1.],\n",
       "       [1.],\n",
       "       [1.],\n",
       "       [1.],\n",
       "       [1.],\n",
       "       [1.],\n",
       "       [1.],\n",
       "       [1.],\n",
       "       [1.],\n",
       "       [1.],\n",
       "       [1.],\n",
       "       [1.],\n",
       "       [1.],\n",
       "       [1.],\n",
       "       [1.],\n",
       "       [1.],\n",
       "       [1.],\n",
       "       [1.],\n",
       "       [1.],\n",
       "       [1.],\n",
       "       [1.],\n",
       "       [1.],\n",
       "       [1.],\n",
       "       [1.],\n",
       "       [1.],\n",
       "       [1.],\n",
       "       [1.],\n",
       "       [1.],\n",
       "       [1.],\n",
       "       [1.],\n",
       "       [1.],\n",
       "       [1.],\n",
       "       [1.],\n",
       "       [1.],\n",
       "       [1.],\n",
       "       [1.],\n",
       "       [1.],\n",
       "       [1.],\n",
       "       [1.],\n",
       "       [1.],\n",
       "       [1.],\n",
       "       [1.],\n",
       "       [1.],\n",
       "       [1.],\n",
       "       [1.],\n",
       "       [1.],\n",
       "       [1.],\n",
       "       [1.],\n",
       "       [1.],\n",
       "       [1.],\n",
       "       [1.],\n",
       "       [1.],\n",
       "       [1.],\n",
       "       [1.],\n",
       "       [1.],\n",
       "       [1.],\n",
       "       [1.],\n",
       "       [1.],\n",
       "       [1.],\n",
       "       [1.],\n",
       "       [1.],\n",
       "       [1.],\n",
       "       [1.],\n",
       "       [1.],\n",
       "       [1.],\n",
       "       [1.],\n",
       "       [1.],\n",
       "       [1.],\n",
       "       [1.],\n",
       "       [1.],\n",
       "       [1.],\n",
       "       [1.],\n",
       "       [1.],\n",
       "       [1.],\n",
       "       [1.],\n",
       "       [1.],\n",
       "       [1.],\n",
       "       [1.],\n",
       "       [1.],\n",
       "       [1.],\n",
       "       [1.],\n",
       "       [1.],\n",
       "       [1.],\n",
       "       [1.],\n",
       "       [1.],\n",
       "       [1.],\n",
       "       [1.],\n",
       "       [1.],\n",
       "       [1.],\n",
       "       [1.],\n",
       "       [1.],\n",
       "       [1.],\n",
       "       [1.],\n",
       "       [1.],\n",
       "       [1.],\n",
       "       [1.],\n",
       "       [1.],\n",
       "       [1.]], dtype=float32)"
      ]
     },
     "execution_count": 22,
     "metadata": {},
     "output_type": "execute_result"
    }
   ],
   "source": [
    "np.sum(p_a_x,0)"
   ]
  },
  {
   "cell_type": "markdown",
   "metadata": {},
   "source": [
    "# debug"
   ]
  },
  {
   "cell_type": "code",
   "execution_count": 64,
   "metadata": {},
   "outputs": [
    {
     "data": {
      "text/plain": [
       "0.050827412651835935"
      ]
     },
     "execution_count": 64,
     "metadata": {},
     "output_type": "execute_result"
    }
   ],
   "source": [
    "policy = p_a_x\n",
    "model_delta = test_marginal_delta\n",
    "\n",
    "expand_Pa_x = np.expand_dims(np.expand_dims(policy, axis=0), axis=0)\n",
    "expand_delta = np.expand_dims(model_delta, axis=-1)\n",
    "c =  np.matmul(expand_Pa_x,\n",
    "               expand_delta)\n",
    "fairness = np.sum(np.linalg.norm(c,axis = (2,3), ord=1))\n",
    "fairness"
   ]
  },
  {
   "cell_type": "markdown",
   "metadata": {},
   "source": [
    "#### policy"
   ]
  },
  {
   "cell_type": "code",
   "execution_count": 18,
   "metadata": {},
   "outputs": [],
   "source": [
    "def get_random_policy(size):\n",
    "    a = np.ones(shape=size[0])\n",
    "    policy = np.random.dirichlet(a, size= size[1])\n",
    "    return np.transpose(policy)\n",
    "\n",
    "def get_random_policy_2(size):\n",
    "    policy = np.random.random(size = size)\n",
    "    return policy"
   ]
  },
  {
   "cell_type": "code",
   "execution_count": 19,
   "metadata": {},
   "outputs": [],
   "source": [
    "policy = get_random_policy(size = (2,2))"
   ]
  },
  {
   "cell_type": "code",
   "execution_count": 20,
   "metadata": {},
   "outputs": [],
   "source": [
    "def normilize_policy(policy):\n",
    "    policy[policy < 0] = 0\n",
    "    policy[policy > 1] = 1\n",
    "    for x in range(policy.shape[-1]):\n",
    "        policy[:, x] /= np.sum(policy[:, x])\n",
    "    return policy"
   ]
  },
  {
   "cell_type": "markdown",
   "metadata": {},
   "source": [
    "#### delta"
   ]
  },
  {
   "cell_type": "code",
   "execution_count": 21,
   "metadata": {},
   "outputs": [],
   "source": [
    "def get_delta(Px_y, Px_yz):\n",
    "    delta = np.zeros(Px_yz.shape)\n",
    "    for z in range(Px_yz.shape[-1]):\n",
    "        delta[:, :, z] = Px_y - Px_yz[:,:,z]\n",
    "    return delta\n",
    "\n",
    "def get_delta(Px_y, Px_yz, Pz_y):\n",
    "    delta = np.zeros(Px_yz.shape)\n",
    "    for z in range(Px_yz.shape[-1]):\n",
    "        delta[:, :, z] = (Px_y - Px_yz[:,:,z]) * Pz_y[z,:]\n",
    "    return delta"
   ]
  },
  {
   "cell_type": "code",
   "execution_count": 22,
   "metadata": {},
   "outputs": [],
   "source": [
    "# d_1 = get_delta(true_dirichlet_model.Px_y, true_dirichlet_model.Px_yz)"
   ]
  },
  {
   "cell_type": "code",
   "execution_count": 23,
   "metadata": {},
   "outputs": [],
   "source": [
    "# d_1"
   ]
  },
  {
   "cell_type": "code",
   "execution_count": 24,
   "metadata": {},
   "outputs": [],
   "source": [
    "# d_2 = get_delta2(true_dirichlet_model.Px_y, true_dirichlet_model.Px_yz, true_dirichlet_model.Pz_y)"
   ]
  },
  {
   "cell_type": "code",
   "execution_count": 25,
   "metadata": {},
   "outputs": [],
   "source": [
    "# d_2"
   ]
  },
  {
   "cell_type": "markdown",
   "metadata": {},
   "source": [
    "#### utility"
   ]
  },
  {
   "cell_type": "code",
   "execution_count": 26,
   "metadata": {},
   "outputs": [],
   "source": [
    "def get_eye_utility(size):\n",
    "    return np.eye(size)"
   ]
  },
  {
   "cell_type": "markdown",
   "metadata": {},
   "source": [
    "# Algorithm"
   ]
  },
  {
   "cell_type": "markdown",
   "metadata": {},
   "source": [
    "### 1. set parameters"
   ]
  },
  {
   "cell_type": "code",
   "execution_count": 27,
   "metadata": {},
   "outputs": [],
   "source": [
    "# --- data parameters\n",
    "horizon = train_data.shape[0]\n",
    "\n",
    "num_X = n_x # number of features\n",
    "num_Y = n_y # number of outcomes\n",
    "num_Z = n_z # number of sensitive features\n",
    "num_A = 2 # number of actions\n",
    "\n",
    "# --- SGD parameters\n",
    "n_iter = 400 # number of itteration for SGD\n",
    "lr = 1.0 # learning rate\n",
    "\n",
    "# --- Algorithm parameters\n",
    "update_policy_period = 100 # period to update policy\n",
    "l = 0.5 # lambda\n",
    "n_samples = 16 # number of sample for bayssian policy\n",
    "\n",
    "# --- Utility\n",
    "utility = get_eye_utility(size=num_A)"
   ]
  },
  {
   "cell_type": "markdown",
   "metadata": {},
   "source": [
    "### 2. initializition"
   ]
  },
  {
   "cell_type": "code",
   "execution_count": 28,
   "metadata": {},
   "outputs": [],
   "source": [
    "# initialize belief\n",
    "belief = DirichletModel(n_x = num_X, n_y=num_Y, n_z=num_Z, prior = 0.5)\n",
    "\n",
    "# initialize policy\n",
    "policy = get_random_policy(size = (num_A, num_X))"
   ]
  },
  {
   "cell_type": "code",
   "execution_count": 29,
   "metadata": {},
   "outputs": [],
   "source": [
    "# get true model delta to avoid computations\n",
    "true_model_delta = get_delta(true_dirichlet_model.Px_y,\n",
    "                             true_dirichlet_model.Px_yz,\n",
    "                             true_dirichlet_model.Pz_y)"
   ]
  },
  {
   "cell_type": "markdown",
   "metadata": {},
   "source": [
    "### 3.  main loop"
   ]
  },
  {
   "cell_type": "markdown",
   "metadata": {},
   "source": [
    "#### fairness functions"
   ]
  },
  {
   "cell_type": "code",
   "execution_count": 30,
   "metadata": {},
   "outputs": [],
   "source": [
    "def get_fairness(policy, model_delta):\n",
    "    (X, Y, Z) = model_delta.shape\n",
    "    fairness = 0\n",
    "    for y in range(Y):\n",
    "        for z in range(Z):\n",
    "            delta = np.matmul(policy, model_delta[:, y , z ])\n",
    "            fairness += np.linalg.norm(delta, 1)\n",
    "    return fairness"
   ]
  },
  {
   "cell_type": "code",
   "execution_count": 31,
   "metadata": {},
   "outputs": [],
   "source": [
    "def get_fairness_gradient(policy, model_delta):\n",
    "    \"\"\"\n",
    "    Todo: vectorize operation\n",
    "    \"\"\"\n",
    "    fairness_gradient = np.zeros(policy.shape)\n",
    "    \n",
    "    (X, Y, Z) = model_delta.shape\n",
    "    for y in range(Y):\n",
    "        for z in range(Z):\n",
    "            dyz = model_delta[:,y,z].reshape((-1,1))\n",
    "            c = np.matmul(policy, dyz)\n",
    "            fairness_gradient -= np.matmul(c, dyz.T)\n",
    "    \n",
    "    return fairness_gradient"
   ]
  },
  {
   "cell_type": "markdown",
   "metadata": {},
   "source": [
    "#### utility functions"
   ]
  },
  {
   "cell_type": "code",
   "execution_count": 32,
   "metadata": {},
   "outputs": [],
   "source": [
    "def get_utility(policy, model, utility):\n",
    "    \"\"\"\n",
    "    Calculate expected utility\n",
    "    Todo: vectorize operation - minor\n",
    "    \"\"\"\n",
    "    A, X = policy.shape\n",
    "    Y = A\n",
    "    Eu = 0\n",
    "    for x in range(X):\n",
    "        for y in range(Y):\n",
    "            for a in range(A):\n",
    "                Eu += utility[a,y] * policy[a,x] * model.Pxy[x,y]\n",
    "                \n",
    "    return Eu"
   ]
  },
  {
   "cell_type": "code",
   "execution_count": 33,
   "metadata": {},
   "outputs": [],
   "source": [
    "def get_utility_gradient(policy, model, utility):\n",
    "    \"\"\"\n",
    "    Todo: vectorize operation\n",
    "    \"\"\"\n",
    "    utility_gradient = np.matmul(utility, model.Pxy.T )\n",
    "    \n",
    "    \n",
    "    return utility_gradient"
   ]
  },
  {
   "cell_type": "markdown",
   "metadata": {},
   "source": [
    "#### gradient fun"
   ]
  },
  {
   "cell_type": "code",
   "execution_count": 34,
   "metadata": {},
   "outputs": [],
   "source": [
    "def project_gradient(grad):\n",
    "    proj_grad = grad - np.mean(grad,axis=0)\n",
    "    return proj_grad"
   ]
  },
  {
   "cell_type": "markdown",
   "metadata": {},
   "source": [
    "#### opt functions"
   ]
  },
  {
   "cell_type": "code",
   "execution_count": 35,
   "metadata": {},
   "outputs": [],
   "source": [
    "def evaluate(true_model, true_model_delta, policy, utility, l):\n",
    "    \"\"\"\n",
    "    Evaluate policy on true model\n",
    "    \"\"\"\n",
    "    results = {}\n",
    "    results[\"fairness\"] = np.round(get_fairness(policy, true_model_delta),4)\n",
    "    results[\"utility\"] = get_utility(policy, true_model, utility)\n",
    "    results[\"total\"] = (1 - l) * results[\"utility\"] - l * results[\"fairness\"]\n",
    "    return results"
   ]
  },
  {
   "cell_type": "code",
   "execution_count": 36,
   "metadata": {},
   "outputs": [],
   "source": [
    "def update_policy(policy, model, utility, l, lr, n_iter):\n",
    "    \"\"\"\n",
    "    Marginal Policy Dirichlet\n",
    "    \"\"\"\n",
    "    model.get_marginal_model()\n",
    "    model_delta = get_delta(model.Px_y, model.Px_yz, model.Pz_y)\n",
    "    \n",
    "    for i in range(n_iter):\n",
    "        fairness_gradient = get_fairness_gradient(policy, model_delta)\n",
    "        utility_gradient = get_utility_gradient(policy, model, utility)\n",
    "        gradient = (1 - l) * utility_gradient + l * fairness_gradient # minus on the gradient calc.\n",
    "        gradient = project_gradient(gradient)\n",
    "        policy = policy + lr * gradient # maximize Utility & minimize fairness constrain.\n",
    "        policy = normilize_policy(policy)\n",
    "    \n",
    "    return policy"
   ]
  },
  {
   "cell_type": "code",
   "execution_count": 52,
   "metadata": {},
   "outputs": [
    {
     "ename": "NameError",
     "evalue": "name 'stop' is not defined",
     "output_type": "error",
     "traceback": [
      "\u001B[0;31m---------------------------------------------------------------------------\u001B[0m",
      "\u001B[0;31mNameError\u001B[0m                                 Traceback (most recent call last)",
      "Cell \u001B[0;32mIn[52], line 2\u001B[0m\n\u001B[1;32m      1\u001B[0m \u001B[38;5;66;03m# reproduce results\u001B[39;00m\n\u001B[0;32m----> 2\u001B[0m \u001B[43mstop\u001B[49m\n",
      "\u001B[0;31mNameError\u001B[0m: name 'stop' is not defined"
     ]
    }
   ],
   "source": [
    "# reproduce results\n",
    "stop"
   ]
  },
  {
   "cell_type": "code",
   "execution_count": 53,
   "metadata": {},
   "outputs": [],
   "source": [
    "def load_org_policy(org_path_results):\n",
    "    file = pd.read_csv(org_path_results + \"/policy.csv\")\n",
    "    p_1 = file.iloc[4].values\n",
    "    p_2 = file.iloc[5].values\n",
    "    p_1 = [float(x) for x in p_1[0].split(\" \")[1:]]\n",
    "    p_2 = [float(x) for x in p_2[0].split(\" \")[1:]]\n",
    "    return np.array([p_1, p_2])\n",
    "# [float(x) for x in p_1[0].split(\" \")[1:]]"
   ]
  },
  {
   "cell_type": "code",
   "execution_count": 54,
   "metadata": {},
   "outputs": [
    {
     "data": {
      "text/plain": [
       "(2, 141)"
      ]
     },
     "execution_count": 54,
     "metadata": {},
     "output_type": "execute_result"
    }
   ],
   "source": [
    "org_path_results = \"/Users/andreasathanasopoulos/Phd/projects/bayesian_fairness/org_code/bayesian-fairness/src/octave\"\n",
    "policy = load_org_policy(org_path_results)\n",
    "policy.shape"
   ]
  },
  {
   "cell_type": "code",
   "execution_count": 55,
   "metadata": {},
   "outputs": [],
   "source": [
    "l = 0.9"
   ]
  },
  {
   "cell_type": "code",
   "execution_count": 56,
   "metadata": {},
   "outputs": [
    {
     "name": "stdout",
     "output_type": "stream",
     "text": [
      "--- Step : 1 \n",
      "  ------- {'fairness': 0.1363, 'utility': 0.5650138598478441, 'total': -0.0661686140152156}\n",
      "--- Step : 101 \n",
      "  ------- {'fairness': 0.2254, 'utility': 0.6068819276375023, 'total': -0.14217180723624978}\n",
      "--- Step : 201 \n",
      "  ------- {'fairness': 0.2441, 'utility': 0.621656288469007, 'total': -0.15752437115309934}\n",
      "--- Step : 301 \n",
      "  ------- {'fairness': 0.237, 'utility': 0.6282174714982683, 'total': -0.1504782528501732}\n",
      "--- Step : 401 \n",
      "  ------- {'fairness': 0.2311, 'utility': 0.6317311497537531, 'total': -0.1448168850246247}\n",
      "--- Step : 501 \n",
      "  ------- {'fairness': 0.2294, 'utility': 0.6328487039216448, 'total': -0.14317512960783552}\n",
      "--- Step : 601 \n",
      "  ------- {'fairness': 0.2274, 'utility': 0.6331077483098082, 'total': -0.1413492251690192}\n",
      "--- Step : 701 \n",
      "  ------- {'fairness': 0.2255, 'utility': 0.6333730935359196, 'total': -0.13961269064640808}\n",
      "--- Step : 801 \n",
      "  ------- {'fairness': 0.2252, 'utility': 0.6336972200556763, 'total': -0.1393102779944324}\n",
      "--- Step : 901 \n",
      "  ------- {'fairness': 0.2255, 'utility': 0.6340466135820823, 'total': -0.1395453386417918}\n",
      "--- Step : 1001 \n",
      "  ------- {'fairness': 0.2261, 'utility': 0.6343836365611125, 'total': -0.14005163634388879}\n",
      "--- Step : 1101 \n",
      "  ------- {'fairness': 0.2268, 'utility': 0.6347237786802603, 'total': -0.14064762213197396}\n",
      "--- Step : 1201 \n",
      "  ------- {'fairness': 0.2276, 'utility': 0.6350056550748159, 'total': -0.1413394344925184}\n",
      "--- Step : 1301 \n",
      "  ------- {'fairness': 0.2282, 'utility': 0.6352599593420583, 'total': -0.14185400406579418}\n",
      "--- Step : 1401 \n",
      "  ------- {'fairness': 0.2289, 'utility': 0.6355030192168084, 'total': -0.14245969807831915}\n",
      "--- Step : 1501 \n",
      "  ------- {'fairness': 0.2296, 'utility': 0.6357564756788674, 'total': -0.14306435243211327}\n",
      "--- Step : 1601 \n",
      "  ------- {'fairness': 0.2302, 'utility': 0.6360011935247097, 'total': -0.14357988064752902}\n",
      "--- Step : 1701 \n",
      "  ------- {'fairness': 0.2309, 'utility': 0.6362459101882433, 'total': -0.14418540898117568}\n",
      "--- Step : 1801 \n",
      "  ------- {'fairness': 0.2314, 'utility': 0.6364796526656741, 'total': -0.1446120347334326}\n",
      "--- Step : 1901 \n",
      "  ------- {'fairness': 0.232, 'utility': 0.63669843513735, 'total': -0.14513015648626504}\n",
      "--- Step : 2001 \n",
      "  ------- {'fairness': 0.2325, 'utility': 0.6368970351703512, 'total': -0.14556029648296492}\n",
      "--- Step : 2101 \n",
      "  ------- {'fairness': 0.233, 'utility': 0.6370637546772437, 'total': -0.14599362453227566}\n",
      "--- Step : 2201 \n",
      "  ------- {'fairness': 0.2335, 'utility': 0.6372074463511256, 'total': -0.14642925536488746}\n",
      "--- Step : 2301 \n",
      "  ------- {'fairness': 0.234, 'utility': 0.6373520639902578, 'total': -0.14686479360097426}\n",
      "--- Step : 2401 \n",
      "  ------- {'fairness': 0.2345, 'utility': 0.6375004231293251, 'total': -0.1472999576870675}\n",
      "--- Step : 2501 \n",
      "  ------- {'fairness': 0.2349, 'utility': 0.6376802737245001, 'total': -0.14764197262755002}\n",
      "--- Step : 2601 \n",
      "  ------- {'fairness': 0.2353, 'utility': 0.6378646386799156, 'total': -0.1479835361320085}\n",
      "--- Step : 2701 \n",
      "  ------- {'fairness': 0.2357, 'utility': 0.6380386619147964, 'total': -0.14832613380852036}\n",
      "--- Step : 2801 \n",
      "  ------- {'fairness': 0.2361, 'utility': 0.6381935121341855, 'total': -0.14867064878658148}\n",
      "--- Step : 2901 \n",
      "  ------- {'fairness': 0.2365, 'utility': 0.6383449352318107, 'total': -0.14901550647681894}\n",
      "--- Step : 3001 \n",
      "  ------- {'fairness': 0.2368, 'utility': 0.6384809909704051, 'total': -0.1492719009029595}\n",
      "--- Step : 3101 \n",
      "  ------- {'fairness': 0.2372, 'utility': 0.6385942064772611, 'total': -0.1496205793522739}\n",
      "--- Step : 3201 \n",
      "  ------- {'fairness': 0.2376, 'utility': 0.6386591228307186, 'total': -0.14997408771692816}\n",
      "--- Step : 3301 \n",
      "  ------- {'fairness': 0.2379, 'utility': 0.6387172606590037, 'total': -0.15023827393409964}\n",
      "--- Step : 3401 \n",
      "  ------- {'fairness': 0.2381, 'utility': 0.63880994543255, 'total': -0.15040900545674502}\n",
      "--- Step : 3501 \n",
      "  ------- {'fairness': 0.2383, 'utility': 0.6389250366418586, 'total': -0.1505774963358142}\n",
      "--- Step : 3601 \n",
      "  ------- {'fairness': 0.2385, 'utility': 0.6390328473539443, 'total': -0.1507467152646056}\n",
      "--- Step : 3701 \n",
      "  ------- {'fairness': 0.2387, 'utility': 0.6391363560630857, 'total': -0.15091636439369144}\n",
      "--- Step : 3801 \n",
      "  ------- {'fairness': 0.2389, 'utility': 0.6392270592481352, 'total': -0.1510872940751865}\n",
      "--- Step : 3901 \n",
      "  ------- {'fairness': 0.239, 'utility': 0.639306430830124, 'total': -0.1511693569169876}\n",
      "--- Step : 4001 \n",
      "  ------- {'fairness': 0.2391, 'utility': 0.6393516979482773, 'total': -0.1512548302051723}\n",
      "--- Step : 4101 \n",
      "  ------- {'fairness': 0.2392, 'utility': 0.6393934049178979, 'total': -0.15134065950821024}\n",
      "--- Step : 4201 \n",
      "  ------- {'fairness': 0.2394, 'utility': 0.6394387620058783, 'total': -0.1515161237994122}\n",
      "--- Step : 4301 \n",
      "  ------- {'fairness': 0.2395, 'utility': 0.639484035724784, 'total': -0.1516015964275216}\n",
      "--- Step : 4401 \n",
      "  ------- {'fairness': 0.2396, 'utility': 0.6395313583176543, 'total': -0.15168686416823457}\n",
      "--- Step : 4501 \n",
      "  ------- {'fairness': 0.2397, 'utility': 0.6395740547331559, 'total': -0.15177259452668443}\n",
      "--- Step : 4601 \n",
      "  ------- {'fairness': 0.2397, 'utility': 0.6395593326004824, 'total': -0.15177406673995178}\n",
      "--- Step : 4701 \n",
      "  ------- {'fairness': 0.2397, 'utility': 0.6395304362835127, 'total': -0.15177695637164873}\n",
      "--- Step : 4801 \n",
      "  ------- {'fairness': 0.2397, 'utility': 0.6395018067072297, 'total': -0.15177981932927703}\n",
      "--- Step : 4901 \n",
      "  ------- {'fairness': 0.2397, 'utility': 0.6394561530843963, 'total': -0.1517843846915604}\n",
      "--- Step : 5001 \n",
      "  ------- {'fairness': 0.2397, 'utility': 0.6394068167659827, 'total': -0.15178931832340176}\n",
      "--- Step : 5101 \n",
      "  ------- {'fairness': 0.2397, 'utility': 0.6393574142960581, 'total': -0.1517942585703942}\n",
      "--- Step : 5201 \n",
      "  ------- {'fairness': 0.2396, 'utility': 0.6393029067462253, 'total': -0.15170970932537747}\n",
      "--- Step : 5301 \n",
      "  ------- {'fairness': 0.2396, 'utility': 0.6392474187137895, 'total': -0.15171525812862108}\n",
      "--- Step : 5401 \n",
      "  ------- {'fairness': 0.2396, 'utility': 0.6391909979544919, 'total': -0.1517209002045508}\n",
      "--- Step : 5501 \n",
      "  ------- {'fairness': 0.2396, 'utility': 0.6391387923459695, 'total': -0.15172612076540307}\n",
      "--- Step : 5601 \n",
      "  ------- {'fairness': 0.2396, 'utility': 0.639141991209964, 'total': -0.15172580087900361}\n",
      "--- Step : 5701 \n",
      "  ------- {'fairness': 0.2396, 'utility': 0.6391825895090688, 'total': -0.15172174104909314}\n",
      "--- Step : 5801 \n",
      "  ------- {'fairness': 0.2396, 'utility': 0.6392212408366869, 'total': -0.15171787591633135}\n",
      "--- Step : 5901 \n",
      "  ------- {'fairness': 0.2397, 'utility': 0.639260430708791, 'total': -0.1518039569291209}\n"
     ]
    }
   ],
   "source": [
    "steps = horizon // update_policy_period\n",
    "\n",
    "results = []\n",
    "for step in range(steps):    \n",
    "    # update policy step\n",
    "    policy = update_policy(policy, belief, utility, l, lr, n_iter) # SDG to update policy\n",
    "    \n",
    "    # evaluation step\n",
    "    step_results = evaluate(true_dirichlet_model, true_model_delta, policy, utility, l)\n",
    "    results += [step_results]\n",
    "    \n",
    "    # update belief step\n",
    "    data_start_index = step * update_policy_period\n",
    "    data_stop_index = min(data_start_index + update_policy_period, horizon)\n",
    "    belief.update_posterior_belief(train_data.iloc[data_start_index : data_stop_index])\n",
    "    \n",
    "    print(f\"--- Step : {data_start_index + 1} \\n  ------- {step_results}\")\n",
    "    "
   ]
  },
  {
   "cell_type": "code",
   "execution_count": 57,
   "metadata": {},
   "outputs": [
    {
     "data": {
      "text/plain": [
       "-0.5108256237659907"
      ]
     },
     "execution_count": 57,
     "metadata": {},
     "output_type": "execute_result"
    }
   ],
   "source": [
    "np.log(0.6)"
   ]
  },
  {
   "cell_type": "code",
   "execution_count": 58,
   "metadata": {},
   "outputs": [
    {
     "data": {
      "text/plain": [
       "-1.6094379124341003"
      ]
     },
     "execution_count": 58,
     "metadata": {},
     "output_type": "execute_result"
    }
   ],
   "source": [
    "np.log(0.2)"
   ]
  },
  {
   "cell_type": "code",
   "execution_count": 41,
   "metadata": {},
   "outputs": [
    {
     "ename": "NameError",
     "evalue": "name 'd_2' is not defined",
     "output_type": "error",
     "traceback": [
      "\u001B[0;31m---------------------------------------------------------------------------\u001B[0m",
      "\u001B[0;31mNameError\u001B[0m                                 Traceback (most recent call last)",
      "Cell \u001B[0;32mIn[41], line 1\u001B[0m\n\u001B[0;32m----> 1\u001B[0m evaluate(true_dirichlet_model, \u001B[43md_2\u001B[49m, policy, utility, l)\n",
      "\u001B[0;31mNameError\u001B[0m: name 'd_2' is not defined"
     ]
    }
   ],
   "source": [
    "evaluate(true_dirichlet_model, d_2, policy, utility, l)"
   ]
  },
  {
   "cell_type": "code",
   "execution_count": null,
   "metadata": {},
   "outputs": [],
   "source": [
    "train_data.iloc[data_start_index : data_stop_index]"
   ]
  },
  {
   "cell_type": "code",
   "execution_count": null,
   "metadata": {},
   "outputs": [],
   "source": [
    "pd_resutls = pd.DataFrame(results)"
   ]
  },
  {
   "cell_type": "markdown",
   "metadata": {},
   "source": [
    "# plots"
   ]
  },
  {
   "cell_type": "code",
   "execution_count": null,
   "metadata": {},
   "outputs": [],
   "source": [
    "pd_resutls[[\"utility\"]].plot()"
   ]
  },
  {
   "cell_type": "code",
   "execution_count": null,
   "metadata": {},
   "outputs": [],
   "source": [
    "# load org resutls\n",
    "org = np.loadtxt(org_path_results + \"/results.csv\")\n",
    "org = org[:,1][1:].reshape((4,-1))\n",
    "\n",
    "org_pd = pd.DataFrame( columns= [\"utility\",\"fairness\",\"total\"])\n",
    "org_pd[\"utility\"] = org[0]\n",
    "org_pd[\"fairness\"] = org[2]\n",
    "org_pd[\"total\"] = org[1]"
   ]
  },
  {
   "cell_type": "code",
   "execution_count": null,
   "metadata": {},
   "outputs": [],
   "source": [
    "org_pd[\"utility\"].plot()\n",
    "pd_resutls[\"utility\"].plot()"
   ]
  },
  {
   "cell_type": "code",
   "execution_count": null,
   "metadata": {},
   "outputs": [],
   "source": [
    "import matplotlib.pyplot as plt\n",
    "\n",
    "plt.figure()\n",
    "plt.plot(org_pd[\"utility\"], label = \"original code results\")\n",
    "plt.plot(pd_resutls[\"utility\"], label = \"new code results\")\n",
    "plt.title(\"Utility\")\n",
    "plt.legend()\n",
    "plt.show()\n",
    "\n",
    "plt.figure()\n",
    "plt.plot(org_pd[\"fairness\"], label = \"original code results\")\n",
    "plt.plot(pd_resutls[\"fairness\"], label = \"new code results\")\n",
    "plt.title(\"Fairness\")\n",
    "plt.legend()\n",
    "plt.show()\n"
   ]
  },
  {
   "cell_type": "code",
   "execution_count": null,
   "metadata": {},
   "outputs": [],
   "source": [
    "org_pd[\"fairness\"].plot()\n",
    "pd_resutls[\"fairness\"].plot()"
   ]
  },
  {
   "cell_type": "markdown",
   "metadata": {},
   "source": [
    "# Questions"
   ]
  },
  {
   "cell_type": "code",
   "execution_count": null,
   "metadata": {},
   "outputs": [],
   "source": [
    "1. ProjectPolicyGradient ???"
   ]
  },
  {
   "cell_type": "code",
   "execution_count": null,
   "metadata": {},
   "outputs": [],
   "source": []
  }
 ],
 "metadata": {
  "kernelspec": {
   "display_name": "Python 3 (ipykernel)",
   "language": "python",
   "name": "python3"
  },
  "language_info": {
   "codemirror_mode": {
    "name": "ipython",
    "version": 3
   },
   "file_extension": ".py",
   "mimetype": "text/x-python",
   "name": "python",
   "nbconvert_exporter": "python",
   "pygments_lexer": "ipython3",
   "version": "3.9.12"
  }
 },
 "nbformat": 4,
 "nbformat_minor": 1
}
